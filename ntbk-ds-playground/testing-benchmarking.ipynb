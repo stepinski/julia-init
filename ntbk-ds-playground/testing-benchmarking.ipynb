{
 "cells": [
  {
   "cell_type": "code",
   "execution_count": null,
   "metadata": {},
   "outputs": [
    {
     "name": "stdout",
     "output_type": "stream",
     "text": [
      "Collecting package metadata (repodata.json): done\n",
      "Solving environment: - "
     ]
    }
   ],
   "source": [
    "#import sys\n",
    "#!conda install --yes --prefix {sys.prefix} -c conda-forge sktime"
   ]
  },
  {
   "cell_type": "code",
   "execution_count": 2,
   "metadata": {},
   "outputs": [
    {
     "name": "stdout",
     "output_type": "stream",
     "text": [
      "Defaulting to user installation because normal site-packages is not writeable\n",
      "Collecting sktime\n",
      "  Downloading sktime-0.9.0-cp36-cp36m-manylinux_2_17_x86_64.manylinux2014_x86_64.whl (6.2 MB)\n",
      "     |████████████████████████████████| 6.2 MB 1.0 MB/s            \n",
      "\u001b[?25hRequirement already satisfied: scikit-learn>=0.24.0 in /home/pioters/anaconda3/lib/python3.6/site-packages (from sktime) (0.24.1)\n",
      "Collecting statsmodels>=0.12.1\n",
      "  Downloading statsmodels-0.12.2-cp36-cp36m-manylinux1_x86_64.whl (9.5 MB)\n",
      "     |████████████████████████████████| 9.5 MB 3.1 MB/s            \n",
      "\u001b[?25hCollecting deprecated>=1.2.13\n",
      "  Using cached Deprecated-1.2.13-py2.py3-none-any.whl (9.6 kB)\n",
      "Collecting numba>=0.53\n",
      "  Downloading numba-0.53.1-cp36-cp36m-manylinux2014_x86_64.whl (3.4 MB)\n",
      "     |████████████████████████████████| 3.4 MB 4.7 MB/s            \n",
      "\u001b[?25hCollecting statsmodels>=0.12.1\n",
      "  Downloading statsmodels-0.12.1-cp36-cp36m-manylinux1_x86_64.whl (9.5 MB)\n",
      "     |████████████████████████████████| 9.5 MB 6.2 MB/s            \n",
      "\u001b[?25hRequirement already satisfied: numpy<=1.19.3 in /home/pioters/anaconda3/lib/python3.6/site-packages (from sktime) (1.16.2)\n",
      "Collecting numpy<=1.19.3\n",
      "  Downloading numpy-1.19.3-cp36-cp36m-manylinux2010_x86_64.whl (14.9 MB)\n",
      "     |████████████████████████████████| 14.9 MB 6.9 MB/s            \n",
      "\u001b[?25hRequirement already satisfied: wheel in /home/pioters/anaconda3/lib/python3.6/site-packages (from sktime) (0.33.4)\n",
      "Collecting pandas>=1.1.0\n",
      "  Downloading pandas-1.1.5-cp36-cp36m-manylinux1_x86_64.whl (9.5 MB)\n",
      "     |████████████████████████████████| 9.5 MB 3.7 MB/s            \n",
      "\u001b[?25hRequirement already satisfied: wrapt<2,>=1.10 in /home/pioters/anaconda3/lib/python3.6/site-packages (from deprecated>=1.2.13->sktime) (1.11.1)\n",
      "Collecting llvmlite<0.37,>=0.36.0rc1\n",
      "  Downloading llvmlite-0.36.0-cp36-cp36m-manylinux2010_x86_64.whl (25.3 MB)\n",
      "     |████████████████████████████████| 25.3 MB 289 kB/s             \n",
      "\u001b[?25hRequirement already satisfied: setuptools in /home/pioters/anaconda3/lib/python3.6/site-packages (from numba>=0.53->sktime) (41.0.1)\n",
      "Requirement already satisfied: pytz>=2017.2 in /home/pioters/anaconda3/lib/python3.6/site-packages (from pandas>=1.1.0->sktime) (2019.2)\n",
      "Requirement already satisfied: python-dateutil>=2.7.3 in /home/untermensch/.local/lib/python3.6/site-packages (from pandas>=1.1.0->sktime) (2.8.1)\n",
      "Requirement already satisfied: threadpoolctl>=2.0.0 in /home/pioters/anaconda3/lib/python3.6/site-packages (from scikit-learn>=0.24.0->sktime) (2.1.0)\n",
      "Requirement already satisfied: scipy>=0.19.1 in /home/pioters/anaconda3/lib/python3.6/site-packages (from scikit-learn>=0.24.0->sktime) (1.5.4)\n",
      "Requirement already satisfied: joblib>=0.11 in /home/pioters/anaconda3/lib/python3.6/site-packages (from scikit-learn>=0.24.0->sktime) (1.0.1)\n",
      "Requirement already satisfied: patsy>=0.5 in /home/pioters/anaconda3/lib/python3.6/site-packages (from statsmodels>=0.12.1->sktime) (0.5.1)\n",
      "Requirement already satisfied: six in /home/untermensch/.local/lib/python3.6/site-packages (from patsy>=0.5->statsmodels>=0.12.1->sktime) (1.15.0)\n",
      "Installing collected packages: numpy, pandas, llvmlite, statsmodels, numba, deprecated, sktime\n",
      "Successfully installed deprecated-1.2.13 llvmlite-0.36.0 numba-0.53.1 numpy-1.19.3 pandas-1.1.5 sktime-0.9.0 statsmodels-0.12.1\n"
     ]
    }
   ],
   "source": [
    "import sys\n",
    "!{sys.executable} -m pip install sktime"
   ]
  },
  {
   "cell_type": "code",
   "execution_count": 9,
   "metadata": {},
   "outputs": [],
   "source": [
    "from sktime.datasets import load_airline\n",
    "from sktime.utils.plotting import plot_series"
   ]
  },
  {
   "cell_type": "code",
   "execution_count": 10,
   "metadata": {},
   "outputs": [],
   "source": [
    "y = load_airline()\n",
    "#plot_series(y)"
   ]
  },
  {
   "cell_type": "code",
   "execution_count": 21,
   "metadata": {},
   "outputs": [
    {
     "data": {
      "text/plain": [
       "pandas.core.series.Series"
      ]
     },
     "execution_count": 21,
     "metadata": {},
     "output_type": "execute_result"
    }
   ],
   "source": [
    "type(y)"
   ]
  },
  {
   "cell_type": "code",
   "execution_count": 6,
   "metadata": {},
   "outputs": [
    {
     "name": "stdout",
     "output_type": "stream",
     "text": [
      "E: Nie udało się otworzyć pliku blokady /var/lib/dpkg/lock-frontend - open (13: Brak dostępu)\n",
      "E: Unable to acquire the dpkg frontend lock (/var/lib/dpkg/lock-frontend), are you root?\n"
     ]
    }
   ],
   "source": [
    "!apt-get install -y libxt6 libxrender1 libxext6 libgl1-mesa-glx libqt5widgets5"
   ]
  },
  {
   "cell_type": "code",
   "execution_count": 42,
   "metadata": {},
   "outputs": [],
   "source": [
    "csvpath=\"/home/untermensch/ws/aecom-qaqc/csv/\""
   ]
  },
  {
   "cell_type": "code",
   "execution_count": 36,
   "metadata": {},
   "outputs": [],
   "source": [
    "import pandas as pd"
   ]
  },
  {
   "cell_type": "code",
   "execution_count": 107,
   "metadata": {},
   "outputs": [],
   "source": [
    "data = pd.read_csv(csvpath+\"NE004CAL_17_rain.csv\")"
   ]
  },
  {
   "cell_type": "code",
   "execution_count": 108,
   "metadata": {},
   "outputs": [],
   "source": [
    "data[\"time\"] = pd.to_datetime(data.time)"
   ]
  },
  {
   "cell_type": "code",
   "execution_count": 109,
   "metadata": {},
   "outputs": [],
   "source": [
    "data.sort_values(by=['time'], inplace=True)"
   ]
  },
  {
   "cell_type": "code",
   "execution_count": 110,
   "metadata": {},
   "outputs": [],
   "source": [
    "data.set_index(\"time\", inplace=True)"
   ]
  },
  {
   "cell_type": "code",
   "execution_count": 111,
   "metadata": {},
   "outputs": [],
   "source": [
    "data=data.asfreq(\"5T\")"
   ]
  },
  {
   "cell_type": "code",
   "execution_count": 112,
   "metadata": {},
   "outputs": [],
   "source": [
    "data = data[~data.index.duplicated(keep='first')]"
   ]
  },
  {
   "cell_type": "code",
   "execution_count": 94,
   "metadata": {},
   "outputs": [
    {
     "data": {
      "text/plain": [
       "0.011721707999999609"
      ]
     },
     "execution_count": 94,
     "metadata": {},
     "output_type": "execute_result"
    }
   ],
   "source": [
    "t = time.process_time()\n",
    "data2 = data.head(100).resample('1M').pad()\n",
    "elapsed_time = time.process_time() - t\n",
    "elapsed_time"
   ]
  },
  {
   "cell_type": "code",
   "execution_count": 113,
   "metadata": {},
   "outputs": [],
   "source": [
    "y_train, y_test = temporal_train_test_split(data, test_size=100)\n",
    "fh = ForecastingHorizon(y_test.index, is_relative=False)"
   ]
  },
  {
   "cell_type": "code",
   "execution_count": 114,
   "metadata": {},
   "outputs": [
    {
     "name": "stderr",
     "output_type": "stream",
     "text": [
      "/home/untermensch/.local/lib/python3.6/site-packages/statsmodels/tsa/holtwinters/model.py:922: ConvergenceWarning: Optimization failed to converge. Check mle_retvals.\n",
      "  ConvergenceWarning,\n"
     ]
    },
    {
     "data": {
      "text/plain": [
       "ExponentialSmoothing(seasonal='additive', sp=12, trend='add')"
      ]
     },
     "execution_count": 114,
     "metadata": {},
     "output_type": "execute_result"
    }
   ],
   "source": [
    "forecaster = ExponentialSmoothing(trend=\"add\", seasonal=\"additive\", sp=12)\n",
    "forecaster.fit(y_train)"
   ]
  },
  {
   "cell_type": "code",
   "execution_count": 139,
   "metadata": {},
   "outputs": [
    {
     "data": {
      "text/plain": [
       "0.9179460189999986"
      ]
     },
     "execution_count": 139,
     "metadata": {},
     "output_type": "execute_result"
    }
   ],
   "source": [
    "t2 = time.process_time()\n",
    "y_pred = forecaster.predict(fh)\n",
    "elapsed_time = time.process_time() - t2\n",
    "elapsed_time"
   ]
  },
  {
   "cell_type": "code",
   "execution_count": 12,
   "metadata": {},
   "outputs": [],
   "source": [
    "from sktime.datasets import load_airline\n",
    "from sktime.forecasting.base import ForecastingHorizon\n",
    "from sktime.forecasting.model_selection import temporal_train_test_split\n",
    "from sktime.performance_metrics.forecasting import mean_absolute_percentage_error\n",
    "from sktime.utils.plotting import plot_series\n",
    "y_train, y_test = temporal_train_test_split(y, test_size=100)\n",
    "fh = ForecastingHorizon(y_test.index, is_relative=False)"
   ]
  },
  {
   "cell_type": "code",
   "execution_count": 13,
   "metadata": {},
   "outputs": [
    {
     "data": {
      "text/plain": [
       "ExponentialSmoothing(seasonal='additive', sp=12, trend='add')"
      ]
     },
     "execution_count": 13,
     "metadata": {},
     "output_type": "execute_result"
    }
   ],
   "source": [
    "from sktime.forecasting.exp_smoothing import ExponentialSmoothing\n",
    "forecaster = ExponentialSmoothing(trend=\"add\", seasonal=\"additive\", sp=12)\n",
    "\n",
    "forecaster.fit(y_train)"
   ]
  },
  {
   "cell_type": "code",
   "execution_count": 14,
   "metadata": {},
   "outputs": [],
   "source": [
    "import time"
   ]
  },
  {
   "cell_type": "code",
   "execution_count": 15,
   "metadata": {},
   "outputs": [],
   "source": [
    "t = time.process_time()\n",
    "y_pred = forecaster.predict(fh)\n",
    "elapsed_time = time.process_time() - t"
   ]
  },
  {
   "cell_type": "code",
   "execution_count": 16,
   "metadata": {},
   "outputs": [
    {
     "data": {
      "text/plain": [
       "0.015313618999999612"
      ]
     },
     "execution_count": 16,
     "metadata": {},
     "output_type": "execute_result"
    }
   ],
   "source": [
    "elapsed_time"
   ]
  },
  {
   "cell_type": "code",
   "execution_count": 34,
   "metadata": {},
   "outputs": [
    {
     "ename": "IncompatibleFrequency",
     "evalue": "Frequency <MonthEnd> cannot be resampled to <3 * MonthEnds>, as they are not sub or super periods",
     "output_type": "error",
     "traceback": [
      "\u001b[0;31m---------------------------------------------------------------------------\u001b[0m",
      "\u001b[0;31mIncompatibleFrequency\u001b[0m                     Traceback (most recent call last)",
      "\u001b[0;32m<ipython-input-34-dbd0480099ca>\u001b[0m in \u001b[0;36m<module>\u001b[0;34m\u001b[0m\n\u001b[1;32m      1\u001b[0m \u001b[0mt\u001b[0m \u001b[0;34m=\u001b[0m \u001b[0mtime\u001b[0m\u001b[0;34m.\u001b[0m\u001b[0mprocess_time\u001b[0m\u001b[0;34m(\u001b[0m\u001b[0;34m)\u001b[0m\u001b[0;34m\u001b[0m\u001b[0;34m\u001b[0m\u001b[0m\n\u001b[0;32m----> 2\u001b[0;31m \u001b[0myres\u001b[0m\u001b[0;34m=\u001b[0m\u001b[0my_test\u001b[0m\u001b[0;34m.\u001b[0m\u001b[0mresample\u001b[0m\u001b[0;34m(\u001b[0m\u001b[0;34m'3M'\u001b[0m\u001b[0;34m,\u001b[0m\u001b[0mclosed\u001b[0m\u001b[0;34m=\u001b[0m\u001b[0;34m'left'\u001b[0m\u001b[0;34m)\u001b[0m\u001b[0;34m.\u001b[0m\u001b[0msum\u001b[0m\u001b[0;34m(\u001b[0m\u001b[0;34m)\u001b[0m\u001b[0;34m\u001b[0m\u001b[0;34m\u001b[0m\u001b[0m\n\u001b[0m\u001b[1;32m      3\u001b[0m \u001b[0melapsed_time\u001b[0m \u001b[0;34m=\u001b[0m \u001b[0mtime\u001b[0m\u001b[0;34m.\u001b[0m\u001b[0mprocess_time\u001b[0m\u001b[0;34m(\u001b[0m\u001b[0;34m)\u001b[0m \u001b[0;34m-\u001b[0m \u001b[0mt\u001b[0m\u001b[0;34m\u001b[0m\u001b[0;34m\u001b[0m\u001b[0m\n\u001b[1;32m      4\u001b[0m \u001b[0melapsed_time\u001b[0m\u001b[0;34m\u001b[0m\u001b[0;34m\u001b[0m\u001b[0m\n",
      "\u001b[0;32m~/.local/lib/python3.6/site-packages/pandas/core/resample.py\u001b[0m in \u001b[0;36mf\u001b[0;34m(self, _method, min_count, *args, **kwargs)\u001b[0m\n\u001b[1;32m    924\u001b[0m     \u001b[0;32mdef\u001b[0m \u001b[0mf\u001b[0m\u001b[0;34m(\u001b[0m\u001b[0mself\u001b[0m\u001b[0;34m,\u001b[0m \u001b[0m_method\u001b[0m\u001b[0;34m=\u001b[0m\u001b[0mmethod\u001b[0m\u001b[0;34m,\u001b[0m \u001b[0mmin_count\u001b[0m\u001b[0;34m=\u001b[0m\u001b[0;36m0\u001b[0m\u001b[0;34m,\u001b[0m \u001b[0;34m*\u001b[0m\u001b[0margs\u001b[0m\u001b[0;34m,\u001b[0m \u001b[0;34m**\u001b[0m\u001b[0mkwargs\u001b[0m\u001b[0;34m)\u001b[0m\u001b[0;34m:\u001b[0m\u001b[0;34m\u001b[0m\u001b[0;34m\u001b[0m\u001b[0m\n\u001b[1;32m    925\u001b[0m         \u001b[0mnv\u001b[0m\u001b[0;34m.\u001b[0m\u001b[0mvalidate_resampler_func\u001b[0m\u001b[0;34m(\u001b[0m\u001b[0m_method\u001b[0m\u001b[0;34m,\u001b[0m \u001b[0margs\u001b[0m\u001b[0;34m,\u001b[0m \u001b[0mkwargs\u001b[0m\u001b[0;34m)\u001b[0m\u001b[0;34m\u001b[0m\u001b[0;34m\u001b[0m\u001b[0m\n\u001b[0;32m--> 926\u001b[0;31m         \u001b[0;32mreturn\u001b[0m \u001b[0mself\u001b[0m\u001b[0;34m.\u001b[0m\u001b[0m_downsample\u001b[0m\u001b[0;34m(\u001b[0m\u001b[0m_method\u001b[0m\u001b[0;34m,\u001b[0m \u001b[0mmin_count\u001b[0m\u001b[0;34m=\u001b[0m\u001b[0mmin_count\u001b[0m\u001b[0;34m)\u001b[0m\u001b[0;34m\u001b[0m\u001b[0;34m\u001b[0m\u001b[0m\n\u001b[0m\u001b[1;32m    927\u001b[0m \u001b[0;34m\u001b[0m\u001b[0m\n\u001b[1;32m    928\u001b[0m     \u001b[0mf\u001b[0m\u001b[0;34m.\u001b[0m\u001b[0m__doc__\u001b[0m \u001b[0;34m=\u001b[0m \u001b[0mgetattr\u001b[0m\u001b[0;34m(\u001b[0m\u001b[0mGroupBy\u001b[0m\u001b[0;34m,\u001b[0m \u001b[0mmethod\u001b[0m\u001b[0;34m)\u001b[0m\u001b[0;34m.\u001b[0m\u001b[0m__doc__\u001b[0m\u001b[0;34m\u001b[0m\u001b[0;34m\u001b[0m\u001b[0m\n",
      "\u001b[0;32m~/.local/lib/python3.6/site-packages/pandas/core/resample.py\u001b[0m in \u001b[0;36m_downsample\u001b[0;34m(self, how, **kwargs)\u001b[0m\n\u001b[1;32m   1186\u001b[0m \u001b[0;34m\u001b[0m\u001b[0m\n\u001b[1;32m   1187\u001b[0m         raise IncompatibleFrequency(\n\u001b[0;32m-> 1188\u001b[0;31m             \u001b[0;34mf\"Frequency {ax.freq} cannot be resampled to {self.freq}, \"\u001b[0m\u001b[0;34m\u001b[0m\u001b[0;34m\u001b[0m\u001b[0m\n\u001b[0m\u001b[1;32m   1189\u001b[0m             \u001b[0;34m\"as they are not sub or super periods\"\u001b[0m\u001b[0;34m\u001b[0m\u001b[0;34m\u001b[0m\u001b[0m\n\u001b[1;32m   1190\u001b[0m         )\n",
      "\u001b[0;31mIncompatibleFrequency\u001b[0m: Frequency <MonthEnd> cannot be resampled to <3 * MonthEnds>, as they are not sub or super periods"
     ]
    }
   ],
   "source": [
    "t = time.process_time()\n",
    "yres=y_test.resample('3M',closed='left').sum()\n",
    "elapsed_time = time.process_time() - t\n",
    "elapsed_time"
   ]
  },
  {
   "cell_type": "code",
   "execution_count": 31,
   "metadata": {},
   "outputs": [
    {
     "data": {
      "text/plain": [
       "Period\n",
       "1952-09    209.0\n",
       "1952-10    191.0\n",
       "1952-11    172.0\n",
       "1952-12    194.0\n",
       "1953-01    196.0\n",
       "           ...  \n",
       "1960-08    606.0\n",
       "1960-09    508.0\n",
       "1960-10    461.0\n",
       "1960-11    390.0\n",
       "1960-12    432.0\n",
       "Freq: M, Name: Number of airline passengers, Length: 100, dtype: float64"
      ]
     },
     "execution_count": 31,
     "metadata": {},
     "output_type": "execute_result"
    }
   ],
   "source": [
    "yres"
   ]
  }
 ],
 "metadata": {
  "kernelspec": {
   "display_name": "Python 3",
   "language": "python",
   "name": "python3"
  },
  "language_info": {
   "codemirror_mode": {
    "name": "ipython",
    "version": 3
   },
   "file_extension": ".py",
   "mimetype": "text/x-python",
   "name": "python",
   "nbconvert_exporter": "python",
   "pygments_lexer": "ipython3",
   "version": "3.6.7"
  }
 },
 "nbformat": 4,
 "nbformat_minor": 2
}
