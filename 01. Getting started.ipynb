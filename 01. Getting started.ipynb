{
  "cells": [
    {
      "cell_type": "markdown",
      "source": [
        "# Getting started\n",
        "\n",
        "Topics:\n",
        "1.  How to print\n",
        "2. How to assign variables\n",
        "3. How to comment\n",
        "4. Syntax for basic math"
      ],
      "metadata": {}
    },
    {
      "cell_type": "markdown",
      "source": [
        "## How to print\n",
        "\n",
        "In Julia we usually use `println()` to print"
      ],
      "metadata": {}
    },
    {
      "cell_type": "code",
      "source": [
        "println(\"I'm excited to learn Julia!\")"
      ],
      "outputs": [
        {
          "output_type": "stream",
          "name": "stdout",
          "text": [
            "I'm excited to learn Julia!\n"
          ]
        }
      ],
      "execution_count": 2,
      "metadata": {
        "execution": {
          "iopub.status.busy": "2021-02-25T13:49:59.659Z",
          "iopub.execute_input": "2021-02-25T13:49:59.672Z",
          "iopub.status.idle": "2021-02-25T13:49:59.698Z"
        }
      }
    },
    {
      "cell_type": "markdown",
      "source": [
        "## How to assign variables\n",
        "\n",
        "All we need is a variable name, value, and an equal's sign!<br>\n",
        "Julia will figure out types for us."
      ],
      "metadata": {}
    },
    {
      "cell_type": "code",
      "source": [
        "my_answer = 42\n",
        "typeof(my_answer)"
      ],
      "outputs": [
        {
          "output_type": "execute_result",
          "execution_count": 3,
          "data": {
            "text/plain": "Int32"
          },
          "metadata": {}
        }
      ],
      "execution_count": 3,
      "metadata": {
        "execution": {
          "iopub.status.busy": "2021-02-25T13:49:59.714Z",
          "iopub.execute_input": "2021-02-25T13:49:59.729Z",
          "iopub.status.idle": "2021-02-25T13:50:00.153Z"
        }
      }
    },
    {
      "cell_type": "code",
      "source": [
        "my_pi = 3.14159\n",
        "typeof(my_pi)"
      ],
      "outputs": [
        {
          "output_type": "execute_result",
          "execution_count": 4,
          "data": {
            "text/plain": "Float64"
          },
          "metadata": {}
        }
      ],
      "execution_count": 4,
      "metadata": {
        "execution": {
          "iopub.status.busy": "2021-02-25T13:50:00.172Z",
          "iopub.execute_input": "2021-02-25T13:50:00.183Z",
          "iopub.status.idle": "2021-02-25T13:50:00.214Z"
        }
      }
    },
    {
      "cell_type": "code",
      "source": [
        "😺 = \"smiley cat!\"\n",
        "typeof(😺)"
      ],
      "outputs": [
        {
          "output_type": "execute_result",
          "execution_count": 5,
          "data": {
            "text/plain": "String"
          },
          "metadata": {}
        }
      ],
      "execution_count": 5,
      "metadata": {
        "execution": {
          "iopub.status.busy": "2021-02-25T13:50:00.237Z",
          "iopub.execute_input": "2021-02-25T13:50:00.250Z",
          "iopub.status.idle": "2021-02-25T13:50:00.282Z"
        }
      }
    },
    {
      "cell_type": "markdown",
      "source": [
        "To type a smiley cat, use tab completion to select the emoji name and then tab again"
      ],
      "metadata": {}
    },
    {
      "cell_type": "code",
      "source": [
        "# \\:smi + <tab> --> select with down arrow + <enter> ---> <tab> + <enter> to complete"
      ],
      "outputs": [],
      "execution_count": 6,
      "metadata": {
        "execution": {
          "iopub.status.busy": "2021-02-25T13:50:00.298Z",
          "iopub.execute_input": "2021-02-25T13:50:00.308Z",
          "iopub.status.idle": "2021-02-25T13:50:00.326Z"
        }
      }
    },
    {
      "cell_type": "markdown",
      "source": [
        "After assigning a value to a variable, we can reassign a value of a different type to that variable without any issue."
      ],
      "metadata": {}
    },
    {
      "cell_type": "code",
      "source": [
        "😺 = 1"
      ],
      "outputs": [
        {
          "output_type": "execute_result",
          "execution_count": 7,
          "data": {
            "text/plain": "1"
          },
          "metadata": {}
        }
      ],
      "execution_count": 7,
      "metadata": {
        "execution": {
          "iopub.status.busy": "2021-02-25T13:50:00.344Z",
          "iopub.execute_input": "2021-02-25T13:50:00.360Z",
          "iopub.status.idle": "2021-02-25T13:50:00.581Z"
        }
      }
    },
    {
      "cell_type": "code",
      "source": [
        "typeof(😺)"
      ],
      "outputs": [
        {
          "output_type": "execute_result",
          "execution_count": 8,
          "data": {
            "text/plain": "Int32"
          },
          "metadata": {}
        }
      ],
      "execution_count": 8,
      "metadata": {
        "execution": {
          "iopub.status.busy": "2021-02-25T13:50:00.609Z",
          "iopub.execute_input": "2021-02-25T13:50:00.627Z",
          "iopub.status.idle": "2021-02-25T13:50:00.663Z"
        }
      }
    },
    {
      "cell_type": "markdown",
      "source": [
        "Note: Julia allows us to write super generic code, and 😺 is an example of this. \n",
        "\n",
        "This allows us to write code like"
      ],
      "metadata": {}
    },
    {
      "cell_type": "code",
      "source": [
        "😀 = 0\n",
        "😞 = -1"
      ],
      "outputs": [
        {
          "output_type": "execute_result",
          "execution_count": 9,
          "data": {
            "text/plain": "-1"
          },
          "metadata": {}
        }
      ],
      "execution_count": 9,
      "metadata": {
        "execution": {
          "iopub.status.busy": "2021-02-25T13:50:00.687Z",
          "iopub.execute_input": "2021-02-25T13:50:00.704Z",
          "iopub.status.idle": "2021-02-25T13:50:00.730Z"
        }
      }
    },
    {
      "cell_type": "code",
      "source": [
        "😺 + 😞 == 😀"
      ],
      "outputs": [
        {
          "output_type": "execute_result",
          "execution_count": 10,
          "data": {
            "text/plain": "true"
          },
          "metadata": {}
        }
      ],
      "execution_count": 10,
      "metadata": {
        "execution": {
          "iopub.status.busy": "2021-02-25T13:50:00.746Z",
          "iopub.execute_input": "2021-02-25T13:50:00.756Z",
          "iopub.status.idle": "2021-02-25T13:50:01.017Z"
        }
      }
    },
    {
      "cell_type": "markdown",
      "source": [
        "## How to comment"
      ],
      "metadata": {}
    },
    {
      "cell_type": "code",
      "source": [
        "# You can leave comments on a single line using the pound/hash key"
      ],
      "outputs": [],
      "execution_count": 11,
      "metadata": {
        "execution": {
          "iopub.status.busy": "2021-02-25T13:50:01.032Z",
          "iopub.execute_input": "2021-02-25T13:50:01.043Z",
          "iopub.status.idle": "2021-02-25T13:50:01.064Z"
        }
      }
    },
    {
      "cell_type": "code",
      "source": [
        "#=\n",
        "\n",
        "For multi-line comments, \n",
        "use the '#= =#' sequence.\n",
        "\n",
        "=#"
      ],
      "outputs": [],
      "execution_count": 12,
      "metadata": {
        "execution": {
          "iopub.status.busy": "2021-02-25T13:50:01.083Z",
          "iopub.execute_input": "2021-02-25T13:50:01.103Z",
          "iopub.status.idle": "2021-02-25T13:50:01.121Z"
        }
      }
    },
    {
      "cell_type": "markdown",
      "source": [
        "## Syntax for basic math"
      ],
      "metadata": {}
    },
    {
      "cell_type": "code",
      "source": [
        "sum = 3 + 7"
      ],
      "outputs": [
        {
          "output_type": "execute_result",
          "execution_count": 13,
          "data": {
            "text/plain": "10"
          },
          "metadata": {}
        }
      ],
      "execution_count": 13,
      "metadata": {
        "execution": {
          "iopub.status.busy": "2021-02-25T13:50:01.137Z",
          "iopub.execute_input": "2021-02-25T13:50:01.147Z",
          "iopub.status.idle": "2021-02-25T13:50:01.170Z"
        }
      }
    },
    {
      "cell_type": "code",
      "source": [
        "difference = 10 - 3"
      ],
      "outputs": [
        {
          "output_type": "execute_result",
          "execution_count": 14,
          "data": {
            "text/plain": "7"
          },
          "metadata": {}
        }
      ],
      "execution_count": 14,
      "metadata": {
        "execution": {
          "iopub.status.busy": "2021-02-25T13:50:01.187Z",
          "iopub.execute_input": "2021-02-25T13:50:01.197Z",
          "iopub.status.idle": "2021-02-25T13:50:01.219Z"
        }
      }
    },
    {
      "cell_type": "code",
      "source": [
        "product = 20 * 5"
      ],
      "outputs": [
        {
          "output_type": "execute_result",
          "execution_count": 15,
          "data": {
            "text/plain": "100"
          },
          "metadata": {}
        }
      ],
      "execution_count": 15,
      "metadata": {
        "execution": {
          "iopub.status.busy": "2021-02-25T13:50:01.236Z",
          "iopub.execute_input": "2021-02-25T13:50:01.246Z",
          "iopub.status.idle": "2021-02-25T13:50:01.268Z"
        }
      }
    },
    {
      "cell_type": "code",
      "source": [
        "quotient = 100 / 10"
      ],
      "outputs": [
        {
          "output_type": "execute_result",
          "execution_count": 16,
          "data": {
            "text/plain": "10.0"
          },
          "metadata": {}
        }
      ],
      "execution_count": 16,
      "metadata": {
        "execution": {
          "iopub.status.busy": "2021-02-25T13:50:01.288Z",
          "iopub.execute_input": "2021-02-25T13:50:01.305Z",
          "iopub.status.idle": "2021-02-25T13:50:01.572Z"
        }
      }
    },
    {
      "cell_type": "code",
      "source": [
        "power = 10 ^ 2"
      ],
      "outputs": [
        {
          "output_type": "execute_result",
          "execution_count": 17,
          "data": {
            "text/plain": "100"
          },
          "metadata": {}
        }
      ],
      "execution_count": 17,
      "metadata": {
        "execution": {
          "iopub.status.busy": "2021-02-25T13:50:01.596Z",
          "iopub.execute_input": "2021-02-25T13:50:01.611Z",
          "iopub.status.idle": "2021-02-25T13:50:01.642Z"
        }
      }
    },
    {
      "cell_type": "code",
      "source": [
        "modulus = 101 % 2"
      ],
      "outputs": [
        {
          "output_type": "execute_result",
          "execution_count": 18,
          "data": {
            "text/plain": "1"
          },
          "metadata": {}
        }
      ],
      "execution_count": 18,
      "metadata": {
        "execution": {
          "iopub.status.busy": "2021-02-25T13:50:01.660Z",
          "iopub.execute_input": "2021-02-25T13:50:01.671Z",
          "iopub.status.idle": "2021-02-25T13:50:01.695Z"
        }
      }
    },
    {
      "cell_type": "markdown",
      "source": [
        "### Exercises\n",
        "\n",
        "#### 1.1 \n",
        "Look up docs for the `convert` function."
      ],
      "metadata": {}
    },
    {
      "cell_type": "code",
      "source": [],
      "outputs": [],
      "execution_count": null,
      "metadata": {}
    },
    {
      "cell_type": "markdown",
      "source": [
        "#### 1.2 \n",
        "Assign `365` to a variable named `days`. Convert `days` to a float and assign it to variable `days_float`"
      ],
      "metadata": {}
    },
    {
      "cell_type": "code",
      "source": [],
      "outputs": [],
      "execution_count": null,
      "metadata": {}
    },
    {
      "cell_type": "code",
      "source": [
        "@assert days == 365\n",
        "@assert days_float == 365.0\n"
      ],
      "outputs": [
        {
          "output_type": "error",
          "ename": "UndefVarError",
          "evalue": "\u001b[91mUndefVarError: days not defined\u001b[39m",
          "traceback": [
            "\u001b[91mUndefVarError: days not defined\u001b[39m",
            "",
            "Stacktrace:",
            " [1] top-level scope at In[19]:1"
          ]
        }
      ],
      "execution_count": 19,
      "metadata": {
        "deletable": false,
        "editable": false,
        "hide_input": true,
        "nbgrader": {
          "checksum": "a2dc243275e0310c3b29a745b952f321",
          "grade": true,
          "grade_id": "cell-715f78016beb0489",
          "locked": true,
          "points": 1,
          "schema_version": 1,
          "solution": false
        },
        "execution": {
          "iopub.status.busy": "2021-02-25T13:50:01.711Z",
          "iopub.execute_input": "2021-02-25T13:50:01.723Z"
        }
      }
    },
    {
      "cell_type": "markdown",
      "source": [
        "#### 1.3 \n",
        "See what happens when you execute\n",
        "\n",
        "```julia\n",
        "convert(Int64, \"1\")\n",
        "```\n",
        "and\n",
        "\n",
        "```julia\n",
        "parse(Int64, \"1\")\n",
        "```"
      ],
      "metadata": {}
    },
    {
      "cell_type": "code",
      "source": [],
      "outputs": [],
      "execution_count": null,
      "metadata": {}
    },
    {
      "cell_type": "code",
      "source": [
        "Please click on `Validate` on the top, once you are done with the exercises."
      ],
      "outputs": [],
      "execution_count": null,
      "metadata": {}
    }
  ],
  "metadata": {
    "kernelspec": {
      "display_name": "Julia 1.0.0",
      "language": "julia",
      "name": "julia-1.0"
    },
    "language_info": {
      "mimetype": "application/julia",
      "file_extension": ".jl",
      "name": "julia",
      "version": "1.0.4"
    },
    "nteract": {
      "version": "0.28.0"
    }
  },
  "nbformat": 4,
  "nbformat_minor": 2
}