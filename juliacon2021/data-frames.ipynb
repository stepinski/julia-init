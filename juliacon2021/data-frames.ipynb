{
 "cells": [
  {
   "cell_type": "code",
   "execution_count": 1,
   "metadata": {},
   "outputs": [],
   "source": [
    "using Bootstrap\n",
    "using CSV\n",
    "using CategoricalArrays\n",
    "using Chain\n",
    "using DataFrames\n",
    "import Downloads\n",
    "using GLM\n",
    "using Plots\n",
    "using Random\n",
    "using StatsPlots\n",
    "using Statistics"
   ]
  },
  {
   "cell_type": "code",
   "execution_count": 2,
   "metadata": {},
   "outputs": [
    {
     "data": {
      "text/plain": [
       "1000"
      ]
     },
     "execution_count": 2,
     "metadata": {},
     "output_type": "execute_result"
    }
   ],
   "source": [
    "ENV[\"LINES\"] = 20\n",
    "ENV[\"COLUMNS\"] = 1000"
   ]
  },
  {
   "cell_type": "code",
   "execution_count": 3,
   "metadata": {},
   "outputs": [
    {
     "data": {
      "text/plain": [
       "\"participation.csv\""
      ]
     },
     "execution_count": 3,
     "metadata": {},
     "output_type": "execute_result"
    }
   ],
   "source": [
    "Downloads.download(\"https://vincentarelbundock.github.io/Rdatasets/csv/Ecdat/Participation.csv\", \"participation.csv\")"
   ]
  },
  {
   "cell_type": "code",
   "execution_count": 4,
   "metadata": {},
   "outputs": [
    {
     "data": {
      "text/html": [
       "<div class=\"data-frame\"><p>872 rows × 8 columns</p><table class=\"data-frame\"><thead><tr><th></th><th>Column1</th><th>lfp</th><th>lnnlinc</th><th>age</th><th>educ</th><th>nyc</th><th>noc</th><th>foreign</th></tr><tr><th></th><th title=\"Int64\">Int64</th><th title=\"String\">String</th><th title=\"Float64\">Float64</th><th title=\"Float64\">Float64</th><th title=\"Int64\">Int64</th><th title=\"Int64\">Int64</th><th title=\"Int64\">Int64</th><th title=\"String\">String</th></tr></thead><tbody><tr><th>1</th><td>1</td><td>no</td><td>10.7875</td><td>3.0</td><td>8</td><td>1</td><td>1</td><td>no</td></tr><tr><th>2</th><td>2</td><td>yes</td><td>10.5243</td><td>4.5</td><td>8</td><td>0</td><td>1</td><td>no</td></tr><tr><th>3</th><td>3</td><td>no</td><td>10.9686</td><td>4.6</td><td>9</td><td>0</td><td>0</td><td>no</td></tr><tr><th>4</th><td>4</td><td>no</td><td>11.105</td><td>3.1</td><td>11</td><td>2</td><td>0</td><td>no</td></tr><tr><th>5</th><td>5</td><td>no</td><td>11.1085</td><td>4.4</td><td>12</td><td>0</td><td>2</td><td>no</td></tr><tr><th>6</th><td>6</td><td>yes</td><td>11.0283</td><td>4.2</td><td>12</td><td>0</td><td>1</td><td>no</td></tr><tr><th>7</th><td>7</td><td>no</td><td>11.4547</td><td>5.1</td><td>8</td><td>0</td><td>0</td><td>no</td></tr><tr><th>8</th><td>8</td><td>yes</td><td>10.4909</td><td>3.2</td><td>8</td><td>0</td><td>2</td><td>no</td></tr><tr><th>9</th><td>9</td><td>no</td><td>10.6247</td><td>3.9</td><td>12</td><td>0</td><td>0</td><td>no</td></tr><tr><th>10</th><td>10</td><td>no</td><td>10.4864</td><td>4.3</td><td>11</td><td>0</td><td>2</td><td>no</td></tr><tr><th>11</th><td>11</td><td>no</td><td>10.6606</td><td>4.5</td><td>11</td><td>0</td><td>2</td><td>no</td></tr><tr><th>12</th><td>12</td><td>no</td><td>10.4676</td><td>6.0</td><td>12</td><td>0</td><td>0</td><td>no</td></tr><tr><th>13</th><td>13</td><td>no</td><td>11.2296</td><td>3.3</td><td>11</td><td>2</td><td>0</td><td>no</td></tr><tr><th>14</th><td>14</td><td>no</td><td>11.9065</td><td>5.6</td><td>14</td><td>0</td><td>0</td><td>no</td></tr><tr><th>15</th><td>15</td><td>no</td><td>11.5016</td><td>5.6</td><td>11</td><td>0</td><td>0</td><td>no</td></tr><tr><th>16</th><td>16</td><td>no</td><td>11.2935</td><td>4.7</td><td>11</td><td>0</td><td>1</td><td>no</td></tr><tr><th>17</th><td>17</td><td>no</td><td>10.8613</td><td>5.0</td><td>8</td><td>0</td><td>0</td><td>no</td></tr><tr><th>18</th><td>18</td><td>yes</td><td>11.844</td><td>3.9</td><td>12</td><td>0</td><td>0</td><td>no</td></tr><tr><th>19</th><td>19</td><td>no</td><td>11.0486</td><td>4.7</td><td>8</td><td>0</td><td>1</td><td>no</td></tr><tr><th>20</th><td>20</td><td>yes</td><td>10.9578</td><td>5.3</td><td>11</td><td>0</td><td>0</td><td>no</td></tr><tr><th>&vellip;</th><td>&vellip;</td><td>&vellip;</td><td>&vellip;</td><td>&vellip;</td><td>&vellip;</td><td>&vellip;</td><td>&vellip;</td><td>&vellip;</td></tr></tbody></table></div>"
      ],
      "text/latex": [
       "\\begin{tabular}{r|cccccccc}\n",
       "\t& Column1 & lfp & lnnlinc & age & educ & nyc & noc & foreign\\\\\n",
       "\t\\hline\n",
       "\t& Int64 & String & Float64 & Float64 & Int64 & Int64 & Int64 & String\\\\\n",
       "\t\\hline\n",
       "\t1 & 1 & no & 10.7875 & 3.0 & 8 & 1 & 1 & no \\\\\n",
       "\t2 & 2 & yes & 10.5243 & 4.5 & 8 & 0 & 1 & no \\\\\n",
       "\t3 & 3 & no & 10.9686 & 4.6 & 9 & 0 & 0 & no \\\\\n",
       "\t4 & 4 & no & 11.105 & 3.1 & 11 & 2 & 0 & no \\\\\n",
       "\t5 & 5 & no & 11.1085 & 4.4 & 12 & 0 & 2 & no \\\\\n",
       "\t6 & 6 & yes & 11.0283 & 4.2 & 12 & 0 & 1 & no \\\\\n",
       "\t7 & 7 & no & 11.4547 & 5.1 & 8 & 0 & 0 & no \\\\\n",
       "\t8 & 8 & yes & 10.4909 & 3.2 & 8 & 0 & 2 & no \\\\\n",
       "\t9 & 9 & no & 10.6247 & 3.9 & 12 & 0 & 0 & no \\\\\n",
       "\t10 & 10 & no & 10.4864 & 4.3 & 11 & 0 & 2 & no \\\\\n",
       "\t11 & 11 & no & 10.6606 & 4.5 & 11 & 0 & 2 & no \\\\\n",
       "\t12 & 12 & no & 10.4676 & 6.0 & 12 & 0 & 0 & no \\\\\n",
       "\t13 & 13 & no & 11.2296 & 3.3 & 11 & 2 & 0 & no \\\\\n",
       "\t14 & 14 & no & 11.9065 & 5.6 & 14 & 0 & 0 & no \\\\\n",
       "\t15 & 15 & no & 11.5016 & 5.6 & 11 & 0 & 0 & no \\\\\n",
       "\t16 & 16 & no & 11.2935 & 4.7 & 11 & 0 & 1 & no \\\\\n",
       "\t17 & 17 & no & 10.8613 & 5.0 & 8 & 0 & 0 & no \\\\\n",
       "\t18 & 18 & yes & 11.844 & 3.9 & 12 & 0 & 0 & no \\\\\n",
       "\t19 & 19 & no & 11.0486 & 4.7 & 8 & 0 & 1 & no \\\\\n",
       "\t20 & 20 & yes & 10.9578 & 5.3 & 11 & 0 & 0 & no \\\\\n",
       "\t$\\dots$ & $\\dots$ & $\\dots$ & $\\dots$ & $\\dots$ & $\\dots$ & $\\dots$ & $\\dots$ & $\\dots$ \\\\\n",
       "\\end{tabular}\n"
      ],
      "text/plain": [
       "\u001b[1m872×8 DataFrame\u001b[0m\n",
       "\u001b[1m Row \u001b[0m│\u001b[1m Column1 \u001b[0m\u001b[1m lfp    \u001b[0m\u001b[1m lnnlinc \u001b[0m\u001b[1m age     \u001b[0m\u001b[1m educ  \u001b[0m\u001b[1m nyc   \u001b[0m\u001b[1m noc   \u001b[0m\u001b[1m foreign \u001b[0m\n",
       "\u001b[1m     \u001b[0m│\u001b[90m Int64   \u001b[0m\u001b[90m String \u001b[0m\u001b[90m Float64 \u001b[0m\u001b[90m Float64 \u001b[0m\u001b[90m Int64 \u001b[0m\u001b[90m Int64 \u001b[0m\u001b[90m Int64 \u001b[0m\u001b[90m String  \u001b[0m\n",
       "─────┼─────────────────────────────────────────────────────────────────\n",
       "   1 │       1  no      10.7875      3.0      8      1      1  no\n",
       "   2 │       2  yes     10.5243      4.5      8      0      1  no\n",
       "   3 │       3  no      10.9686      4.6      9      0      0  no\n",
       "   4 │       4  no      11.105       3.1     11      2      0  no\n",
       "   5 │       5  no      11.1085      4.4     12      0      2  no\n",
       "   6 │       6  yes     11.0283      4.2     12      0      1  no\n",
       "  ⋮  │    ⋮       ⋮        ⋮        ⋮       ⋮      ⋮      ⋮       ⋮\n",
       " 868 │     868  no      10.5974      2.4      4      2      1  yes\n",
       " 869 │     869  yes     10.3778      4.8      8      0      0  yes\n",
       " 870 │     870  no      10.1337      2.4      6      2      0  yes\n",
       " 871 │     871  yes     10.9324      4.1     10      0      1  yes\n",
       " 872 │     872  no      11.2207      5.1     10      0      0  yes\n",
       "\u001b[36m                                                       861 rows omitted\u001b[0m"
      ]
     },
     "execution_count": 4,
     "metadata": {},
     "output_type": "execute_result"
    }
   ],
   "source": [
    "df_raw = CSV.read(\"participation.csv\", DataFrame)"
   ]
  },
  {
   "cell_type": "code",
   "execution_count": 5,
   "metadata": {},
   "outputs": [
    {
     "data": {
      "text/html": [
       "<div class=\"data-frame\"><p>872 rows × 8 columns</p><table class=\"data-frame\"><thead><tr><th></th><th>lfp</th><th>lnnlinc</th><th>age</th><th>age²</th><th>educ</th><th>nyc</th><th>noc</th><th>foreign</th></tr><tr><th></th><th title=\"Int64\">Int64</th><th title=\"Float64\">Float64</th><th title=\"Float64\">Float64</th><th title=\"Float64\">Float64</th><th title=\"Int64\">Int64</th><th title=\"Int64\">Int64</th><th title=\"Int64\">Int64</th><th title=\"CategoricalValue{String, UInt32}\">Cat…</th></tr></thead><tbody><tr><th>1</th><td>0</td><td>10.7875</td><td>3.0</td><td>9.0</td><td>8</td><td>1</td><td>1</td><td>no</td></tr><tr><th>2</th><td>1</td><td>10.5243</td><td>4.5</td><td>20.25</td><td>8</td><td>0</td><td>1</td><td>no</td></tr><tr><th>3</th><td>0</td><td>10.9686</td><td>4.6</td><td>21.16</td><td>9</td><td>0</td><td>0</td><td>no</td></tr><tr><th>4</th><td>0</td><td>11.105</td><td>3.1</td><td>9.61</td><td>11</td><td>2</td><td>0</td><td>no</td></tr><tr><th>5</th><td>0</td><td>11.1085</td><td>4.4</td><td>19.36</td><td>12</td><td>0</td><td>2</td><td>no</td></tr><tr><th>6</th><td>1</td><td>11.0283</td><td>4.2</td><td>17.64</td><td>12</td><td>0</td><td>1</td><td>no</td></tr><tr><th>7</th><td>0</td><td>11.4547</td><td>5.1</td><td>26.01</td><td>8</td><td>0</td><td>0</td><td>no</td></tr><tr><th>8</th><td>1</td><td>10.4909</td><td>3.2</td><td>10.24</td><td>8</td><td>0</td><td>2</td><td>no</td></tr><tr><th>9</th><td>0</td><td>10.6247</td><td>3.9</td><td>15.21</td><td>12</td><td>0</td><td>0</td><td>no</td></tr><tr><th>10</th><td>0</td><td>10.4864</td><td>4.3</td><td>18.49</td><td>11</td><td>0</td><td>2</td><td>no</td></tr><tr><th>11</th><td>0</td><td>10.6606</td><td>4.5</td><td>20.25</td><td>11</td><td>0</td><td>2</td><td>no</td></tr><tr><th>12</th><td>0</td><td>10.4676</td><td>6.0</td><td>36.0</td><td>12</td><td>0</td><td>0</td><td>no</td></tr><tr><th>13</th><td>0</td><td>11.2296</td><td>3.3</td><td>10.89</td><td>11</td><td>2</td><td>0</td><td>no</td></tr><tr><th>14</th><td>0</td><td>11.9065</td><td>5.6</td><td>31.36</td><td>14</td><td>0</td><td>0</td><td>no</td></tr><tr><th>15</th><td>0</td><td>11.5016</td><td>5.6</td><td>31.36</td><td>11</td><td>0</td><td>0</td><td>no</td></tr><tr><th>16</th><td>0</td><td>11.2935</td><td>4.7</td><td>22.09</td><td>11</td><td>0</td><td>1</td><td>no</td></tr><tr><th>17</th><td>0</td><td>10.8613</td><td>5.0</td><td>25.0</td><td>8</td><td>0</td><td>0</td><td>no</td></tr><tr><th>18</th><td>1</td><td>11.844</td><td>3.9</td><td>15.21</td><td>12</td><td>0</td><td>0</td><td>no</td></tr><tr><th>19</th><td>0</td><td>11.0486</td><td>4.7</td><td>22.09</td><td>8</td><td>0</td><td>1</td><td>no</td></tr><tr><th>20</th><td>1</td><td>10.9578</td><td>5.3</td><td>28.09</td><td>11</td><td>0</td><td>0</td><td>no</td></tr><tr><th>&vellip;</th><td>&vellip;</td><td>&vellip;</td><td>&vellip;</td><td>&vellip;</td><td>&vellip;</td><td>&vellip;</td><td>&vellip;</td><td>&vellip;</td></tr></tbody></table></div>"
      ],
      "text/latex": [
       "\\begin{tabular}{r|cccccccc}\n",
       "\t& lfp & lnnlinc & age & age² & educ & nyc & noc & foreign\\\\\n",
       "\t\\hline\n",
       "\t& Int64 & Float64 & Float64 & Float64 & Int64 & Int64 & Int64 & Cat…\\\\\n",
       "\t\\hline\n",
       "\t1 & 0 & 10.7875 & 3.0 & 9.0 & 8 & 1 & 1 & no \\\\\n",
       "\t2 & 1 & 10.5243 & 4.5 & 20.25 & 8 & 0 & 1 & no \\\\\n",
       "\t3 & 0 & 10.9686 & 4.6 & 21.16 & 9 & 0 & 0 & no \\\\\n",
       "\t4 & 0 & 11.105 & 3.1 & 9.61 & 11 & 2 & 0 & no \\\\\n",
       "\t5 & 0 & 11.1085 & 4.4 & 19.36 & 12 & 0 & 2 & no \\\\\n",
       "\t6 & 1 & 11.0283 & 4.2 & 17.64 & 12 & 0 & 1 & no \\\\\n",
       "\t7 & 0 & 11.4547 & 5.1 & 26.01 & 8 & 0 & 0 & no \\\\\n",
       "\t8 & 1 & 10.4909 & 3.2 & 10.24 & 8 & 0 & 2 & no \\\\\n",
       "\t9 & 0 & 10.6247 & 3.9 & 15.21 & 12 & 0 & 0 & no \\\\\n",
       "\t10 & 0 & 10.4864 & 4.3 & 18.49 & 11 & 0 & 2 & no \\\\\n",
       "\t11 & 0 & 10.6606 & 4.5 & 20.25 & 11 & 0 & 2 & no \\\\\n",
       "\t12 & 0 & 10.4676 & 6.0 & 36.0 & 12 & 0 & 0 & no \\\\\n",
       "\t13 & 0 & 11.2296 & 3.3 & 10.89 & 11 & 2 & 0 & no \\\\\n",
       "\t14 & 0 & 11.9065 & 5.6 & 31.36 & 14 & 0 & 0 & no \\\\\n",
       "\t15 & 0 & 11.5016 & 5.6 & 31.36 & 11 & 0 & 0 & no \\\\\n",
       "\t16 & 0 & 11.2935 & 4.7 & 22.09 & 11 & 0 & 1 & no \\\\\n",
       "\t17 & 0 & 10.8613 & 5.0 & 25.0 & 8 & 0 & 0 & no \\\\\n",
       "\t18 & 1 & 11.844 & 3.9 & 15.21 & 12 & 0 & 0 & no \\\\\n",
       "\t19 & 0 & 11.0486 & 4.7 & 22.09 & 8 & 0 & 1 & no \\\\\n",
       "\t20 & 1 & 10.9578 & 5.3 & 28.09 & 11 & 0 & 0 & no \\\\\n",
       "\t$\\dots$ & $\\dots$ & $\\dots$ & $\\dots$ & $\\dots$ & $\\dots$ & $\\dots$ & $\\dots$ & $\\dots$ \\\\\n",
       "\\end{tabular}\n"
      ],
      "text/plain": [
       "\u001b[1m872×8 DataFrame\u001b[0m\n",
       "\u001b[1m Row \u001b[0m│\u001b[1m lfp   \u001b[0m\u001b[1m lnnlinc \u001b[0m\u001b[1m age     \u001b[0m\u001b[1m age²    \u001b[0m\u001b[1m educ  \u001b[0m\u001b[1m nyc   \u001b[0m\u001b[1m noc   \u001b[0m\u001b[1m foreign \u001b[0m\n",
       "\u001b[1m     \u001b[0m│\u001b[90m Int64 \u001b[0m\u001b[90m Float64 \u001b[0m\u001b[90m Float64 \u001b[0m\u001b[90m Float64 \u001b[0m\u001b[90m Int64 \u001b[0m\u001b[90m Int64 \u001b[0m\u001b[90m Int64 \u001b[0m\u001b[90m Cat…    \u001b[0m\n",
       "─────┼────────────────────────────────────────────────────────────────\n",
       "   1 │     0  10.7875      3.0     9.0       8      1      1  no\n",
       "   2 │     1  10.5243      4.5    20.25      8      0      1  no\n",
       "   3 │     0  10.9686      4.6    21.16      9      0      0  no\n",
       "   4 │     0  11.105       3.1     9.61     11      2      0  no\n",
       "   5 │     0  11.1085      4.4    19.36     12      0      2  no\n",
       "   6 │     1  11.0283      4.2    17.64     12      0      1  no\n",
       "  ⋮  │   ⋮       ⋮        ⋮        ⋮       ⋮      ⋮      ⋮       ⋮\n",
       " 868 │     0  10.5974      2.4     5.76      4      2      1  yes\n",
       " 869 │     1  10.3778      4.8    23.04      8      0      0  yes\n",
       " 870 │     0  10.1337      2.4     5.76      6      2      0  yes\n",
       " 871 │     1  10.9324      4.1    16.81     10      0      1  yes\n",
       " 872 │     0  11.2207      5.1    26.01     10      0      0  yes\n",
       "\u001b[36m                                                      861 rows omitted\u001b[0m"
      ]
     },
     "execution_count": 5,
     "metadata": {},
     "output_type": "execute_result"
    }
   ],
   "source": [
    "df = select(df_raw,\n",
    "            :lfp => (x -> recode(x, \"yes\" => 1, \"no\" => 0)) => :lfp,\n",
    "            :lnnlinc,\n",
    "            :age,\n",
    "            :age => ByRow(x -> x^2) => :age²,\n",
    "            Between(:educ, :noc),\n",
    "            :foreign => categorical => :foreign)"
   ]
  },
  {
   "cell_type": "code",
   "execution_count": 6,
   "metadata": {},
   "outputs": [
    {
     "data": {
      "text/html": [
       "<div class=\"data-frame\"><p>2 rows × 6 columns</p><table class=\"data-frame\"><thead><tr><th></th><th>lfp</th><th>lnnlinc_mean</th><th>age_mean</th><th>educ_mean</th><th>nyc_mean</th><th>noc_mean</th></tr><tr><th></th><th title=\"Int64\">Int64</th><th title=\"Float64\">Float64</th><th title=\"Float64\">Float64</th><th title=\"Float64\">Float64</th><th title=\"Float64\">Float64</th><th title=\"Float64\">Float64</th></tr></thead><tbody><tr><th>1</th><td>0</td><td>10.7513</td><td>4.08535</td><td>9.59448</td><td>0.409766</td><td>0.902335</td></tr><tr><th>2</th><td>1</td><td>10.6083</td><td>3.89002</td><td>8.97007</td><td>0.197007</td><td>1.07731</td></tr></tbody></table></div>"
      ],
      "text/latex": [
       "\\begin{tabular}{r|cccccc}\n",
       "\t& lfp & lnnlinc\\_mean & age\\_mean & educ\\_mean & nyc\\_mean & noc\\_mean\\\\\n",
       "\t\\hline\n",
       "\t& Int64 & Float64 & Float64 & Float64 & Float64 & Float64\\\\\n",
       "\t\\hline\n",
       "\t1 & 0 & 10.7513 & 4.08535 & 9.59448 & 0.409766 & 0.902335 \\\\\n",
       "\t2 & 1 & 10.6083 & 3.89002 & 8.97007 & 0.197007 & 1.07731 \\\\\n",
       "\\end{tabular}\n"
      ],
      "text/plain": [
       "\u001b[1m2×6 DataFrame\u001b[0m\n",
       "\u001b[1m Row \u001b[0m│\u001b[1m lfp   \u001b[0m\u001b[1m lnnlinc_mean \u001b[0m\u001b[1m age_mean \u001b[0m\u001b[1m educ_mean \u001b[0m\u001b[1m nyc_mean \u001b[0m\u001b[1m noc_mean \u001b[0m\n",
       "\u001b[1m     \u001b[0m│\u001b[90m Int64 \u001b[0m\u001b[90m Float64      \u001b[0m\u001b[90m Float64  \u001b[0m\u001b[90m Float64   \u001b[0m\u001b[90m Float64  \u001b[0m\u001b[90m Float64  \u001b[0m\n",
       "─────┼──────────────────────────────────────────────────────────────\n",
       "   1 │     0       10.7513   4.08535    9.59448  0.409766  0.902335\n",
       "   2 │     1       10.6083   3.89002    8.97007  0.197007  1.07731"
      ]
     },
     "execution_count": 6,
     "metadata": {},
     "output_type": "execute_result"
    }
   ],
   "source": [
    "@chain df begin\n",
    "    groupby(:lfp)\n",
    "    combine([:lnnlinc, :age, :educ, :nyc, :noc] .=> mean)\n",
    "end"
   ]
  },
  {
   "cell_type": "code",
   "execution_count": 7,
   "metadata": {},
   "outputs": [
    {
     "data": {
      "text/html": [
       "<div class=\"data-frame\"><p>2 rows × 2 columns</p><table class=\"data-frame\"><thead><tr><th></th><th>lfp</th><th>foreign_yes</th></tr><tr><th></th><th title=\"Int64\">Int64</th><th title=\"Float64\">Float64</th></tr></thead><tbody><tr><th>1</th><td>0</td><td>0.146497</td></tr><tr><th>2</th><td>1</td><td>0.366584</td></tr></tbody></table></div>"
      ],
      "text/latex": [
       "\\begin{tabular}{r|cc}\n",
       "\t& lfp & foreign\\_yes\\\\\n",
       "\t\\hline\n",
       "\t& Int64 & Float64\\\\\n",
       "\t\\hline\n",
       "\t1 & 0 & 0.146497 \\\\\n",
       "\t2 & 1 & 0.366584 \\\\\n",
       "\\end{tabular}\n"
      ],
      "text/plain": [
       "\u001b[1m2×2 DataFrame\u001b[0m\n",
       "\u001b[1m Row \u001b[0m│\u001b[1m lfp   \u001b[0m\u001b[1m foreign_yes \u001b[0m\n",
       "\u001b[1m     \u001b[0m│\u001b[90m Int64 \u001b[0m\u001b[90m Float64     \u001b[0m\n",
       "─────┼────────────────────\n",
       "   1 │     0     0.146497\n",
       "   2 │     1     0.366584"
      ]
     },
     "execution_count": 7,
     "metadata": {},
     "output_type": "execute_result"
    }
   ],
   "source": [
    "@chain df begin\n",
    "    groupby([:lfp, :foreign])\n",
    "    combine(nrow)\n",
    "    unstack(:lfp, :foreign, :nrow)\n",
    "    select(:lfp, [:no, :yes] => ByRow((x, y) -> y / (x + y)) => :foreign_yes)\n",
    "end"
   ]
  },
  {
   "cell_type": "code",
   "execution_count": 8,
   "metadata": {},
   "outputs": [
    {
     "data": {
      "text/html": [
       "<p><b>GroupedDataFrame with 2 groups based on key: lfp</b></p><p><i>First Group (471 rows): lfp = 0</i></p><div class=\"data-frame\"><table class=\"data-frame\"><thead><tr><th></th><th>lfp</th><th>lnnlinc</th><th>age</th><th>age²</th><th>educ</th><th>nyc</th><th>noc</th><th>foreign</th></tr><tr><th></th><th title=\"Int64\">Int64</th><th title=\"Float64\">Float64</th><th title=\"Float64\">Float64</th><th title=\"Float64\">Float64</th><th title=\"Int64\">Int64</th><th title=\"Int64\">Int64</th><th title=\"Int64\">Int64</th><th title=\"CategoricalValue{String, UInt32}\">Cat…</th></tr></thead><tbody><tr><th>1</th><td>0</td><td>10.7875</td><td>3.0</td><td>9.0</td><td>8</td><td>1</td><td>1</td><td>no</td></tr><tr><th>2</th><td>0</td><td>10.9686</td><td>4.6</td><td>21.16</td><td>9</td><td>0</td><td>0</td><td>no</td></tr><tr><th>3</th><td>0</td><td>11.105</td><td>3.1</td><td>9.61</td><td>11</td><td>2</td><td>0</td><td>no</td></tr><tr><th>4</th><td>0</td><td>11.1085</td><td>4.4</td><td>19.36</td><td>12</td><td>0</td><td>2</td><td>no</td></tr><tr><th>5</th><td>0</td><td>11.4547</td><td>5.1</td><td>26.01</td><td>8</td><td>0</td><td>0</td><td>no</td></tr><tr><th>6</th><td>0</td><td>10.6247</td><td>3.9</td><td>15.21</td><td>12</td><td>0</td><td>0</td><td>no</td></tr><tr><th>7</th><td>0</td><td>10.4864</td><td>4.3</td><td>18.49</td><td>11</td><td>0</td><td>2</td><td>no</td></tr><tr><th>8</th><td>0</td><td>10.6606</td><td>4.5</td><td>20.25</td><td>11</td><td>0</td><td>2</td><td>no</td></tr><tr><th>9</th><td>0</td><td>10.4676</td><td>6.0</td><td>36.0</td><td>12</td><td>0</td><td>0</td><td>no</td></tr><tr><th>10</th><td>0</td><td>11.2296</td><td>3.3</td><td>10.89</td><td>11</td><td>2</td><td>0</td><td>no</td></tr><tr><th>11</th><td>0</td><td>11.9065</td><td>5.6</td><td>31.36</td><td>14</td><td>0</td><td>0</td><td>no</td></tr><tr><th>12</th><td>0</td><td>11.5016</td><td>5.6</td><td>31.36</td><td>11</td><td>0</td><td>0</td><td>no</td></tr><tr><th>13</th><td>0</td><td>11.2935</td><td>4.7</td><td>22.09</td><td>11</td><td>0</td><td>1</td><td>no</td></tr><tr><th>14</th><td>0</td><td>10.8613</td><td>5.0</td><td>25.0</td><td>8</td><td>0</td><td>0</td><td>no</td></tr><tr><th>15</th><td>0</td><td>11.0486</td><td>4.7</td><td>22.09</td><td>8</td><td>0</td><td>1</td><td>no</td></tr><tr><th>16</th><td>0</td><td>10.8601</td><td>2.9</td><td>8.41</td><td>19</td><td>0</td><td>0</td><td>no</td></tr><tr><th>17</th><td>0</td><td>10.8486</td><td>4.4</td><td>19.36</td><td>8</td><td>0</td><td>2</td><td>no</td></tr><tr><th>18</th><td>0</td><td>10.4824</td><td>2.0</td><td>4.0</td><td>12</td><td>1</td><td>0</td><td>no</td></tr><tr><th>19</th><td>0</td><td>10.5406</td><td>2.8</td><td>7.84</td><td>9</td><td>2</td><td>0</td><td>no</td></tr><tr><th>20</th><td>0</td><td>11.2243</td><td>4.7</td><td>22.09</td><td>8</td><td>0</td><td>1</td><td>no</td></tr><tr><th>&vellip;</th><td>&vellip;</td><td>&vellip;</td><td>&vellip;</td><td>&vellip;</td><td>&vellip;</td><td>&vellip;</td><td>&vellip;</td><td>&vellip;</td></tr></tbody></table></div><p>&vellip;</p><p><i>Last Group (401 rows): lfp = 1</i></p><div class=\"data-frame\"><table class=\"data-frame\"><thead><tr><th></th><th>lfp</th><th>lnnlinc</th><th>age</th><th>age²</th><th>educ</th><th>nyc</th><th>noc</th><th>foreign</th></tr><tr><th></th><th title=\"Int64\">Int64</th><th title=\"Float64\">Float64</th><th title=\"Float64\">Float64</th><th title=\"Float64\">Float64</th><th title=\"Int64\">Int64</th><th title=\"Int64\">Int64</th><th title=\"Int64\">Int64</th><th title=\"CategoricalValue{String, UInt32}\">Cat…</th></tr></thead><tbody><tr><th>1</th><td>1</td><td>10.5243</td><td>4.5</td><td>20.25</td><td>8</td><td>0</td><td>1</td><td>no</td></tr><tr><th>2</th><td>1</td><td>11.0283</td><td>4.2</td><td>17.64</td><td>12</td><td>0</td><td>1</td><td>no</td></tr><tr><th>3</th><td>1</td><td>10.4909</td><td>3.2</td><td>10.24</td><td>8</td><td>0</td><td>2</td><td>no</td></tr><tr><th>4</th><td>1</td><td>11.844</td><td>3.9</td><td>15.21</td><td>12</td><td>0</td><td>0</td><td>no</td></tr><tr><th>5</th><td>1</td><td>10.9578</td><td>5.3</td><td>28.09</td><td>11</td><td>0</td><td>0</td><td>no</td></tr><tr><th>6</th><td>1</td><td>11.1081</td><td>4.6</td><td>21.16</td><td>11</td><td>0</td><td>1</td><td>no</td></tr><tr><th>7</th><td>1</td><td>10.484</td><td>5.4</td><td>29.16</td><td>8</td><td>0</td><td>0</td><td>no</td></tr><tr><th>8</th><td>1</td><td>10.6012</td><td>4.7</td><td>22.09</td><td>8</td><td>0</td><td>0</td><td>no</td></tr><tr><th>9</th><td>1</td><td>10.8411</td><td>4.9</td><td>24.01</td><td>12</td><td>0</td><td>0</td><td>no</td></tr><tr><th>10</th><td>1</td><td>11.1566</td><td>3.6</td><td>12.96</td><td>13</td><td>0</td><td>2</td><td>no</td></tr><tr><th>11</th><td>1</td><td>11.1063</td><td>4.1</td><td>16.81</td><td>12</td><td>0</td><td>2</td><td>no</td></tr><tr><th>12</th><td>1</td><td>10.6446</td><td>4.2</td><td>17.64</td><td>10</td><td>0</td><td>2</td><td>no</td></tr><tr><th>13</th><td>1</td><td>10.467</td><td>3.2</td><td>10.24</td><td>8</td><td>0</td><td>1</td><td>no</td></tr><tr><th>14</th><td>1</td><td>10.4782</td><td>3.4</td><td>11.56</td><td>9</td><td>0</td><td>2</td><td>no</td></tr><tr><th>15</th><td>1</td><td>10.4355</td><td>4.4</td><td>19.36</td><td>9</td><td>0</td><td>1</td><td>no</td></tr><tr><th>16</th><td>1</td><td>10.4273</td><td>5.8</td><td>33.64</td><td>12</td><td>0</td><td>0</td><td>no</td></tr><tr><th>17</th><td>1</td><td>10.4718</td><td>4.4</td><td>19.36</td><td>9</td><td>0</td><td>2</td><td>no</td></tr><tr><th>18</th><td>1</td><td>11.4112</td><td>4.0</td><td>16.0</td><td>13</td><td>0</td><td>2</td><td>no</td></tr><tr><th>19</th><td>1</td><td>10.4933</td><td>3.5</td><td>12.25</td><td>4</td><td>0</td><td>2</td><td>no</td></tr><tr><th>20</th><td>1</td><td>10.7186</td><td>3.1</td><td>9.61</td><td>10</td><td>1</td><td>1</td><td>no</td></tr><tr><th>&vellip;</th><td>&vellip;</td><td>&vellip;</td><td>&vellip;</td><td>&vellip;</td><td>&vellip;</td><td>&vellip;</td><td>&vellip;</td><td>&vellip;</td></tr></tbody></table></div>"
      ],
      "text/latex": [
       "GroupedDataFrame with 2 groups based on key: lfp\n",
       "\n",
       "First Group (471 rows): lfp = 0\n",
       "\n",
       "\\begin{tabular}{r|cccccccc}\n",
       "\t& lfp & lnnlinc & age & age² & educ & nyc & noc & foreign\\\\\n",
       "\t\\hline\n",
       "\t& Int64 & Float64 & Float64 & Float64 & Int64 & Int64 & Int64 & Cat…\\\\\n",
       "\t\\hline\n",
       "\t1 & 0 & 10.7875 & 3.0 & 9.0 & 8 & 1 & 1 & no \\\\\n",
       "\t2 & 0 & 10.9686 & 4.6 & 21.16 & 9 & 0 & 0 & no \\\\\n",
       "\t3 & 0 & 11.105 & 3.1 & 9.61 & 11 & 2 & 0 & no \\\\\n",
       "\t4 & 0 & 11.1085 & 4.4 & 19.36 & 12 & 0 & 2 & no \\\\\n",
       "\t5 & 0 & 11.4547 & 5.1 & 26.01 & 8 & 0 & 0 & no \\\\\n",
       "\t6 & 0 & 10.6247 & 3.9 & 15.21 & 12 & 0 & 0 & no \\\\\n",
       "\t7 & 0 & 10.4864 & 4.3 & 18.49 & 11 & 0 & 2 & no \\\\\n",
       "\t8 & 0 & 10.6606 & 4.5 & 20.25 & 11 & 0 & 2 & no \\\\\n",
       "\t9 & 0 & 10.4676 & 6.0 & 36.0 & 12 & 0 & 0 & no \\\\\n",
       "\t10 & 0 & 11.2296 & 3.3 & 10.89 & 11 & 2 & 0 & no \\\\\n",
       "\t11 & 0 & 11.9065 & 5.6 & 31.36 & 14 & 0 & 0 & no \\\\\n",
       "\t12 & 0 & 11.5016 & 5.6 & 31.36 & 11 & 0 & 0 & no \\\\\n",
       "\t13 & 0 & 11.2935 & 4.7 & 22.09 & 11 & 0 & 1 & no \\\\\n",
       "\t14 & 0 & 10.8613 & 5.0 & 25.0 & 8 & 0 & 0 & no \\\\\n",
       "\t15 & 0 & 11.0486 & 4.7 & 22.09 & 8 & 0 & 1 & no \\\\\n",
       "\t16 & 0 & 10.8601 & 2.9 & 8.41 & 19 & 0 & 0 & no \\\\\n",
       "\t17 & 0 & 10.8486 & 4.4 & 19.36 & 8 & 0 & 2 & no \\\\\n",
       "\t18 & 0 & 10.4824 & 2.0 & 4.0 & 12 & 1 & 0 & no \\\\\n",
       "\t19 & 0 & 10.5406 & 2.8 & 7.84 & 9 & 2 & 0 & no \\\\\n",
       "\t20 & 0 & 11.2243 & 4.7 & 22.09 & 8 & 0 & 1 & no \\\\\n",
       "\t$\\dots$ & $\\dots$ & $\\dots$ & $\\dots$ & $\\dots$ & $\\dots$ & $\\dots$ & $\\dots$ & $\\dots$ \\\\\n",
       "\\end{tabular}\n",
       "\n",
       "$\\dots$\n",
       "\n",
       "Last Group (401 rows): lfp = 1\n",
       "\n",
       "\\begin{tabular}{r|cccccccc}\n",
       "\t& lfp & lnnlinc & age & age² & educ & nyc & noc & foreign\\\\\n",
       "\t\\hline\n",
       "\t& Int64 & Float64 & Float64 & Float64 & Int64 & Int64 & Int64 & Cat…\\\\\n",
       "\t\\hline\n",
       "\t1 & 1 & 10.5243 & 4.5 & 20.25 & 8 & 0 & 1 & no \\\\\n",
       "\t2 & 1 & 11.0283 & 4.2 & 17.64 & 12 & 0 & 1 & no \\\\\n",
       "\t3 & 1 & 10.4909 & 3.2 & 10.24 & 8 & 0 & 2 & no \\\\\n",
       "\t4 & 1 & 11.844 & 3.9 & 15.21 & 12 & 0 & 0 & no \\\\\n",
       "\t5 & 1 & 10.9578 & 5.3 & 28.09 & 11 & 0 & 0 & no \\\\\n",
       "\t6 & 1 & 11.1081 & 4.6 & 21.16 & 11 & 0 & 1 & no \\\\\n",
       "\t7 & 1 & 10.484 & 5.4 & 29.16 & 8 & 0 & 0 & no \\\\\n",
       "\t8 & 1 & 10.6012 & 4.7 & 22.09 & 8 & 0 & 0 & no \\\\\n",
       "\t9 & 1 & 10.8411 & 4.9 & 24.01 & 12 & 0 & 0 & no \\\\\n",
       "\t10 & 1 & 11.1566 & 3.6 & 12.96 & 13 & 0 & 2 & no \\\\\n",
       "\t11 & 1 & 11.1063 & 4.1 & 16.81 & 12 & 0 & 2 & no \\\\\n",
       "\t12 & 1 & 10.6446 & 4.2 & 17.64 & 10 & 0 & 2 & no \\\\\n",
       "\t13 & 1 & 10.467 & 3.2 & 10.24 & 8 & 0 & 1 & no \\\\\n",
       "\t14 & 1 & 10.4782 & 3.4 & 11.56 & 9 & 0 & 2 & no \\\\\n",
       "\t15 & 1 & 10.4355 & 4.4 & 19.36 & 9 & 0 & 1 & no \\\\\n",
       "\t16 & 1 & 10.4273 & 5.8 & 33.64 & 12 & 0 & 0 & no \\\\\n",
       "\t17 & 1 & 10.4718 & 4.4 & 19.36 & 9 & 0 & 2 & no \\\\\n",
       "\t18 & 1 & 11.4112 & 4.0 & 16.0 & 13 & 0 & 2 & no \\\\\n",
       "\t19 & 1 & 10.4933 & 3.5 & 12.25 & 4 & 0 & 2 & no \\\\\n",
       "\t20 & 1 & 10.7186 & 3.1 & 9.61 & 10 & 1 & 1 & no \\\\\n",
       "\t$\\dots$ & $\\dots$ & $\\dots$ & $\\dots$ & $\\dots$ & $\\dots$ & $\\dots$ & $\\dots$ & $\\dots$ \\\\\n",
       "\\end{tabular}\n"
      ],
      "text/plain": [
       "GroupedDataFrame with 2 groups based on key: lfp\n",
       "First Group (471 rows): lfp = 0\n",
       "\u001b[1m Row \u001b[0m│\u001b[1m lfp   \u001b[0m\u001b[1m lnnlinc \u001b[0m\u001b[1m age     \u001b[0m\u001b[1m age²    \u001b[0m\u001b[1m educ  \u001b[0m\u001b[1m nyc   \u001b[0m\u001b[1m noc   \u001b[0m\u001b[1m foreign \u001b[0m\n",
       "\u001b[1m     \u001b[0m│\u001b[90m Int64 \u001b[0m\u001b[90m Float64 \u001b[0m\u001b[90m Float64 \u001b[0m\u001b[90m Float64 \u001b[0m\u001b[90m Int64 \u001b[0m\u001b[90m Int64 \u001b[0m\u001b[90m Int64 \u001b[0m\u001b[90m Cat…    \u001b[0m\n",
       "─────┼────────────────────────────────────────────────────────────────\n",
       "   1 │     0  10.7875      3.0     9.0       8      1      1  no\n",
       "   2 │     0  10.9686      4.6    21.16      9      0      0  no\n",
       "   3 │     0  11.105       3.1     9.61     11      2      0  no\n",
       "   4 │     0  11.1085      4.4    19.36     12      0      2  no\n",
       "   5 │     0  11.4547      5.1    26.01      8      0      0  no\n",
       "   6 │     0  10.6247      3.9    15.21     12      0      0  no\n",
       "  ⋮  │   ⋮       ⋮        ⋮        ⋮       ⋮      ⋮      ⋮       ⋮\n",
       " 466 │     0  11.111       3.5    12.25     10      1      1  yes\n",
       " 467 │     0  10.4714      5.1    26.01      9      0      1  yes\n",
       " 468 │     0  10.1475      4.1    16.81      5      1      0  yes\n",
       " 469 │     0  10.5974      2.4     5.76      4      2      1  yes\n",
       " 470 │     0  10.1337      2.4     5.76      6      2      0  yes\n",
       " 471 │     0  11.2207      5.1    26.01     10      0      0  yes\n",
       "\u001b[36m                                                      459 rows omitted\u001b[0m\n",
       "⋮\n",
       "Last Group (401 rows): lfp = 1\n",
       "\u001b[1m Row \u001b[0m│\u001b[1m lfp   \u001b[0m\u001b[1m lnnlinc \u001b[0m\u001b[1m age     \u001b[0m\u001b[1m age²    \u001b[0m\u001b[1m educ  \u001b[0m\u001b[1m nyc   \u001b[0m\u001b[1m noc   \u001b[0m\u001b[1m foreign \u001b[0m\n",
       "\u001b[1m     \u001b[0m│\u001b[90m Int64 \u001b[0m\u001b[90m Float64 \u001b[0m\u001b[90m Float64 \u001b[0m\u001b[90m Float64 \u001b[0m\u001b[90m Int64 \u001b[0m\u001b[90m Int64 \u001b[0m\u001b[90m Int64 \u001b[0m\u001b[90m Cat…    \u001b[0m\n",
       "─────┼────────────────────────────────────────────────────────────────\n",
       "   1 │     1  10.5243      4.5    20.25      8      0      1  no\n",
       "   2 │     1  11.0283      4.2    17.64     12      0      1  no\n",
       "   3 │     1  10.4909      3.2    10.24      8      0      2  no\n",
       "   4 │     1  11.844       3.9    15.21     12      0      0  no\n",
       "   5 │     1  10.9578      5.3    28.09     11      0      0  no\n",
       "   6 │     1  11.1081      4.6    21.16     11      0      1  no\n",
       "  ⋮  │   ⋮       ⋮        ⋮        ⋮       ⋮      ⋮      ⋮       ⋮\n",
       " 396 │     1  10.5289      3.4    11.56      9      1      1  yes\n",
       " 397 │     1  10.4685      3.3    10.89      6      0      2  yes\n",
       " 398 │     1  10.6932      3.5    12.25      9      0      2  yes\n",
       " 399 │     1  10.0276      4.2    17.64     14      0      0  yes\n",
       " 400 │     1  10.3778      4.8    23.04      8      0      0  yes\n",
       " 401 │     1  10.9324      4.1    16.81     10      0      1  yes\n",
       "\u001b[36m                                                      389 rows omitted\u001b[0m"
      ]
     },
     "execution_count": 8,
     "metadata": {},
     "output_type": "execute_result"
    }
   ],
   "source": [
    "gd = groupby(df, :lfp)"
   ]
  },
  {
   "cell_type": "code",
   "execution_count": 9,
   "metadata": {},
   "outputs": [
    {
     "data": {
      "text/html": [
       "<div class=\"data-frame\"><p>401 rows × 8 columns</p><table class=\"data-frame\"><thead><tr><th></th><th>lfp</th><th>lnnlinc</th><th>age</th><th>age²</th><th>educ</th><th>nyc</th><th>noc</th><th>foreign</th></tr><tr><th></th><th title=\"Int64\">Int64</th><th title=\"Float64\">Float64</th><th title=\"Float64\">Float64</th><th title=\"Float64\">Float64</th><th title=\"Int64\">Int64</th><th title=\"Int64\">Int64</th><th title=\"Int64\">Int64</th><th title=\"CategoricalValue{String, UInt32}\">Cat…</th></tr></thead><tbody><tr><th>1</th><td>1</td><td>10.5243</td><td>4.5</td><td>20.25</td><td>8</td><td>0</td><td>1</td><td>no</td></tr><tr><th>2</th><td>1</td><td>11.0283</td><td>4.2</td><td>17.64</td><td>12</td><td>0</td><td>1</td><td>no</td></tr><tr><th>3</th><td>1</td><td>10.4909</td><td>3.2</td><td>10.24</td><td>8</td><td>0</td><td>2</td><td>no</td></tr><tr><th>4</th><td>1</td><td>11.844</td><td>3.9</td><td>15.21</td><td>12</td><td>0</td><td>0</td><td>no</td></tr><tr><th>5</th><td>1</td><td>10.9578</td><td>5.3</td><td>28.09</td><td>11</td><td>0</td><td>0</td><td>no</td></tr><tr><th>6</th><td>1</td><td>11.1081</td><td>4.6</td><td>21.16</td><td>11</td><td>0</td><td>1</td><td>no</td></tr><tr><th>7</th><td>1</td><td>10.484</td><td>5.4</td><td>29.16</td><td>8</td><td>0</td><td>0</td><td>no</td></tr><tr><th>8</th><td>1</td><td>10.6012</td><td>4.7</td><td>22.09</td><td>8</td><td>0</td><td>0</td><td>no</td></tr><tr><th>9</th><td>1</td><td>10.8411</td><td>4.9</td><td>24.01</td><td>12</td><td>0</td><td>0</td><td>no</td></tr><tr><th>10</th><td>1</td><td>11.1566</td><td>3.6</td><td>12.96</td><td>13</td><td>0</td><td>2</td><td>no</td></tr><tr><th>11</th><td>1</td><td>11.1063</td><td>4.1</td><td>16.81</td><td>12</td><td>0</td><td>2</td><td>no</td></tr><tr><th>12</th><td>1</td><td>10.6446</td><td>4.2</td><td>17.64</td><td>10</td><td>0</td><td>2</td><td>no</td></tr><tr><th>13</th><td>1</td><td>10.467</td><td>3.2</td><td>10.24</td><td>8</td><td>0</td><td>1</td><td>no</td></tr><tr><th>14</th><td>1</td><td>10.4782</td><td>3.4</td><td>11.56</td><td>9</td><td>0</td><td>2</td><td>no</td></tr><tr><th>15</th><td>1</td><td>10.4355</td><td>4.4</td><td>19.36</td><td>9</td><td>0</td><td>1</td><td>no</td></tr><tr><th>16</th><td>1</td><td>10.4273</td><td>5.8</td><td>33.64</td><td>12</td><td>0</td><td>0</td><td>no</td></tr><tr><th>17</th><td>1</td><td>10.4718</td><td>4.4</td><td>19.36</td><td>9</td><td>0</td><td>2</td><td>no</td></tr><tr><th>18</th><td>1</td><td>11.4112</td><td>4.0</td><td>16.0</td><td>13</td><td>0</td><td>2</td><td>no</td></tr><tr><th>19</th><td>1</td><td>10.4933</td><td>3.5</td><td>12.25</td><td>4</td><td>0</td><td>2</td><td>no</td></tr><tr><th>20</th><td>1</td><td>10.7186</td><td>3.1</td><td>9.61</td><td>10</td><td>1</td><td>1</td><td>no</td></tr><tr><th>&vellip;</th><td>&vellip;</td><td>&vellip;</td><td>&vellip;</td><td>&vellip;</td><td>&vellip;</td><td>&vellip;</td><td>&vellip;</td><td>&vellip;</td></tr></tbody></table></div>"
      ],
      "text/latex": [
       "\\begin{tabular}{r|cccccccc}\n",
       "\t& lfp & lnnlinc & age & age² & educ & nyc & noc & foreign\\\\\n",
       "\t\\hline\n",
       "\t& Int64 & Float64 & Float64 & Float64 & Int64 & Int64 & Int64 & Cat…\\\\\n",
       "\t\\hline\n",
       "\t1 & 1 & 10.5243 & 4.5 & 20.25 & 8 & 0 & 1 & no \\\\\n",
       "\t2 & 1 & 11.0283 & 4.2 & 17.64 & 12 & 0 & 1 & no \\\\\n",
       "\t3 & 1 & 10.4909 & 3.2 & 10.24 & 8 & 0 & 2 & no \\\\\n",
       "\t4 & 1 & 11.844 & 3.9 & 15.21 & 12 & 0 & 0 & no \\\\\n",
       "\t5 & 1 & 10.9578 & 5.3 & 28.09 & 11 & 0 & 0 & no \\\\\n",
       "\t6 & 1 & 11.1081 & 4.6 & 21.16 & 11 & 0 & 1 & no \\\\\n",
       "\t7 & 1 & 10.484 & 5.4 & 29.16 & 8 & 0 & 0 & no \\\\\n",
       "\t8 & 1 & 10.6012 & 4.7 & 22.09 & 8 & 0 & 0 & no \\\\\n",
       "\t9 & 1 & 10.8411 & 4.9 & 24.01 & 12 & 0 & 0 & no \\\\\n",
       "\t10 & 1 & 11.1566 & 3.6 & 12.96 & 13 & 0 & 2 & no \\\\\n",
       "\t11 & 1 & 11.1063 & 4.1 & 16.81 & 12 & 0 & 2 & no \\\\\n",
       "\t12 & 1 & 10.6446 & 4.2 & 17.64 & 10 & 0 & 2 & no \\\\\n",
       "\t13 & 1 & 10.467 & 3.2 & 10.24 & 8 & 0 & 1 & no \\\\\n",
       "\t14 & 1 & 10.4782 & 3.4 & 11.56 & 9 & 0 & 2 & no \\\\\n",
       "\t15 & 1 & 10.4355 & 4.4 & 19.36 & 9 & 0 & 1 & no \\\\\n",
       "\t16 & 1 & 10.4273 & 5.8 & 33.64 & 12 & 0 & 0 & no \\\\\n",
       "\t17 & 1 & 10.4718 & 4.4 & 19.36 & 9 & 0 & 2 & no \\\\\n",
       "\t18 & 1 & 11.4112 & 4.0 & 16.0 & 13 & 0 & 2 & no \\\\\n",
       "\t19 & 1 & 10.4933 & 3.5 & 12.25 & 4 & 0 & 2 & no \\\\\n",
       "\t20 & 1 & 10.7186 & 3.1 & 9.61 & 10 & 1 & 1 & no \\\\\n",
       "\t$\\dots$ & $\\dots$ & $\\dots$ & $\\dots$ & $\\dots$ & $\\dots$ & $\\dots$ & $\\dots$ & $\\dots$ \\\\\n",
       "\\end{tabular}\n"
      ],
      "text/plain": [
       "\u001b[1m401×8 SubDataFrame\u001b[0m\n",
       "\u001b[1m Row \u001b[0m│\u001b[1m lfp   \u001b[0m\u001b[1m lnnlinc \u001b[0m\u001b[1m age     \u001b[0m\u001b[1m age²    \u001b[0m\u001b[1m educ  \u001b[0m\u001b[1m nyc   \u001b[0m\u001b[1m noc   \u001b[0m\u001b[1m foreign \u001b[0m\n",
       "\u001b[1m     \u001b[0m│\u001b[90m Int64 \u001b[0m\u001b[90m Float64 \u001b[0m\u001b[90m Float64 \u001b[0m\u001b[90m Float64 \u001b[0m\u001b[90m Int64 \u001b[0m\u001b[90m Int64 \u001b[0m\u001b[90m Int64 \u001b[0m\u001b[90m Cat…    \u001b[0m\n",
       "─────┼────────────────────────────────────────────────────────────────\n",
       "   1 │     1  10.5243      4.5    20.25      8      0      1  no\n",
       "   2 │     1  11.0283      4.2    17.64     12      0      1  no\n",
       "   3 │     1  10.4909      3.2    10.24      8      0      2  no\n",
       "   4 │     1  11.844       3.9    15.21     12      0      0  no\n",
       "   5 │     1  10.9578      5.3    28.09     11      0      0  no\n",
       "   6 │     1  11.1081      4.6    21.16     11      0      1  no\n",
       "  ⋮  │   ⋮       ⋮        ⋮        ⋮       ⋮      ⋮      ⋮       ⋮\n",
       " 397 │     1  10.4685      3.3    10.89      6      0      2  yes\n",
       " 398 │     1  10.6932      3.5    12.25      9      0      2  yes\n",
       " 399 │     1  10.0276      4.2    17.64     14      0      0  yes\n",
       " 400 │     1  10.3778      4.8    23.04      8      0      0  yes\n",
       " 401 │     1  10.9324      4.1    16.81     10      0      1  yes\n",
       "\u001b[36m                                                      390 rows omitted\u001b[0m"
      ]
     },
     "execution_count": 9,
     "metadata": {},
     "output_type": "execute_result"
    }
   ],
   "source": [
    "gd[2]"
   ]
  },
  {
   "cell_type": "code",
   "execution_count": 10,
   "metadata": {},
   "outputs": [
    {
     "data": {
      "image/svg+xml": [
       "<?xml version=\"1.0\" encoding=\"utf-8\"?>\n",
       "<svg xmlns=\"http://www.w3.org/2000/svg\" xmlns:xlink=\"http://www.w3.org/1999/xlink\" width=\"600\" height=\"400\" viewBox=\"0 0 2400 1600\">\n",
       "<defs>\n",
       "  <clipPath id=\"clip620\">\n",
       "    <rect x=\"0\" y=\"0\" width=\"2400\" height=\"1600\"/>\n",
       "  </clipPath>\n",
       "</defs>\n",
       "<path clip-path=\"url(#clip620)\" d=\"\n",
       "M0 1600 L2400 1600 L2400 0 L0 0  Z\n",
       "  \" fill=\"#ffffff\" fill-rule=\"evenodd\" fill-opacity=\"1\"/>\n",
       "<defs>\n",
       "  <clipPath id=\"clip621\">\n",
       "    <rect x=\"480\" y=\"0\" width=\"1681\" height=\"1600\"/>\n",
       "  </clipPath>\n",
       "</defs>\n",
       "<path clip-path=\"url(#clip620)\" d=\"\n",
       "M156.598 1486.45 L2352.76 1486.45 L2352.76 47.2441 L156.598 47.2441  Z\n",
       "  \" fill=\"#ffffff\" fill-rule=\"evenodd\" fill-opacity=\"1\"/>\n",
       "<defs>\n",
       "  <clipPath id=\"clip622\">\n",
       "    <rect x=\"156\" y=\"47\" width=\"2197\" height=\"1440\"/>\n",
       "  </clipPath>\n",
       "</defs>\n",
       "<polyline clip-path=\"url(#clip622)\" style=\"stroke:#000000; stroke-linecap:butt; stroke-linejoin:round; stroke-width:2; stroke-opacity:0.1; fill:none\" points=\"\n",
       "  287.608,1486.45 287.608,47.2441 \n",
       "  \"/>\n",
       "<polyline clip-path=\"url(#clip622)\" style=\"stroke:#000000; stroke-linecap:butt; stroke-linejoin:round; stroke-width:2; stroke-opacity:0.1; fill:none\" points=\"\n",
       "  599.566,1486.45 599.566,47.2441 \n",
       "  \"/>\n",
       "<polyline clip-path=\"url(#clip622)\" style=\"stroke:#000000; stroke-linecap:butt; stroke-linejoin:round; stroke-width:2; stroke-opacity:0.1; fill:none\" points=\"\n",
       "  911.523,1486.45 911.523,47.2441 \n",
       "  \"/>\n",
       "<polyline clip-path=\"url(#clip622)\" style=\"stroke:#000000; stroke-linecap:butt; stroke-linejoin:round; stroke-width:2; stroke-opacity:0.1; fill:none\" points=\"\n",
       "  1223.48,1486.45 1223.48,47.2441 \n",
       "  \"/>\n",
       "<polyline clip-path=\"url(#clip622)\" style=\"stroke:#000000; stroke-linecap:butt; stroke-linejoin:round; stroke-width:2; stroke-opacity:0.1; fill:none\" points=\"\n",
       "  1535.44,1486.45 1535.44,47.2441 \n",
       "  \"/>\n",
       "<polyline clip-path=\"url(#clip622)\" style=\"stroke:#000000; stroke-linecap:butt; stroke-linejoin:round; stroke-width:2; stroke-opacity:0.1; fill:none\" points=\"\n",
       "  1847.4,1486.45 1847.4,47.2441 \n",
       "  \"/>\n",
       "<polyline clip-path=\"url(#clip622)\" style=\"stroke:#000000; stroke-linecap:butt; stroke-linejoin:round; stroke-width:2; stroke-opacity:0.1; fill:none\" points=\"\n",
       "  2159.35,1486.45 2159.35,47.2441 \n",
       "  \"/>\n",
       "<polyline clip-path=\"url(#clip620)\" style=\"stroke:#000000; stroke-linecap:butt; stroke-linejoin:round; stroke-width:4; stroke-opacity:1; fill:none\" points=\"\n",
       "  156.598,1486.45 2352.76,1486.45 \n",
       "  \"/>\n",
       "<polyline clip-path=\"url(#clip620)\" style=\"stroke:#000000; stroke-linecap:butt; stroke-linejoin:round; stroke-width:4; stroke-opacity:1; fill:none\" points=\"\n",
       "  287.608,1486.45 287.608,1469.18 \n",
       "  \"/>\n",
       "<polyline clip-path=\"url(#clip620)\" style=\"stroke:#000000; stroke-linecap:butt; stroke-linejoin:round; stroke-width:4; stroke-opacity:1; fill:none\" points=\"\n",
       "  599.566,1486.45 599.566,1469.18 \n",
       "  \"/>\n",
       "<polyline clip-path=\"url(#clip620)\" style=\"stroke:#000000; stroke-linecap:butt; stroke-linejoin:round; stroke-width:4; stroke-opacity:1; fill:none\" points=\"\n",
       "  911.523,1486.45 911.523,1469.18 \n",
       "  \"/>\n",
       "<polyline clip-path=\"url(#clip620)\" style=\"stroke:#000000; stroke-linecap:butt; stroke-linejoin:round; stroke-width:4; stroke-opacity:1; fill:none\" points=\"\n",
       "  1223.48,1486.45 1223.48,1469.18 \n",
       "  \"/>\n",
       "<polyline clip-path=\"url(#clip620)\" style=\"stroke:#000000; stroke-linecap:butt; stroke-linejoin:round; stroke-width:4; stroke-opacity:1; fill:none\" points=\"\n",
       "  1535.44,1486.45 1535.44,1469.18 \n",
       "  \"/>\n",
       "<polyline clip-path=\"url(#clip620)\" style=\"stroke:#000000; stroke-linecap:butt; stroke-linejoin:round; stroke-width:4; stroke-opacity:1; fill:none\" points=\"\n",
       "  1847.4,1486.45 1847.4,1469.18 \n",
       "  \"/>\n",
       "<polyline clip-path=\"url(#clip620)\" style=\"stroke:#000000; stroke-linecap:butt; stroke-linejoin:round; stroke-width:4; stroke-opacity:1; fill:none\" points=\"\n",
       "  2159.35,1486.45 2159.35,1469.18 \n",
       "  \"/>\n",
       "<path clip-path=\"url(#clip620)\" d=\"M277.99 1543.18 L285.629 1543.18 L285.629 1516.82 L277.319 1518.49 L277.319 1514.23 L285.582 1512.56 L290.258 1512.56 L290.258 1543.18 L297.897 1543.18 L297.897 1547.12 L277.99 1547.12 L277.99 1543.18 Z\" fill=\"#000000\" fill-rule=\"evenodd\" fill-opacity=\"1\" /><path clip-path=\"url(#clip620)\" d=\"M594.219 1543.18 L610.538 1543.18 L610.538 1547.12 L588.594 1547.12 L588.594 1543.18 Q591.256 1540.43 595.839 1535.8 Q600.445 1531.15 601.626 1529.81 Q603.871 1527.28 604.751 1525.55 Q605.654 1523.79 605.654 1522.1 Q605.654 1519.34 603.709 1517.61 Q601.788 1515.87 598.686 1515.87 Q596.487 1515.87 594.033 1516.63 Q591.603 1517.4 588.825 1518.95 L588.825 1514.23 Q591.649 1513.09 594.103 1512.51 Q596.556 1511.93 598.593 1511.93 Q603.964 1511.93 607.158 1514.62 Q610.353 1517.31 610.353 1521.8 Q610.353 1523.93 609.543 1525.85 Q608.755 1527.74 606.649 1530.34 Q606.07 1531.01 602.968 1534.23 Q599.867 1537.42 594.219 1543.18 Z\" fill=\"#000000\" fill-rule=\"evenodd\" fill-opacity=\"1\" /><path clip-path=\"url(#clip620)\" d=\"M915.771 1528.49 Q919.128 1529.2 921.003 1531.47 Q922.901 1533.74 922.901 1537.07 Q922.901 1542.19 919.382 1544.99 Q915.864 1547.79 909.382 1547.79 Q907.206 1547.79 904.892 1547.35 Q902.6 1546.93 900.146 1546.08 L900.146 1541.56 Q902.091 1542.7 904.405 1543.28 Q906.72 1543.86 909.243 1543.86 Q913.642 1543.86 915.933 1542.12 Q918.248 1540.38 918.248 1537.07 Q918.248 1534.02 916.095 1532.31 Q913.966 1530.57 910.146 1530.57 L906.118 1530.57 L906.118 1526.73 L910.331 1526.73 Q913.78 1526.73 915.609 1525.36 Q917.438 1523.97 917.438 1521.38 Q917.438 1518.72 915.54 1517.31 Q913.665 1515.87 910.146 1515.87 Q908.225 1515.87 906.026 1516.29 Q903.827 1516.7 901.188 1517.58 L901.188 1513.42 Q903.85 1512.68 906.165 1512.31 Q908.503 1511.93 910.563 1511.93 Q915.887 1511.93 918.989 1514.37 Q922.091 1516.77 922.091 1520.89 Q922.091 1523.76 920.447 1525.75 Q918.804 1527.72 915.771 1528.49 Z\" fill=\"#000000\" fill-rule=\"evenodd\" fill-opacity=\"1\" /><path clip-path=\"url(#clip620)\" d=\"M1226.49 1516.63 L1214.69 1535.08 L1226.49 1535.08 L1226.49 1516.63 M1225.26 1512.56 L1231.14 1512.56 L1231.14 1535.08 L1236.07 1535.08 L1236.07 1538.97 L1231.14 1538.97 L1231.14 1547.12 L1226.49 1547.12 L1226.49 1538.97 L1210.89 1538.97 L1210.89 1534.46 L1225.26 1512.56 Z\" fill=\"#000000\" fill-rule=\"evenodd\" fill-opacity=\"1\" /><path clip-path=\"url(#clip620)\" d=\"M1525.72 1512.56 L1544.07 1512.56 L1544.07 1516.5 L1530 1516.5 L1530 1524.97 Q1531.02 1524.62 1532.04 1524.46 Q1533.05 1524.27 1534.07 1524.27 Q1539.86 1524.27 1543.24 1527.44 Q1546.62 1530.62 1546.62 1536.03 Q1546.62 1541.61 1543.15 1544.71 Q1539.68 1547.79 1533.36 1547.79 Q1531.18 1547.79 1528.91 1547.42 Q1526.67 1547.05 1524.26 1546.31 L1524.26 1541.61 Q1526.34 1542.74 1528.56 1543.3 Q1530.79 1543.86 1533.26 1543.86 Q1537.27 1543.86 1539.61 1541.75 Q1541.94 1539.64 1541.94 1536.03 Q1541.94 1532.42 1539.61 1530.31 Q1537.27 1528.21 1533.26 1528.21 Q1531.39 1528.21 1529.51 1528.62 Q1527.66 1529.04 1525.72 1529.92 L1525.72 1512.56 Z\" fill=\"#000000\" fill-rule=\"evenodd\" fill-opacity=\"1\" /><path clip-path=\"url(#clip620)\" d=\"M1847.8 1527.98 Q1844.65 1527.98 1842.8 1530.13 Q1840.97 1532.28 1840.97 1536.03 Q1840.97 1539.76 1842.8 1541.93 Q1844.65 1544.09 1847.8 1544.09 Q1850.95 1544.09 1852.78 1541.93 Q1854.63 1539.76 1854.63 1536.03 Q1854.63 1532.28 1852.78 1530.13 Q1850.95 1527.98 1847.8 1527.98 M1857.08 1513.32 L1857.08 1517.58 Q1855.33 1516.75 1853.52 1516.31 Q1851.74 1515.87 1849.98 1515.87 Q1845.35 1515.87 1842.89 1519 Q1840.46 1522.12 1840.12 1528.44 Q1841.48 1526.43 1843.54 1525.36 Q1845.6 1524.27 1848.08 1524.27 Q1853.29 1524.27 1856.3 1527.44 Q1859.33 1530.59 1859.33 1536.03 Q1859.33 1541.36 1856.18 1544.57 Q1853.03 1547.79 1847.8 1547.79 Q1841.81 1547.79 1838.64 1543.21 Q1835.46 1538.6 1835.46 1529.87 Q1835.46 1521.68 1839.35 1516.82 Q1843.24 1511.93 1849.79 1511.93 Q1851.55 1511.93 1853.33 1512.28 Q1855.14 1512.63 1857.08 1513.32 Z\" fill=\"#000000\" fill-rule=\"evenodd\" fill-opacity=\"1\" /><path clip-path=\"url(#clip620)\" d=\"M2148.24 1512.56 L2170.47 1512.56 L2170.47 1514.55 L2157.92 1547.12 L2153.04 1547.12 L2164.84 1516.5 L2148.24 1516.5 L2148.24 1512.56 Z\" fill=\"#000000\" fill-rule=\"evenodd\" fill-opacity=\"1\" /><polyline clip-path=\"url(#clip622)\" style=\"stroke:#000000; stroke-linecap:butt; stroke-linejoin:round; stroke-width:2; stroke-opacity:0.1; fill:none\" points=\"\n",
       "  156.598,1445.73 2352.76,1445.73 \n",
       "  \"/>\n",
       "<polyline clip-path=\"url(#clip622)\" style=\"stroke:#000000; stroke-linecap:butt; stroke-linejoin:round; stroke-width:2; stroke-opacity:0.1; fill:none\" points=\"\n",
       "  156.598,1113.64 2352.76,1113.64 \n",
       "  \"/>\n",
       "<polyline clip-path=\"url(#clip622)\" style=\"stroke:#000000; stroke-linecap:butt; stroke-linejoin:round; stroke-width:2; stroke-opacity:0.1; fill:none\" points=\"\n",
       "  156.598,781.543 2352.76,781.543 \n",
       "  \"/>\n",
       "<polyline clip-path=\"url(#clip622)\" style=\"stroke:#000000; stroke-linecap:butt; stroke-linejoin:round; stroke-width:2; stroke-opacity:0.1; fill:none\" points=\"\n",
       "  156.598,449.448 2352.76,449.448 \n",
       "  \"/>\n",
       "<polyline clip-path=\"url(#clip622)\" style=\"stroke:#000000; stroke-linecap:butt; stroke-linejoin:round; stroke-width:2; stroke-opacity:0.1; fill:none\" points=\"\n",
       "  156.598,117.352 2352.76,117.352 \n",
       "  \"/>\n",
       "<polyline clip-path=\"url(#clip620)\" style=\"stroke:#000000; stroke-linecap:butt; stroke-linejoin:round; stroke-width:4; stroke-opacity:1; fill:none\" points=\"\n",
       "  156.598,1486.45 156.598,47.2441 \n",
       "  \"/>\n",
       "<polyline clip-path=\"url(#clip620)\" style=\"stroke:#000000; stroke-linecap:butt; stroke-linejoin:round; stroke-width:4; stroke-opacity:1; fill:none\" points=\"\n",
       "  156.598,1445.73 182.952,1445.73 \n",
       "  \"/>\n",
       "<polyline clip-path=\"url(#clip620)\" style=\"stroke:#000000; stroke-linecap:butt; stroke-linejoin:round; stroke-width:4; stroke-opacity:1; fill:none\" points=\"\n",
       "  156.598,1113.64 182.952,1113.64 \n",
       "  \"/>\n",
       "<polyline clip-path=\"url(#clip620)\" style=\"stroke:#000000; stroke-linecap:butt; stroke-linejoin:round; stroke-width:4; stroke-opacity:1; fill:none\" points=\"\n",
       "  156.598,781.543 182.952,781.543 \n",
       "  \"/>\n",
       "<polyline clip-path=\"url(#clip620)\" style=\"stroke:#000000; stroke-linecap:butt; stroke-linejoin:round; stroke-width:4; stroke-opacity:1; fill:none\" points=\"\n",
       "  156.598,449.448 182.952,449.448 \n",
       "  \"/>\n",
       "<polyline clip-path=\"url(#clip620)\" style=\"stroke:#000000; stroke-linecap:butt; stroke-linejoin:round; stroke-width:4; stroke-opacity:1; fill:none\" points=\"\n",
       "  156.598,117.352 182.952,117.352 \n",
       "  \"/>\n",
       "<path clip-path=\"url(#clip620)\" d=\"M63.4226 1431.53 Q59.8115 1431.53 57.9828 1435.1 Q56.1773 1438.64 56.1773 1445.77 Q56.1773 1452.87 57.9828 1456.44 Q59.8115 1459.98 63.4226 1459.98 Q67.0569 1459.98 68.8624 1456.44 Q70.6911 1452.87 70.6911 1445.77 Q70.6911 1438.64 68.8624 1435.1 Q67.0569 1431.53 63.4226 1431.53 M63.4226 1427.83 Q69.2328 1427.83 72.2883 1432.44 Q75.367 1437.02 75.367 1445.77 Q75.367 1454.5 72.2883 1459.1 Q69.2328 1463.68 63.4226 1463.68 Q57.6125 1463.68 54.5338 1459.1 Q51.4782 1454.5 51.4782 1445.77 Q51.4782 1437.02 54.5338 1432.44 Q57.6125 1427.83 63.4226 1427.83 Z\" fill=\"#000000\" fill-rule=\"evenodd\" fill-opacity=\"1\" /><path clip-path=\"url(#clip620)\" d=\"M83.5845 1457.13 L88.4688 1457.13 L88.4688 1463.01 L83.5845 1463.01 L83.5845 1457.13 Z\" fill=\"#000000\" fill-rule=\"evenodd\" fill-opacity=\"1\" /><path clip-path=\"url(#clip620)\" d=\"M108.654 1431.53 Q105.043 1431.53 103.214 1435.1 Q101.409 1438.64 101.409 1445.77 Q101.409 1452.87 103.214 1456.44 Q105.043 1459.98 108.654 1459.98 Q112.288 1459.98 114.094 1456.44 Q115.922 1452.87 115.922 1445.77 Q115.922 1438.64 114.094 1435.1 Q112.288 1431.53 108.654 1431.53 M108.654 1427.83 Q114.464 1427.83 117.52 1432.44 Q120.598 1437.02 120.598 1445.77 Q120.598 1454.5 117.52 1459.1 Q114.464 1463.68 108.654 1463.68 Q102.844 1463.68 99.765 1459.1 Q96.7095 1454.5 96.7095 1445.77 Q96.7095 1437.02 99.765 1432.44 Q102.844 1427.83 108.654 1427.83 Z\" fill=\"#000000\" fill-rule=\"evenodd\" fill-opacity=\"1\" /><path clip-path=\"url(#clip620)\" d=\"M64.6495 1099.44 Q61.0384 1099.44 59.2097 1103 Q57.4041 1106.54 57.4041 1113.67 Q57.4041 1120.78 59.2097 1124.34 Q61.0384 1127.89 64.6495 1127.89 Q68.2837 1127.89 70.0892 1124.34 Q71.9179 1120.78 71.9179 1113.67 Q71.9179 1106.54 70.0892 1103 Q68.2837 1099.44 64.6495 1099.44 M64.6495 1095.73 Q70.4596 1095.73 73.5152 1100.34 Q76.5938 1104.92 76.5938 1113.67 Q76.5938 1122.4 73.5152 1127.01 Q70.4596 1131.59 64.6495 1131.59 Q58.8393 1131.59 55.7606 1127.01 Q52.7051 1122.4 52.7051 1113.67 Q52.7051 1104.92 55.7606 1100.34 Q58.8393 1095.73 64.6495 1095.73 Z\" fill=\"#000000\" fill-rule=\"evenodd\" fill-opacity=\"1\" /><path clip-path=\"url(#clip620)\" d=\"M84.8114 1125.04 L89.6956 1125.04 L89.6956 1130.92 L84.8114 1130.92 L84.8114 1125.04 Z\" fill=\"#000000\" fill-rule=\"evenodd\" fill-opacity=\"1\" /><path clip-path=\"url(#clip620)\" d=\"M100.691 1126.98 L108.33 1126.98 L108.33 1100.62 L100.02 1102.28 L100.02 1098.03 L108.283 1096.36 L112.959 1096.36 L112.959 1126.98 L120.598 1126.98 L120.598 1130.92 L100.691 1130.92 L100.691 1126.98 Z\" fill=\"#000000\" fill-rule=\"evenodd\" fill-opacity=\"1\" /><path clip-path=\"url(#clip620)\" d=\"M65.0198 767.342 Q61.4087 767.342 59.58 770.907 Q57.7745 774.448 57.7745 781.578 Q57.7745 788.684 59.58 792.249 Q61.4087 795.791 65.0198 795.791 Q68.6541 795.791 70.4596 792.249 Q72.2883 788.684 72.2883 781.578 Q72.2883 774.448 70.4596 770.907 Q68.6541 767.342 65.0198 767.342 M65.0198 763.638 Q70.83 763.638 73.8855 768.245 Q76.9642 772.828 76.9642 781.578 Q76.9642 790.305 73.8855 794.911 Q70.83 799.494 65.0198 799.494 Q59.2097 799.494 56.131 794.911 Q53.0754 790.305 53.0754 781.578 Q53.0754 772.828 56.131 768.245 Q59.2097 763.638 65.0198 763.638 Z\" fill=\"#000000\" fill-rule=\"evenodd\" fill-opacity=\"1\" /><path clip-path=\"url(#clip620)\" d=\"M85.1818 792.943 L90.066 792.943 L90.066 798.823 L85.1818 798.823 L85.1818 792.943 Z\" fill=\"#000000\" fill-rule=\"evenodd\" fill-opacity=\"1\" /><path clip-path=\"url(#clip620)\" d=\"M104.279 794.888 L120.598 794.888 L120.598 798.823 L98.6539 798.823 L98.6539 794.888 Q101.316 792.133 105.899 787.504 Q110.506 782.851 111.686 781.508 Q113.932 778.985 114.811 777.249 Q115.714 775.49 115.714 773.8 Q115.714 771.045 113.77 769.309 Q111.848 767.573 108.746 767.573 Q106.547 767.573 104.094 768.337 Q101.663 769.101 98.8854 770.652 L98.8854 765.93 Q101.709 764.795 104.163 764.217 Q106.617 763.638 108.654 763.638 Q114.024 763.638 117.219 766.323 Q120.413 769.008 120.413 773.499 Q120.413 775.629 119.603 777.55 Q118.816 779.448 116.709 782.041 Q116.131 782.712 113.029 785.93 Q109.927 789.124 104.279 794.888 Z\" fill=\"#000000\" fill-rule=\"evenodd\" fill-opacity=\"1\" /><path clip-path=\"url(#clip620)\" d=\"M64.0708 435.246 Q60.4597 435.246 58.631 438.811 Q56.8254 442.353 56.8254 449.482 Q56.8254 456.589 58.631 460.154 Q60.4597 463.695 64.0708 463.695 Q67.705 463.695 69.5105 460.154 Q71.3392 456.589 71.3392 449.482 Q71.3392 442.353 69.5105 438.811 Q67.705 435.246 64.0708 435.246 M64.0708 431.543 Q69.8809 431.543 72.9365 436.149 Q76.0151 440.733 76.0151 449.482 Q76.0151 458.209 72.9365 462.816 Q69.8809 467.399 64.0708 467.399 Q58.2606 467.399 55.1819 462.816 Q52.1264 458.209 52.1264 449.482 Q52.1264 440.733 55.1819 436.149 Q58.2606 431.543 64.0708 431.543 Z\" fill=\"#000000\" fill-rule=\"evenodd\" fill-opacity=\"1\" /><path clip-path=\"url(#clip620)\" d=\"M84.2327 460.848 L89.1169 460.848 L89.1169 466.728 L84.2327 466.728 L84.2327 460.848 Z\" fill=\"#000000\" fill-rule=\"evenodd\" fill-opacity=\"1\" /><path clip-path=\"url(#clip620)\" d=\"M113.469 448.094 Q116.825 448.811 118.7 451.08 Q120.598 453.348 120.598 456.682 Q120.598 461.797 117.08 464.598 Q113.561 467.399 107.08 467.399 Q104.904 467.399 102.589 466.959 Q100.297 466.543 97.8437 465.686 L97.8437 461.172 Q99.7882 462.307 102.103 462.885 Q104.418 463.464 106.941 463.464 Q111.339 463.464 113.631 461.728 Q115.945 459.992 115.945 456.682 Q115.945 453.626 113.793 451.913 Q111.663 450.177 107.844 450.177 L103.816 450.177 L103.816 446.334 L108.029 446.334 Q111.478 446.334 113.307 444.969 Q115.135 443.58 115.135 440.987 Q115.135 438.325 113.237 436.913 Q111.362 435.478 107.844 435.478 Q105.922 435.478 103.723 435.895 Q101.524 436.311 98.8854 437.191 L98.8854 433.024 Q101.547 432.284 103.862 431.913 Q106.2 431.543 108.26 431.543 Q113.584 431.543 116.686 433.973 Q119.788 436.381 119.788 440.501 Q119.788 443.371 118.145 445.362 Q116.501 447.33 113.469 448.094 Z\" fill=\"#000000\" fill-rule=\"evenodd\" fill-opacity=\"1\" /><path clip-path=\"url(#clip620)\" d=\"M62.9365 103.151 Q59.3254 103.151 57.4967 106.716 Q55.6912 110.258 55.6912 117.387 Q55.6912 124.494 57.4967 128.058 Q59.3254 131.6 62.9365 131.6 Q66.5707 131.6 68.3763 128.058 Q70.205 124.494 70.205 117.387 Q70.205 110.258 68.3763 106.716 Q66.5707 103.151 62.9365 103.151 M62.9365 99.4475 Q68.7467 99.4475 71.8022 104.054 Q74.8809 108.637 74.8809 117.387 Q74.8809 126.114 71.8022 130.72 Q68.7467 135.304 62.9365 135.304 Q57.1264 135.304 54.0477 130.72 Q50.9921 126.114 50.9921 117.387 Q50.9921 108.637 54.0477 104.054 Q57.1264 99.4475 62.9365 99.4475 Z\" fill=\"#000000\" fill-rule=\"evenodd\" fill-opacity=\"1\" /><path clip-path=\"url(#clip620)\" d=\"M83.0984 128.753 L87.9827 128.753 L87.9827 134.632 L83.0984 134.632 L83.0984 128.753 Z\" fill=\"#000000\" fill-rule=\"evenodd\" fill-opacity=\"1\" /><path clip-path=\"url(#clip620)\" d=\"M111.015 104.147 L99.2095 122.596 L111.015 122.596 L111.015 104.147 M109.788 100.072 L115.668 100.072 L115.668 122.596 L120.598 122.596 L120.598 126.484 L115.668 126.484 L115.668 134.632 L111.015 134.632 L111.015 126.484 L95.4132 126.484 L95.4132 121.971 L109.788 100.072 Z\" fill=\"#000000\" fill-rule=\"evenodd\" fill-opacity=\"1\" /><polyline clip-path=\"url(#clip622)\" style=\"stroke:#009af9; stroke-linecap:butt; stroke-linejoin:round; stroke-width:4; stroke-opacity:1; fill:none\" points=\"\n",
       "  218.754,1445.7 229.165,1445.7 239.576,1445.68 249.988,1445.66 260.399,1445.63 270.81,1445.57 281.221,1445.5 291.633,1445.39 302.044,1445.24 312.455,1445.02 \n",
       "  322.867,1444.73 333.278,1444.32 343.689,1443.78 354.1,1443.05 364.512,1442.1 374.923,1440.85 385.334,1439.24 395.746,1437.19 406.157,1434.61 416.568,1431.39 \n",
       "  426.979,1427.42 437.391,1422.58 447.802,1416.74 458.213,1409.76 468.625,1401.52 479.036,1391.88 489.447,1380.74 499.858,1367.98 510.27,1353.51 520.681,1337.28 \n",
       "  531.092,1319.24 541.504,1299.39 551.915,1277.76 562.326,1254.42 572.738,1229.45 583.149,1202.98 593.56,1175.19 603.971,1146.26 614.383,1116.39 624.794,1085.81 \n",
       "  635.205,1054.76 645.617,1023.45 656.028,992.123 666.439,960.983 676.85,930.222 687.262,900.006 697.673,870.475 708.084,841.737 718.496,813.872 728.907,786.935 \n",
       "  739.318,760.955 749.729,735.943 760.141,711.899 770.552,688.814 780.963,666.681 791.375,645.498 801.786,625.274 812.197,606.033 822.609,587.815 833.02,570.679 \n",
       "  843.431,554.699 853.842,539.966 864.254,526.582 874.665,514.654 885.076,504.294 895.488,495.609 905.899,488.695 916.31,483.637 926.721,480.496 937.133,479.308 \n",
       "  947.544,480.08 957.955,482.783 968.367,487.355 978.778,493.693 989.189,501.658 999.6,511.075 1010.01,521.735 1020.42,533.404 1030.83,545.822 1041.25,558.721 \n",
       "  1051.66,571.823 1062.07,584.858 1072.48,597.571 1082.89,609.728 1093.3,621.129 1103.71,631.61 1114.12,641.049 1124.54,649.369 1134.95,656.533 1145.36,662.548 \n",
       "  1155.77,667.452 1166.18,671.312 1176.59,674.214 1187,676.256 1197.41,677.537 1207.83,678.153 1218.24,678.191 1228.65,677.722 1239.06,676.803 1249.47,675.473 \n",
       "  1259.88,673.762 1270.29,671.685 1280.71,669.253 1291.12,666.479 1301.53,663.374 1311.94,659.963 1322.35,656.276 1332.76,652.362 1343.17,648.278 1353.58,644.098 \n",
       "  1364,639.905 1374.41,635.79 1384.82,631.852 1395.23,628.188 1405.64,624.896 1416.05,622.066 1426.46,619.78 1436.87,618.109 1447.29,617.107 1457.7,616.814 \n",
       "  1468.11,617.248 1478.52,618.408 1488.93,620.271 1499.34,622.791 1509.75,625.899 1520.16,629.506 1530.58,633.501 1540.99,637.758 1551.4,642.137 1561.81,646.495 \n",
       "  1572.22,650.688 1582.63,654.583 1593.04,658.066 1603.46,661.05 1613.87,663.483 1624.28,665.359 1634.69,666.718 1645.1,667.652 1655.51,668.305 1665.92,668.871 \n",
       "  1676.33,669.586 1686.75,670.722 1697.16,672.579 1707.57,675.467 1717.98,679.701 1728.39,685.58 1738.8,693.381 1749.21,703.345 1759.62,715.665 1770.04,730.482 \n",
       "  1780.45,747.874 1790.86,767.857 1801.27,790.381 1811.68,815.332 1822.09,842.534 1832.5,871.757 1842.91,902.718 1853.33,935.097 1863.74,968.538 1874.15,1002.67 \n",
       "  1884.56,1037.1 1894.97,1071.44 1905.38,1105.32 1915.79,1138.39 1926.21,1170.32 1936.62,1200.82 1947.03,1229.65 1957.44,1256.61 1967.85,1281.57 1978.26,1304.43 \n",
       "  1988.67,1325.13 1999.08,1343.7 2009.5,1360.17 2019.91,1374.63 2030.32,1387.18 2040.73,1397.96 2051.14,1407.12 2061.55,1414.82 2071.96,1421.23 2082.37,1426.49 \n",
       "  2092.79,1430.77 2103.2,1434.22 2113.61,1436.96 2124.02,1439.11 2134.43,1440.79 2144.84,1442.08 2155.25,1443.06 2165.67,1443.8 2176.08,1444.35 2186.49,1444.75 \n",
       "  2196.9,1445.04 2207.31,1445.26 2217.72,1445.41 2228.13,1445.51 2238.54,1445.58 2248.96,1445.63 2259.37,1445.67 2269.78,1445.69 2280.19,1445.7 2290.6,1445.7 \n",
       "  \n",
       "  \"/>\n",
       "<polyline clip-path=\"url(#clip622)\" style=\"stroke:#e26f46; stroke-linecap:butt; stroke-linejoin:round; stroke-width:4; stroke-opacity:1; fill:none\" points=\"\n",
       "  296.284,1445.71 305.76,1445.69 315.235,1445.67 324.71,1445.63 334.186,1445.57 343.661,1445.48 353.136,1445.34 362.611,1445.14 372.087,1444.85 381.562,1444.43 \n",
       "  391.037,1443.85 400.513,1443.04 409.988,1441.94 419.463,1440.48 428.939,1438.54 438.414,1436.04 447.889,1432.85 457.365,1428.85 466.84,1423.92 476.315,1417.94 \n",
       "  485.791,1410.81 495.266,1402.43 504.741,1392.76 514.217,1381.77 523.692,1369.5 533.167,1356 542.643,1341.39 552.118,1325.82 561.593,1309.47 571.069,1292.52 \n",
       "  580.544,1275.16 590.019,1257.57 599.495,1239.86 608.97,1222.13 618.445,1204.37 627.921,1186.54 637.396,1168.5 646.871,1150.06 656.347,1131.02 665.822,1111.12 \n",
       "  675.297,1090.16 684.773,1067.94 694.248,1044.38 703.723,1019.45 713.199,993.262 722.674,966.021 732.149,938.047 741.625,909.743 751.1,881.569 760.575,854.007 \n",
       "  770.051,827.515 779.526,802.49 789.001,779.231 798.477,757.905 807.952,738.53 817.427,720.972 826.902,704.947 836.378,690.039 845.853,675.738 855.328,661.469 \n",
       "  864.804,646.639 874.279,630.681 883.754,613.089 893.23,593.457 902.705,571.504 912.18,547.089 921.656,520.218 931.131,491.042 940.606,459.842 950.082,427.018 \n",
       "  959.557,393.06 969.032,358.526 978.508,324.015 987.983,290.142 997.458,257.51 1006.93,226.693 1016.41,198.208 1025.88,172.505 1035.36,149.946 1044.83,130.794 \n",
       "  1054.31,115.211 1063.79,103.245 1073.26,94.8403 1082.74,89.835 1092.21,87.9763 1101.69,88.9329 1111.16,92.3134 1120.64,97.6866 1130.11,104.603 1139.59,112.615 \n",
       "  1149.06,121.299 1158.54,130.267 1168.01,139.187 1177.49,147.782 1186.96,155.846 1196.44,163.238 1205.92,169.881 1215.39,175.764 1224.87,180.929 1234.34,185.474 \n",
       "  1243.82,189.539 1253.29,193.304 1262.77,196.982 1272.24,200.81 1281.72,205.042 1291.19,209.942 1300.67,215.77 1310.14,222.771 1319.62,231.168 1329.09,241.146 \n",
       "  1338.57,252.843 1348.05,266.345 1357.52,281.681 1367,298.821 1376.47,317.685 1385.95,338.145 1395.42,360.042 1404.9,383.197 1414.37,407.426 1423.85,432.552 \n",
       "  1433.32,458.421 1442.8,484.903 1452.27,511.9 1461.75,539.345 1471.22,567.192 1480.7,595.414 1490.18,623.989 1499.65,652.885 1509.13,682.053 1518.6,711.414 \n",
       "  1528.08,740.855 1537.55,770.22 1547.03,799.319 1556.5,827.927 1565.98,855.796 1575.45,882.667 1584.93,908.287 1594.4,932.42 1603.88,954.866 1613.35,975.475 \n",
       "  1622.83,994.156 1632.31,1010.88 1641.78,1025.7 1651.26,1038.72 1660.73,1050.12 1670.21,1060.13 1679.68,1069.03 1689.16,1077.1 1698.63,1084.68 1708.11,1092.08 \n",
       "  1717.58,1099.59 1727.06,1107.52 1736.53,1116.08 1746.01,1125.49 1755.48,1135.89 1764.96,1147.35 1774.44,1159.92 1783.91,1173.57 1793.39,1188.21 1802.86,1203.71 \n",
       "  1812.34,1219.91 1821.81,1236.6 1831.29,1253.57 1840.76,1270.58 1850.24,1287.41 1859.71,1303.83 1869.19,1319.65 1878.66,1334.71 1888.14,1348.84 1897.61,1361.95 \n",
       "  1907.09,1373.97 1916.57,1384.84 1926.04,1394.57 1935.52,1403.16 1944.99,1410.67 1954.47,1417.14 1963.94,1422.67 1973.42,1427.32 1982.89,1431.19 1992.37,1434.38 \n",
       "  2001.84,1436.96 2011.32,1439.04 2020.79,1440.68 2030.27,1441.97 2039.74,1442.96 2049.22,1443.71 2058.69,1444.28 2068.17,1444.7 2077.65,1445.01 2087.12,1445.23 \n",
       "  2096.6,1445.39 2106.07,1445.5 2115.55,1445.58 2125.02,1445.63 2134.5,1445.67 2143.97,1445.69 2153.45,1445.71 2162.92,1445.71 2172.4,1445.72 2181.87,1445.71 \n",
       "  \n",
       "  \"/>\n",
       "<path clip-path=\"url(#clip620)\" d=\"\n",
       "M2011.64 250.738 L2279.55 250.738 L2279.55 95.2176 L2011.64 95.2176  Z\n",
       "  \" fill=\"#ffffff\" fill-rule=\"evenodd\" fill-opacity=\"1\"/>\n",
       "<polyline clip-path=\"url(#clip620)\" style=\"stroke:#000000; stroke-linecap:butt; stroke-linejoin:round; stroke-width:4; stroke-opacity:1; fill:none\" points=\"\n",
       "  2011.64,250.738 2279.55,250.738 2279.55,95.2176 2011.64,95.2176 2011.64,250.738 \n",
       "  \"/>\n",
       "<polyline clip-path=\"url(#clip620)\" style=\"stroke:#009af9; stroke-linecap:butt; stroke-linejoin:round; stroke-width:4; stroke-opacity:1; fill:none\" points=\"\n",
       "  2036.05,147.058 2182.46,147.058 \n",
       "  \"/>\n",
       "<path clip-path=\"url(#clip620)\" d=\"M2218.8 132.856 Q2215.19 132.856 2213.36 136.421 Q2211.56 139.963 2211.56 147.092 Q2211.56 154.199 2213.36 157.764 Q2215.19 161.305 2218.8 161.305 Q2222.44 161.305 2224.24 157.764 Q2226.07 154.199 2226.07 147.092 Q2226.07 139.963 2224.24 136.421 Q2222.44 132.856 2218.8 132.856 M2218.8 129.153 Q2224.61 129.153 2227.67 133.759 Q2230.75 138.342 2230.75 147.092 Q2230.75 155.819 2227.67 160.426 Q2224.61 165.009 2218.8 165.009 Q2212.99 165.009 2209.91 160.426 Q2206.86 155.819 2206.86 147.092 Q2206.86 138.342 2209.91 133.759 Q2212.99 129.153 2218.8 129.153 Z\" fill=\"#000000\" fill-rule=\"evenodd\" fill-opacity=\"1\" /><polyline clip-path=\"url(#clip620)\" style=\"stroke:#e26f46; stroke-linecap:butt; stroke-linejoin:round; stroke-width:4; stroke-opacity:1; fill:none\" points=\"\n",
       "  2036.05,198.898 2182.46,198.898 \n",
       "  \"/>\n",
       "<path clip-path=\"url(#clip620)\" d=\"M2207.53 212.242 L2215.17 212.242 L2215.17 185.877 L2206.86 187.543 L2206.86 183.284 L2215.12 181.618 L2219.8 181.618 L2219.8 212.242 L2227.44 212.242 L2227.44 216.178 L2207.53 216.178 L2207.53 212.242 Z\" fill=\"#000000\" fill-rule=\"evenodd\" fill-opacity=\"1\" /></svg>\n"
      ]
     },
     "execution_count": 10,
     "metadata": {},
     "output_type": "execute_result"
    }
   ],
   "source": [
    "@df df density(:age, group=:lfp)"
   ]
  },
  {
   "cell_type": "code",
   "execution_count": 11,
   "metadata": {},
   "outputs": [
    {
     "data": {
      "text/plain": [
       "StatsModels.TableRegressionModel{GeneralizedLinearModel{GLM.GlmResp{Vector{Float64}, Binomial{Float64}, ProbitLink}, GLM.DensePredChol{Float64, LinearAlgebra.Cholesky{Float64, Matrix{Float64}}}}, Matrix{Float64}}\n",
       "\n",
       "lfp ~ 1 + lnnlinc + age + age² + educ + nyc + noc + foreign\n",
       "\n",
       "Coefficients:\n",
       "────────────────────────────────────────────────────────────────────────────\n",
       "                   Coef.  Std. Error      z  Pr(>|z|)  Lower 95%   Upper 95%\n",
       "────────────────────────────────────────────────────────────────────────────\n",
       "(Intercept)    3.74896     1.40663     2.67    0.0077   0.992006   6.50591\n",
       "lnnlinc       -0.666932    0.13192    -5.06    <1e-06  -0.92549   -0.408374\n",
       "age            2.07531     0.405407    5.12    <1e-06   1.28073    2.86989\n",
       "age²          -0.294345    0.0499446  -5.89    <1e-08  -0.392235  -0.196456\n",
       "educ           0.0191963   0.0179255   1.07    0.2842  -0.015937   0.0543295\n",
       "nyc           -0.714465    0.100397   -7.12    <1e-11  -0.911238  -0.517691\n",
       "noc           -0.146985    0.0508854  -2.89    0.0039  -0.246718  -0.0472509\n",
       "foreign: yes   0.71438     0.121324    5.89    <1e-08   0.476589   0.95217\n",
       "────────────────────────────────────────────────────────────────────────────"
      ]
     },
     "execution_count": 11,
     "metadata": {},
     "output_type": "execute_result"
    }
   ],
   "source": [
    "probit = glm(@formula(lfp ~ lnnlinc + age + age² + educ + nyc + noc + foreign),\n",
    "             df, Binomial(), ProbitLink())"
   ]
  },
  {
   "cell_type": "code",
   "execution_count": 12,
   "metadata": {},
   "outputs": [
    {
     "data": {
      "text/plain": [
       "StatsModels.TableRegressionModel{GeneralizedLinearModel{GLM.GlmResp{Vector{Float64}, Binomial{Float64}, ProbitLink}, GLM.DensePredChol{Float64, LinearAlgebra.Cholesky{Float64, Matrix{Float64}}}}, Matrix{Float64}}\n",
       "\n",
       "lfp ~ 1 + lnnlinc + age + age² + educ + nyc + noc + foreign\n",
       "\n",
       "Coefficients:\n",
       "────────────────────────────────────────────────────────────────────────────\n",
       "                   Coef.  Std. Error      z  Pr(>|z|)  Lower 95%   Upper 95%\n",
       "────────────────────────────────────────────────────────────────────────────\n",
       "(Intercept)    3.74896     1.40663     2.67    0.0077   0.992006   6.50591\n",
       "lnnlinc       -0.666932    0.13192    -5.06    <1e-06  -0.92549   -0.408374\n",
       "age            2.07531     0.405407    5.12    <1e-06   1.28073    2.86989\n",
       "age²          -0.294345    0.0499446  -5.89    <1e-08  -0.392235  -0.196456\n",
       "educ           0.0191963   0.0179255   1.07    0.2842  -0.015937   0.0543295\n",
       "nyc           -0.714465    0.100397   -7.12    <1e-11  -0.911238  -0.517691\n",
       "noc           -0.146985    0.0508854  -2.89    0.0039  -0.246718  -0.0472509\n",
       "foreign: yes   0.71438     0.121324    5.89    <1e-08   0.476589   0.95217\n",
       "────────────────────────────────────────────────────────────────────────────"
      ]
     },
     "execution_count": 12,
     "metadata": {},
     "output_type": "execute_result"
    }
   ],
   "source": [
    "probit = glm(Term(:lfp) ~ sum(Term.(propertynames(df)[2:end])),\n",
    "             df, Binomial(), ProbitLink())"
   ]
  },
  {
   "cell_type": "code",
   "execution_count": 13,
   "metadata": {},
   "outputs": [
    {
     "data": {
      "text/plain": [
       "FormulaTerm\n",
       "Response:\n",
       "  lfp(unknown)\n",
       "Predictors:\n",
       "  lnnlinc(unknown)\n",
       "  age(unknown)\n",
       "  age²(unknown)\n",
       "  educ(unknown)\n",
       "  nyc(unknown)\n",
       "  noc(unknown)\n",
       "  foreign(unknown)"
      ]
     },
     "execution_count": 13,
     "metadata": {},
     "output_type": "execute_result"
    }
   ],
   "source": [
    "Term(:lfp) ~ sum(Term.(propertynames(df)[2:end]))"
   ]
  },
  {
   "cell_type": "code",
   "execution_count": 14,
   "metadata": {},
   "outputs": [
    {
     "data": {
      "text/plain": [
       "FormulaTerm\n",
       "Response:\n",
       "  lfp(unknown)\n",
       "Predictors:\n",
       "  lnnlinc(unknown)\n",
       "  age(unknown)\n",
       "  age²(unknown)\n",
       "  educ(unknown)\n",
       "  nyc(unknown)\n",
       "  noc(unknown)\n",
       "  foreign(unknown)"
      ]
     },
     "execution_count": 14,
     "metadata": {},
     "output_type": "execute_result"
    }
   ],
   "source": [
    "@formula(lfp ~ lnnlinc + age + age² + educ + nyc + noc + foreign)"
   ]
  },
  {
   "cell_type": "code",
   "execution_count": 15,
   "metadata": {},
   "outputs": [
    {
     "data": {
      "text/plain": [
       "StatsModels.TableRegressionModel{GeneralizedLinearModel{GLM.GlmResp{Vector{Float64}, Binomial{Float64}, ProbitLink}, GLM.DensePredChol{Float64, LinearAlgebra.Cholesky{Float64, Matrix{Float64}}}}, Matrix{Float64}}\n",
       "\n",
       "lfp ~ 1 + lnnlinc + age + :(age ^ 2) + educ + nyc + noc + foreign\n",
       "\n",
       "Coefficients:\n",
       "────────────────────────────────────────────────────────────────────────────\n",
       "                   Coef.  Std. Error      z  Pr(>|z|)  Lower 95%   Upper 95%\n",
       "────────────────────────────────────────────────────────────────────────────\n",
       "(Intercept)    3.74896     1.40663     2.67    0.0077   0.992006   6.50591\n",
       "lnnlinc       -0.666932    0.13192    -5.06    <1e-06  -0.92549   -0.408374\n",
       "age            2.07531     0.405407    5.12    <1e-06   1.28073    2.86989\n",
       "age ^ 2       -0.294345    0.0499446  -5.89    <1e-08  -0.392235  -0.196456\n",
       "educ           0.0191963   0.0179255   1.07    0.2842  -0.015937   0.0543295\n",
       "nyc           -0.714465    0.100397   -7.12    <1e-11  -0.911238  -0.517691\n",
       "noc           -0.146985    0.0508854  -2.89    0.0039  -0.246718  -0.0472509\n",
       "foreign: yes   0.71438     0.121324    5.89    <1e-08   0.476589   0.95217\n",
       "────────────────────────────────────────────────────────────────────────────"
      ]
     },
     "execution_count": 15,
     "metadata": {},
     "output_type": "execute_result"
    }
   ],
   "source": [
    "probit = glm(@formula(lfp ~ lnnlinc + age + age^2 + educ + nyc + noc + foreign),\n",
    "             df, Binomial(), ProbitLink())"
   ]
  },
  {
   "cell_type": "code",
   "execution_count": 16,
   "metadata": {},
   "outputs": [
    {
     "data": {
      "text/plain": [
       "FormulaTerm\n",
       "Response:\n",
       "  lfp(unknown)\n",
       "Predictors:\n",
       "  lnnlinc(unknown)\n",
       "  age(unknown)\n",
       "  (age)->age ^ 2\n",
       "  educ(unknown)\n",
       "  nyc(unknown)\n",
       "  noc(unknown)\n",
       "  foreign(unknown)"
      ]
     },
     "execution_count": 16,
     "metadata": {},
     "output_type": "execute_result"
    }
   ],
   "source": [
    "@formula(lfp ~ lnnlinc + age + age^2 + educ + nyc + noc + foreign)"
   ]
  },
  {
   "cell_type": "code",
   "execution_count": 17,
   "metadata": {},
   "outputs": [
    {
     "data": {
      "text/html": [
       "<div class=\"data-frame\"><p>421 rows × 6 columns</p><table class=\"data-frame\"><thead><tr><th></th><th>lnnlinc</th><th>age</th><th>educ</th><th>nyc</th><th>noc</th><th>foreign</th></tr><tr><th></th><th title=\"Float64\">Float64</th><th title=\"Float64\">Float64</th><th title=\"Int64\">Int64</th><th title=\"Int64\">Int64</th><th title=\"Int64\">Int64</th><th title=\"String\">String</th></tr></thead><tbody><tr><th>1</th><td>10.0</td><td>2.0</td><td>9</td><td>0</td><td>1</td><td>yes</td></tr><tr><th>2</th><td>10.0</td><td>2.01</td><td>9</td><td>0</td><td>1</td><td>yes</td></tr><tr><th>3</th><td>10.0</td><td>2.02</td><td>9</td><td>0</td><td>1</td><td>yes</td></tr><tr><th>4</th><td>10.0</td><td>2.03</td><td>9</td><td>0</td><td>1</td><td>yes</td></tr><tr><th>5</th><td>10.0</td><td>2.04</td><td>9</td><td>0</td><td>1</td><td>yes</td></tr><tr><th>6</th><td>10.0</td><td>2.05</td><td>9</td><td>0</td><td>1</td><td>yes</td></tr><tr><th>7</th><td>10.0</td><td>2.06</td><td>9</td><td>0</td><td>1</td><td>yes</td></tr><tr><th>8</th><td>10.0</td><td>2.07</td><td>9</td><td>0</td><td>1</td><td>yes</td></tr><tr><th>9</th><td>10.0</td><td>2.08</td><td>9</td><td>0</td><td>1</td><td>yes</td></tr><tr><th>10</th><td>10.0</td><td>2.09</td><td>9</td><td>0</td><td>1</td><td>yes</td></tr><tr><th>11</th><td>10.0</td><td>2.1</td><td>9</td><td>0</td><td>1</td><td>yes</td></tr><tr><th>12</th><td>10.0</td><td>2.11</td><td>9</td><td>0</td><td>1</td><td>yes</td></tr><tr><th>13</th><td>10.0</td><td>2.12</td><td>9</td><td>0</td><td>1</td><td>yes</td></tr><tr><th>14</th><td>10.0</td><td>2.13</td><td>9</td><td>0</td><td>1</td><td>yes</td></tr><tr><th>15</th><td>10.0</td><td>2.14</td><td>9</td><td>0</td><td>1</td><td>yes</td></tr><tr><th>16</th><td>10.0</td><td>2.15</td><td>9</td><td>0</td><td>1</td><td>yes</td></tr><tr><th>17</th><td>10.0</td><td>2.16</td><td>9</td><td>0</td><td>1</td><td>yes</td></tr><tr><th>18</th><td>10.0</td><td>2.17</td><td>9</td><td>0</td><td>1</td><td>yes</td></tr><tr><th>19</th><td>10.0</td><td>2.18</td><td>9</td><td>0</td><td>1</td><td>yes</td></tr><tr><th>20</th><td>10.0</td><td>2.19</td><td>9</td><td>0</td><td>1</td><td>yes</td></tr><tr><th>&vellip;</th><td>&vellip;</td><td>&vellip;</td><td>&vellip;</td><td>&vellip;</td><td>&vellip;</td><td>&vellip;</td></tr></tbody></table></div>"
      ],
      "text/latex": [
       "\\begin{tabular}{r|cccccc}\n",
       "\t& lnnlinc & age & educ & nyc & noc & foreign\\\\\n",
       "\t\\hline\n",
       "\t& Float64 & Float64 & Int64 & Int64 & Int64 & String\\\\\n",
       "\t\\hline\n",
       "\t1 & 10.0 & 2.0 & 9 & 0 & 1 & yes \\\\\n",
       "\t2 & 10.0 & 2.01 & 9 & 0 & 1 & yes \\\\\n",
       "\t3 & 10.0 & 2.02 & 9 & 0 & 1 & yes \\\\\n",
       "\t4 & 10.0 & 2.03 & 9 & 0 & 1 & yes \\\\\n",
       "\t5 & 10.0 & 2.04 & 9 & 0 & 1 & yes \\\\\n",
       "\t6 & 10.0 & 2.05 & 9 & 0 & 1 & yes \\\\\n",
       "\t7 & 10.0 & 2.06 & 9 & 0 & 1 & yes \\\\\n",
       "\t8 & 10.0 & 2.07 & 9 & 0 & 1 & yes \\\\\n",
       "\t9 & 10.0 & 2.08 & 9 & 0 & 1 & yes \\\\\n",
       "\t10 & 10.0 & 2.09 & 9 & 0 & 1 & yes \\\\\n",
       "\t11 & 10.0 & 2.1 & 9 & 0 & 1 & yes \\\\\n",
       "\t12 & 10.0 & 2.11 & 9 & 0 & 1 & yes \\\\\n",
       "\t13 & 10.0 & 2.12 & 9 & 0 & 1 & yes \\\\\n",
       "\t14 & 10.0 & 2.13 & 9 & 0 & 1 & yes \\\\\n",
       "\t15 & 10.0 & 2.14 & 9 & 0 & 1 & yes \\\\\n",
       "\t16 & 10.0 & 2.15 & 9 & 0 & 1 & yes \\\\\n",
       "\t17 & 10.0 & 2.16 & 9 & 0 & 1 & yes \\\\\n",
       "\t18 & 10.0 & 2.17 & 9 & 0 & 1 & yes \\\\\n",
       "\t19 & 10.0 & 2.18 & 9 & 0 & 1 & yes \\\\\n",
       "\t20 & 10.0 & 2.19 & 9 & 0 & 1 & yes \\\\\n",
       "\t$\\dots$ & $\\dots$ & $\\dots$ & $\\dots$ & $\\dots$ & $\\dots$ & $\\dots$ \\\\\n",
       "\\end{tabular}\n"
      ],
      "text/plain": [
       "\u001b[1m421×6 DataFrame\u001b[0m\n",
       "\u001b[1m Row \u001b[0m│\u001b[1m lnnlinc \u001b[0m\u001b[1m age     \u001b[0m\u001b[1m educ  \u001b[0m\u001b[1m nyc   \u001b[0m\u001b[1m noc   \u001b[0m\u001b[1m foreign \u001b[0m\n",
       "\u001b[1m     \u001b[0m│\u001b[90m Float64 \u001b[0m\u001b[90m Float64 \u001b[0m\u001b[90m Int64 \u001b[0m\u001b[90m Int64 \u001b[0m\u001b[90m Int64 \u001b[0m\u001b[90m String  \u001b[0m\n",
       "─────┼────────────────────────────────────────────────\n",
       "   1 │    10.0     2.0       9      0      1  yes\n",
       "   2 │    10.0     2.01      9      0      1  yes\n",
       "   3 │    10.0     2.02      9      0      1  yes\n",
       "   4 │    10.0     2.03      9      0      1  yes\n",
       "   5 │    10.0     2.04      9      0      1  yes\n",
       "   6 │    10.0     2.05      9      0      1  yes\n",
       "  ⋮  │    ⋮        ⋮       ⋮      ⋮      ⋮       ⋮\n",
       " 417 │    10.0     6.16      9      0      1  yes\n",
       " 418 │    10.0     6.17      9      0      1  yes\n",
       " 419 │    10.0     6.18      9      0      1  yes\n",
       " 420 │    10.0     6.19      9      0      1  yes\n",
       " 421 │    10.0     6.2       9      0      1  yes\n",
       "\u001b[36m                                      410 rows omitted\u001b[0m"
      ]
     },
     "execution_count": 17,
     "metadata": {},
     "output_type": "execute_result"
    }
   ],
   "source": [
    "df_pred = DataFrame(lnnlinc=10.0, age= 2.0:0.01:6.2, educ = 9, nyc = 0, noc = 1, foreign = \"yes\")"
   ]
  },
  {
   "cell_type": "code",
   "execution_count": 18,
   "metadata": {},
   "outputs": [
    {
     "data": {
      "text/html": [
       "<div class=\"data-frame\"><p>421 rows × 3 columns</p><table class=\"data-frame\"><thead><tr><th></th><th>prediction</th><th>lower</th><th>upper</th></tr><tr><th></th><th title=\"Union{Missing, Float64}\">Float64?</th><th title=\"Union{Missing, Float64}\">Float64?</th><th title=\"Union{Missing, Float64}\">Float64?</th></tr></thead><tbody><tr><th>1</th><td>0.786122</td><td>0.636712</td><td>0.891844</td></tr><tr><th>2</th><td>0.78872</td><td>0.641194</td><td>0.892941</td></tr><tr><th>3</th><td>0.791282</td><td>0.645623</td><td>0.894026</td></tr><tr><th>4</th><td>0.79381</td><td>0.650001</td><td>0.895097</td></tr><tr><th>5</th><td>0.796302</td><td>0.654325</td><td>0.896155</td></tr><tr><th>6</th><td>0.79876</td><td>0.658597</td><td>0.8972</td></tr><tr><th>7</th><td>0.801183</td><td>0.662817</td><td>0.898233</td></tr><tr><th>8</th><td>0.803572</td><td>0.666983</td><td>0.899252</td></tr><tr><th>9</th><td>0.805928</td><td>0.671097</td><td>0.90026</td></tr><tr><th>10</th><td>0.808251</td><td>0.675159</td><td>0.901254</td></tr><tr><th>11</th><td>0.81054</td><td>0.679167</td><td>0.902237</td></tr><tr><th>12</th><td>0.812797</td><td>0.683124</td><td>0.903207</td></tr><tr><th>13</th><td>0.815021</td><td>0.687028</td><td>0.904166</td></tr><tr><th>14</th><td>0.817213</td><td>0.690879</td><td>0.905113</td></tr><tr><th>15</th><td>0.819373</td><td>0.694678</td><td>0.906048</td></tr><tr><th>16</th><td>0.821502</td><td>0.698426</td><td>0.906971</td></tr><tr><th>17</th><td>0.8236</td><td>0.702121</td><td>0.907883</td></tr><tr><th>18</th><td>0.825667</td><td>0.705765</td><td>0.908784</td></tr><tr><th>19</th><td>0.827703</td><td>0.709358</td><td>0.909674</td></tr><tr><th>20</th><td>0.82971</td><td>0.712899</td><td>0.910552</td></tr><tr><th>&vellip;</th><td>&vellip;</td><td>&vellip;</td><td>&vellip;</td></tr></tbody></table></div>"
      ],
      "text/latex": [
       "\\begin{tabular}{r|ccc}\n",
       "\t& prediction & lower & upper\\\\\n",
       "\t\\hline\n",
       "\t& Float64? & Float64? & Float64?\\\\\n",
       "\t\\hline\n",
       "\t1 & 0.786122 & 0.636712 & 0.891844 \\\\\n",
       "\t2 & 0.78872 & 0.641194 & 0.892941 \\\\\n",
       "\t3 & 0.791282 & 0.645623 & 0.894026 \\\\\n",
       "\t4 & 0.79381 & 0.650001 & 0.895097 \\\\\n",
       "\t5 & 0.796302 & 0.654325 & 0.896155 \\\\\n",
       "\t6 & 0.79876 & 0.658597 & 0.8972 \\\\\n",
       "\t7 & 0.801183 & 0.662817 & 0.898233 \\\\\n",
       "\t8 & 0.803572 & 0.666983 & 0.899252 \\\\\n",
       "\t9 & 0.805928 & 0.671097 & 0.90026 \\\\\n",
       "\t10 & 0.808251 & 0.675159 & 0.901254 \\\\\n",
       "\t11 & 0.81054 & 0.679167 & 0.902237 \\\\\n",
       "\t12 & 0.812797 & 0.683124 & 0.903207 \\\\\n",
       "\t13 & 0.815021 & 0.687028 & 0.904166 \\\\\n",
       "\t14 & 0.817213 & 0.690879 & 0.905113 \\\\\n",
       "\t15 & 0.819373 & 0.694678 & 0.906048 \\\\\n",
       "\t16 & 0.821502 & 0.698426 & 0.906971 \\\\\n",
       "\t17 & 0.8236 & 0.702121 & 0.907883 \\\\\n",
       "\t18 & 0.825667 & 0.705765 & 0.908784 \\\\\n",
       "\t19 & 0.827703 & 0.709358 & 0.909674 \\\\\n",
       "\t20 & 0.82971 & 0.712899 & 0.910552 \\\\\n",
       "\t$\\dots$ & $\\dots$ & $\\dots$ & $\\dots$ \\\\\n",
       "\\end{tabular}\n"
      ],
      "text/plain": [
       "\u001b[1m421×3 DataFrame\u001b[0m\n",
       "\u001b[1m Row \u001b[0m│\u001b[1m prediction \u001b[0m\u001b[1m lower    \u001b[0m\u001b[1m upper    \u001b[0m\n",
       "\u001b[1m     \u001b[0m│\u001b[90m Float64?   \u001b[0m\u001b[90m Float64? \u001b[0m\u001b[90m Float64? \u001b[0m\n",
       "─────┼────────────────────────────────\n",
       "   1 │   0.786122  0.636712  0.891844\n",
       "   2 │   0.78872   0.641194  0.892941\n",
       "   3 │   0.791282  0.645623  0.894026\n",
       "   4 │   0.79381   0.650001  0.895097\n",
       "   5 │   0.796302  0.654325  0.896155\n",
       "   6 │   0.79876   0.658597  0.8972\n",
       "  ⋮  │     ⋮          ⋮         ⋮\n",
       " 417 │   0.285902  0.148645  0.464727\n",
       " 418 │   0.280642  0.144299  0.459905\n",
       " 419 │   0.275409  0.14002   0.455078\n",
       " 420 │   0.270205  0.13581   0.450245\n",
       " 421 │   0.265032  0.131668  0.445407\n",
       "\u001b[36m                      410 rows omitted\u001b[0m"
      ]
     },
     "execution_count": 18,
     "metadata": {},
     "output_type": "execute_result"
    }
   ],
   "source": [
    "probit_pred = predict(probit, df_pred, interval=:confidence)"
   ]
  },
  {
   "cell_type": "code",
   "execution_count": 23,
   "metadata": {},
   "outputs": [
    {
     "data": {
      "image/svg+xml": [
       "<?xml version=\"1.0\" encoding=\"utf-8\"?>\n",
       "<svg xmlns=\"http://www.w3.org/2000/svg\" xmlns:xlink=\"http://www.w3.org/1999/xlink\" width=\"600\" height=\"400\" viewBox=\"0 0 2400 1600\">\n",
       "<defs>\n",
       "  <clipPath id=\"clip420\">\n",
       "    <rect x=\"0\" y=\"0\" width=\"2400\" height=\"1600\"/>\n",
       "  </clipPath>\n",
       "</defs>\n",
       "<path clip-path=\"url(#clip420)\" d=\"\n",
       "M0 1600 L2400 1600 L2400 0 L0 0  Z\n",
       "  \" fill=\"#ffffff\" fill-rule=\"evenodd\" fill-opacity=\"1\"/>\n",
       "<defs>\n",
       "  <clipPath id=\"clip421\">\n",
       "    <rect x=\"480\" y=\"0\" width=\"1681\" height=\"1600\"/>\n",
       "  </clipPath>\n",
       "</defs>\n",
       "<path clip-path=\"url(#clip420)\" d=\"\n",
       "M219.866 1423.18 L2352.76 1423.18 L2352.76 47.2441 L219.866 47.2441  Z\n",
       "  \" fill=\"#ffffff\" fill-rule=\"evenodd\" fill-opacity=\"1\"/>\n",
       "<defs>\n",
       "  <clipPath id=\"clip422\">\n",
       "    <rect x=\"219\" y=\"47\" width=\"2134\" height=\"1377\"/>\n",
       "  </clipPath>\n",
       "</defs>\n",
       "<polyline clip-path=\"url(#clip422)\" style=\"stroke:#000000; stroke-linecap:butt; stroke-linejoin:round; stroke-width:2; stroke-opacity:0.1; fill:none\" points=\"\n",
       "  280.231,1423.18 280.231,47.2441 \n",
       "  \"/>\n",
       "<polyline clip-path=\"url(#clip422)\" style=\"stroke:#000000; stroke-linecap:butt; stroke-linejoin:round; stroke-width:2; stroke-opacity:0.1; fill:none\" points=\"\n",
       "  759.317,1423.18 759.317,47.2441 \n",
       "  \"/>\n",
       "<polyline clip-path=\"url(#clip422)\" style=\"stroke:#000000; stroke-linecap:butt; stroke-linejoin:round; stroke-width:2; stroke-opacity:0.1; fill:none\" points=\"\n",
       "  1238.4,1423.18 1238.4,47.2441 \n",
       "  \"/>\n",
       "<polyline clip-path=\"url(#clip422)\" style=\"stroke:#000000; stroke-linecap:butt; stroke-linejoin:round; stroke-width:2; stroke-opacity:0.1; fill:none\" points=\"\n",
       "  1717.49,1423.18 1717.49,47.2441 \n",
       "  \"/>\n",
       "<polyline clip-path=\"url(#clip422)\" style=\"stroke:#000000; stroke-linecap:butt; stroke-linejoin:round; stroke-width:2; stroke-opacity:0.1; fill:none\" points=\"\n",
       "  2196.57,1423.18 2196.57,47.2441 \n",
       "  \"/>\n",
       "<polyline clip-path=\"url(#clip420)\" style=\"stroke:#000000; stroke-linecap:butt; stroke-linejoin:round; stroke-width:4; stroke-opacity:1; fill:none\" points=\"\n",
       "  219.866,1423.18 2352.76,1423.18 \n",
       "  \"/>\n",
       "<polyline clip-path=\"url(#clip420)\" style=\"stroke:#000000; stroke-linecap:butt; stroke-linejoin:round; stroke-width:4; stroke-opacity:1; fill:none\" points=\"\n",
       "  280.231,1423.18 280.231,1406.67 \n",
       "  \"/>\n",
       "<polyline clip-path=\"url(#clip420)\" style=\"stroke:#000000; stroke-linecap:butt; stroke-linejoin:round; stroke-width:4; stroke-opacity:1; fill:none\" points=\"\n",
       "  759.317,1423.18 759.317,1406.67 \n",
       "  \"/>\n",
       "<polyline clip-path=\"url(#clip420)\" style=\"stroke:#000000; stroke-linecap:butt; stroke-linejoin:round; stroke-width:4; stroke-opacity:1; fill:none\" points=\"\n",
       "  1238.4,1423.18 1238.4,1406.67 \n",
       "  \"/>\n",
       "<polyline clip-path=\"url(#clip420)\" style=\"stroke:#000000; stroke-linecap:butt; stroke-linejoin:round; stroke-width:4; stroke-opacity:1; fill:none\" points=\"\n",
       "  1717.49,1423.18 1717.49,1406.67 \n",
       "  \"/>\n",
       "<polyline clip-path=\"url(#clip420)\" style=\"stroke:#000000; stroke-linecap:butt; stroke-linejoin:round; stroke-width:4; stroke-opacity:1; fill:none\" points=\"\n",
       "  2196.57,1423.18 2196.57,1406.67 \n",
       "  \"/>\n",
       "<path clip-path=\"url(#clip420)\" d=\"M274.884 1479.92 L291.203 1479.92 L291.203 1483.85 L269.259 1483.85 L269.259 1479.92 Q271.921 1477.16 276.504 1472.53 Q281.111 1467.88 282.291 1466.54 Q284.537 1464.01 285.416 1462.28 Q286.319 1460.52 286.319 1458.83 Q286.319 1456.07 284.375 1454.34 Q282.453 1452.6 279.351 1452.6 Q277.152 1452.6 274.699 1453.37 Q272.268 1454.13 269.49 1455.68 L269.49 1450.96 Q272.314 1449.82 274.768 1449.25 Q277.222 1448.67 279.259 1448.67 Q284.629 1448.67 287.824 1451.35 Q291.018 1454.04 291.018 1458.53 Q291.018 1460.66 290.208 1462.58 Q289.421 1464.48 287.314 1467.07 Q286.736 1467.74 283.634 1470.96 Q280.532 1474.15 274.884 1479.92 Z\" fill=\"#000000\" fill-rule=\"evenodd\" fill-opacity=\"1\" /><path clip-path=\"url(#clip420)\" d=\"M763.564 1465.22 Q766.921 1465.94 768.796 1468.2 Q770.694 1470.47 770.694 1473.81 Q770.694 1478.92 767.176 1481.72 Q763.657 1484.52 757.176 1484.52 Q755 1484.52 752.685 1484.08 Q750.393 1483.67 747.94 1482.81 L747.94 1478.3 Q749.884 1479.43 752.199 1480.01 Q754.514 1480.59 757.037 1480.59 Q761.435 1480.59 763.726 1478.85 Q766.041 1477.12 766.041 1473.81 Q766.041 1470.75 763.889 1469.04 Q761.759 1467.3 757.939 1467.3 L753.912 1467.3 L753.912 1463.46 L758.125 1463.46 Q761.574 1463.46 763.402 1462.09 Q765.231 1460.7 765.231 1458.11 Q765.231 1455.45 763.333 1454.04 Q761.458 1452.6 757.939 1452.6 Q756.018 1452.6 753.819 1453.02 Q751.62 1453.44 748.981 1454.31 L748.981 1450.15 Q751.643 1449.41 753.958 1449.04 Q756.296 1448.67 758.356 1448.67 Q763.68 1448.67 766.782 1451.1 Q769.884 1453.5 769.884 1457.63 Q769.884 1460.5 768.24 1462.49 Q766.597 1464.45 763.564 1465.22 Z\" fill=\"#000000\" fill-rule=\"evenodd\" fill-opacity=\"1\" /><path clip-path=\"url(#clip420)\" d=\"M1241.41 1453.37 L1229.61 1471.81 L1241.41 1471.81 L1241.41 1453.37 M1240.18 1449.29 L1246.06 1449.29 L1246.06 1471.81 L1251 1471.81 L1251 1475.7 L1246.06 1475.7 L1246.06 1483.85 L1241.41 1483.85 L1241.41 1475.7 L1225.81 1475.7 L1225.81 1471.19 L1240.18 1449.29 Z\" fill=\"#000000\" fill-rule=\"evenodd\" fill-opacity=\"1\" /><path clip-path=\"url(#clip420)\" d=\"M1707.77 1449.29 L1726.12 1449.29 L1726.12 1453.23 L1712.05 1453.23 L1712.05 1461.7 Q1713.07 1461.35 1714.09 1461.19 Q1715.1 1461 1716.12 1461 Q1721.91 1461 1725.29 1464.18 Q1728.67 1467.35 1728.67 1472.76 Q1728.67 1478.34 1725.2 1481.44 Q1721.72 1484.52 1715.4 1484.52 Q1713.23 1484.52 1710.96 1484.15 Q1708.72 1483.78 1706.31 1483.04 L1706.31 1478.34 Q1708.39 1479.48 1710.61 1480.03 Q1712.84 1480.59 1715.31 1480.59 Q1719.32 1480.59 1721.65 1478.48 Q1723.99 1476.38 1723.99 1472.76 Q1723.99 1469.15 1721.65 1467.05 Q1719.32 1464.94 1715.31 1464.94 Q1713.44 1464.94 1711.56 1465.36 Q1709.71 1465.77 1707.77 1466.65 L1707.77 1449.29 Z\" fill=\"#000000\" fill-rule=\"evenodd\" fill-opacity=\"1\" /><path clip-path=\"url(#clip420)\" d=\"M2196.98 1464.71 Q2193.83 1464.71 2191.98 1466.86 Q2190.15 1469.01 2190.15 1472.76 Q2190.15 1476.49 2191.98 1478.67 Q2193.83 1480.82 2196.98 1480.82 Q2200.13 1480.82 2201.96 1478.67 Q2203.81 1476.49 2203.81 1472.76 Q2203.81 1469.01 2201.96 1466.86 Q2200.13 1464.71 2196.98 1464.71 M2206.26 1450.06 L2206.26 1454.31 Q2204.5 1453.48 2202.7 1453.04 Q2200.91 1452.6 2199.15 1452.6 Q2194.53 1452.6 2192.07 1455.73 Q2189.64 1458.85 2189.29 1465.17 Q2190.66 1463.16 2192.72 1462.09 Q2194.78 1461 2197.26 1461 Q2202.47 1461 2205.47 1464.18 Q2208.51 1467.32 2208.51 1472.76 Q2208.51 1478.09 2205.36 1481.31 Q2202.21 1484.52 2196.98 1484.52 Q2190.98 1484.52 2187.81 1479.94 Q2184.64 1475.33 2184.64 1466.61 Q2184.64 1458.41 2188.53 1453.55 Q2192.42 1448.67 2198.97 1448.67 Q2200.73 1448.67 2202.51 1449.01 Q2204.32 1449.36 2206.26 1450.06 Z\" fill=\"#000000\" fill-rule=\"evenodd\" fill-opacity=\"1\" /><path clip-path=\"url(#clip420)\" d=\"M1247.72 1550.12 Q1240.62 1550.12 1237.88 1551.75 Q1235.15 1553.37 1235.15 1557.29 Q1235.15 1560.4 1237.18 1562.25 Q1239.25 1564.07 1242.79 1564.07 Q1247.66 1564.07 1250.58 1560.63 Q1253.54 1557.16 1253.54 1551.43 L1253.54 1550.12 L1247.72 1550.12 M1259.4 1547.71 L1259.4 1568.04 L1253.54 1568.04 L1253.54 1562.63 Q1251.54 1565.88 1248.55 1567.44 Q1245.55 1568.97 1241.23 1568.97 Q1235.75 1568.97 1232.5 1565.91 Q1229.29 1562.82 1229.29 1557.67 Q1229.29 1551.65 1233.3 1548.6 Q1237.34 1545.54 1245.33 1545.54 L1253.54 1545.54 L1253.54 1544.97 Q1253.54 1540.93 1250.87 1538.73 Q1248.23 1536.5 1243.42 1536.5 Q1240.37 1536.5 1237.47 1537.23 Q1234.57 1537.97 1231.9 1539.43 L1231.9 1534.02 Q1235.11 1532.78 1238.14 1532.17 Q1241.16 1531.54 1244.03 1531.54 Q1251.76 1531.54 1255.58 1535.55 Q1259.4 1539.56 1259.4 1547.71 Z\" fill=\"#000000\" fill-rule=\"evenodd\" fill-opacity=\"1\" /><path clip-path=\"url(#clip420)\" d=\"M1294.92 1549.81 Q1294.92 1543.44 1292.28 1539.94 Q1289.67 1536.44 1284.93 1536.44 Q1280.22 1536.44 1277.57 1539.94 Q1274.96 1543.44 1274.96 1549.81 Q1274.96 1556.14 1277.57 1559.64 Q1280.22 1563.14 1284.93 1563.14 Q1289.67 1563.14 1292.28 1559.64 Q1294.92 1556.14 1294.92 1549.81 M1300.78 1563.62 Q1300.78 1572.72 1296.73 1577.15 Q1292.69 1581.6 1284.35 1581.6 Q1281.27 1581.6 1278.53 1581.13 Q1275.79 1580.68 1273.21 1579.72 L1273.21 1574.03 Q1275.79 1575.43 1278.31 1576.1 Q1280.82 1576.76 1283.43 1576.76 Q1289.19 1576.76 1292.06 1573.74 Q1294.92 1570.75 1294.92 1564.67 L1294.92 1561.77 Q1293.11 1564.92 1290.27 1566.48 Q1287.44 1568.04 1283.49 1568.04 Q1276.94 1568.04 1272.93 1563.05 Q1268.92 1558.05 1268.92 1549.81 Q1268.92 1541.53 1272.93 1536.53 Q1276.94 1531.54 1283.49 1531.54 Q1287.44 1531.54 1290.27 1533.1 Q1293.11 1534.66 1294.92 1537.81 L1294.92 1532.4 L1300.78 1532.4 L1300.78 1563.62 Z\" fill=\"#000000\" fill-rule=\"evenodd\" fill-opacity=\"1\" /><path clip-path=\"url(#clip420)\" d=\"M1343.33 1548.76 L1343.33 1551.62 L1316.4 1551.62 Q1316.79 1557.67 1320.03 1560.85 Q1323.31 1564 1329.14 1564 Q1332.51 1564 1335.66 1563.17 Q1338.84 1562.35 1341.96 1560.69 L1341.96 1566.23 Q1338.81 1567.57 1335.5 1568.27 Q1332.19 1568.97 1328.79 1568.97 Q1320.26 1568.97 1315.26 1564 Q1310.29 1559.04 1310.29 1550.57 Q1310.29 1541.82 1315 1536.69 Q1319.75 1531.54 1327.77 1531.54 Q1334.96 1531.54 1339.13 1536.18 Q1343.33 1540.8 1343.33 1548.76 M1337.48 1547.04 Q1337.41 1542.23 1334.77 1539.37 Q1332.16 1536.5 1327.83 1536.5 Q1322.93 1536.5 1319.97 1539.27 Q1317.04 1542.04 1316.6 1547.07 L1337.48 1547.04 Z\" fill=\"#000000\" fill-rule=\"evenodd\" fill-opacity=\"1\" /><polyline clip-path=\"url(#clip422)\" style=\"stroke:#000000; stroke-linecap:butt; stroke-linejoin:round; stroke-width:2; stroke-opacity:0.1; fill:none\" points=\"\n",
       "  219.866,1277.3 2352.76,1277.3 \n",
       "  \"/>\n",
       "<polyline clip-path=\"url(#clip422)\" style=\"stroke:#000000; stroke-linecap:butt; stroke-linejoin:round; stroke-width:2; stroke-opacity:0.1; fill:none\" points=\"\n",
       "  219.866,964.318 2352.76,964.318 \n",
       "  \"/>\n",
       "<polyline clip-path=\"url(#clip422)\" style=\"stroke:#000000; stroke-linecap:butt; stroke-linejoin:round; stroke-width:2; stroke-opacity:0.1; fill:none\" points=\"\n",
       "  219.866,651.332 2352.76,651.332 \n",
       "  \"/>\n",
       "<polyline clip-path=\"url(#clip422)\" style=\"stroke:#000000; stroke-linecap:butt; stroke-linejoin:round; stroke-width:2; stroke-opacity:0.1; fill:none\" points=\"\n",
       "  219.866,338.347 2352.76,338.347 \n",
       "  \"/>\n",
       "<polyline clip-path=\"url(#clip420)\" style=\"stroke:#000000; stroke-linecap:butt; stroke-linejoin:round; stroke-width:4; stroke-opacity:1; fill:none\" points=\"\n",
       "  219.866,1423.18 219.866,47.2441 \n",
       "  \"/>\n",
       "<polyline clip-path=\"url(#clip420)\" style=\"stroke:#000000; stroke-linecap:butt; stroke-linejoin:round; stroke-width:4; stroke-opacity:1; fill:none\" points=\"\n",
       "  219.866,1277.3 245.461,1277.3 \n",
       "  \"/>\n",
       "<polyline clip-path=\"url(#clip420)\" style=\"stroke:#000000; stroke-linecap:butt; stroke-linejoin:round; stroke-width:4; stroke-opacity:1; fill:none\" points=\"\n",
       "  219.866,964.318 245.461,964.318 \n",
       "  \"/>\n",
       "<polyline clip-path=\"url(#clip420)\" style=\"stroke:#000000; stroke-linecap:butt; stroke-linejoin:round; stroke-width:4; stroke-opacity:1; fill:none\" points=\"\n",
       "  219.866,651.332 245.461,651.332 \n",
       "  \"/>\n",
       "<polyline clip-path=\"url(#clip420)\" style=\"stroke:#000000; stroke-linecap:butt; stroke-linejoin:round; stroke-width:4; stroke-opacity:1; fill:none\" points=\"\n",
       "  219.866,338.347 245.461,338.347 \n",
       "  \"/>\n",
       "<path clip-path=\"url(#clip420)\" d=\"M128.288 1263.1 Q124.677 1263.1 122.848 1266.67 Q121.043 1270.21 121.043 1277.34 Q121.043 1284.44 122.848 1288.01 Q124.677 1291.55 128.288 1291.55 Q131.922 1291.55 133.728 1288.01 Q135.556 1284.44 135.556 1277.34 Q135.556 1270.21 133.728 1266.67 Q131.922 1263.1 128.288 1263.1 M128.288 1259.4 Q134.098 1259.4 137.154 1264 Q140.232 1268.59 140.232 1277.34 Q140.232 1286.06 137.154 1290.67 Q134.098 1295.25 128.288 1295.25 Q122.478 1295.25 119.399 1290.67 Q116.343 1286.06 116.343 1277.34 Q116.343 1268.59 119.399 1264 Q122.478 1259.4 128.288 1259.4 Z\" fill=\"#000000\" fill-rule=\"evenodd\" fill-opacity=\"1\" /><path clip-path=\"url(#clip420)\" d=\"M148.45 1288.7 L153.334 1288.7 L153.334 1294.58 L148.45 1294.58 L148.45 1288.7 Z\" fill=\"#000000\" fill-rule=\"evenodd\" fill-opacity=\"1\" /><path clip-path=\"url(#clip420)\" d=\"M167.547 1290.65 L183.866 1290.65 L183.866 1294.58 L161.922 1294.58 L161.922 1290.65 Q164.584 1287.89 169.167 1283.26 Q173.774 1278.61 174.954 1277.27 Q177.2 1274.75 178.079 1273.01 Q178.982 1271.25 178.982 1269.56 Q178.982 1266.81 177.038 1265.07 Q175.116 1263.33 172.014 1263.33 Q169.815 1263.33 167.362 1264.1 Q164.931 1264.86 162.153 1266.41 L162.153 1261.69 Q164.977 1260.56 167.431 1259.98 Q169.885 1259.4 171.922 1259.4 Q177.292 1259.4 180.487 1262.08 Q183.681 1264.77 183.681 1269.26 Q183.681 1271.39 182.871 1273.31 Q182.084 1275.21 179.977 1277.8 Q179.399 1278.47 176.297 1281.69 Q173.195 1284.88 167.547 1290.65 Z\" fill=\"#000000\" fill-rule=\"evenodd\" fill-opacity=\"1\" /><path clip-path=\"url(#clip420)\" d=\"M126.205 950.116 Q122.593 950.116 120.765 953.681 Q118.959 957.223 118.959 964.352 Q118.959 971.459 120.765 975.024 Q122.593 978.565 126.205 978.565 Q129.839 978.565 131.644 975.024 Q133.473 971.459 133.473 964.352 Q133.473 957.223 131.644 953.681 Q129.839 950.116 126.205 950.116 M126.205 946.413 Q132.015 946.413 135.07 951.019 Q138.149 955.602 138.149 964.352 Q138.149 973.079 135.07 977.686 Q132.015 982.269 126.205 982.269 Q120.394 982.269 117.316 977.686 Q114.26 973.079 114.26 964.352 Q114.26 955.602 117.316 951.019 Q120.394 946.413 126.205 946.413 Z\" fill=\"#000000\" fill-rule=\"evenodd\" fill-opacity=\"1\" /><path clip-path=\"url(#clip420)\" d=\"M146.366 975.718 L151.251 975.718 L151.251 981.598 L146.366 981.598 L146.366 975.718 Z\" fill=\"#000000\" fill-rule=\"evenodd\" fill-opacity=\"1\" /><path clip-path=\"url(#clip420)\" d=\"M174.283 951.112 L162.477 969.561 L174.283 969.561 L174.283 951.112 M173.056 947.038 L178.936 947.038 L178.936 969.561 L183.866 969.561 L183.866 973.45 L178.936 973.45 L178.936 981.598 L174.283 981.598 L174.283 973.45 L158.681 973.45 L158.681 968.936 L173.056 947.038 Z\" fill=\"#000000\" fill-rule=\"evenodd\" fill-opacity=\"1\" /><path clip-path=\"url(#clip420)\" d=\"M126.529 637.131 Q122.918 637.131 121.089 640.696 Q119.283 644.237 119.283 651.367 Q119.283 658.473 121.089 662.038 Q122.918 665.58 126.529 665.58 Q130.163 665.58 131.968 662.038 Q133.797 658.473 133.797 651.367 Q133.797 644.237 131.968 640.696 Q130.163 637.131 126.529 637.131 M126.529 633.427 Q132.339 633.427 135.394 638.034 Q138.473 642.617 138.473 651.367 Q138.473 660.094 135.394 664.7 Q132.339 669.283 126.529 669.283 Q120.718 669.283 117.64 664.7 Q114.584 660.094 114.584 651.367 Q114.584 642.617 117.64 638.034 Q120.718 633.427 126.529 633.427 Z\" fill=\"#000000\" fill-rule=\"evenodd\" fill-opacity=\"1\" /><path clip-path=\"url(#clip420)\" d=\"M146.691 662.733 L151.575 662.733 L151.575 668.612 L146.691 668.612 L146.691 662.733 Z\" fill=\"#000000\" fill-rule=\"evenodd\" fill-opacity=\"1\" /><path clip-path=\"url(#clip420)\" d=\"M172.339 649.469 Q169.19 649.469 167.339 651.621 Q165.51 653.774 165.51 657.524 Q165.51 661.251 167.339 663.427 Q169.19 665.58 172.339 665.58 Q175.487 665.58 177.315 663.427 Q179.167 661.251 179.167 657.524 Q179.167 653.774 177.315 651.621 Q175.487 649.469 172.339 649.469 M181.621 634.816 L181.621 639.075 Q179.862 638.242 178.056 637.802 Q176.274 637.362 174.514 637.362 Q169.885 637.362 167.431 640.487 Q165.001 643.612 164.653 649.932 Q166.019 647.918 168.079 646.853 Q170.139 645.765 172.616 645.765 Q177.825 645.765 180.834 648.936 Q183.866 652.084 183.866 657.524 Q183.866 662.848 180.718 666.066 Q177.57 669.283 172.339 669.283 Q166.343 669.283 163.172 664.7 Q160.001 660.094 160.001 651.367 Q160.001 643.172 163.89 638.311 Q167.778 633.427 174.329 633.427 Q176.089 633.427 177.871 633.774 Q179.676 634.122 181.621 634.816 Z\" fill=\"#000000\" fill-rule=\"evenodd\" fill-opacity=\"1\" /><path clip-path=\"url(#clip420)\" d=\"M126.783 324.145 Q123.172 324.145 121.343 327.71 Q119.538 331.252 119.538 338.381 Q119.538 345.488 121.343 349.053 Q123.172 352.594 126.783 352.594 Q130.417 352.594 132.223 349.053 Q134.052 345.488 134.052 338.381 Q134.052 331.252 132.223 327.71 Q130.417 324.145 126.783 324.145 M126.783 320.442 Q132.593 320.442 135.649 325.048 Q138.728 329.631 138.728 338.381 Q138.728 347.108 135.649 351.715 Q132.593 356.298 126.783 356.298 Q120.973 356.298 117.894 351.715 Q114.839 347.108 114.839 338.381 Q114.839 329.631 117.894 325.048 Q120.973 320.442 126.783 320.442 Z\" fill=\"#000000\" fill-rule=\"evenodd\" fill-opacity=\"1\" /><path clip-path=\"url(#clip420)\" d=\"M146.945 349.747 L151.829 349.747 L151.829 355.627 L146.945 355.627 L146.945 349.747 Z\" fill=\"#000000\" fill-rule=\"evenodd\" fill-opacity=\"1\" /><path clip-path=\"url(#clip420)\" d=\"M172.014 339.215 Q168.681 339.215 166.76 340.997 Q164.862 342.78 164.862 345.904 Q164.862 349.029 166.76 350.812 Q168.681 352.594 172.014 352.594 Q175.348 352.594 177.269 350.812 Q179.19 349.006 179.19 345.904 Q179.19 342.78 177.269 340.997 Q175.371 339.215 172.014 339.215 M167.339 337.224 Q164.329 336.483 162.64 334.423 Q160.973 332.363 160.973 329.4 Q160.973 325.256 163.913 322.849 Q166.876 320.442 172.014 320.442 Q177.176 320.442 180.116 322.849 Q183.056 325.256 183.056 329.4 Q183.056 332.363 181.366 334.423 Q179.7 336.483 176.714 337.224 Q180.093 338.011 181.968 340.303 Q183.866 342.594 183.866 345.904 Q183.866 350.928 180.788 353.613 Q177.732 356.298 172.014 356.298 Q166.297 356.298 163.218 353.613 Q160.163 350.928 160.163 345.904 Q160.163 342.594 162.061 340.303 Q163.959 338.011 167.339 337.224 M165.626 329.84 Q165.626 332.525 167.292 334.03 Q168.982 335.534 172.014 335.534 Q175.024 335.534 176.714 334.03 Q178.426 332.525 178.426 329.84 Q178.426 327.155 176.714 325.65 Q175.024 324.145 172.014 324.145 Q168.982 324.145 167.292 325.65 Q165.626 327.155 165.626 329.84 Z\" fill=\"#000000\" fill-rule=\"evenodd\" fill-opacity=\"1\" /><path clip-path=\"url(#clip420)\" d=\"M21.7677 869.958 L39.6235 869.958 L39.6235 861.874 Q39.6235 857.386 37.3 854.935 Q34.9765 852.484 30.6797 852.484 Q26.4147 852.484 24.0912 854.935 Q21.7677 857.386 21.7677 861.874 L21.7677 869.958 M16.4842 876.387 L16.4842 861.874 Q16.4842 853.885 20.1126 849.811 Q23.7092 845.705 30.6797 845.705 Q37.7138 845.705 41.3104 849.811 Q44.907 853.885 44.907 861.874 L44.907 869.958 L64.0042 869.958 L64.0042 876.387 L16.4842 876.387 Z\" fill=\"#000000\" fill-rule=\"evenodd\" fill-opacity=\"1\" /><path clip-path=\"url(#clip420)\" d=\"M33.8307 817.823 Q33.2578 818.81 33.0032 819.987 Q32.7167 821.133 32.7167 822.534 Q32.7167 827.499 35.9632 830.172 Q39.1779 832.814 45.2253 832.814 L64.0042 832.814 L64.0042 838.702 L28.3562 838.702 L28.3562 832.814 L33.8944 832.814 Q30.6479 830.968 29.0883 828.008 Q27.4968 825.048 27.4968 820.815 Q27.4968 820.21 27.5923 819.478 Q27.656 818.746 27.8151 817.855 L33.8307 817.823 Z\" fill=\"#000000\" fill-rule=\"evenodd\" fill-opacity=\"1\" /><path clip-path=\"url(#clip420)\" d=\"M14.5426 797.612 Q21.8632 801.877 29.0246 803.946 Q36.186 806.015 43.5384 806.015 Q50.8908 806.015 58.1159 803.946 Q65.3091 801.845 72.5979 797.612 L72.5979 802.704 Q65.1182 807.479 57.8931 809.866 Q50.668 812.221 43.5384 812.221 Q36.4406 812.221 29.2474 809.866 Q22.0542 807.51 14.5426 802.704 L14.5426 797.612 Z\" fill=\"#000000\" fill-rule=\"evenodd\" fill-opacity=\"1\" /><path clip-path=\"url(#clip420)\" d=\"M14.479 786.249 L14.479 780.393 L64.0042 780.393 L64.0042 786.249 L14.479 786.249 Z\" fill=\"#000000\" fill-rule=\"evenodd\" fill-opacity=\"1\" /><path clip-path=\"url(#clip420)\" d=\"M14.479 750.092 L19.3487 750.092 L19.3487 755.694 Q19.3487 758.845 20.6219 760.086 Q21.895 761.295 25.2052 761.295 L28.3562 761.295 L28.3562 751.651 L32.9077 751.651 L32.9077 761.295 L64.0042 761.295 L64.0042 767.184 L32.9077 767.184 L32.9077 772.786 L28.3562 772.786 L28.3562 767.184 L25.8736 767.184 Q19.9216 767.184 17.2162 764.415 Q14.479 761.646 14.479 755.63 L14.479 750.092 Z\" fill=\"#000000\" fill-rule=\"evenodd\" fill-opacity=\"1\" /><path clip-path=\"url(#clip420)\" d=\"M58.657 739.525 L77.5631 739.525 L77.5631 745.413 L28.3562 745.413 L28.3562 739.525 L33.7671 739.525 Q30.5842 737.679 29.0564 734.878 Q27.4968 732.045 27.4968 728.13 Q27.4968 721.637 32.6531 717.595 Q37.8093 713.521 46.212 713.521 Q54.6147 713.521 59.771 717.595 Q64.9272 721.637 64.9272 728.13 Q64.9272 732.045 63.3994 734.878 Q61.8398 737.679 58.657 739.525 M46.212 719.6 Q39.7508 719.6 36.0905 722.274 Q32.3984 724.915 32.3984 729.562 Q32.3984 734.209 36.0905 736.883 Q39.7508 739.525 46.212 739.525 Q52.6732 739.525 56.3653 736.883 Q60.0256 734.209 60.0256 729.562 Q60.0256 724.915 56.3653 722.274 Q52.6732 719.6 46.212 719.6 Z\" fill=\"#000000\" fill-rule=\"evenodd\" fill-opacity=\"1\" /><path clip-path=\"url(#clip420)\" d=\"M34.4036 703.049 L34.4036 662.245 L39.7508 662.245 L39.7508 703.049 L34.4036 703.049 M47.3897 703.049 L47.3897 662.245 L52.8005 662.245 L52.8005 703.049 L47.3897 703.049 Z\" fill=\"#000000\" fill-rule=\"evenodd\" fill-opacity=\"1\" /><path clip-path=\"url(#clip420)\" d=\"M58.5933 647.254 L58.5933 636.75 L22.3406 636.75 L24.6323 648.177 L18.7758 648.177 L16.4842 636.814 L16.4842 630.385 L58.5933 630.385 L58.5933 619.881 L64.0042 619.881 L64.0042 647.254 L58.5933 647.254 Z\" fill=\"#000000\" fill-rule=\"evenodd\" fill-opacity=\"1\" /><path clip-path=\"url(#clip420)\" d=\"M14.5426 608.646 L14.5426 603.553 Q22.0542 598.779 29.2474 596.424 Q36.4406 594.037 43.5384 594.037 Q50.668 594.037 57.8931 596.424 Q65.1182 598.779 72.5979 603.553 L72.5979 608.646 Q65.3091 604.413 58.1159 602.344 Q50.8908 600.243 43.5384 600.243 Q36.186 600.243 29.0246 602.344 Q21.8632 604.413 14.5426 608.646 Z\" fill=\"#000000\" fill-rule=\"evenodd\" fill-opacity=\"1\" /><polyline clip-path=\"url(#clip422)\" style=\"stroke:#009af9; stroke-linecap:butt; stroke-linejoin:round; stroke-width:4; stroke-opacity:1; fill:none\" points=\"\n",
       "  280.231,360.064 285.022,355.999 289.813,351.989 294.604,348.034 299.394,344.134 304.185,340.288 308.976,336.495 313.767,332.756 318.558,329.07 323.349,325.435 \n",
       "  328.14,321.852 332.93,318.321 337.721,314.84 342.512,311.41 347.303,308.029 352.094,304.697 356.885,301.415 361.676,298.18 366.466,294.993 371.257,291.853 \n",
       "  376.048,288.76 380.839,285.713 385.63,282.712 390.421,279.756 395.212,276.844 400.002,273.977 404.793,271.153 409.584,268.373 414.375,265.635 419.166,262.94 \n",
       "  423.957,260.286 428.748,257.673 433.538,255.101 438.329,252.569 443.12,250.076 447.911,247.623 452.702,245.209 457.493,242.833 462.284,240.495 467.074,238.194 \n",
       "  471.865,235.93 476.656,233.702 481.447,231.511 486.238,229.354 491.029,227.233 495.82,225.147 500.61,223.094 505.401,221.075 510.192,219.09 514.983,217.137 \n",
       "  519.774,215.217 524.565,213.329 529.356,211.472 534.147,209.647 538.937,207.852 543.728,206.088 548.519,204.354 553.31,202.649 558.101,200.973 562.892,199.327 \n",
       "  567.683,197.708 572.473,196.118 577.264,194.555 582.055,193.02 586.846,191.512 591.637,190.03 596.428,188.575 601.219,187.145 606.009,185.741 610.8,184.362 \n",
       "  615.591,183.008 620.382,181.679 625.173,180.374 629.964,179.093 634.755,177.836 639.545,176.601 644.336,175.39 649.127,174.202 653.918,173.036 658.709,171.892 \n",
       "  663.5,170.77 668.291,169.67 673.081,168.591 677.872,167.533 682.663,166.496 687.454,165.48 692.245,164.483 697.036,163.507 701.827,162.551 706.617,161.614 \n",
       "  711.408,160.696 716.199,159.797 720.99,158.918 725.781,158.057 730.572,157.214 735.363,156.389 740.153,155.583 744.944,154.794 749.735,154.023 754.526,153.269 \n",
       "  759.317,152.533 764.108,151.813 768.899,151.111 773.689,150.424 778.48,149.755 783.271,149.102 788.062,148.464 792.853,147.843 797.644,147.238 802.435,146.648 \n",
       "  807.225,146.074 812.016,145.515 816.807,144.971 821.598,144.442 826.389,143.928 831.18,143.429 835.971,142.945 840.761,142.475 845.552,142.02 850.343,141.579 \n",
       "  855.134,141.152 859.925,140.739 864.716,140.34 869.507,139.955 874.297,139.584 879.088,139.226 883.879,138.882 888.67,138.552 893.461,138.234 898.252,137.931 \n",
       "  903.043,137.64 907.833,137.363 912.624,137.098 917.415,136.847 922.206,136.608 926.997,136.383 931.788,136.17 936.579,135.97 941.369,135.783 946.16,135.609 \n",
       "  950.951,135.447 955.742,135.298 960.533,135.161 965.324,135.037 970.115,134.925 974.905,134.826 979.696,134.739 984.487,134.664 989.278,134.602 994.069,134.552 \n",
       "  998.86,134.515 1003.65,134.49 1008.44,134.477 1013.23,134.477 1018.02,134.489 1022.81,134.513 1027.6,134.55 1032.4,134.599 1037.19,134.66 1041.98,134.734 \n",
       "  1046.77,134.82 1051.56,134.919 1056.35,135.03 1061.14,135.153 1065.93,135.289 1070.72,135.438 1075.51,135.599 1080.3,135.772 1085.1,135.959 1089.89,136.158 \n",
       "  1094.68,136.37 1099.47,136.595 1104.26,136.832 1109.05,137.083 1113.84,137.346 1118.63,137.623 1123.42,137.913 1128.21,138.216 1133,138.532 1137.79,138.862 \n",
       "  1142.59,139.205 1147.38,139.562 1152.17,139.932 1156.96,140.317 1161.75,140.715 1166.54,141.127 1171.33,141.553 1176.12,141.993 1180.91,142.447 1185.7,142.916 \n",
       "  1190.49,143.4 1195.28,143.898 1200.08,144.411 1204.87,144.939 1209.66,145.482 1214.45,146.04 1219.24,146.613 1224.03,147.202 1228.82,147.806 1233.61,148.427 \n",
       "  1238.4,149.063 1243.19,149.715 1247.98,150.384 1252.78,151.069 1257.57,151.771 1262.36,152.489 1267.15,153.225 1271.94,153.977 1276.73,154.748 1281.52,155.535 \n",
       "  1286.31,156.341 1291.1,157.164 1295.89,158.006 1300.68,158.866 1305.47,159.744 1310.27,160.642 1315.06,161.558 1319.85,162.494 1324.64,163.449 1329.43,164.424 \n",
       "  1334.22,165.419 1339.01,166.435 1343.8,167.471 1348.59,168.527 1353.38,169.605 1358.17,170.704 1362.96,171.825 1367.76,172.967 1372.55,174.132 1377.34,175.319 \n",
       "  1382.13,176.528 1386.92,177.761 1391.71,179.017 1396.5,180.297 1401.29,181.6 1406.08,182.928 1410.87,184.28 1415.66,185.658 1420.46,187.06 1425.25,188.488 \n",
       "  1430.04,189.942 1434.83,191.422 1439.62,192.929 1444.41,194.463 1449.2,196.024 1453.99,197.612 1458.78,199.229 1463.57,200.874 1468.36,202.548 1473.15,204.251 \n",
       "  1477.95,205.983 1482.74,207.746 1487.53,209.539 1492.32,211.362 1497.11,213.217 1501.9,215.103 1506.69,217.021 1511.48,218.972 1516.27,220.956 1521.06,222.972 \n",
       "  1525.85,225.023 1530.64,227.107 1535.44,229.226 1540.23,231.38 1545.02,233.57 1549.81,235.795 1554.6,238.057 1559.39,240.356 1564.18,242.692 1568.97,245.066 \n",
       "  1573.76,247.478 1578.55,249.928 1583.34,252.418 1588.14,254.948 1592.93,257.517 1597.72,260.128 1602.51,262.779 1607.3,265.472 1612.09,268.208 1616.88,270.986 \n",
       "  1621.67,273.807 1626.46,276.671 1631.25,279.58 1636.04,282.533 1640.83,285.532 1645.63,288.576 1650.42,291.666 1655.21,294.803 1660,297.988 1664.79,301.219 \n",
       "  1669.58,304.499 1674.37,307.828 1679.16,311.206 1683.95,314.633 1688.74,318.111 1693.53,321.639 1698.32,325.219 1703.12,328.85 1707.91,332.534 1712.7,336.27 \n",
       "  1717.49,340.059 1722.28,343.902 1727.07,347.799 1731.86,351.751 1736.65,355.757 1741.44,359.819 1746.23,363.937 1751.02,368.112 1755.82,372.343 1760.61,376.632 \n",
       "  1765.4,380.978 1770.19,385.382 1774.98,389.845 1779.77,394.367 1784.56,398.948 1789.35,403.589 1794.14,408.29 1798.93,413.052 1803.72,417.874 1808.51,422.757 \n",
       "  1813.31,427.702 1818.1,432.708 1822.89,437.776 1827.68,442.907 1832.47,448.1 1837.26,453.356 1842.05,458.675 1846.84,464.057 1851.63,469.502 1856.42,475.011 \n",
       "  1861.21,480.584 1866,486.22 1870.8,491.921 1875.59,497.685 1880.38,503.514 1885.17,509.406 1889.96,515.363 1894.75,521.384 1899.54,527.469 1904.33,533.618 \n",
       "  1909.12,539.831 1913.91,546.108 1918.7,552.449 1923.5,558.853 1928.29,565.321 1933.08,571.852 1937.87,578.446 1942.66,585.102 1947.45,591.821 1952.24,598.601 \n",
       "  1957.03,605.443 1961.82,612.347 1966.61,619.311 1971.4,626.335 1976.19,633.419 1980.99,640.562 1985.78,647.764 1990.57,655.024 1995.36,662.341 2000.15,669.715 \n",
       "  2004.94,677.145 2009.73,684.63 2014.52,692.169 2019.31,699.762 2024.1,707.407 2028.89,715.104 2033.68,722.852 2038.48,730.65 2043.27,738.496 2048.06,746.39 \n",
       "  2052.85,754.33 2057.64,762.316 2062.43,770.346 2067.22,778.419 2072.01,786.533 2076.8,794.688 2081.59,802.882 2086.38,811.114 2091.18,819.381 2095.97,827.684 \n",
       "  2100.76,836.019 2105.55,844.386 2110.34,852.784 2115.13,861.209 2119.92,869.662 2124.71,878.14 2129.5,886.641 2134.29,895.164 2139.08,903.706 2143.87,912.267 \n",
       "  2148.67,920.844 2153.46,929.435 2158.25,938.038 2163.04,946.652 2167.83,955.275 2172.62,963.904 2177.41,972.537 2182.2,981.173 2186.99,989.809 2191.78,998.444 \n",
       "  2196.57,1007.07 2201.36,1015.7 2206.16,1024.32 2210.95,1032.92 2215.74,1041.52 2220.53,1050.09 2225.32,1058.66 2230.11,1067.2 2234.9,1075.72 2239.69,1084.22 \n",
       "  2244.48,1092.7 2249.27,1101.14 2254.06,1109.56 2258.86,1117.94 2263.65,1126.29 2268.44,1134.6 2273.23,1142.87 2278.02,1151.1 2282.81,1159.29 2287.6,1167.44 \n",
       "  2292.39,1175.53 \n",
       "  \"/>\n",
       "<polyline clip-path=\"url(#clip422)\" style=\"stroke:#e26f46; stroke-linecap:butt; stroke-linejoin:round; stroke-width:4; stroke-opacity:1; fill:none\" points=\"\n",
       "  280.231,593.88 285.022,586.867 289.813,579.935 294.604,573.085 299.394,566.317 304.185,559.632 308.976,553.029 313.767,546.508 318.558,540.07 323.349,533.714 \n",
       "  328.14,527.441 332.93,521.25 337.721,515.14 342.512,509.113 347.303,503.167 352.094,497.303 356.885,491.52 361.676,485.817 366.466,480.195 371.257,474.653 \n",
       "  376.048,469.191 380.839,463.808 385.63,458.504 390.421,453.278 395.212,448.131 400.002,443.06 404.793,438.066 409.584,433.149 414.375,428.307 419.166,423.541 \n",
       "  423.957,418.848 428.748,414.23 433.538,409.686 438.329,405.213 443.12,400.813 447.911,396.484 452.702,392.226 457.493,388.038 462.284,383.919 467.074,379.869 \n",
       "  471.865,375.887 476.656,371.972 481.447,368.123 486.238,364.34 491.029,360.623 495.82,356.969 500.61,353.379 505.401,349.852 510.192,346.387 514.983,342.984 \n",
       "  519.774,339.641 524.565,336.358 529.356,333.134 534.147,329.969 538.937,326.861 543.728,323.81 548.519,320.816 553.31,317.877 558.101,314.993 562.892,312.163 \n",
       "  567.683,309.386 572.473,306.662 577.264,303.99 582.055,301.369 586.846,298.798 591.637,296.277 596.428,293.806 601.219,291.383 606.009,289.008 610.8,286.68 \n",
       "  615.591,284.398 620.382,282.162 625.173,279.971 629.964,277.825 634.755,275.722 639.545,273.663 644.336,271.646 649.127,269.672 653.918,267.738 658.709,265.846 \n",
       "  663.5,263.993 668.291,262.181 673.081,260.407 677.872,258.672 682.663,256.974 687.454,255.314 692.245,253.691 697.036,252.104 701.827,250.553 706.617,249.037 \n",
       "  711.408,247.556 716.199,246.109 720.99,244.696 725.781,243.316 730.572,241.969 735.363,240.654 740.153,239.371 744.944,238.119 749.735,236.898 754.526,235.708 \n",
       "  759.317,234.548 764.108,233.418 768.899,232.317 773.689,231.245 778.48,230.201 783.271,229.186 788.062,228.198 792.853,227.238 797.644,226.305 802.435,225.398 \n",
       "  807.225,224.518 812.016,223.663 816.807,222.835 821.598,222.032 826.389,221.253 831.18,220.5 835.971,219.771 840.761,219.066 845.552,218.386 850.343,217.728 \n",
       "  855.134,217.095 859.925,216.484 864.716,215.896 869.507,215.331 874.297,214.788 879.088,214.267 883.879,213.768 888.67,213.291 893.461,212.836 898.252,212.401 \n",
       "  903.043,211.988 907.833,211.596 912.624,211.224 917.415,210.873 922.206,210.543 926.997,210.233 931.788,209.942 936.579,209.672 941.369,209.422 946.16,209.191 \n",
       "  950.951,208.979 955.742,208.788 960.533,208.615 965.324,208.461 970.115,208.327 974.905,208.211 979.696,208.115 984.487,208.037 989.278,207.978 994.069,207.937 \n",
       "  998.86,207.915 1003.65,207.911 1008.44,207.926 1013.23,207.959 1018.02,208.01 1022.81,208.079 1027.6,208.167 1032.4,208.273 1037.19,208.397 1041.98,208.539 \n",
       "  1046.77,208.698 1051.56,208.876 1056.35,209.072 1061.14,209.286 1065.93,209.518 1070.72,209.768 1075.51,210.036 1080.3,210.322 1085.1,210.626 1089.89,210.949 \n",
       "  1094.68,211.289 1099.47,211.647 1104.26,212.023 1109.05,212.418 1113.84,212.831 1118.63,213.262 1123.42,213.711 1128.21,214.179 1133,214.665 1137.79,215.17 \n",
       "  1142.59,215.693 1147.38,216.235 1152.17,216.795 1156.96,217.375 1161.75,217.973 1166.54,218.59 1171.33,219.226 1176.12,219.882 1180.91,220.557 1185.7,221.251 \n",
       "  1190.49,221.965 1195.28,222.698 1200.08,223.451 1204.87,224.224 1209.66,225.017 1214.45,225.831 1219.24,226.664 1224.03,227.518 1228.82,228.393 1233.61,229.288 \n",
       "  1238.4,230.205 1243.19,231.142 1247.98,232.101 1252.78,233.081 1257.57,234.083 1262.36,235.107 1267.15,236.152 1271.94,237.22 1276.73,238.311 1281.52,239.424 \n",
       "  1286.31,240.559 1291.1,241.718 1295.89,242.9 1300.68,244.106 1305.47,245.335 1310.27,246.588 1315.06,247.866 1319.85,249.168 1324.64,250.494 1329.43,251.846 \n",
       "  1334.22,253.222 1339.01,254.625 1343.8,256.053 1348.59,257.507 1353.38,258.987 1358.17,260.494 1362.96,262.028 1367.76,263.589 1372.55,265.178 1377.34,266.794 \n",
       "  1382.13,268.439 1386.92,270.112 1391.71,271.813 1396.5,273.544 1401.29,275.305 1406.08,277.095 1410.87,278.915 1415.66,280.766 1420.46,282.648 1425.25,284.561 \n",
       "  1430.04,286.505 1434.83,288.482 1439.62,290.491 1444.41,292.533 1449.2,294.607 1453.99,296.716 1458.78,298.858 1463.57,301.035 1468.36,303.247 1473.15,305.494 \n",
       "  1477.95,307.776 1482.74,310.095 1487.53,312.45 1492.32,314.842 1497.11,317.272 1501.9,319.74 1506.69,322.246 1511.48,324.791 1516.27,327.375 1521.06,329.999 \n",
       "  1525.85,332.663 1530.64,335.369 1535.44,338.115 1540.23,340.904 1545.02,343.734 1549.81,346.608 1554.6,349.525 1559.39,352.485 1564.18,355.491 1568.97,358.541 \n",
       "  1573.76,361.636 1578.55,364.778 1583.34,367.966 1588.14,371.202 1592.93,374.485 1597.72,377.817 1602.51,381.197 1607.3,384.627 1612.09,388.106 1616.88,391.636 \n",
       "  1621.67,395.218 1626.46,398.851 1631.25,402.536 1636.04,406.274 1640.83,410.066 1645.63,413.911 1650.42,417.811 1655.21,421.767 1660,425.778 1664.79,429.845 \n",
       "  1669.58,433.97 1674.37,438.151 1679.16,442.391 1683.95,446.69 1688.74,451.048 1693.53,455.465 1698.32,459.943 1703.12,464.482 1707.91,469.082 1712.7,473.744 \n",
       "  1717.49,478.469 1722.28,483.256 1727.07,488.108 1731.86,493.023 1736.65,498.003 1741.44,503.048 1746.23,508.158 1751.02,513.334 1755.82,518.577 1760.61,523.887 \n",
       "  1765.4,529.263 1770.19,534.708 1774.98,540.22 1779.77,545.801 1784.56,551.451 1789.35,557.17 1794.14,562.958 1798.93,568.815 1803.72,574.743 1808.51,580.741 \n",
       "  1813.31,586.809 1818.1,592.947 1822.89,599.156 1827.68,605.436 1832.47,611.786 1837.26,618.208 1842.05,624.7 1846.84,631.263 1851.63,637.897 1856.42,644.601 \n",
       "  1861.21,651.376 1866,658.221 1870.8,665.137 1875.59,672.122 1880.38,679.177 1885.17,686.301 1889.96,693.494 1894.75,700.755 1899.54,708.084 1904.33,715.48 \n",
       "  1909.12,722.943 1913.91,730.472 1918.7,738.067 1923.5,745.726 1928.29,753.448 1933.08,761.234 1937.87,769.082 1942.66,776.99 1947.45,784.959 1952.24,792.986 \n",
       "  1957.03,801.071 1961.82,809.213 1966.61,817.41 1971.4,825.66 1976.19,833.963 1980.99,842.317 1985.78,850.72 1990.57,859.172 1995.36,867.669 2000.15,876.211 \n",
       "  2004.94,884.795 2009.73,893.42 2014.52,902.084 2019.31,910.786 2024.1,919.522 2028.89,928.291 2033.68,937.09 2038.48,945.918 2043.27,954.773 2048.06,963.651 \n",
       "  2052.85,972.551 2057.64,981.47 2062.43,990.406 2067.22,999.356 2072.01,1008.32 2076.8,1017.29 2081.59,1026.27 2086.38,1035.25 2091.18,1044.23 2095.97,1053.21 \n",
       "  2100.76,1062.18 2105.55,1071.15 2110.34,1080.11 2115.13,1089.05 2119.92,1097.98 2124.71,1106.89 2129.5,1115.77 2134.29,1124.64 2139.08,1133.47 2143.87,1142.27 \n",
       "  2148.67,1151.04 2153.46,1159.77 2158.25,1168.46 2163.04,1177.11 2167.83,1185.71 2172.62,1194.27 2177.41,1202.77 2182.2,1211.21 2186.99,1219.6 2191.78,1227.93 \n",
       "  2196.57,1236.2 2201.36,1244.39 2206.16,1252.52 2210.95,1260.58 2215.74,1268.56 2220.53,1276.47 2225.32,1284.3 2230.11,1292.04 2234.9,1299.7 2239.69,1307.28 \n",
       "  2244.48,1314.76 2249.27,1322.15 2254.06,1329.45 2258.86,1336.65 2263.65,1343.76 2268.44,1350.77 2273.23,1357.67 2278.02,1364.47 2282.81,1371.17 2287.6,1377.76 \n",
       "  2292.39,1384.24 \n",
       "  \"/>\n",
       "<polyline clip-path=\"url(#clip422)\" style=\"stroke:#3da44d; stroke-linecap:butt; stroke-linejoin:round; stroke-width:4; stroke-opacity:1; fill:none\" points=\"\n",
       "  280.231,194.618 285.022,192.9 289.813,191.203 294.604,189.526 299.394,187.871 304.185,186.235 308.976,184.62 313.767,183.024 318.558,181.448 323.349,179.891 \n",
       "  328.14,178.353 332.93,176.835 337.721,175.335 342.512,173.853 347.303,172.39 352.094,170.945 356.885,169.517 361.676,168.108 366.466,166.715 371.257,165.34 \n",
       "  376.048,163.982 380.839,162.641 385.63,161.317 390.421,160.009 395.212,158.717 400.002,157.441 404.793,156.181 409.584,154.937 414.375,153.708 419.166,152.495 \n",
       "  423.957,151.297 428.748,150.114 433.538,148.946 438.329,147.792 443.12,146.653 447.911,145.529 452.702,144.418 457.493,143.322 462.284,142.24 467.074,141.171 \n",
       "  471.865,140.116 476.656,139.074 481.447,138.046 486.238,137.031 491.029,136.029 495.82,135.04 500.61,134.063 505.401,133.099 510.192,132.148 514.983,131.209 \n",
       "  519.774,130.283 524.565,129.368 529.356,128.466 534.147,127.575 538.937,126.697 543.728,125.83 548.519,124.974 553.31,124.13 558.101,123.298 562.892,122.476 \n",
       "  567.683,121.666 572.473,120.867 577.264,120.079 582.055,119.302 586.846,118.536 591.637,117.78 596.428,117.035 601.219,116.3 606.009,115.576 610.8,114.862 \n",
       "  615.591,114.159 620.382,113.465 625.173,112.782 629.964,112.109 634.755,111.446 639.545,110.792 644.336,110.149 649.127,109.515 653.918,108.891 658.709,108.276 \n",
       "  663.5,107.672 668.291,107.076 673.081,106.49 677.872,105.913 682.663,105.346 687.454,104.787 692.245,104.238 697.036,103.698 701.827,103.167 706.617,102.646 \n",
       "  711.408,102.133 716.199,101.628 720.99,101.133 725.781,100.647 730.572,100.169 735.363,99.6999 740.153,99.2395 744.944,98.7876 749.735,98.3443 754.526,97.9095 \n",
       "  759.317,97.4832 764.108,97.0653 768.899,96.6557 773.689,96.2545 778.48,95.8615 783.271,95.4768 788.062,95.1003 792.853,94.732 797.644,94.3718 802.435,94.0198 \n",
       "  807.225,93.6758 812.016,93.3398 816.807,93.0118 821.598,92.6918 826.389,92.3797 831.18,92.0755 835.971,91.7792 840.761,91.4908 845.552,91.2102 850.343,90.9373 \n",
       "  855.134,90.6723 859.925,90.415 864.716,90.1654 869.507,89.9235 874.297,89.6893 879.088,89.4628 883.879,89.2439 888.67,89.0327 893.461,88.8291 898.252,88.633 \n",
       "  903.043,88.4446 907.833,88.2637 912.624,88.0904 917.415,87.9247 922.206,87.7665 926.997,87.6158 931.788,87.4726 936.579,87.337 941.369,87.2089 946.16,87.0884 \n",
       "  950.951,86.9753 955.742,86.8698 960.533,86.7718 965.324,86.6813 970.115,86.5984 974.905,86.523 979.696,86.4551 984.487,86.3948 989.278,86.3421 994.069,86.297 \n",
       "  998.86,86.2594 1003.65,86.2295 1008.44,86.2072 1013.23,86.1926 1018.02,86.1857 1022.81,86.1864 1027.6,86.1949 1032.4,86.2111 1037.19,86.2351 1041.98,86.267 \n",
       "  1046.77,86.3066 1051.56,86.3542 1056.35,86.4097 1061.14,86.4731 1065.93,86.5445 1070.72,86.624 1075.51,86.7116 1080.3,86.8073 1085.1,86.9111 1089.89,87.0232 \n",
       "  1094.68,87.1436 1099.47,87.2724 1104.26,87.4095 1109.05,87.5551 1113.84,87.7093 1118.63,87.872 1123.42,88.0434 1128.21,88.2235 1133,88.4124 1137.79,88.6102 \n",
       "  1142.59,88.8169 1147.38,89.0327 1152.17,89.2576 1156.96,89.4917 1161.75,89.7351 1166.54,89.9879 1171.33,90.2501 1176.12,90.5219 1180.91,90.8034 1185.7,91.0946 \n",
       "  1190.49,91.3958 1195.28,91.7069 1200.08,92.0281 1204.87,92.3595 1209.66,92.7012 1214.45,93.0533 1219.24,93.4161 1224.03,93.7895 1228.82,94.1737 1233.61,94.5689 \n",
       "  1238.4,94.9752 1243.19,95.3927 1247.98,95.8215 1252.78,96.2619 1257.57,96.7139 1262.36,97.1778 1267.15,97.6535 1271.94,98.1415 1276.73,98.6417 1281.52,99.1543 \n",
       "  1286.31,99.6796 1291.1,100.218 1295.89,100.769 1300.68,101.333 1305.47,101.91 1310.27,102.501 1315.06,103.106 1319.85,103.725 1324.64,104.357 1329.43,105.004 \n",
       "  1334.22,105.666 1339.01,106.342 1343.8,107.033 1348.59,107.74 1353.38,108.461 1358.17,109.199 1362.96,109.952 1367.76,110.721 1372.55,111.506 1377.34,112.308 \n",
       "  1382.13,113.127 1386.92,113.963 1391.71,114.816 1396.5,115.686 1401.29,116.575 1406.08,117.481 1410.87,118.406 1415.66,119.349 1420.46,120.312 1425.25,121.293 \n",
       "  1430.04,122.294 1434.83,123.315 1439.62,124.355 1444.41,125.416 1449.2,126.498 1453.99,127.6 1458.78,128.724 1463.57,129.87 1468.36,131.037 1473.15,132.226 \n",
       "  1477.95,133.438 1482.74,134.673 1487.53,135.931 1492.32,137.212 1497.11,138.517 1501.9,139.847 1506.69,141.201 1511.48,142.58 1516.27,143.984 1521.06,145.413 \n",
       "  1525.85,146.869 1530.64,148.351 1535.44,149.859 1540.23,151.395 1545.02,152.958 1549.81,154.549 1554.6,156.168 1559.39,157.815 1564.18,159.491 1568.97,161.197 \n",
       "  1573.76,162.932 1578.55,164.697 1583.34,166.493 1588.14,168.319 1592.93,170.177 1597.72,172.066 1602.51,173.987 1607.3,175.94 1612.09,177.926 1616.88,179.946 \n",
       "  1621.67,181.999 1626.46,184.085 1631.25,186.206 1636.04,188.362 1640.83,190.553 1645.63,192.779 1650.42,195.041 1655.21,197.34 1660,199.675 1664.79,202.047 \n",
       "  1669.58,204.456 1674.37,206.904 1679.16,209.389 1683.95,211.913 1688.74,214.476 1693.53,217.078 1698.32,219.719 1703.12,222.401 1707.91,225.123 1712.7,227.886 \n",
       "  1717.49,230.69 1722.28,233.535 1727.07,236.422 1731.86,239.351 1736.65,242.323 1741.44,245.337 1746.23,248.395 1751.02,251.496 1755.82,254.64 1760.61,257.829 \n",
       "  1765.4,261.062 1770.19,264.34 1774.98,267.662 1779.77,271.03 1784.56,274.443 1789.35,277.902 1794.14,281.407 1798.93,284.958 1803.72,288.555 1808.51,292.2 \n",
       "  1813.31,295.891 1818.1,299.63 1822.89,303.415 1827.68,307.249 1832.47,311.13 1837.26,315.059 1842.05,319.037 1846.84,323.062 1851.63,327.136 1856.42,331.259 \n",
       "  1861.21,335.43 1866,339.651 1870.8,343.92 1875.59,348.239 1880.38,352.606 1885.17,357.023 1889.96,361.49 1894.75,366.006 1899.54,370.571 1904.33,375.186 \n",
       "  1909.12,379.85 1913.91,384.564 1918.7,389.328 1923.5,394.142 1928.29,399.005 1933.08,403.917 1937.87,408.879 1942.66,413.891 1947.45,418.952 1952.24,424.063 \n",
       "  1957.03,429.223 1961.82,434.432 1966.61,439.69 1971.4,444.997 1976.19,450.354 1980.99,455.759 1985.78,461.212 1990.57,466.714 1995.36,472.265 2000.15,477.863 \n",
       "  2004.94,483.509 2009.73,489.203 2014.52,494.944 2019.31,500.733 2024.1,506.568 2028.89,512.45 2033.68,518.378 2038.48,524.353 2043.27,530.373 2048.06,536.438 \n",
       "  2052.85,542.549 2057.64,548.704 2062.43,554.903 2067.22,561.147 2072.01,567.434 2076.8,573.764 2081.59,580.137 2086.38,586.552 2091.18,593.008 2095.97,599.506 \n",
       "  2100.76,606.045 2105.55,612.624 2110.34,619.243 2115.13,625.901 2119.92,632.597 2124.71,639.332 2129.5,646.104 2134.29,652.913 2139.08,659.758 2143.87,666.638 \n",
       "  2148.67,673.554 2153.46,680.503 2158.25,687.486 2163.04,694.502 2167.83,701.55 2172.62,708.629 2177.41,715.739 2182.2,722.879 2186.99,730.047 2191.78,737.244 \n",
       "  2196.57,744.468 2201.36,751.719 2206.16,758.995 2210.95,766.296 2215.74,773.62 2220.53,780.968 2225.32,788.337 2230.11,795.728 2234.9,803.138 2239.69,810.568 \n",
       "  2244.48,818.016 2249.27,825.481 2254.06,832.962 2258.86,840.457 2263.65,847.967 2268.44,855.49 2273.23,863.025 2278.02,870.57 2282.81,878.125 2287.6,885.688 \n",
       "  2292.39,893.259 \n",
       "  \"/>\n",
       "<path clip-path=\"url(#clip420)\" d=\"\n",
       "M1909.81 300.469 L2281.66 300.469 L2281.66 93.1086 L1909.81 93.1086  Z\n",
       "  \" fill=\"#ffffff\" fill-rule=\"evenodd\" fill-opacity=\"1\"/>\n",
       "<polyline clip-path=\"url(#clip420)\" style=\"stroke:#000000; stroke-linecap:butt; stroke-linejoin:round; stroke-width:4; stroke-opacity:1; fill:none\" points=\"\n",
       "  1909.81,300.469 2281.66,300.469 2281.66,93.1086 1909.81,93.1086 1909.81,300.469 \n",
       "  \"/>\n",
       "<polyline clip-path=\"url(#clip420)\" style=\"stroke:#009af9; stroke-linecap:butt; stroke-linejoin:round; stroke-width:4; stroke-opacity:1; fill:none\" points=\"\n",
       "  1933.51,144.949 2075.7,144.949 \n",
       "  \"/>\n",
       "<path clip-path=\"url(#clip420)\" d=\"M2099.4 126.21 L2103.66 126.21 L2103.66 162.229 L2099.4 162.229 L2099.4 126.21 Z\" fill=\"#000000\" fill-rule=\"evenodd\" fill-opacity=\"1\" /><path clip-path=\"url(#clip420)\" d=\"M2125.7 126.21 L2125.7 129.752 L2121.62 129.752 Q2119.33 129.752 2118.43 130.678 Q2117.55 131.604 2117.55 134.011 L2117.55 136.303 L2124.56 136.303 L2124.56 139.613 L2117.55 139.613 L2117.55 162.229 L2113.27 162.229 L2113.27 139.613 L2109.19 139.613 L2109.19 136.303 L2113.27 136.303 L2113.27 134.497 Q2113.27 130.169 2115.28 128.201 Q2117.3 126.21 2121.67 126.21 L2125.7 126.21 Z\" fill=\"#000000\" fill-rule=\"evenodd\" fill-opacity=\"1\" /><path clip-path=\"url(#clip420)\" d=\"M2133.38 158.34 L2133.38 172.09 L2129.1 172.09 L2129.1 136.303 L2133.38 136.303 L2133.38 140.238 Q2134.73 137.923 2136.76 136.812 Q2138.82 135.678 2141.67 135.678 Q2146.39 135.678 2149.33 139.428 Q2152.29 143.178 2152.29 149.289 Q2152.29 155.4 2149.33 159.15 Q2146.39 162.9 2141.67 162.9 Q2138.82 162.9 2136.76 161.789 Q2134.73 160.655 2133.38 158.34 M2147.87 149.289 Q2147.87 144.59 2145.93 141.928 Q2144.01 139.243 2140.63 139.243 Q2137.25 139.243 2135.3 141.928 Q2133.38 144.59 2133.38 149.289 Q2133.38 153.988 2135.3 156.673 Q2137.25 159.335 2140.63 159.335 Q2144.01 159.335 2145.93 156.673 Q2147.87 153.988 2147.87 149.289 Z\" fill=\"#000000\" fill-rule=\"evenodd\" fill-opacity=\"1\" /><polyline clip-path=\"url(#clip420)\" style=\"stroke:#e26f46; stroke-linecap:butt; stroke-linejoin:round; stroke-width:4; stroke-opacity:1; fill:none\" points=\"\n",
       "  1933.51,196.789 2075.7,196.789 \n",
       "  \"/>\n",
       "<path clip-path=\"url(#clip420)\" d=\"M2099.4 178.05 L2103.66 178.05 L2103.66 214.069 L2099.4 214.069 L2099.4 178.05 Z\" fill=\"#000000\" fill-rule=\"evenodd\" fill-opacity=\"1\" /><path clip-path=\"url(#clip420)\" d=\"M2122.62 191.129 Q2119.19 191.129 2117.2 193.814 Q2115.21 196.476 2115.21 201.129 Q2115.21 205.782 2117.18 208.467 Q2119.17 211.129 2122.62 211.129 Q2126.02 211.129 2128.01 208.444 Q2130 205.758 2130 201.129 Q2130 196.522 2128.01 193.837 Q2126.02 191.129 2122.62 191.129 M2122.62 187.518 Q2128.17 187.518 2131.35 191.129 Q2134.52 194.74 2134.52 201.129 Q2134.52 207.495 2131.35 211.129 Q2128.17 214.74 2122.62 214.74 Q2117.04 214.74 2113.87 211.129 Q2110.72 207.495 2110.72 201.129 Q2110.72 194.74 2113.87 191.129 Q2117.04 187.518 2122.62 187.518 Z\" fill=\"#000000\" fill-rule=\"evenodd\" fill-opacity=\"1\" /><path clip-path=\"url(#clip420)\" d=\"M2139.1 188.143 L2143.36 188.143 L2148.68 208.374 L2153.98 188.143 L2159.01 188.143 L2164.33 208.374 L2169.63 188.143 L2173.89 188.143 L2167.11 214.069 L2162.09 214.069 L2156.51 192.819 L2150.91 214.069 L2145.88 214.069 L2139.1 188.143 Z\" fill=\"#000000\" fill-rule=\"evenodd\" fill-opacity=\"1\" /><path clip-path=\"url(#clip420)\" d=\"M2202.53 200.041 L2202.53 202.124 L2182.94 202.124 Q2183.22 206.522 2185.58 208.837 Q2187.97 211.129 2192.2 211.129 Q2194.66 211.129 2196.95 210.527 Q2199.26 209.925 2201.53 208.721 L2201.53 212.749 Q2199.24 213.721 2196.83 214.231 Q2194.42 214.74 2191.95 214.74 Q2185.74 214.74 2182.11 211.129 Q2178.5 207.518 2178.5 201.36 Q2178.5 194.995 2181.92 191.268 Q2185.37 187.518 2191.21 187.518 Q2196.44 187.518 2199.47 190.897 Q2202.53 194.254 2202.53 200.041 M2198.27 198.791 Q2198.22 195.296 2196.3 193.212 Q2194.4 191.129 2191.25 191.129 Q2187.69 191.129 2185.54 193.143 Q2183.41 195.157 2183.08 198.814 L2198.27 198.791 Z\" fill=\"#000000\" fill-rule=\"evenodd\" fill-opacity=\"1\" /><path clip-path=\"url(#clip420)\" d=\"M2224.54 192.124 Q2223.82 191.708 2222.97 191.522 Q2222.13 191.314 2221.11 191.314 Q2217.5 191.314 2215.56 193.675 Q2213.64 196.013 2213.64 200.411 L2213.64 214.069 L2209.35 214.069 L2209.35 188.143 L2213.64 188.143 L2213.64 192.171 Q2214.98 189.809 2217.13 188.675 Q2219.29 187.518 2222.36 187.518 Q2222.8 187.518 2223.34 187.587 Q2223.87 187.634 2224.52 187.749 L2224.54 192.124 Z\" fill=\"#000000\" fill-rule=\"evenodd\" fill-opacity=\"1\" /><polyline clip-path=\"url(#clip420)\" style=\"stroke:#3da44d; stroke-linecap:butt; stroke-linejoin:round; stroke-width:4; stroke-opacity:1; fill:none\" points=\"\n",
       "  1933.51,248.629 2075.7,248.629 \n",
       "  \"/>\n",
       "<path clip-path=\"url(#clip420)\" d=\"M2099.4 255.677 L2099.4 239.983 L2103.66 239.983 L2103.66 255.515 Q2103.66 259.196 2105.1 261.048 Q2106.53 262.876 2109.4 262.876 Q2112.85 262.876 2114.84 260.677 Q2116.86 258.478 2116.86 254.682 L2116.86 239.983 L2121.11 239.983 L2121.11 265.909 L2116.86 265.909 L2116.86 261.927 Q2115.3 264.288 2113.24 265.446 Q2111.21 266.58 2108.5 266.58 Q2104.03 266.58 2101.72 263.802 Q2099.4 261.024 2099.4 255.677 M2110.12 239.358 L2110.12 239.358 Z\" fill=\"#000000\" fill-rule=\"evenodd\" fill-opacity=\"1\" /><path clip-path=\"url(#clip420)\" d=\"M2134.01 262.02 L2134.01 275.77 L2129.73 275.77 L2129.73 239.983 L2134.01 239.983 L2134.01 243.918 Q2135.35 241.603 2137.39 240.492 Q2139.45 239.358 2142.29 239.358 Q2147.02 239.358 2149.96 243.108 Q2152.92 246.858 2152.92 252.969 Q2152.92 259.08 2149.96 262.83 Q2147.02 266.58 2142.29 266.58 Q2139.45 266.58 2137.39 265.469 Q2135.35 264.335 2134.01 262.02 M2148.5 252.969 Q2148.5 248.27 2146.55 245.608 Q2144.63 242.923 2141.25 242.923 Q2137.87 242.923 2135.93 245.608 Q2134.01 248.27 2134.01 252.969 Q2134.01 257.668 2135.93 260.353 Q2137.87 263.015 2141.25 263.015 Q2144.63 263.015 2146.55 260.353 Q2148.5 257.668 2148.5 252.969 Z\" fill=\"#000000\" fill-rule=\"evenodd\" fill-opacity=\"1\" /><path clip-path=\"url(#clip420)\" d=\"M2164.1 262.02 L2164.1 275.77 L2159.82 275.77 L2159.82 239.983 L2164.1 239.983 L2164.1 243.918 Q2165.44 241.603 2167.48 240.492 Q2169.54 239.358 2172.39 239.358 Q2177.11 239.358 2180.05 243.108 Q2183.01 246.858 2183.01 252.969 Q2183.01 259.08 2180.05 262.83 Q2177.11 266.58 2172.39 266.58 Q2169.54 266.58 2167.48 265.469 Q2165.44 264.335 2164.1 262.02 M2178.59 252.969 Q2178.59 248.27 2176.65 245.608 Q2174.73 242.923 2171.35 242.923 Q2167.97 242.923 2166.02 245.608 Q2164.1 248.27 2164.1 252.969 Q2164.1 257.668 2166.02 260.353 Q2167.97 263.015 2171.35 263.015 Q2174.73 263.015 2176.65 260.353 Q2178.59 257.668 2178.59 252.969 Z\" fill=\"#000000\" fill-rule=\"evenodd\" fill-opacity=\"1\" /><path clip-path=\"url(#clip420)\" d=\"M2212.25 251.881 L2212.25 253.964 L2192.67 253.964 Q2192.94 258.362 2195.3 260.677 Q2197.69 262.969 2201.92 262.969 Q2204.38 262.969 2206.67 262.367 Q2208.98 261.765 2211.25 260.561 L2211.25 264.589 Q2208.96 265.561 2206.55 266.071 Q2204.15 266.58 2201.67 266.58 Q2195.47 266.58 2191.83 262.969 Q2188.22 259.358 2188.22 253.2 Q2188.22 246.835 2191.65 243.108 Q2195.1 239.358 2200.93 239.358 Q2206.16 239.358 2209.19 242.737 Q2212.25 246.094 2212.25 251.881 M2207.99 250.631 Q2207.94 247.136 2206.02 245.052 Q2204.12 242.969 2200.98 242.969 Q2197.41 242.969 2195.26 244.983 Q2193.13 246.997 2192.8 250.654 L2207.99 250.631 Z\" fill=\"#000000\" fill-rule=\"evenodd\" fill-opacity=\"1\" /><path clip-path=\"url(#clip420)\" d=\"M2234.26 243.964 Q2233.54 243.548 2232.69 243.362 Q2231.85 243.154 2230.84 243.154 Q2227.23 243.154 2225.28 245.515 Q2223.36 247.853 2223.36 252.251 L2223.36 265.909 L2219.08 265.909 L2219.08 239.983 L2223.36 239.983 L2223.36 244.011 Q2224.7 241.649 2226.85 240.515 Q2229.01 239.358 2232.09 239.358 Q2232.53 239.358 2233.06 239.427 Q2233.59 239.474 2234.24 239.589 L2234.26 243.964 Z\" fill=\"#000000\" fill-rule=\"evenodd\" fill-opacity=\"1\" /></svg>\n"
      ]
     },
     "execution_count": 23,
     "metadata": {},
     "output_type": "execute_result"
    }
   ],
   "source": [
    "plot(df_pred.age, Matrix(probit_pred), labels=[\"lfp\" \"lower\" \"upper\"],\n",
    "     xlabel=\"age\", ylabel=\"Pr(lfp=1)\")"
   ]
  },
  {
   "cell_type": "code",
   "execution_count": 19,
   "metadata": {},
   "outputs": [
    {
     "data": {
      "text/plain": [
       "StatsModels.TableRegressionModel{GeneralizedLinearModel{GLM.GlmResp{Vector{Float64}, Binomial{Float64}, ProbitLink}, GLM.DensePredChol{Float64, LinearAlgebra.Cholesky{Float64, Matrix{Float64}}}}, Matrix{Float64}}\n",
       "\n",
       "lfp ~ 1 + lnnlinc + age + :(age ^ 2) + educ + nyc + noc + foreign\n",
       "\n",
       "Coefficients:\n",
       "────────────────────────────────────────────────────────────────────────────\n",
       "                   Coef.  Std. Error      z  Pr(>|z|)  Lower 95%   Upper 95%\n",
       "────────────────────────────────────────────────────────────────────────────\n",
       "(Intercept)    3.74896     1.40663     2.67    0.0077   0.992006   6.50591\n",
       "lnnlinc       -0.666932    0.13192    -5.06    <1e-06  -0.92549   -0.408374\n",
       "age            2.07531     0.405407    5.12    <1e-06   1.28073    2.86989\n",
       "age ^ 2       -0.294345    0.0499446  -5.89    <1e-08  -0.392235  -0.196456\n",
       "educ           0.0191963   0.0179255   1.07    0.2842  -0.015937   0.0543295\n",
       "nyc           -0.714465    0.100397   -7.12    <1e-11  -0.911238  -0.517691\n",
       "noc           -0.146985    0.0508854  -2.89    0.0039  -0.246718  -0.0472509\n",
       "foreign: yes   0.71438     0.121324    5.89    <1e-08   0.476589   0.95217\n",
       "────────────────────────────────────────────────────────────────────────────"
      ]
     },
     "execution_count": 19,
     "metadata": {},
     "output_type": "execute_result"
    }
   ],
   "source": [
    "probit"
   ]
  },
  {
   "cell_type": "code",
   "execution_count": 20,
   "metadata": {},
   "outputs": [
    {
     "data": {
      "text/plain": [
       "boot_sample (generic function with 1 method)"
      ]
     },
     "execution_count": 20,
     "metadata": {},
     "output_type": "execute_result"
    }
   ],
   "source": [
    "function boot_sample(df)\n",
    "    df_boot = df[rand(1:nrow(df), nrow(df)), :]\n",
    "    probit_boot = glm(@formula(lfp ~ lnnlinc + age + age^2 + educ + nyc + noc + foreign),\n",
    "                      df_boot, Binomial(), ProbitLink())\n",
    "    return (; (Symbol.(coefnames(probit_boot)) .=> coef(probit_boot))...)\n",
    "end"
   ]
  },
  {
   "cell_type": "code",
   "execution_count": 21,
   "metadata": {},
   "outputs": [
    {
     "data": {
      "text/plain": [
       "run_boot (generic function with 1 method)"
      ]
     },
     "execution_count": 21,
     "metadata": {},
     "output_type": "execute_result"
    }
   ],
   "source": [
    "function run_boot(df, reps)\n",
    "    coef_boot = DataFrame()\n",
    "    for _ in 1:reps\n",
    "        push!(coef_boot, boot_sample(df))\n",
    "    end\n",
    "    return coef_boot\n",
    "end"
   ]
  },
  {
   "cell_type": "code",
   "execution_count": 22,
   "metadata": {},
   "outputs": [
    {
     "name": "stdout",
     "output_type": "stream",
     "text": [
      "  4.493619 seconds (6.58 M allocations: 964.761 MiB, 4.83% gc time)\n"
     ]
    },
    {
     "data": {
      "text/html": [
       "<div class=\"data-frame\"><p>1,000 rows × 8 columns</p><table class=\"data-frame\"><thead><tr><th></th><th>(Intercept)</th><th>lnnlinc</th><th>age</th><th>age ^ 2</th><th>educ</th><th>nyc</th><th>noc</th><th>foreign: yes</th></tr><tr><th></th><th title=\"Float64\">Float64</th><th title=\"Float64\">Float64</th><th title=\"Float64\">Float64</th><th title=\"Float64\">Float64</th><th title=\"Float64\">Float64</th><th title=\"Float64\">Float64</th><th title=\"Float64\">Float64</th><th title=\"Float64\">Float64</th></tr></thead><tbody><tr><th>1</th><td>3.27668</td><td>-0.685018</td><td>2.43103</td><td>-0.346242</td><td>0.0358374</td><td>-0.656125</td><td>-0.204708</td><td>0.897463</td></tr><tr><th>2</th><td>3.46174</td><td>-0.604296</td><td>1.80522</td><td>-0.271183</td><td>0.0344276</td><td>-0.830026</td><td>-0.112685</td><td>0.849524</td></tr><tr><th>3</th><td>5.58553</td><td>-0.931202</td><td>2.56893</td><td>-0.351696</td><td>0.0088754</td><td>-0.661503</td><td>-0.132513</td><td>0.751413</td></tr><tr><th>4</th><td>5.36834</td><td>-0.869949</td><td>2.47276</td><td>-0.348879</td><td>0.0102268</td><td>-0.680439</td><td>-0.117942</td><td>0.460296</td></tr><tr><th>5</th><td>5.02884</td><td>-0.815314</td><td>2.23525</td><td>-0.309316</td><td>0.0122217</td><td>-0.679034</td><td>-0.156954</td><td>0.627065</td></tr><tr><th>6</th><td>3.18287</td><td>-0.66076</td><td>2.31433</td><td>-0.321379</td><td>0.019614</td><td>-0.716859</td><td>-0.178211</td><td>0.786647</td></tr><tr><th>7</th><td>5.90148</td><td>-0.781129</td><td>1.54387</td><td>-0.242073</td><td>0.0365077</td><td>-0.771876</td><td>-0.0974262</td><td>0.784947</td></tr><tr><th>8</th><td>2.91324</td><td>-0.502556</td><td>1.47766</td><td>-0.21431</td><td>0.0222138</td><td>-0.638783</td><td>-0.130559</td><td>0.785572</td></tr><tr><th>9</th><td>2.26184</td><td>-0.58512</td><td>2.32937</td><td>-0.325795</td><td>0.0320947</td><td>-0.695273</td><td>-0.109318</td><td>0.726193</td></tr><tr><th>10</th><td>5.07018</td><td>-0.760631</td><td>2.0212</td><td>-0.291794</td><td>0.0120951</td><td>-0.811062</td><td>-0.181992</td><td>0.732723</td></tr><tr><th>11</th><td>4.495</td><td>-0.68471</td><td>1.75418</td><td>-0.262963</td><td>0.0219971</td><td>-0.761671</td><td>-0.102704</td><td>0.875118</td></tr><tr><th>12</th><td>4.2758</td><td>-0.776629</td><td>2.25114</td><td>-0.317744</td><td>0.0538256</td><td>-0.786446</td><td>-0.191725</td><td>0.814185</td></tr><tr><th>13</th><td>5.25119</td><td>-0.918824</td><td>2.50674</td><td>-0.345674</td><td>0.0613745</td><td>-0.832087</td><td>-0.206557</td><td>0.972061</td></tr><tr><th>14</th><td>2.7135</td><td>-0.62188</td><td>2.42928</td><td>-0.336373</td><td>0.00439032</td><td>-0.737164</td><td>-0.101911</td><td>0.751079</td></tr><tr><th>15</th><td>2.33295</td><td>-0.496764</td><td>1.96116</td><td>-0.282521</td><td>0.00808349</td><td>-1.00032</td><td>-0.174452</td><td>0.792722</td></tr><tr><th>16</th><td>2.4115</td><td>-0.358799</td><td>1.30906</td><td>-0.209269</td><td>-0.0100682</td><td>-0.908253</td><td>-0.203487</td><td>0.774428</td></tr><tr><th>17</th><td>5.98789</td><td>-0.815425</td><td>1.5742</td><td>-0.224937</td><td>0.0249402</td><td>-0.532131</td><td>-0.0389038</td><td>0.489873</td></tr><tr><th>18</th><td>1.06655</td><td>-0.522929</td><td>2.64387</td><td>-0.358502</td><td>0.020522</td><td>-0.603649</td><td>-0.19275</td><td>0.665522</td></tr><tr><th>19</th><td>3.71053</td><td>-0.726775</td><td>2.54058</td><td>-0.361334</td><td>0.0329529</td><td>-0.972846</td><td>-0.230256</td><td>0.653925</td></tr><tr><th>20</th><td>3.13616</td><td>-0.648433</td><td>2.3537</td><td>-0.332097</td><td>0.0257304</td><td>-0.766528</td><td>-0.18774</td><td>0.726401</td></tr><tr><th>&vellip;</th><td>&vellip;</td><td>&vellip;</td><td>&vellip;</td><td>&vellip;</td><td>&vellip;</td><td>&vellip;</td><td>&vellip;</td><td>&vellip;</td></tr></tbody></table></div>"
      ],
      "text/latex": [
       "\\begin{tabular}{r|cccccccc}\n",
       "\t& (Intercept) & lnnlinc & age & age \\^ 2 & educ & nyc & noc & foreign: yes\\\\\n",
       "\t\\hline\n",
       "\t& Float64 & Float64 & Float64 & Float64 & Float64 & Float64 & Float64 & Float64\\\\\n",
       "\t\\hline\n",
       "\t1 & 3.27668 & -0.685018 & 2.43103 & -0.346242 & 0.0358374 & -0.656125 & -0.204708 & 0.897463 \\\\\n",
       "\t2 & 3.46174 & -0.604296 & 1.80522 & -0.271183 & 0.0344276 & -0.830026 & -0.112685 & 0.849524 \\\\\n",
       "\t3 & 5.58553 & -0.931202 & 2.56893 & -0.351696 & 0.0088754 & -0.661503 & -0.132513 & 0.751413 \\\\\n",
       "\t4 & 5.36834 & -0.869949 & 2.47276 & -0.348879 & 0.0102268 & -0.680439 & -0.117942 & 0.460296 \\\\\n",
       "\t5 & 5.02884 & -0.815314 & 2.23525 & -0.309316 & 0.0122217 & -0.679034 & -0.156954 & 0.627065 \\\\\n",
       "\t6 & 3.18287 & -0.66076 & 2.31433 & -0.321379 & 0.019614 & -0.716859 & -0.178211 & 0.786647 \\\\\n",
       "\t7 & 5.90148 & -0.781129 & 1.54387 & -0.242073 & 0.0365077 & -0.771876 & -0.0974262 & 0.784947 \\\\\n",
       "\t8 & 2.91324 & -0.502556 & 1.47766 & -0.21431 & 0.0222138 & -0.638783 & -0.130559 & 0.785572 \\\\\n",
       "\t9 & 2.26184 & -0.58512 & 2.32937 & -0.325795 & 0.0320947 & -0.695273 & -0.109318 & 0.726193 \\\\\n",
       "\t10 & 5.07018 & -0.760631 & 2.0212 & -0.291794 & 0.0120951 & -0.811062 & -0.181992 & 0.732723 \\\\\n",
       "\t11 & 4.495 & -0.68471 & 1.75418 & -0.262963 & 0.0219971 & -0.761671 & -0.102704 & 0.875118 \\\\\n",
       "\t12 & 4.2758 & -0.776629 & 2.25114 & -0.317744 & 0.0538256 & -0.786446 & -0.191725 & 0.814185 \\\\\n",
       "\t13 & 5.25119 & -0.918824 & 2.50674 & -0.345674 & 0.0613745 & -0.832087 & -0.206557 & 0.972061 \\\\\n",
       "\t14 & 2.7135 & -0.62188 & 2.42928 & -0.336373 & 0.00439032 & -0.737164 & -0.101911 & 0.751079 \\\\\n",
       "\t15 & 2.33295 & -0.496764 & 1.96116 & -0.282521 & 0.00808349 & -1.00032 & -0.174452 & 0.792722 \\\\\n",
       "\t16 & 2.4115 & -0.358799 & 1.30906 & -0.209269 & -0.0100682 & -0.908253 & -0.203487 & 0.774428 \\\\\n",
       "\t17 & 5.98789 & -0.815425 & 1.5742 & -0.224937 & 0.0249402 & -0.532131 & -0.0389038 & 0.489873 \\\\\n",
       "\t18 & 1.06655 & -0.522929 & 2.64387 & -0.358502 & 0.020522 & -0.603649 & -0.19275 & 0.665522 \\\\\n",
       "\t19 & 3.71053 & -0.726775 & 2.54058 & -0.361334 & 0.0329529 & -0.972846 & -0.230256 & 0.653925 \\\\\n",
       "\t20 & 3.13616 & -0.648433 & 2.3537 & -0.332097 & 0.0257304 & -0.766528 & -0.18774 & 0.726401 \\\\\n",
       "\t$\\dots$ & $\\dots$ & $\\dots$ & $\\dots$ & $\\dots$ & $\\dots$ & $\\dots$ & $\\dots$ & $\\dots$ \\\\\n",
       "\\end{tabular}\n"
      ],
      "text/plain": [
       "\u001b[1m1000×8 DataFrame\u001b[0m\n",
       "\u001b[1m  Row \u001b[0m│\u001b[1m (Intercept) \u001b[0m\u001b[1m lnnlinc   \u001b[0m\u001b[1m age     \u001b[0m\u001b[1m age ^ 2   \u001b[0m\u001b[1m educ         \u001b[0m\u001b[1m nyc       \u001b[0m\u001b[1m noc        \u001b[0m\u001b[1m foreign: yes \u001b[0m\n",
       "\u001b[1m      \u001b[0m│\u001b[90m Float64     \u001b[0m\u001b[90m Float64   \u001b[0m\u001b[90m Float64 \u001b[0m\u001b[90m Float64   \u001b[0m\u001b[90m Float64      \u001b[0m\u001b[90m Float64   \u001b[0m\u001b[90m Float64    \u001b[0m\u001b[90m Float64      \u001b[0m\n",
       "──────┼───────────────────────────────────────────────────────────────────────────────────────────────\n",
       "    1 │     3.27668  -0.685018  2.43103  -0.346242   0.0358374    -0.656125  -0.204708       0.897463\n",
       "    2 │     3.46174  -0.604296  1.80522  -0.271183   0.0344276    -0.830026  -0.112685       0.849524\n",
       "    3 │     5.58553  -0.931202  2.56893  -0.351696   0.0088754    -0.661503  -0.132513       0.751413\n",
       "    4 │     5.36834  -0.869949  2.47276  -0.348879   0.0102268    -0.680439  -0.117942       0.460296\n",
       "    5 │     5.02884  -0.815314  2.23525  -0.309316   0.0122217    -0.679034  -0.156954       0.627065\n",
       "    6 │     3.18287  -0.66076   2.31433  -0.321379   0.019614     -0.716859  -0.178211       0.786647\n",
       "  ⋮   │      ⋮           ⋮         ⋮         ⋮           ⋮            ⋮          ⋮            ⋮\n",
       "  996 │     5.06295  -0.655272  1.43125  -0.22376    0.0113027    -0.729004  -0.0795616      0.617595\n",
       "  997 │     5.75984  -0.80169   1.47785  -0.213519   0.0511737    -0.646884  -0.0868693      0.813631\n",
       "  998 │     1.79979  -0.475717  1.93894  -0.27116    0.0164045    -0.764962  -0.124737       0.753752\n",
       "  999 │     3.446    -0.654806  2.24378  -0.316282   0.0208654    -0.728688  -0.228742       0.465682\n",
       " 1000 │     2.08841  -0.524569  2.39508  -0.329378  -0.0262097    -0.655382  -0.159616       0.386226\n",
       "\u001b[36m                                                                                      989 rows omitted\u001b[0m"
      ]
     },
     "execution_count": 22,
     "metadata": {},
     "output_type": "execute_result"
    }
   ],
   "source": [
    "Random.seed!(1234)\n",
    "@time coef_boot = run_boot(df, 1000)"
   ]
  },
  {
   "cell_type": "code",
   "execution_count": 23,
   "metadata": {},
   "outputs": [
    {
     "data": {
      "text/html": [
       "<div class=\"data-frame\"><p>2 rows × 8 columns</p><table class=\"data-frame\"><thead><tr><th></th><th>(Intercept)</th><th>lnnlinc</th><th>age</th><th>age ^ 2</th><th>educ</th><th>nyc</th><th>noc</th><th>foreign: yes</th></tr><tr><th></th><th title=\"Float64\">Float64</th><th title=\"Float64\">Float64</th><th title=\"Float64\">Float64</th><th title=\"Float64\">Float64</th><th title=\"Float64\">Float64</th><th title=\"Float64\">Float64</th><th title=\"Float64\">Float64</th><th title=\"Float64\">Float64</th></tr></thead><tbody><tr><th>1</th><td>1.06625</td><td>-0.94311</td><td>1.24434</td><td>-0.397132</td><td>-0.0154263</td><td>-0.937041</td><td>-0.251984</td><td>0.469018</td></tr><tr><th>2</th><td>6.59637</td><td>-0.424606</td><td>2.91247</td><td>-0.191457</td><td>0.0543084</td><td>-0.525028</td><td>-0.0503898</td><td>0.972134</td></tr></tbody></table></div>"
      ],
      "text/latex": [
       "\\begin{tabular}{r|cccccccc}\n",
       "\t& (Intercept) & lnnlinc & age & age \\^ 2 & educ & nyc & noc & foreign: yes\\\\\n",
       "\t\\hline\n",
       "\t& Float64 & Float64 & Float64 & Float64 & Float64 & Float64 & Float64 & Float64\\\\\n",
       "\t\\hline\n",
       "\t1 & 1.06625 & -0.94311 & 1.24434 & -0.397132 & -0.0154263 & -0.937041 & -0.251984 & 0.469018 \\\\\n",
       "\t2 & 6.59637 & -0.424606 & 2.91247 & -0.191457 & 0.0543084 & -0.525028 & -0.0503898 & 0.972134 \\\\\n",
       "\\end{tabular}\n"
      ],
      "text/plain": [
       "\u001b[1m2×8 DataFrame\u001b[0m\n",
       "\u001b[1m Row \u001b[0m│\u001b[1m (Intercept) \u001b[0m\u001b[1m lnnlinc   \u001b[0m\u001b[1m age     \u001b[0m\u001b[1m age ^ 2   \u001b[0m\u001b[1m educ       \u001b[0m\u001b[1m nyc       \u001b[0m\u001b[1m noc        \u001b[0m\u001b[1m foreign: yes \u001b[0m\n",
       "\u001b[1m     \u001b[0m│\u001b[90m Float64     \u001b[0m\u001b[90m Float64   \u001b[0m\u001b[90m Float64 \u001b[0m\u001b[90m Float64   \u001b[0m\u001b[90m Float64    \u001b[0m\u001b[90m Float64   \u001b[0m\u001b[90m Float64    \u001b[0m\u001b[90m Float64      \u001b[0m\n",
       "─────┼─────────────────────────────────────────────────────────────────────────────────────────────\n",
       "   1 │     1.06625  -0.94311   1.24434  -0.397132  -0.0154263  -0.937041  -0.251984       0.469018\n",
       "   2 │     6.59637  -0.424606  2.91247  -0.191457   0.0543084  -0.525028  -0.0503898      0.972134"
      ]
     },
     "execution_count": 23,
     "metadata": {},
     "output_type": "execute_result"
    }
   ],
   "source": [
    "conf_boot = mapcols(x -> quantile(x, [0.025, 0.975]), coef_boot)"
   ]
  },
  {
   "cell_type": "code",
   "execution_count": 24,
   "metadata": {},
   "outputs": [
    {
     "data": {
      "text/plain": [
       "8×2 Matrix{Float64}:\n",
       "  0.992006   6.50591\n",
       " -0.92549   -0.408374\n",
       "  1.28073    2.86989\n",
       " -0.392235  -0.196456\n",
       " -0.015937   0.0543295\n",
       " -0.911238  -0.517691\n",
       " -0.246718  -0.0472509\n",
       "  0.476589   0.95217"
      ]
     },
     "execution_count": 24,
     "metadata": {},
     "output_type": "execute_result"
    }
   ],
   "source": [
    "confint(probit)"
   ]
  },
  {
   "cell_type": "code",
   "execution_count": 25,
   "metadata": {},
   "outputs": [
    {
     "data": {
      "text/html": [
       "<div class=\"data-frame\"><p>2 rows × 8 columns</p><table class=\"data-frame\"><thead><tr><th></th><th>(Intercept)</th><th>lnnlinc</th><th>age</th><th>age ^ 2</th><th>educ</th><th>nyc</th><th>noc</th><th>foreign: yes</th></tr><tr><th></th><th title=\"Float64\">Float64</th><th title=\"Float64\">Float64</th><th title=\"Float64\">Float64</th><th title=\"Float64\">Float64</th><th title=\"Float64\">Float64</th><th title=\"Float64\">Float64</th><th title=\"Float64\">Float64</th><th title=\"Float64\">Float64</th></tr></thead><tbody><tr><th>1</th><td>0.992006</td><td>-0.92549</td><td>1.28073</td><td>-0.392235</td><td>-0.015937</td><td>-0.911238</td><td>-0.246718</td><td>0.476589</td></tr><tr><th>2</th><td>6.50591</td><td>-0.408374</td><td>2.86989</td><td>-0.196456</td><td>0.0543295</td><td>-0.517691</td><td>-0.0472509</td><td>0.95217</td></tr></tbody></table></div>"
      ],
      "text/latex": [
       "\\begin{tabular}{r|cccccccc}\n",
       "\t& (Intercept) & lnnlinc & age & age \\^ 2 & educ & nyc & noc & foreign: yes\\\\\n",
       "\t\\hline\n",
       "\t& Float64 & Float64 & Float64 & Float64 & Float64 & Float64 & Float64 & Float64\\\\\n",
       "\t\\hline\n",
       "\t1 & 0.992006 & -0.92549 & 1.28073 & -0.392235 & -0.015937 & -0.911238 & -0.246718 & 0.476589 \\\\\n",
       "\t2 & 6.50591 & -0.408374 & 2.86989 & -0.196456 & 0.0543295 & -0.517691 & -0.0472509 & 0.95217 \\\\\n",
       "\\end{tabular}\n"
      ],
      "text/plain": [
       "\u001b[1m2×8 DataFrame\u001b[0m\n",
       "\u001b[1m Row \u001b[0m│\u001b[1m (Intercept) \u001b[0m\u001b[1m lnnlinc   \u001b[0m\u001b[1m age     \u001b[0m\u001b[1m age ^ 2   \u001b[0m\u001b[1m educ       \u001b[0m\u001b[1m nyc       \u001b[0m\u001b[1m noc        \u001b[0m\u001b[1m foreign: yes \u001b[0m\n",
       "\u001b[1m     \u001b[0m│\u001b[90m Float64     \u001b[0m\u001b[90m Float64   \u001b[0m\u001b[90m Float64 \u001b[0m\u001b[90m Float64   \u001b[0m\u001b[90m Float64    \u001b[0m\u001b[90m Float64   \u001b[0m\u001b[90m Float64    \u001b[0m\u001b[90m Float64      \u001b[0m\n",
       "─────┼─────────────────────────────────────────────────────────────────────────────────────────────\n",
       "   1 │    0.992006  -0.92549   1.28073  -0.392235  -0.015937   -0.911238  -0.246718       0.476589\n",
       "   2 │    6.50591   -0.408374  2.86989  -0.196456   0.0543295  -0.517691  -0.0472509      0.95217"
      ]
     },
     "execution_count": 25,
     "metadata": {},
     "output_type": "execute_result"
    }
   ],
   "source": [
    "conf_param = DataFrame(permutedims(confint(probit)), names(conf_boot))"
   ]
  },
  {
   "cell_type": "code",
   "execution_count": 26,
   "metadata": {},
   "outputs": [
    {
     "data": {
      "text/html": [
       "<div class=\"data-frame\"><p>4 rows × 8 columns</p><table class=\"data-frame\"><thead><tr><th></th><th>(Intercept)</th><th>lnnlinc</th><th>age</th><th>age ^ 2</th><th>educ</th><th>nyc</th><th>noc</th><th>foreign: yes</th></tr><tr><th></th><th title=\"Float64\">Float64</th><th title=\"Float64\">Float64</th><th title=\"Float64\">Float64</th><th title=\"Float64\">Float64</th><th title=\"Float64\">Float64</th><th title=\"Float64\">Float64</th><th title=\"Float64\">Float64</th><th title=\"Float64\">Float64</th></tr></thead><tbody><tr><th>1</th><td>1.06625</td><td>-0.94311</td><td>1.24434</td><td>-0.397132</td><td>-0.0154263</td><td>-0.937041</td><td>-0.251984</td><td>0.469018</td></tr><tr><th>2</th><td>6.59637</td><td>-0.424606</td><td>2.91247</td><td>-0.191457</td><td>0.0543084</td><td>-0.525028</td><td>-0.0503898</td><td>0.972134</td></tr><tr><th>3</th><td>0.992006</td><td>-0.92549</td><td>1.28073</td><td>-0.392235</td><td>-0.015937</td><td>-0.911238</td><td>-0.246718</td><td>0.476589</td></tr><tr><th>4</th><td>6.50591</td><td>-0.408374</td><td>2.86989</td><td>-0.196456</td><td>0.0543295</td><td>-0.517691</td><td>-0.0472509</td><td>0.95217</td></tr></tbody></table></div>"
      ],
      "text/latex": [
       "\\begin{tabular}{r|cccccccc}\n",
       "\t& (Intercept) & lnnlinc & age & age \\^ 2 & educ & nyc & noc & foreign: yes\\\\\n",
       "\t\\hline\n",
       "\t& Float64 & Float64 & Float64 & Float64 & Float64 & Float64 & Float64 & Float64\\\\\n",
       "\t\\hline\n",
       "\t1 & 1.06625 & -0.94311 & 1.24434 & -0.397132 & -0.0154263 & -0.937041 & -0.251984 & 0.469018 \\\\\n",
       "\t2 & 6.59637 & -0.424606 & 2.91247 & -0.191457 & 0.0543084 & -0.525028 & -0.0503898 & 0.972134 \\\\\n",
       "\t3 & 0.992006 & -0.92549 & 1.28073 & -0.392235 & -0.015937 & -0.911238 & -0.246718 & 0.476589 \\\\\n",
       "\t4 & 6.50591 & -0.408374 & 2.86989 & -0.196456 & 0.0543295 & -0.517691 & -0.0472509 & 0.95217 \\\\\n",
       "\\end{tabular}\n"
      ],
      "text/plain": [
       "\u001b[1m4×8 DataFrame\u001b[0m\n",
       "\u001b[1m Row \u001b[0m│\u001b[1m (Intercept) \u001b[0m\u001b[1m lnnlinc   \u001b[0m\u001b[1m age     \u001b[0m\u001b[1m age ^ 2   \u001b[0m\u001b[1m educ       \u001b[0m\u001b[1m nyc       \u001b[0m\u001b[1m noc        \u001b[0m\u001b[1m foreign: yes \u001b[0m\n",
       "\u001b[1m     \u001b[0m│\u001b[90m Float64     \u001b[0m\u001b[90m Float64   \u001b[0m\u001b[90m Float64 \u001b[0m\u001b[90m Float64   \u001b[0m\u001b[90m Float64    \u001b[0m\u001b[90m Float64   \u001b[0m\u001b[90m Float64    \u001b[0m\u001b[90m Float64      \u001b[0m\n",
       "─────┼─────────────────────────────────────────────────────────────────────────────────────────────\n",
       "   1 │    1.06625   -0.94311   1.24434  -0.397132  -0.0154263  -0.937041  -0.251984       0.469018\n",
       "   2 │    6.59637   -0.424606  2.91247  -0.191457   0.0543084  -0.525028  -0.0503898      0.972134\n",
       "   3 │    0.992006  -0.92549   1.28073  -0.392235  -0.015937   -0.911238  -0.246718       0.476589\n",
       "   4 │    6.50591   -0.408374  2.86989  -0.196456   0.0543295  -0.517691  -0.0472509      0.95217"
      ]
     },
     "execution_count": 26,
     "metadata": {},
     "output_type": "execute_result"
    }
   ],
   "source": [
    "append!(conf_boot, conf_param)"
   ]
  },
  {
   "cell_type": "code",
   "execution_count": 27,
   "metadata": {},
   "outputs": [
    {
     "data": {
      "text/html": [
       "<div class=\"data-frame\"><p>4 rows × 9 columns</p><table class=\"data-frame\"><thead><tr><th></th><th>statistic</th><th>(Intercept)</th><th>lnnlinc</th><th>age</th><th>age ^ 2</th><th>educ</th><th>nyc</th><th>noc</th><th>foreign: yes</th></tr><tr><th></th><th title=\"String\">String</th><th title=\"Float64\">Float64</th><th title=\"Float64\">Float64</th><th title=\"Float64\">Float64</th><th title=\"Float64\">Float64</th><th title=\"Float64\">Float64</th><th title=\"Float64\">Float64</th><th title=\"Float64\">Float64</th><th title=\"Float64\">Float64</th></tr></thead><tbody><tr><th>1</th><td>boot lo</td><td>1.06625</td><td>-0.94311</td><td>1.24434</td><td>-0.397132</td><td>-0.0154263</td><td>-0.937041</td><td>-0.251984</td><td>0.469018</td></tr><tr><th>2</th><td>boot hi</td><td>6.59637</td><td>-0.424606</td><td>2.91247</td><td>-0.191457</td><td>0.0543084</td><td>-0.525028</td><td>-0.0503898</td><td>0.972134</td></tr><tr><th>3</th><td>parametric lo</td><td>0.992006</td><td>-0.92549</td><td>1.28073</td><td>-0.392235</td><td>-0.015937</td><td>-0.911238</td><td>-0.246718</td><td>0.476589</td></tr><tr><th>4</th><td>parametric hi</td><td>6.50591</td><td>-0.408374</td><td>2.86989</td><td>-0.196456</td><td>0.0543295</td><td>-0.517691</td><td>-0.0472509</td><td>0.95217</td></tr></tbody></table></div>"
      ],
      "text/latex": [
       "\\begin{tabular}{r|ccccccccc}\n",
       "\t& statistic & (Intercept) & lnnlinc & age & age \\^ 2 & educ & nyc & noc & foreign: yes\\\\\n",
       "\t\\hline\n",
       "\t& String & Float64 & Float64 & Float64 & Float64 & Float64 & Float64 & Float64 & Float64\\\\\n",
       "\t\\hline\n",
       "\t1 & boot lo & 1.06625 & -0.94311 & 1.24434 & -0.397132 & -0.0154263 & -0.937041 & -0.251984 & 0.469018 \\\\\n",
       "\t2 & boot hi & 6.59637 & -0.424606 & 2.91247 & -0.191457 & 0.0543084 & -0.525028 & -0.0503898 & 0.972134 \\\\\n",
       "\t3 & parametric lo & 0.992006 & -0.92549 & 1.28073 & -0.392235 & -0.015937 & -0.911238 & -0.246718 & 0.476589 \\\\\n",
       "\t4 & parametric hi & 6.50591 & -0.408374 & 2.86989 & -0.196456 & 0.0543295 & -0.517691 & -0.0472509 & 0.95217 \\\\\n",
       "\\end{tabular}\n"
      ],
      "text/plain": [
       "\u001b[1m4×9 DataFrame\u001b[0m\n",
       "\u001b[1m Row \u001b[0m│\u001b[1m statistic     \u001b[0m\u001b[1m (Intercept) \u001b[0m\u001b[1m lnnlinc   \u001b[0m\u001b[1m age     \u001b[0m\u001b[1m age ^ 2   \u001b[0m\u001b[1m educ       \u001b[0m\u001b[1m nyc       \u001b[0m\u001b[1m noc        \u001b[0m\u001b[1m foreign: yes \u001b[0m\n",
       "\u001b[1m     \u001b[0m│\u001b[90m String        \u001b[0m\u001b[90m Float64     \u001b[0m\u001b[90m Float64   \u001b[0m\u001b[90m Float64 \u001b[0m\u001b[90m Float64   \u001b[0m\u001b[90m Float64    \u001b[0m\u001b[90m Float64   \u001b[0m\u001b[90m Float64    \u001b[0m\u001b[90m Float64      \u001b[0m\n",
       "─────┼────────────────────────────────────────────────────────────────────────────────────────────────────────────\n",
       "   1 │ boot lo           1.06625   -0.94311   1.24434  -0.397132  -0.0154263  -0.937041  -0.251984       0.469018\n",
       "   2 │ boot hi           6.59637   -0.424606  2.91247  -0.191457   0.0543084  -0.525028  -0.0503898      0.972134\n",
       "   3 │ parametric lo     0.992006  -0.92549   1.28073  -0.392235  -0.015937   -0.911238  -0.246718       0.476589\n",
       "   4 │ parametric hi     6.50591   -0.408374  2.86989  -0.196456   0.0543295  -0.517691  -0.0472509      0.95217"
      ]
     },
     "execution_count": 27,
     "metadata": {},
     "output_type": "execute_result"
    }
   ],
   "source": [
    "insertcols!(conf_boot, 1, :statistic => [\"boot lo\", \"boot hi\", \"parametric lo\", \"parametric hi\"])"
   ]
  },
  {
   "cell_type": "code",
   "execution_count": 28,
   "metadata": {},
   "outputs": [
    {
     "data": {
      "text/html": [
       "<div class=\"data-frame\"><p>8 rows × 5 columns</p><table class=\"data-frame\"><thead><tr><th></th><th>statistic</th><th>boot lo</th><th>boot hi</th><th>parametric lo</th><th>parametric hi</th></tr><tr><th></th><th title=\"String\">String</th><th title=\"Float64\">Float64</th><th title=\"Float64\">Float64</th><th title=\"Float64\">Float64</th><th title=\"Float64\">Float64</th></tr></thead><tbody><tr><th>1</th><td>(Intercept)</td><td>1.06625</td><td>6.59637</td><td>0.992006</td><td>6.50591</td></tr><tr><th>2</th><td>lnnlinc</td><td>-0.94311</td><td>-0.424606</td><td>-0.92549</td><td>-0.408374</td></tr><tr><th>3</th><td>age</td><td>1.24434</td><td>2.91247</td><td>1.28073</td><td>2.86989</td></tr><tr><th>4</th><td>age ^ 2</td><td>-0.397132</td><td>-0.191457</td><td>-0.392235</td><td>-0.196456</td></tr><tr><th>5</th><td>educ</td><td>-0.0154263</td><td>0.0543084</td><td>-0.015937</td><td>0.0543295</td></tr><tr><th>6</th><td>nyc</td><td>-0.937041</td><td>-0.525028</td><td>-0.911238</td><td>-0.517691</td></tr><tr><th>7</th><td>noc</td><td>-0.251984</td><td>-0.0503898</td><td>-0.246718</td><td>-0.0472509</td></tr><tr><th>8</th><td>foreign: yes</td><td>0.469018</td><td>0.972134</td><td>0.476589</td><td>0.95217</td></tr></tbody></table></div>"
      ],
      "text/latex": [
       "\\begin{tabular}{r|ccccc}\n",
       "\t& statistic & boot lo & boot hi & parametric lo & parametric hi\\\\\n",
       "\t\\hline\n",
       "\t& String & Float64 & Float64 & Float64 & Float64\\\\\n",
       "\t\\hline\n",
       "\t1 & (Intercept) & 1.06625 & 6.59637 & 0.992006 & 6.50591 \\\\\n",
       "\t2 & lnnlinc & -0.94311 & -0.424606 & -0.92549 & -0.408374 \\\\\n",
       "\t3 & age & 1.24434 & 2.91247 & 1.28073 & 2.86989 \\\\\n",
       "\t4 & age \\^ 2 & -0.397132 & -0.191457 & -0.392235 & -0.196456 \\\\\n",
       "\t5 & educ & -0.0154263 & 0.0543084 & -0.015937 & 0.0543295 \\\\\n",
       "\t6 & nyc & -0.937041 & -0.525028 & -0.911238 & -0.517691 \\\\\n",
       "\t7 & noc & -0.251984 & -0.0503898 & -0.246718 & -0.0472509 \\\\\n",
       "\t8 & foreign: yes & 0.469018 & 0.972134 & 0.476589 & 0.95217 \\\\\n",
       "\\end{tabular}\n"
      ],
      "text/plain": [
       "\u001b[1m8×5 DataFrame\u001b[0m\n",
       "\u001b[1m Row \u001b[0m│\u001b[1m statistic    \u001b[0m\u001b[1m boot lo    \u001b[0m\u001b[1m boot hi    \u001b[0m\u001b[1m parametric lo \u001b[0m\u001b[1m parametric hi \u001b[0m\n",
       "\u001b[1m     \u001b[0m│\u001b[90m String       \u001b[0m\u001b[90m Float64    \u001b[0m\u001b[90m Float64    \u001b[0m\u001b[90m Float64       \u001b[0m\u001b[90m Float64       \u001b[0m\n",
       "─────┼────────────────────────────────────────────────────────────────────\n",
       "   1 │ (Intercept)    1.06625     6.59637         0.992006      6.50591\n",
       "   2 │ lnnlinc       -0.94311    -0.424606       -0.92549      -0.408374\n",
       "   3 │ age            1.24434     2.91247         1.28073       2.86989\n",
       "   4 │ age ^ 2       -0.397132   -0.191457       -0.392235     -0.196456\n",
       "   5 │ educ          -0.0154263   0.0543084      -0.015937      0.0543295\n",
       "   6 │ nyc           -0.937041   -0.525028       -0.911238     -0.517691\n",
       "   7 │ noc           -0.251984   -0.0503898      -0.246718     -0.0472509\n",
       "   8 │ foreign: yes   0.469018    0.972134        0.476589      0.95217"
      ]
     },
     "execution_count": 28,
     "metadata": {},
     "output_type": "execute_result"
    }
   ],
   "source": [
    "conf_boot_t = permutedims(conf_boot, :statistic)"
   ]
  },
  {
   "cell_type": "code",
   "execution_count": 29,
   "metadata": {},
   "outputs": [
    {
     "data": {
      "text/html": [
       "<div class=\"data-frame\"><p>8 rows × 6 columns</p><table class=\"data-frame\"><thead><tr><th></th><th>statistic</th><th>estimate</th><th>boot lo</th><th>boot hi</th><th>parametric lo</th><th>parametric hi</th></tr><tr><th></th><th title=\"String\">String</th><th title=\"Float64\">Float64</th><th title=\"Float64\">Float64</th><th title=\"Float64\">Float64</th><th title=\"Float64\">Float64</th><th title=\"Float64\">Float64</th></tr></thead><tbody><tr><th>1</th><td>(Intercept)</td><td>3.74896</td><td>1.06625</td><td>6.59637</td><td>0.992006</td><td>6.50591</td></tr><tr><th>2</th><td>lnnlinc</td><td>-0.666932</td><td>-0.94311</td><td>-0.424606</td><td>-0.92549</td><td>-0.408374</td></tr><tr><th>3</th><td>age</td><td>2.07531</td><td>1.24434</td><td>2.91247</td><td>1.28073</td><td>2.86989</td></tr><tr><th>4</th><td>age ^ 2</td><td>-0.294345</td><td>-0.397132</td><td>-0.191457</td><td>-0.392235</td><td>-0.196456</td></tr><tr><th>5</th><td>educ</td><td>0.0191963</td><td>-0.0154263</td><td>0.0543084</td><td>-0.015937</td><td>0.0543295</td></tr><tr><th>6</th><td>nyc</td><td>-0.714465</td><td>-0.937041</td><td>-0.525028</td><td>-0.911238</td><td>-0.517691</td></tr><tr><th>7</th><td>noc</td><td>-0.146985</td><td>-0.251984</td><td>-0.0503898</td><td>-0.246718</td><td>-0.0472509</td></tr><tr><th>8</th><td>foreign: yes</td><td>0.71438</td><td>0.469018</td><td>0.972134</td><td>0.476589</td><td>0.95217</td></tr></tbody></table></div>"
      ],
      "text/latex": [
       "\\begin{tabular}{r|cccccc}\n",
       "\t& statistic & estimate & boot lo & boot hi & parametric lo & parametric hi\\\\\n",
       "\t\\hline\n",
       "\t& String & Float64 & Float64 & Float64 & Float64 & Float64\\\\\n",
       "\t\\hline\n",
       "\t1 & (Intercept) & 3.74896 & 1.06625 & 6.59637 & 0.992006 & 6.50591 \\\\\n",
       "\t2 & lnnlinc & -0.666932 & -0.94311 & -0.424606 & -0.92549 & -0.408374 \\\\\n",
       "\t3 & age & 2.07531 & 1.24434 & 2.91247 & 1.28073 & 2.86989 \\\\\n",
       "\t4 & age \\^ 2 & -0.294345 & -0.397132 & -0.191457 & -0.392235 & -0.196456 \\\\\n",
       "\t5 & educ & 0.0191963 & -0.0154263 & 0.0543084 & -0.015937 & 0.0543295 \\\\\n",
       "\t6 & nyc & -0.714465 & -0.937041 & -0.525028 & -0.911238 & -0.517691 \\\\\n",
       "\t7 & noc & -0.146985 & -0.251984 & -0.0503898 & -0.246718 & -0.0472509 \\\\\n",
       "\t8 & foreign: yes & 0.71438 & 0.469018 & 0.972134 & 0.476589 & 0.95217 \\\\\n",
       "\\end{tabular}\n"
      ],
      "text/plain": [
       "\u001b[1m8×6 DataFrame\u001b[0m\n",
       "\u001b[1m Row \u001b[0m│\u001b[1m statistic    \u001b[0m\u001b[1m estimate   \u001b[0m\u001b[1m boot lo    \u001b[0m\u001b[1m boot hi    \u001b[0m\u001b[1m parametric lo \u001b[0m\u001b[1m parametric hi \u001b[0m\n",
       "\u001b[1m     \u001b[0m│\u001b[90m String       \u001b[0m\u001b[90m Float64    \u001b[0m\u001b[90m Float64    \u001b[0m\u001b[90m Float64    \u001b[0m\u001b[90m Float64       \u001b[0m\u001b[90m Float64       \u001b[0m\n",
       "─────┼────────────────────────────────────────────────────────────────────────────────\n",
       "   1 │ (Intercept)    3.74896     1.06625     6.59637         0.992006      6.50591\n",
       "   2 │ lnnlinc       -0.666932   -0.94311    -0.424606       -0.92549      -0.408374\n",
       "   3 │ age            2.07531     1.24434     2.91247         1.28073       2.86989\n",
       "   4 │ age ^ 2       -0.294345   -0.397132   -0.191457       -0.392235     -0.196456\n",
       "   5 │ educ           0.0191963  -0.0154263   0.0543084      -0.015937      0.0543295\n",
       "   6 │ nyc           -0.714465   -0.937041   -0.525028       -0.911238     -0.517691\n",
       "   7 │ noc           -0.146985   -0.251984   -0.0503898      -0.246718     -0.0472509\n",
       "   8 │ foreign: yes   0.71438     0.469018    0.972134        0.476589      0.95217"
      ]
     },
     "execution_count": 29,
     "metadata": {},
     "output_type": "execute_result"
    }
   ],
   "source": [
    "insertcols!(conf_boot_t, 2, :estimate => coef(probit))"
   ]
  },
  {
   "cell_type": "code",
   "execution_count": 30,
   "metadata": {},
   "outputs": [
    {
     "data": {
      "text/html": [
       "<div class=\"data-frame\"><p>8 rows × 6 columns</p><table class=\"data-frame\"><thead><tr><th></th><th>statistic</th><th>estimate</th><th>boot lo</th><th>boot hi</th><th>parametric lo</th><th>parametric hi</th></tr><tr><th></th><th title=\"String\">String</th><th title=\"Float64\">Float64</th><th title=\"Float64\">Float64</th><th title=\"Float64\">Float64</th><th title=\"Float64\">Float64</th><th title=\"Float64\">Float64</th></tr></thead><tbody><tr><th>1</th><td>(Intercept)</td><td>3.74896</td><td>2.68271</td><td>2.84741</td><td>2.75695</td><td>2.75695</td></tr><tr><th>2</th><td>lnnlinc</td><td>-0.666932</td><td>0.276178</td><td>0.242326</td><td>0.258558</td><td>0.258558</td></tr><tr><th>3</th><td>age</td><td>2.07531</td><td>0.830966</td><td>0.837163</td><td>0.794584</td><td>0.794584</td></tr><tr><th>4</th><td>age ^ 2</td><td>-0.294345</td><td>0.102787</td><td>0.102889</td><td>0.0978895</td><td>0.0978895</td></tr><tr><th>5</th><td>educ</td><td>0.0191963</td><td>0.0346226</td><td>0.0351121</td><td>0.0351333</td><td>0.0351333</td></tr><tr><th>6</th><td>nyc</td><td>-0.714465</td><td>0.222576</td><td>0.189437</td><td>0.196774</td><td>0.196774</td></tr><tr><th>7</th><td>noc</td><td>-0.146985</td><td>0.104999</td><td>0.0965947</td><td>0.0997336</td><td>0.0997336</td></tr><tr><th>8</th><td>foreign: yes</td><td>0.71438</td><td>0.245362</td><td>0.257754</td><td>0.23779</td><td>0.23779</td></tr></tbody></table></div>"
      ],
      "text/latex": [
       "\\begin{tabular}{r|cccccc}\n",
       "\t& statistic & estimate & boot lo & boot hi & parametric lo & parametric hi\\\\\n",
       "\t\\hline\n",
       "\t& String & Float64 & Float64 & Float64 & Float64 & Float64\\\\\n",
       "\t\\hline\n",
       "\t1 & (Intercept) & 3.74896 & 2.68271 & 2.84741 & 2.75695 & 2.75695 \\\\\n",
       "\t2 & lnnlinc & -0.666932 & 0.276178 & 0.242326 & 0.258558 & 0.258558 \\\\\n",
       "\t3 & age & 2.07531 & 0.830966 & 0.837163 & 0.794584 & 0.794584 \\\\\n",
       "\t4 & age \\^ 2 & -0.294345 & 0.102787 & 0.102889 & 0.0978895 & 0.0978895 \\\\\n",
       "\t5 & educ & 0.0191963 & 0.0346226 & 0.0351121 & 0.0351333 & 0.0351333 \\\\\n",
       "\t6 & nyc & -0.714465 & 0.222576 & 0.189437 & 0.196774 & 0.196774 \\\\\n",
       "\t7 & noc & -0.146985 & 0.104999 & 0.0965947 & 0.0997336 & 0.0997336 \\\\\n",
       "\t8 & foreign: yes & 0.71438 & 0.245362 & 0.257754 & 0.23779 & 0.23779 \\\\\n",
       "\\end{tabular}\n"
      ],
      "text/plain": [
       "\u001b[1m8×6 DataFrame\u001b[0m\n",
       "\u001b[1m Row \u001b[0m│\u001b[1m statistic    \u001b[0m\u001b[1m estimate   \u001b[0m\u001b[1m boot lo   \u001b[0m\u001b[1m boot hi   \u001b[0m\u001b[1m parametric lo \u001b[0m\u001b[1m parametric hi \u001b[0m\n",
       "\u001b[1m     \u001b[0m│\u001b[90m String       \u001b[0m\u001b[90m Float64    \u001b[0m\u001b[90m Float64   \u001b[0m\u001b[90m Float64   \u001b[0m\u001b[90m Float64       \u001b[0m\u001b[90m Float64       \u001b[0m\n",
       "─────┼──────────────────────────────────────────────────────────────────────────────\n",
       "   1 │ (Intercept)    3.74896    2.68271    2.84741        2.75695        2.75695\n",
       "   2 │ lnnlinc       -0.666932   0.276178   0.242326       0.258558       0.258558\n",
       "   3 │ age            2.07531    0.830966   0.837163       0.794584       0.794584\n",
       "   4 │ age ^ 2       -0.294345   0.102787   0.102889       0.0978895      0.0978895\n",
       "   5 │ educ           0.0191963  0.0346226  0.0351121      0.0351333      0.0351333\n",
       "   6 │ nyc           -0.714465   0.222576   0.189437       0.196774       0.196774\n",
       "   7 │ noc           -0.146985   0.104999   0.0965947      0.0997336      0.0997336\n",
       "   8 │ foreign: yes   0.71438    0.245362   0.257754       0.23779        0.23779"
      ]
     },
     "execution_count": 30,
     "metadata": {},
     "output_type": "execute_result"
    }
   ],
   "source": [
    "select!(conf_boot_t, :statistic, :estimate, 3:6 .=> x -> abs.(x .- conf_boot_t.estimate), renamecols=false)"
   ]
  },
  {
   "cell_type": "code",
   "execution_count": 31,
   "metadata": {},
   "outputs": [
    {
     "data": {
      "image/svg+xml": [
       "<?xml version=\"1.0\" encoding=\"utf-8\"?>\n",
       "<svg xmlns=\"http://www.w3.org/2000/svg\" xmlns:xlink=\"http://www.w3.org/1999/xlink\" width=\"600\" height=\"400\" viewBox=\"0 0 2400 1600\">\n",
       "<defs>\n",
       "  <clipPath id=\"clip660\">\n",
       "    <rect x=\"0\" y=\"0\" width=\"2400\" height=\"1600\"/>\n",
       "  </clipPath>\n",
       "</defs>\n",
       "<path clip-path=\"url(#clip660)\" d=\"\n",
       "M0 1600 L2400 1600 L2400 0 L0 0  Z\n",
       "  \" fill=\"#ffffff\" fill-rule=\"evenodd\" fill-opacity=\"1\"/>\n",
       "<defs>\n",
       "  <clipPath id=\"clip661\">\n",
       "    <rect x=\"480\" y=\"0\" width=\"1681\" height=\"1600\"/>\n",
       "  </clipPath>\n",
       "</defs>\n",
       "<path clip-path=\"url(#clip660)\" d=\"\n",
       "M112.177 1302.33 L2352.76 1302.33 L2352.76 47.2441 L112.177 47.2441  Z\n",
       "  \" fill=\"#ffffff\" fill-rule=\"evenodd\" fill-opacity=\"1\"/>\n",
       "<defs>\n",
       "  <clipPath id=\"clip662\">\n",
       "    <rect x=\"112\" y=\"47\" width=\"2242\" height=\"1256\"/>\n",
       "  </clipPath>\n",
       "</defs>\n",
       "<polyline clip-path=\"url(#clip662)\" style=\"stroke:#000000; stroke-linecap:butt; stroke-linejoin:round; stroke-width:2; stroke-opacity:0.1; fill:none\" points=\"\n",
       "  190.475,1302.33 190.475,47.2441 \n",
       "  \"/>\n",
       "<polyline clip-path=\"url(#clip662)\" style=\"stroke:#000000; stroke-linecap:butt; stroke-linejoin:round; stroke-width:2; stroke-opacity:0.1; fill:none\" points=\"\n",
       "  488.187,1302.33 488.187,47.2441 \n",
       "  \"/>\n",
       "<polyline clip-path=\"url(#clip662)\" style=\"stroke:#000000; stroke-linecap:butt; stroke-linejoin:round; stroke-width:2; stroke-opacity:0.1; fill:none\" points=\"\n",
       "  785.899,1302.33 785.899,47.2441 \n",
       "  \"/>\n",
       "<polyline clip-path=\"url(#clip662)\" style=\"stroke:#000000; stroke-linecap:butt; stroke-linejoin:round; stroke-width:2; stroke-opacity:0.1; fill:none\" points=\"\n",
       "  1083.61,1302.33 1083.61,47.2441 \n",
       "  \"/>\n",
       "<polyline clip-path=\"url(#clip662)\" style=\"stroke:#000000; stroke-linecap:butt; stroke-linejoin:round; stroke-width:2; stroke-opacity:0.1; fill:none\" points=\"\n",
       "  1381.32,1302.33 1381.32,47.2441 \n",
       "  \"/>\n",
       "<polyline clip-path=\"url(#clip662)\" style=\"stroke:#000000; stroke-linecap:butt; stroke-linejoin:round; stroke-width:2; stroke-opacity:0.1; fill:none\" points=\"\n",
       "  1679.03,1302.33 1679.03,47.2441 \n",
       "  \"/>\n",
       "<polyline clip-path=\"url(#clip662)\" style=\"stroke:#000000; stroke-linecap:butt; stroke-linejoin:round; stroke-width:2; stroke-opacity:0.1; fill:none\" points=\"\n",
       "  1976.75,1302.33 1976.75,47.2441 \n",
       "  \"/>\n",
       "<polyline clip-path=\"url(#clip662)\" style=\"stroke:#000000; stroke-linecap:butt; stroke-linejoin:round; stroke-width:2; stroke-opacity:0.1; fill:none\" points=\"\n",
       "  2274.46,1302.33 2274.46,47.2441 \n",
       "  \"/>\n",
       "<polyline clip-path=\"url(#clip660)\" style=\"stroke:#000000; stroke-linecap:butt; stroke-linejoin:round; stroke-width:4; stroke-opacity:1; fill:none\" points=\"\n",
       "  112.177,1302.33 2352.76,1302.33 \n",
       "  \"/>\n",
       "<polyline clip-path=\"url(#clip660)\" style=\"stroke:#000000; stroke-linecap:butt; stroke-linejoin:round; stroke-width:4; stroke-opacity:1; fill:none\" points=\"\n",
       "  190.475,1302.33 190.475,1287.27 \n",
       "  \"/>\n",
       "<polyline clip-path=\"url(#clip660)\" style=\"stroke:#000000; stroke-linecap:butt; stroke-linejoin:round; stroke-width:4; stroke-opacity:1; fill:none\" points=\"\n",
       "  488.187,1302.33 488.187,1287.27 \n",
       "  \"/>\n",
       "<polyline clip-path=\"url(#clip660)\" style=\"stroke:#000000; stroke-linecap:butt; stroke-linejoin:round; stroke-width:4; stroke-opacity:1; fill:none\" points=\"\n",
       "  785.899,1302.33 785.899,1287.27 \n",
       "  \"/>\n",
       "<polyline clip-path=\"url(#clip660)\" style=\"stroke:#000000; stroke-linecap:butt; stroke-linejoin:round; stroke-width:4; stroke-opacity:1; fill:none\" points=\"\n",
       "  1083.61,1302.33 1083.61,1287.27 \n",
       "  \"/>\n",
       "<polyline clip-path=\"url(#clip660)\" style=\"stroke:#000000; stroke-linecap:butt; stroke-linejoin:round; stroke-width:4; stroke-opacity:1; fill:none\" points=\"\n",
       "  1381.32,1302.33 1381.32,1287.27 \n",
       "  \"/>\n",
       "<polyline clip-path=\"url(#clip660)\" style=\"stroke:#000000; stroke-linecap:butt; stroke-linejoin:round; stroke-width:4; stroke-opacity:1; fill:none\" points=\"\n",
       "  1679.03,1302.33 1679.03,1287.27 \n",
       "  \"/>\n",
       "<polyline clip-path=\"url(#clip660)\" style=\"stroke:#000000; stroke-linecap:butt; stroke-linejoin:round; stroke-width:4; stroke-opacity:1; fill:none\" points=\"\n",
       "  1976.75,1302.33 1976.75,1287.27 \n",
       "  \"/>\n",
       "<polyline clip-path=\"url(#clip660)\" style=\"stroke:#000000; stroke-linecap:butt; stroke-linejoin:round; stroke-width:4; stroke-opacity:1; fill:none\" points=\"\n",
       "  2274.46,1302.33 2274.46,1287.27 \n",
       "  \"/>\n",
       "<path clip-path=\"url(#clip660)\" d=\"M12.9549 1472.61 Q14.5262 1478.57 17.1451 1483.32 Q19.764 1488.07 23.545 1491.85 Q27.3261 1495.63 32.1056 1498.28 Q36.8851 1500.9 42.8103 1502.47 L40.1914 1505.09 Q33.8897 1503.7 28.9465 1501.21 Q24.0197 1498.71 20.3533 1495.04 Q16.7032 1491.39 14.2152 1486.48 Q11.7273 1481.57 10.336 1475.23 L12.9549 1472.61 Z\" fill=\"#000000\" fill-rule=\"evenodd\" fill-opacity=\"1\" /><path clip-path=\"url(#clip660)\" d=\"M19.9277 1467.64 L23.2341 1464.33 L47.6717 1488.77 L44.3653 1492.08 L19.9277 1467.64 Z\" fill=\"#000000\" fill-rule=\"evenodd\" fill-opacity=\"1\" /><path clip-path=\"url(#clip660)\" d=\"M58.2946 1456.02 L69.3594 1467.08 L66.3477 1470.09 L55.3811 1459.13 Q52.7785 1456.52 50.4706 1456.25 Q48.1627 1455.97 46.1331 1458 Q43.6942 1460.44 43.8415 1463.4 Q43.9888 1466.36 46.6732 1469.05 L57.0342 1479.41 L54.0061 1482.44 L35.6738 1464.1 L38.7019 1461.07 L41.55 1463.92 Q40.9771 1461.19 41.6155 1458.91 Q42.2702 1456.62 44.1853 1454.71 Q47.3443 1451.55 50.9289 1451.89 Q54.4972 1452.22 58.2946 1456.02 Z\" fill=\"#000000\" fill-rule=\"evenodd\" fill-opacity=\"1\" /><path clip-path=\"url(#clip660)\" d=\"M54.8082 1434.56 L60.0132 1439.76 L66.2168 1433.56 L68.5574 1435.9 L62.3539 1442.1 L72.3057 1452.06 Q74.5481 1454.3 75.7921 1454.33 Q77.0524 1454.35 78.9348 1452.47 L82.0284 1449.37 L84.5491 1451.89 L81.4555 1454.99 Q77.9691 1458.47 75.3502 1458.51 Q72.7149 1458.52 69.2776 1455.08 L59.3258 1445.13 L57.1161 1447.34 L54.7754 1445 L56.9851 1442.79 L51.7801 1437.59 L54.8082 1434.56 Z\" fill=\"#000000\" fill-rule=\"evenodd\" fill-opacity=\"1\" /><path clip-path=\"url(#clip660)\" d=\"M94.2717 1422.33 L95.7448 1423.8 L81.8974 1437.65 Q85.2038 1440.57 88.5101 1440.53 Q91.8165 1440.47 94.8119 1437.47 Q96.5469 1435.74 97.7418 1433.69 Q98.953 1431.63 99.7059 1429.17 L102.554 1432.02 Q101.621 1434.33 100.279 1436.39 Q98.9366 1438.45 97.1852 1440.21 Q92.7986 1444.59 87.6754 1444.61 Q82.5685 1444.61 78.2146 1440.25 Q73.7134 1435.75 73.5006 1430.7 Q73.2878 1425.61 77.4125 1421.48 Q81.1117 1417.78 85.6457 1418.03 Q90.1797 1418.24 94.2717 1422.33 M90.3761 1424.46 Q87.8718 1422.02 85.0401 1421.91 Q82.2248 1421.78 79.9987 1424 Q77.478 1426.52 77.3798 1429.47 Q77.298 1432.4 79.655 1435.21 L90.3761 1424.46 Z\" fill=\"#000000\" fill-rule=\"evenodd\" fill-opacity=\"1\" /><path clip-path=\"url(#clip660)\" d=\"M104.24 1401.17 Q103.438 1401.38 102.701 1401.86 Q101.965 1402.3 101.245 1403.02 Q98.6911 1405.57 98.9857 1408.62 Q99.2804 1411.63 102.39 1414.74 L112.047 1424.39 L109.019 1427.42 L90.6871 1409.09 L93.7152 1406.06 L96.5633 1408.91 Q95.8431 1406.29 96.5633 1403.97 Q97.2671 1401.63 99.444 1399.45 Q99.755 1399.14 100.181 1398.81 Q100.59 1398.47 101.13 1398.09 L104.24 1401.17 Z\" fill=\"#000000\" fill-rule=\"evenodd\" fill-opacity=\"1\" /><path clip-path=\"url(#clip660)\" d=\"M117.744 1383.44 L120.559 1386.26 Q118.578 1386.83 116.942 1387.78 Q115.305 1388.7 113.995 1390 Q111.065 1392.93 111.311 1396.42 Q111.54 1399.89 114.896 1403.25 Q118.251 1406.6 121.737 1406.85 Q125.207 1407.08 128.137 1404.15 Q129.447 1402.84 130.38 1401.22 Q131.313 1399.56 131.886 1397.58 L134.668 1400.37 Q133.997 1402.22 132.933 1403.87 Q131.886 1405.51 130.363 1407.03 Q126.222 1411.17 121.181 1411 Q116.14 1410.84 111.72 1406.42 Q107.235 1401.94 107.121 1396.91 Q107.022 1391.87 111.311 1387.58 Q112.702 1386.19 114.323 1385.16 Q115.927 1384.11 117.744 1383.44 Z\" fill=\"#000000\" fill-rule=\"evenodd\" fill-opacity=\"1\" /><path clip-path=\"url(#clip660)\" d=\"M146.371 1370.23 L147.845 1371.7 L133.997 1385.55 Q137.304 1388.47 140.61 1388.43 Q143.916 1388.37 146.912 1385.37 Q148.647 1383.64 149.842 1381.59 Q151.053 1379.53 151.806 1377.07 L154.654 1379.92 Q153.721 1382.23 152.379 1384.29 Q151.036 1386.35 149.285 1388.11 Q144.898 1392.49 139.775 1392.51 Q134.668 1392.51 130.314 1388.15 Q125.813 1383.65 125.6 1378.6 Q125.388 1373.51 129.512 1369.38 Q133.211 1365.68 137.745 1365.93 Q142.279 1366.14 146.371 1370.23 M142.476 1372.36 Q139.972 1369.92 137.14 1369.81 Q134.325 1369.68 132.098 1371.9 Q129.578 1374.42 129.48 1377.37 Q129.398 1380.3 131.755 1383.11 L142.476 1372.36 Z\" fill=\"#000000\" fill-rule=\"evenodd\" fill-opacity=\"1\" /><path clip-path=\"url(#clip660)\" d=\"M161.397 1369.54 L171.12 1379.27 L168.092 1382.3 L142.787 1356.99 L145.815 1353.96 L148.598 1356.74 Q147.91 1354.16 148.565 1351.93 Q149.22 1349.67 151.233 1347.66 Q154.572 1344.32 159.302 1344.89 Q164.049 1345.45 168.37 1349.77 Q172.691 1354.09 173.248 1358.84 Q173.821 1363.57 170.482 1366.91 Q168.468 1368.92 166.226 1369.59 Q163.984 1370.23 161.397 1369.54 M165.244 1352.9 Q161.921 1349.58 158.664 1349.07 Q155.407 1348.53 153.017 1350.92 Q150.627 1353.31 151.151 1356.58 Q151.675 1359.82 154.997 1363.14 Q158.32 1366.47 161.577 1367.01 Q164.835 1367.51 167.224 1365.12 Q169.614 1362.74 169.09 1359.49 Q168.567 1356.22 165.244 1352.9 Z\" fill=\"#000000\" fill-rule=\"evenodd\" fill-opacity=\"1\" /><path clip-path=\"url(#clip660)\" d=\"M161.954 1327.41 L167.159 1332.62 L173.362 1326.41 L175.703 1328.76 L169.5 1334.96 L179.451 1344.91 Q181.694 1347.15 182.938 1347.19 Q184.198 1347.2 186.081 1345.32 L189.174 1342.23 L191.695 1344.75 L188.601 1347.84 Q185.115 1351.33 182.496 1351.36 Q179.861 1351.38 176.423 1347.94 L166.472 1337.99 L164.262 1340.2 L161.921 1337.86 L164.131 1335.65 L158.926 1330.44 L161.954 1327.41 Z\" fill=\"#000000\" fill-rule=\"evenodd\" fill-opacity=\"1\" /><path clip-path=\"url(#clip660)\" d=\"M169.745 1315.82 L172.364 1313.21 Q178.682 1314.61 183.593 1317.1 Q188.519 1319.57 192.169 1323.22 Q195.836 1326.89 198.324 1331.83 Q200.828 1336.76 202.219 1343.06 L199.601 1345.68 Q198.029 1339.75 195.394 1334.99 Q192.759 1330.2 188.978 1326.41 Q185.197 1322.63 180.434 1320.03 Q175.687 1317.41 169.745 1315.82 Z\" fill=\"#000000\" fill-rule=\"evenodd\" fill-opacity=\"1\" /><path clip-path=\"url(#clip660)\" d=\"M370.067 1413.15 L373.078 1410.14 L398.547 1435.61 L395.535 1438.62 L370.067 1413.15 Z\" fill=\"#000000\" fill-rule=\"evenodd\" fill-opacity=\"1\" /><path clip-path=\"url(#clip660)\" d=\"M409.023 1403 L420.088 1414.07 L417.076 1417.08 L406.109 1406.11 Q403.507 1403.51 401.199 1403.23 Q398.891 1402.95 396.861 1404.98 Q394.422 1407.42 394.57 1410.38 Q394.717 1413.35 397.401 1416.03 L407.762 1426.39 L404.734 1429.42 L386.402 1411.09 L389.43 1408.06 L392.278 1410.91 Q391.705 1408.17 392.344 1405.9 Q392.998 1403.61 394.913 1401.69 Q398.072 1398.53 401.657 1398.88 Q405.225 1399.2 409.023 1403 Z\" fill=\"#000000\" fill-rule=\"evenodd\" fill-opacity=\"1\" /><path clip-path=\"url(#clip660)\" d=\"M430.269 1381.76 L441.333 1392.82 L438.322 1395.83 L427.355 1384.86 Q424.752 1382.26 422.445 1381.98 Q420.137 1381.71 418.107 1383.74 Q415.668 1386.17 415.815 1389.14 Q415.963 1392.1 418.647 1394.78 L429.008 1405.15 L425.98 1408.17 L407.648 1389.84 L410.676 1386.81 L413.524 1389.66 Q412.951 1386.93 413.589 1384.65 Q414.244 1382.36 416.159 1380.45 Q419.318 1377.29 422.903 1377.63 Q426.471 1377.96 430.269 1381.76 Z\" fill=\"#000000\" fill-rule=\"evenodd\" fill-opacity=\"1\" /><path clip-path=\"url(#clip660)\" d=\"M421.872 1361.34 L424.883 1358.33 L450.352 1383.8 L447.34 1386.81 L421.872 1361.34 Z\" fill=\"#000000\" fill-rule=\"evenodd\" fill-opacity=\"1\" /><path clip-path=\"url(#clip660)\" d=\"M438.322 1359.17 L441.333 1356.16 L459.666 1374.49 L456.654 1377.5 L438.322 1359.17 M431.185 1352.03 L434.197 1349.02 L438.011 1352.83 L434.999 1355.84 L431.185 1352.03 Z\" fill=\"#000000\" fill-rule=\"evenodd\" fill-opacity=\"1\" /><path clip-path=\"url(#clip660)\" d=\"M470.141 1341.88 L481.206 1352.95 L478.194 1355.96 L467.228 1344.99 Q464.625 1342.39 462.317 1342.11 Q460.009 1341.83 457.98 1343.86 Q455.541 1346.3 455.688 1349.26 Q455.836 1352.23 458.52 1354.91 L468.881 1365.27 L465.853 1368.3 L447.521 1349.97 L450.549 1346.94 L453.397 1349.79 Q452.824 1347.05 453.462 1344.78 Q454.117 1342.49 456.032 1340.57 Q459.191 1337.41 462.776 1337.76 Q466.344 1338.08 470.141 1341.88 Z\" fill=\"#000000\" fill-rule=\"evenodd\" fill-opacity=\"1\" /><path clip-path=\"url(#clip660)\" d=\"M482.777 1316.12 L485.593 1318.93 Q483.612 1319.51 481.975 1320.46 Q480.339 1321.37 479.029 1322.68 Q476.099 1325.61 476.345 1329.1 Q476.574 1332.57 479.929 1335.92 Q483.285 1339.28 486.771 1339.53 Q490.241 1339.75 493.171 1336.82 Q494.481 1335.52 495.414 1333.89 Q496.347 1332.24 496.92 1330.26 L499.702 1333.04 Q499.031 1334.89 497.967 1336.55 Q496.92 1338.18 495.397 1339.71 Q491.256 1343.85 486.215 1343.68 Q481.173 1343.52 476.754 1339.1 Q472.269 1334.61 472.155 1329.59 Q472.056 1324.55 476.345 1320.26 Q477.736 1318.87 479.357 1317.84 Q480.961 1316.79 482.777 1316.12 Z\" fill=\"#000000\" fill-rule=\"evenodd\" fill-opacity=\"1\" /><path clip-path=\"url(#clip660)\" d=\"M739.733 1373.7 Q736.083 1377.35 735.51 1379.59 Q734.937 1381.84 736.95 1383.85 Q738.554 1385.45 740.551 1385.36 Q742.548 1385.23 744.365 1383.41 Q746.869 1380.9 746.607 1377.63 Q746.345 1374.32 743.399 1371.38 L742.728 1370.71 L739.733 1373.7 M744.496 1366.45 L754.955 1376.91 L751.943 1379.92 L749.161 1377.14 Q749.799 1379.84 749.062 1382.18 Q748.309 1384.5 746.083 1386.73 Q743.268 1389.55 740.027 1389.64 Q736.786 1389.71 734.135 1387.06 Q731.041 1383.96 731.532 1380.33 Q732.04 1376.68 736.148 1372.57 L740.371 1368.35 L740.076 1368.05 Q737.998 1365.98 735.493 1366.22 Q732.989 1366.43 730.517 1368.91 Q728.946 1370.48 727.833 1372.34 Q726.72 1374.21 726.098 1376.34 L723.315 1373.55 Q724.33 1371.26 725.574 1369.4 Q726.802 1367.51 728.275 1366.04 Q732.252 1362.06 736.279 1362.16 Q740.305 1362.26 744.496 1366.45 Z\" fill=\"#000000\" fill-rule=\"evenodd\" fill-opacity=\"1\" /><path clip-path=\"url(#clip660)\" d=\"M763.843 1349.26 Q760.569 1345.99 757.41 1345.55 Q754.267 1345.09 751.829 1347.53 Q749.406 1349.95 749.848 1353.11 Q750.306 1356.25 753.58 1359.53 Q756.837 1362.78 759.98 1363.24 Q763.139 1363.68 765.562 1361.26 Q768 1358.82 767.542 1355.68 Q767.1 1352.52 763.843 1349.26 M773.958 1353.36 Q778.64 1358.04 778.836 1362.39 Q779.049 1366.76 774.76 1371.05 Q773.173 1372.64 771.519 1373.8 Q769.883 1374.98 768.066 1375.81 L765.136 1372.88 Q767.182 1372.28 768.819 1371.33 Q770.456 1370.38 771.798 1369.04 Q774.76 1366.07 774.679 1363.05 Q774.613 1360.03 771.487 1356.91 L769.997 1355.42 Q770.685 1357.97 770.03 1360.23 Q769.375 1362.49 767.346 1364.52 Q763.974 1367.89 759.342 1367.38 Q754.709 1366.88 750.47 1362.64 Q746.214 1358.38 745.707 1353.75 Q745.2 1349.12 748.571 1345.75 Q750.601 1343.72 752.86 1343.06 Q755.119 1342.41 757.672 1343.09 L754.889 1340.31 L757.901 1337.3 L773.958 1353.36 Z\" fill=\"#000000\" fill-rule=\"evenodd\" fill-opacity=\"1\" /><path clip-path=\"url(#clip660)\" d=\"M788.199 1323.83 L789.672 1325.3 L775.824 1339.15 Q779.131 1342.06 782.437 1342.03 Q785.743 1341.96 788.739 1338.97 Q790.474 1337.23 791.669 1335.19 Q792.88 1333.13 793.633 1330.67 L796.481 1333.52 Q795.548 1335.83 794.206 1337.89 Q792.864 1339.95 791.112 1341.7 Q786.725 1346.09 781.602 1346.11 Q776.495 1346.11 772.141 1341.75 Q767.64 1337.25 767.427 1332.19 Q767.215 1327.1 771.339 1322.98 Q775.039 1319.28 779.573 1319.52 Q784.107 1319.74 788.199 1323.83 M784.303 1325.96 Q781.799 1323.52 778.967 1323.4 Q776.152 1323.27 773.926 1325.5 Q771.405 1328.02 771.307 1330.96 Q771.225 1333.89 773.582 1336.71 L784.303 1325.96 Z\" fill=\"#000000\" fill-rule=\"evenodd\" fill-opacity=\"1\" /><path clip-path=\"url(#clip660)\" d=\"M968.289 1442.86 Q964.639 1446.51 964.066 1448.75 Q963.493 1450.99 965.506 1453.01 Q967.111 1454.61 969.107 1454.51 Q971.104 1454.38 972.921 1452.56 Q975.426 1450.06 975.164 1446.79 Q974.902 1443.48 971.955 1440.53 L971.284 1439.86 L968.289 1442.86 M973.052 1435.61 L983.511 1446.07 L980.5 1449.08 L977.717 1446.29 Q978.355 1449 977.619 1451.34 Q976.866 1453.66 974.64 1455.89 Q971.825 1458.7 968.584 1458.8 Q965.343 1458.87 962.691 1456.21 Q959.598 1453.12 960.089 1449.49 Q960.596 1445.84 964.704 1441.73 L968.927 1437.5 L968.633 1437.21 Q966.554 1435.13 964.05 1435.38 Q961.545 1435.59 959.074 1438.06 Q957.502 1439.63 956.389 1441.5 Q955.276 1443.36 954.654 1445.49 L951.872 1442.71 Q952.887 1440.42 954.131 1438.55 Q955.358 1436.67 956.831 1435.2 Q960.809 1431.22 964.835 1431.32 Q968.862 1431.42 973.052 1435.61 Z\" fill=\"#000000\" fill-rule=\"evenodd\" fill-opacity=\"1\" /><path clip-path=\"url(#clip660)\" d=\"M992.399 1418.42 Q989.126 1415.15 985.967 1414.7 Q982.824 1414.25 980.385 1416.68 Q977.963 1419.11 978.405 1422.27 Q978.863 1425.41 982.136 1428.68 Q985.394 1431.94 988.536 1432.4 Q991.695 1432.84 994.118 1430.42 Q996.557 1427.98 996.098 1424.84 Q995.657 1421.68 992.399 1418.42 M1002.51 1422.51 Q1007.2 1427.19 1007.39 1431.55 Q1007.61 1435.92 1003.32 1440.21 Q1001.73 1441.79 1000.08 1442.96 Q998.439 1444.13 996.622 1444.97 L993.692 1442.04 Q995.738 1441.43 997.375 1440.48 Q999.012 1439.53 1000.35 1438.19 Q1003.32 1435.23 1003.23 1432.2 Q1003.17 1429.19 1000.04 1426.06 L998.554 1424.57 Q999.241 1427.13 998.586 1429.39 Q997.932 1431.65 995.902 1433.67 Q992.53 1437.05 987.898 1436.54 Q983.266 1436.03 979.027 1431.79 Q974.771 1427.54 974.263 1422.9 Q973.756 1418.27 977.128 1414.9 Q979.157 1412.87 981.416 1412.22 Q983.675 1411.56 986.229 1412.25 L983.446 1409.47 L986.458 1406.45 L1002.51 1422.51 Z\" fill=\"#000000\" fill-rule=\"evenodd\" fill-opacity=\"1\" /><path clip-path=\"url(#clip660)\" d=\"M1016.76 1392.98 L1018.23 1394.46 L1004.38 1408.3 Q1007.69 1411.22 1010.99 1411.18 Q1014.3 1411.12 1017.3 1408.12 Q1019.03 1406.39 1020.23 1404.34 Q1021.44 1402.28 1022.19 1399.83 L1025.04 1402.67 Q1024.1 1404.98 1022.76 1407.04 Q1021.42 1409.11 1019.67 1410.86 Q1015.28 1415.24 1010.16 1415.26 Q1005.05 1415.26 1000.7 1410.91 Q996.197 1406.41 995.984 1401.35 Q995.771 1396.26 999.896 1392.13 Q1003.6 1388.43 1008.13 1388.68 Q1012.66 1388.89 1016.76 1392.98 M1012.86 1395.11 Q1010.36 1392.67 1007.52 1392.56 Q1004.71 1392.43 1002.48 1394.65 Q999.961 1397.17 999.863 1400.12 Q999.781 1403.05 1002.14 1405.87 L1012.86 1395.11 Z\" fill=\"#000000\" fill-rule=\"evenodd\" fill-opacity=\"1\" /><path clip-path=\"url(#clip660)\" d=\"M1030.32 1350.38 L1048.33 1350.61 L1045.04 1353.9 L1031.37 1354.63 L1030.64 1368.3 L1027.35 1371.59 L1027.12 1353.59 L1030.32 1350.38 Z\" fill=\"#000000\" fill-rule=\"evenodd\" fill-opacity=\"1\" /><path clip-path=\"url(#clip660)\" d=\"M1081.51 1342.5 L1093.05 1330.96 L1095.83 1333.75 L1080.31 1349.26 L1077.53 1346.48 Q1077.46 1342.65 1077.43 1336.14 Q1077.4 1329.59 1077.28 1327.81 Q1077.09 1324.43 1076.48 1322.58 Q1075.88 1320.7 1074.68 1319.51 Q1072.73 1317.56 1070.13 1317.71 Q1067.55 1317.84 1065.35 1320.03 Q1063.8 1321.59 1062.6 1323.86 Q1061.42 1326.12 1060.56 1329.18 L1057.22 1325.84 Q1058.41 1323.04 1059.74 1320.9 Q1061.06 1318.75 1062.5 1317.31 Q1066.3 1313.52 1070.46 1313.16 Q1074.62 1312.8 1077.79 1315.97 Q1079.3 1317.48 1080.08 1319.41 Q1080.87 1321.31 1081.21 1324.63 Q1081.28 1325.51 1081.36 1329.98 Q1081.43 1334.43 1081.51 1342.5 Z\" fill=\"#000000\" fill-rule=\"evenodd\" fill-opacity=\"1\" /><path clip-path=\"url(#clip660)\" d=\"M1322.96 1384.49 L1324.44 1385.96 L1310.59 1399.81 Q1313.89 1402.72 1317.2 1402.69 Q1320.51 1402.62 1323.5 1399.63 Q1325.24 1397.89 1326.43 1395.85 Q1327.64 1393.79 1328.4 1391.33 L1331.24 1394.18 Q1330.31 1396.49 1328.97 1398.55 Q1327.63 1400.61 1325.88 1402.36 Q1321.49 1406.75 1316.37 1406.77 Q1311.26 1406.77 1306.9 1402.41 Q1302.4 1397.91 1302.19 1392.85 Q1301.98 1387.76 1306.1 1383.64 Q1309.8 1379.94 1314.34 1380.18 Q1318.87 1380.4 1322.96 1384.49 M1319.07 1386.62 Q1316.56 1384.18 1313.73 1384.06 Q1310.91 1383.93 1308.69 1386.16 Q1306.17 1388.68 1306.07 1391.62 Q1305.99 1394.55 1308.35 1397.37 L1319.07 1386.62 Z\" fill=\"#000000\" fill-rule=\"evenodd\" fill-opacity=\"1\" /><path clip-path=\"url(#clip660)\" d=\"M1334.34 1361.85 L1324.42 1351.93 L1327.43 1348.92 L1352.9 1374.39 L1349.89 1377.4 L1347.14 1374.65 Q1347.83 1377.24 1347.17 1379.5 Q1346.52 1381.72 1344.49 1383.75 Q1341.16 1387.07 1336.42 1386.52 Q1331.69 1385.95 1327.36 1381.62 Q1323.04 1377.3 1322.47 1372.57 Q1321.91 1367.83 1325.24 1364.5 Q1327.27 1362.47 1329.51 1361.83 Q1331.75 1361.16 1334.34 1361.85 M1330.47 1378.51 Q1333.8 1381.84 1337.05 1382.38 Q1340.31 1382.88 1342.7 1380.49 Q1345.09 1378.1 1344.58 1374.85 Q1344.06 1371.57 1340.74 1368.25 Q1337.41 1364.93 1334.16 1364.42 Q1330.88 1363.9 1328.49 1366.29 Q1326.1 1368.68 1326.63 1371.95 Q1327.15 1375.19 1330.47 1378.51 Z\" fill=\"#000000\" fill-rule=\"evenodd\" fill-opacity=\"1\" /><path clip-path=\"url(#clip660)\" d=\"M1351.56 1361.26 L1340.46 1350.16 L1343.47 1347.15 L1354.45 1358.14 Q1357.06 1360.74 1359.38 1361.03 Q1361.69 1361.31 1363.72 1359.28 Q1366.16 1356.84 1366.01 1353.88 Q1365.88 1350.9 1363.19 1348.22 L1352.8 1337.82 L1355.81 1334.81 L1374.14 1353.14 L1371.13 1356.16 L1368.32 1353.34 Q1368.89 1356.11 1368.25 1358.38 Q1367.61 1360.62 1365.7 1362.54 Q1362.54 1365.7 1358.94 1365.37 Q1355.34 1365.04 1351.56 1361.26 M1347.6 1342.14 L1347.6 1342.14 Z\" fill=\"#000000\" fill-rule=\"evenodd\" fill-opacity=\"1\" /><path clip-path=\"url(#clip660)\" d=\"M1375.91 1316.12 L1378.73 1318.93 Q1376.75 1319.51 1375.11 1320.46 Q1373.47 1321.37 1372.16 1322.68 Q1369.23 1325.61 1369.48 1329.1 Q1369.71 1332.57 1373.06 1335.92 Q1376.42 1339.28 1379.91 1339.53 Q1383.38 1339.75 1386.31 1336.82 Q1387.62 1335.52 1388.55 1333.89 Q1389.48 1332.24 1390.05 1330.26 L1392.84 1333.04 Q1392.17 1334.89 1391.1 1336.55 Q1390.05 1338.18 1388.53 1339.71 Q1384.39 1343.85 1379.35 1343.68 Q1374.31 1343.52 1369.89 1339.1 Q1365.4 1334.61 1365.29 1329.59 Q1365.19 1324.55 1369.48 1320.26 Q1370.87 1318.87 1372.49 1317.84 Q1374.1 1316.79 1375.91 1316.12 Z\" fill=\"#000000\" fill-rule=\"evenodd\" fill-opacity=\"1\" /><path clip-path=\"url(#clip660)\" d=\"M1641.15 1361.72 L1652.22 1372.79 L1649.2 1375.8 L1638.24 1364.83 Q1635.63 1362.23 1633.33 1361.95 Q1631.02 1361.67 1628.99 1363.7 Q1626.55 1366.14 1626.7 1369.1 Q1626.84 1372.07 1629.53 1374.75 L1639.89 1385.11 L1636.86 1388.14 L1618.53 1369.81 L1621.56 1366.78 L1624.41 1369.63 Q1623.83 1366.89 1624.47 1364.62 Q1625.13 1362.33 1627.04 1360.41 Q1630.2 1357.25 1633.78 1357.6 Q1637.35 1357.92 1641.15 1361.72 Z\" fill=\"#000000\" fill-rule=\"evenodd\" fill-opacity=\"1\" /><path clip-path=\"url(#clip660)\" d=\"M1667.55 1360.85 Q1669.55 1365.4 1669.34 1367.61 Q1669.12 1369.82 1667.09 1371.85 L1664.69 1374.26 L1662.17 1371.74 L1663.93 1369.97 Q1665.18 1368.73 1665.28 1367.45 Q1665.37 1366.17 1664.02 1363.14 L1663.18 1361.23 L1637.73 1350.61 L1640.92 1347.41 L1660.99 1356.02 L1652.38 1335.96 L1655.57 1332.77 L1667.55 1360.85 Z\" fill=\"#000000\" fill-rule=\"evenodd\" fill-opacity=\"1\" /><path clip-path=\"url(#clip660)\" d=\"M1673.62 1316.12 L1676.44 1318.93 Q1674.46 1319.51 1672.82 1320.46 Q1671.19 1321.37 1669.88 1322.68 Q1666.95 1325.61 1667.19 1329.1 Q1667.42 1332.57 1670.78 1335.92 Q1674.13 1339.28 1677.62 1339.53 Q1681.09 1339.75 1684.02 1336.82 Q1685.33 1335.52 1686.26 1333.89 Q1687.19 1332.24 1687.77 1330.26 L1690.55 1333.04 Q1689.88 1334.89 1688.81 1336.55 Q1687.77 1338.18 1686.24 1339.71 Q1682.1 1343.85 1677.06 1343.68 Q1672.02 1343.52 1667.6 1339.1 Q1663.12 1334.61 1663 1329.59 Q1662.9 1324.55 1667.19 1320.26 Q1668.58 1318.87 1670.2 1317.84 Q1671.81 1316.79 1673.62 1316.12 Z\" fill=\"#000000\" fill-rule=\"evenodd\" fill-opacity=\"1\" /><path clip-path=\"url(#clip660)\" d=\"M1938.19 1362.39 L1949.26 1373.46 L1946.24 1376.47 L1935.28 1365.5 Q1932.67 1362.9 1930.37 1362.62 Q1928.06 1362.34 1926.03 1364.37 Q1923.59 1366.81 1923.74 1369.77 Q1923.89 1372.74 1926.57 1375.42 L1936.93 1385.78 L1933.9 1388.81 L1915.57 1370.48 L1918.6 1367.45 L1921.45 1370.3 Q1920.87 1367.56 1921.51 1365.29 Q1922.17 1363 1924.08 1361.08 Q1927.24 1357.92 1930.83 1358.27 Q1934.39 1358.59 1938.19 1362.39 Z\" fill=\"#000000\" fill-rule=\"evenodd\" fill-opacity=\"1\" /><path clip-path=\"url(#clip660)\" d=\"M1946.15 1344.12 Q1943.72 1346.55 1944.21 1349.85 Q1944.69 1353.14 1947.98 1356.43 Q1951.27 1359.72 1954.56 1360.23 Q1957.85 1360.71 1960.29 1358.27 Q1962.69 1355.86 1962.2 1352.55 Q1961.71 1349.25 1958.44 1345.97 Q1955.18 1342.72 1951.87 1342.23 Q1948.55 1341.72 1946.15 1344.12 M1943.59 1341.57 Q1947.52 1337.64 1952.32 1337.95 Q1957.11 1338.26 1961.63 1342.78 Q1966.13 1347.28 1966.46 1352.1 Q1966.77 1356.89 1962.84 1360.82 Q1958.9 1364.76 1954.1 1364.45 Q1949.3 1364.11 1944.8 1359.61 Q1940.29 1355.09 1939.96 1350.31 Q1939.65 1345.52 1943.59 1341.57 Z\" fill=\"#000000\" fill-rule=\"evenodd\" fill-opacity=\"1\" /><path clip-path=\"url(#clip660)\" d=\"M1971.34 1316.12 L1974.15 1318.93 Q1972.17 1319.51 1970.53 1320.46 Q1968.9 1321.37 1967.59 1322.68 Q1964.66 1325.61 1964.9 1329.1 Q1965.13 1332.57 1968.49 1335.92 Q1971.84 1339.28 1975.33 1339.53 Q1978.8 1339.75 1981.73 1336.82 Q1983.04 1335.52 1983.97 1333.89 Q1984.91 1332.24 1985.48 1330.26 L1988.26 1333.04 Q1987.59 1334.89 1986.53 1336.55 Q1985.48 1338.18 1983.96 1339.71 Q1979.81 1343.85 1974.77 1343.68 Q1969.73 1343.52 1965.31 1339.1 Q1960.83 1334.61 1960.71 1329.59 Q1960.62 1324.55 1964.9 1320.26 Q1966.29 1318.87 1967.92 1317.84 Q1969.52 1316.79 1971.34 1316.12 Z\" fill=\"#000000\" fill-rule=\"evenodd\" fill-opacity=\"1\" /><path clip-path=\"url(#clip660)\" d=\"M2077.59 1491.9 L2080.09 1494.4 L2077.21 1497.28 Q2075.59 1498.9 2075.61 1500.19 Q2075.64 1501.47 2077.34 1503.17 L2078.97 1504.79 L2083.92 1499.83 L2086.27 1502.18 L2081.31 1507.13 L2097.3 1523.13 L2094.27 1526.15 L2078.28 1510.16 L2075.4 1513.04 L2073.06 1510.7 L2075.94 1507.82 L2074.66 1506.55 Q2071.6 1503.48 2071.63 1500.67 Q2071.65 1497.84 2074.74 1494.74 L2077.59 1491.9 Z\" fill=\"#000000\" fill-rule=\"evenodd\" fill-opacity=\"1\" /><path clip-path=\"url(#clip660)\" d=\"M2096.46 1491.52 Q2094.04 1493.94 2094.53 1497.25 Q2095.01 1500.54 2098.3 1503.83 Q2101.59 1507.12 2104.88 1507.63 Q2108.17 1508.1 2110.6 1505.66 Q2113.01 1503.26 2112.52 1499.95 Q2112.03 1496.64 2108.76 1493.37 Q2105.5 1490.11 2102.19 1489.62 Q2098.87 1489.11 2096.46 1491.52 M2093.91 1488.97 Q2097.84 1485.04 2102.63 1485.35 Q2107.43 1485.66 2111.95 1490.18 Q2116.45 1494.68 2116.78 1499.49 Q2117.09 1504.29 2113.16 1508.22 Q2109.21 1512.16 2104.42 1511.85 Q2099.62 1511.51 2095.12 1507 Q2090.6 1502.49 2090.28 1497.71 Q2089.96 1492.91 2093.91 1488.97 Z\" fill=\"#000000\" fill-rule=\"evenodd\" fill-opacity=\"1\" /><path clip-path=\"url(#clip660)\" d=\"M2121.19 1468.2 Q2120.39 1468.41 2119.66 1468.88 Q2118.92 1469.32 2118.2 1470.04 Q2115.65 1472.6 2115.94 1475.64 Q2116.24 1478.65 2119.35 1481.76 L2129 1491.42 L2125.97 1494.45 L2107.64 1476.12 L2110.67 1473.09 L2113.52 1475.94 Q2112.8 1473.32 2113.52 1470.99 Q2114.22 1468.65 2116.4 1466.48 Q2116.71 1466.17 2117.14 1465.84 Q2117.54 1465.49 2118.08 1465.12 L2121.19 1468.2 Z\" fill=\"#000000\" fill-rule=\"evenodd\" fill-opacity=\"1\" /><path clip-path=\"url(#clip660)\" d=\"M2144.9 1455.69 L2146.37 1457.16 L2132.52 1471.01 Q2135.83 1473.92 2139.13 1473.89 Q2142.44 1473.83 2145.44 1470.83 Q2147.17 1469.1 2148.37 1467.05 Q2149.58 1464.99 2150.33 1462.53 L2153.18 1465.38 Q2152.25 1467.69 2150.9 1469.75 Q2149.56 1471.81 2147.81 1473.56 Q2143.42 1477.95 2138.3 1477.97 Q2133.19 1477.97 2128.84 1473.61 Q2124.34 1469.11 2124.12 1464.05 Q2123.91 1458.96 2128.04 1454.84 Q2131.74 1451.14 2136.27 1451.39 Q2140.8 1451.6 2144.9 1455.69 M2141 1457.82 Q2138.5 1455.38 2135.66 1455.26 Q2132.85 1455.13 2130.62 1457.36 Q2128.1 1459.88 2128 1462.83 Q2127.92 1465.76 2130.28 1468.57 L2141 1457.82 Z\" fill=\"#000000\" fill-rule=\"evenodd\" fill-opacity=\"1\" /><path clip-path=\"url(#clip660)\" d=\"M2141.43 1442.33 L2144.44 1439.32 L2162.77 1457.65 L2159.76 1460.67 L2141.43 1442.33 M2134.29 1435.2 L2137.3 1432.19 L2141.11 1436 L2138.1 1439.01 L2134.29 1435.2 Z\" fill=\"#000000\" fill-rule=\"evenodd\" fill-opacity=\"1\" /><path clip-path=\"url(#clip660)\" d=\"M2171.76 1429.91 Q2168.48 1426.64 2165.32 1426.19 Q2162.18 1425.74 2159.74 1428.18 Q2157.32 1430.6 2157.76 1433.76 Q2158.22 1436.9 2161.49 1440.17 Q2164.75 1443.43 2167.89 1443.89 Q2171.05 1444.33 2173.47 1441.91 Q2175.91 1439.47 2175.46 1436.33 Q2175.01 1433.17 2171.76 1429.91 M2181.87 1434 Q2186.55 1438.68 2186.75 1443.04 Q2186.96 1447.41 2182.67 1451.7 Q2181.09 1453.28 2179.43 1454.45 Q2177.8 1455.62 2175.98 1456.46 L2173.05 1453.53 Q2175.1 1452.92 2176.73 1451.97 Q2178.37 1451.02 2179.71 1449.68 Q2182.67 1446.72 2182.59 1443.69 Q2182.53 1440.68 2179.4 1437.55 L2177.91 1436.06 Q2178.6 1438.62 2177.94 1440.88 Q2177.29 1443.14 2175.26 1445.17 Q2171.89 1448.54 2167.25 1448.03 Q2162.62 1447.52 2158.38 1443.28 Q2154.13 1439.03 2153.62 1434.39 Q2153.11 1429.76 2156.48 1426.39 Q2158.51 1424.36 2160.77 1423.71 Q2163.03 1423.05 2165.59 1423.74 L2162.8 1420.96 L2165.81 1417.94 L2181.87 1434 Z\" fill=\"#000000\" fill-rule=\"evenodd\" fill-opacity=\"1\" /><path clip-path=\"url(#clip660)\" d=\"M2194.52 1403.77 L2205.59 1414.83 L2202.58 1417.85 L2191.61 1406.88 Q2189.01 1404.28 2186.7 1404 Q2184.39 1403.72 2182.36 1405.75 Q2179.92 1408.19 2180.07 1411.15 Q2180.22 1414.11 2182.9 1416.8 L2193.26 1427.16 L2190.24 1430.19 L2171.9 1411.86 L2174.93 1408.83 L2177.78 1411.68 Q2177.21 1408.94 2177.84 1406.67 Q2178.5 1404.38 2180.41 1402.46 Q2183.57 1399.3 2187.16 1399.65 Q2190.73 1399.97 2194.52 1403.77 Z\" fill=\"#000000\" fill-rule=\"evenodd\" fill-opacity=\"1\" /><path clip-path=\"url(#clip660)\" d=\"M2208.21 1403.9 L2211.66 1400.45 L2215.82 1404.6 L2212.37 1408.06 L2208.21 1403.9 M2195.03 1390.72 L2198.49 1387.27 L2202.64 1391.43 L2199.19 1394.88 L2195.03 1390.72 Z\" fill=\"#000000\" fill-rule=\"evenodd\" fill-opacity=\"1\" /><path clip-path=\"url(#clip660)\" d=\"M2242.88 1380.95 Q2244.87 1385.5 2244.66 1387.71 Q2244.45 1389.92 2242.42 1391.95 L2240.01 1394.36 L2237.49 1391.84 L2239.26 1390.07 Q2240.5 1388.83 2240.6 1387.55 Q2240.7 1386.27 2239.34 1383.24 L2238.51 1381.33 L2213.05 1370.71 L2216.24 1367.51 L2236.31 1376.12 L2227.7 1356.06 L2230.89 1352.87 L2242.88 1380.95 Z\" fill=\"#000000\" fill-rule=\"evenodd\" fill-opacity=\"1\" /><path clip-path=\"url(#clip660)\" d=\"M2259.15 1341.44 L2260.62 1342.91 L2246.77 1356.76 Q2250.08 1359.67 2253.38 1359.64 Q2256.69 1359.58 2259.69 1356.58 Q2261.42 1354.85 2262.62 1352.8 Q2263.83 1350.74 2264.58 1348.28 L2267.43 1351.13 Q2266.49 1353.44 2265.15 1355.5 Q2263.81 1357.56 2262.06 1359.31 Q2257.67 1363.7 2252.55 1363.72 Q2247.44 1363.72 2243.09 1359.36 Q2238.59 1354.86 2238.37 1349.8 Q2238.16 1344.71 2242.29 1340.59 Q2245.99 1336.89 2250.52 1337.14 Q2255.05 1337.35 2259.15 1341.44 M2255.25 1343.57 Q2252.75 1341.13 2249.91 1341.01 Q2247.1 1340.88 2244.87 1343.11 Q2242.35 1345.63 2242.25 1348.58 Q2242.17 1351.51 2244.53 1354.32 L2255.25 1343.57 Z\" fill=\"#000000\" fill-rule=\"evenodd\" fill-opacity=\"1\" /><path clip-path=\"url(#clip660)\" d=\"M2267.9 1316.94 L2270.75 1319.79 Q2268.82 1320.41 2267.12 1321.45 Q2265.41 1322.5 2263.94 1323.98 Q2261.7 1326.22 2261.26 1328.03 Q2260.83 1329.84 2262.21 1331.21 Q2263.25 1332.26 2264.66 1332.06 Q2266.05 1331.85 2269.02 1329.97 L2270.28 1329.16 Q2274.17 1326.64 2276.77 1326.56 Q2279.38 1326.45 2281.62 1328.69 Q2284.17 1331.24 2283.63 1334.76 Q2283.11 1338.26 2279.57 1341.8 Q2278.1 1343.27 2276.2 1344.58 Q2274.33 1345.89 2271.99 1347.09 L2268.88 1343.98 Q2271.42 1343.18 2273.48 1342 Q2275.53 1340.8 2277.12 1339.21 Q2279.25 1337.09 2279.67 1335.22 Q2280.08 1333.34 2278.75 1332.01 Q2277.53 1330.78 2276.04 1330.96 Q2274.56 1331.13 2271.16 1333.32 L2269.87 1334.12 Q2266.48 1336.33 2264.02 1336.37 Q2261.55 1336.38 2259.42 1334.25 Q2256.84 1331.67 2257.26 1328.43 Q2257.69 1325.19 2261.06 1321.81 Q2262.73 1320.15 2264.45 1318.92 Q2266.17 1317.69 2267.9 1316.94 Z\" fill=\"#000000\" fill-rule=\"evenodd\" fill-opacity=\"1\" /><polyline clip-path=\"url(#clip662)\" style=\"stroke:#000000; stroke-linecap:butt; stroke-linejoin:round; stroke-width:2; stroke-opacity:0.1; fill:none\" points=\"\n",
       "  112.177,1118.7 2352.76,1118.7 \n",
       "  \"/>\n",
       "<polyline clip-path=\"url(#clip662)\" style=\"stroke:#000000; stroke-linecap:butt; stroke-linejoin:round; stroke-width:2; stroke-opacity:0.1; fill:none\" points=\"\n",
       "  112.177,804.605 2352.76,804.605 \n",
       "  \"/>\n",
       "<polyline clip-path=\"url(#clip662)\" style=\"stroke:#000000; stroke-linecap:butt; stroke-linejoin:round; stroke-width:2; stroke-opacity:0.1; fill:none\" points=\"\n",
       "  112.177,490.513 2352.76,490.513 \n",
       "  \"/>\n",
       "<polyline clip-path=\"url(#clip662)\" style=\"stroke:#000000; stroke-linecap:butt; stroke-linejoin:round; stroke-width:2; stroke-opacity:0.1; fill:none\" points=\"\n",
       "  112.177,176.422 2352.76,176.422 \n",
       "  \"/>\n",
       "<polyline clip-path=\"url(#clip660)\" style=\"stroke:#000000; stroke-linecap:butt; stroke-linejoin:round; stroke-width:4; stroke-opacity:1; fill:none\" points=\"\n",
       "  112.177,1302.33 112.177,47.2441 \n",
       "  \"/>\n",
       "<polyline clip-path=\"url(#clip660)\" style=\"stroke:#000000; stroke-linecap:butt; stroke-linejoin:round; stroke-width:4; stroke-opacity:1; fill:none\" points=\"\n",
       "  112.177,1118.7 139.064,1118.7 \n",
       "  \"/>\n",
       "<polyline clip-path=\"url(#clip660)\" style=\"stroke:#000000; stroke-linecap:butt; stroke-linejoin:round; stroke-width:4; stroke-opacity:1; fill:none\" points=\"\n",
       "  112.177,804.605 139.064,804.605 \n",
       "  \"/>\n",
       "<polyline clip-path=\"url(#clip660)\" style=\"stroke:#000000; stroke-linecap:butt; stroke-linejoin:round; stroke-width:4; stroke-opacity:1; fill:none\" points=\"\n",
       "  112.177,490.513 139.064,490.513 \n",
       "  \"/>\n",
       "<polyline clip-path=\"url(#clip660)\" style=\"stroke:#000000; stroke-linecap:butt; stroke-linejoin:round; stroke-width:4; stroke-opacity:1; fill:none\" points=\"\n",
       "  112.177,176.422 139.064,176.422 \n",
       "  \"/>\n",
       "<path clip-path=\"url(#clip660)\" d=\"M64.2328 1104.49 Q60.6217 1104.49 58.793 1108.06 Q56.9875 1111.6 56.9875 1118.73 Q56.9875 1125.84 58.793 1129.4 Q60.6217 1132.94 64.2328 1132.94 Q67.867 1132.94 69.6726 1129.4 Q71.5013 1125.84 71.5013 1118.73 Q71.5013 1111.6 69.6726 1108.06 Q67.867 1104.49 64.2328 1104.49 M64.2328 1100.79 Q70.0429 1100.79 73.0985 1105.4 Q76.1772 1109.98 76.1772 1118.73 Q76.1772 1127.46 73.0985 1132.06 Q70.0429 1136.65 64.2328 1136.65 Q58.4226 1136.65 55.344 1132.06 Q52.2884 1127.46 52.2884 1118.73 Q52.2884 1109.98 55.344 1105.4 Q58.4226 1100.79 64.2328 1100.79 Z\" fill=\"#000000\" fill-rule=\"evenodd\" fill-opacity=\"1\" /><path clip-path=\"url(#clip660)\" d=\"M59.8578 817.949 L76.1772 817.949 L76.1772 821.885 L54.2328 821.885 L54.2328 817.949 Q56.8949 815.195 61.4782 810.565 Q66.0846 805.913 67.2652 804.57 Q69.5105 802.047 70.3902 800.311 Q71.2929 798.551 71.2929 796.862 Q71.2929 794.107 69.3485 792.371 Q67.4272 790.635 64.3254 790.635 Q62.1263 790.635 59.6726 791.399 Q57.2421 792.163 54.4643 793.714 L54.4643 788.991 Q57.2884 787.857 59.7421 787.278 Q62.1958 786.7 64.2328 786.7 Q69.6031 786.7 72.7976 789.385 Q75.992 792.07 75.992 796.561 Q75.992 798.69 75.1818 800.612 Q74.3948 802.51 72.2883 805.102 Q71.7096 805.774 68.6078 808.991 Q65.5059 812.186 59.8578 817.949 Z\" fill=\"#000000\" fill-rule=\"evenodd\" fill-opacity=\"1\" /><path clip-path=\"url(#clip660)\" d=\"M66.5939 477.307 L54.7884 495.756 L66.5939 495.756 L66.5939 477.307 M65.367 473.233 L71.2466 473.233 L71.2466 495.756 L76.1772 495.756 L76.1772 499.645 L71.2466 499.645 L71.2466 507.793 L66.5939 507.793 L66.5939 499.645 L50.9921 499.645 L50.9921 495.131 L65.367 473.233 Z\" fill=\"#000000\" fill-rule=\"evenodd\" fill-opacity=\"1\" /><path clip-path=\"url(#clip660)\" d=\"M64.6495 174.559 Q61.5013 174.559 59.6495 176.711 Q57.8208 178.864 57.8208 182.614 Q57.8208 186.341 59.6495 188.517 Q61.5013 190.67 64.6495 190.67 Q67.7976 190.67 69.6263 188.517 Q71.4781 186.341 71.4781 182.614 Q71.4781 178.864 69.6263 176.711 Q67.7976 174.559 64.6495 174.559 M73.9318 159.906 L73.9318 164.165 Q72.1726 163.332 70.367 162.892 Q68.5846 162.452 66.8254 162.452 Q62.1958 162.452 59.7421 165.577 Q57.3115 168.702 56.9643 175.022 Q58.33 173.008 60.3902 171.943 Q62.4504 170.855 64.9272 170.855 Q70.1355 170.855 73.1448 174.026 Q76.1772 177.174 76.1772 182.614 Q76.1772 187.938 73.029 191.156 Q69.8809 194.373 64.6495 194.373 Q58.6541 194.373 55.4828 189.79 Q52.3116 185.184 52.3116 176.457 Q52.3116 168.262 56.2004 163.401 Q60.0893 158.517 66.6402 158.517 Q68.3994 158.517 70.1818 158.864 Q71.9874 159.211 73.9318 159.906 Z\" fill=\"#000000\" fill-rule=\"evenodd\" fill-opacity=\"1\" /><polyline clip-path=\"url(#clip662)\" style=\"stroke:#000000; stroke-linecap:butt; stroke-linejoin:round; stroke-width:4; stroke-opacity:1; fill:none\" points=\"\n",
       "  205.361,951.247 205.361,82.7654 \n",
       "  \"/>\n",
       "<polyline clip-path=\"url(#clip662)\" style=\"stroke:#000000; stroke-linecap:butt; stroke-linejoin:round; stroke-width:4; stroke-opacity:1; fill:none\" points=\"\n",
       "  503.073,1266.81 503.073,1185.38 \n",
       "  \"/>\n",
       "<polyline clip-path=\"url(#clip662)\" style=\"stroke:#000000; stroke-linecap:butt; stroke-linejoin:round; stroke-width:4; stroke-opacity:1; fill:none\" points=\"\n",
       "  800.784,923.277 800.784,661.305 \n",
       "  \"/>\n",
       "<polyline clip-path=\"url(#clip662)\" style=\"stroke:#000000; stroke-linecap:butt; stroke-linejoin:round; stroke-width:4; stroke-opacity:1; fill:none\" points=\"\n",
       "  1098.5,1181.06 1098.5,1148.76 \n",
       "  \"/>\n",
       "<polyline clip-path=\"url(#clip662)\" style=\"stroke:#000000; stroke-linecap:butt; stroke-linejoin:round; stroke-width:4; stroke-opacity:1; fill:none\" points=\"\n",
       "  1396.21,1121.12 1396.21,1110.17 \n",
       "  \"/>\n",
       "<polyline clip-path=\"url(#clip662)\" style=\"stroke:#000000; stroke-linecap:butt; stroke-linejoin:round; stroke-width:4; stroke-opacity:1; fill:none\" points=\"\n",
       "  1693.92,1265.85 1693.92,1201.15 \n",
       "  \"/>\n",
       "<polyline clip-path=\"url(#clip662)\" style=\"stroke:#000000; stroke-linecap:butt; stroke-linejoin:round; stroke-width:4; stroke-opacity:1; fill:none\" points=\"\n",
       "  1991.63,1158.27 1991.63,1126.61 \n",
       "  \"/>\n",
       "<polyline clip-path=\"url(#clip662)\" style=\"stroke:#000000; stroke-linecap:butt; stroke-linejoin:round; stroke-width:4; stroke-opacity:1; fill:none\" points=\"\n",
       "  2289.34,1045.04 2289.34,966.026 \n",
       "  \"/>\n",
       "<line clip-path=\"url(#clip662)\" x1=\"221.361\" y1=\"951.247\" x2=\"189.361\" y2=\"951.247\" style=\"stroke:#000000; stroke-width:3.2; stroke-opacity:1\"/>\n",
       "<line clip-path=\"url(#clip662)\" x1=\"221.361\" y1=\"82.7654\" x2=\"189.361\" y2=\"82.7654\" style=\"stroke:#000000; stroke-width:3.2; stroke-opacity:1\"/>\n",
       "<line clip-path=\"url(#clip662)\" x1=\"519.073\" y1=\"1266.81\" x2=\"487.073\" y2=\"1266.81\" style=\"stroke:#000000; stroke-width:3.2; stroke-opacity:1\"/>\n",
       "<line clip-path=\"url(#clip662)\" x1=\"519.073\" y1=\"1185.38\" x2=\"487.073\" y2=\"1185.38\" style=\"stroke:#000000; stroke-width:3.2; stroke-opacity:1\"/>\n",
       "<line clip-path=\"url(#clip662)\" x1=\"816.784\" y1=\"923.277\" x2=\"784.784\" y2=\"923.277\" style=\"stroke:#000000; stroke-width:3.2; stroke-opacity:1\"/>\n",
       "<line clip-path=\"url(#clip662)\" x1=\"816.784\" y1=\"661.305\" x2=\"784.784\" y2=\"661.305\" style=\"stroke:#000000; stroke-width:3.2; stroke-opacity:1\"/>\n",
       "<line clip-path=\"url(#clip662)\" x1=\"1114.5\" y1=\"1181.06\" x2=\"1082.5\" y2=\"1181.06\" style=\"stroke:#000000; stroke-width:3.2; stroke-opacity:1\"/>\n",
       "<line clip-path=\"url(#clip662)\" x1=\"1114.5\" y1=\"1148.76\" x2=\"1082.5\" y2=\"1148.76\" style=\"stroke:#000000; stroke-width:3.2; stroke-opacity:1\"/>\n",
       "<line clip-path=\"url(#clip662)\" x1=\"1412.21\" y1=\"1121.12\" x2=\"1380.21\" y2=\"1121.12\" style=\"stroke:#000000; stroke-width:3.2; stroke-opacity:1\"/>\n",
       "<line clip-path=\"url(#clip662)\" x1=\"1412.21\" y1=\"1110.17\" x2=\"1380.21\" y2=\"1110.17\" style=\"stroke:#000000; stroke-width:3.2; stroke-opacity:1\"/>\n",
       "<line clip-path=\"url(#clip662)\" x1=\"1709.92\" y1=\"1265.85\" x2=\"1677.92\" y2=\"1265.85\" style=\"stroke:#000000; stroke-width:3.2; stroke-opacity:1\"/>\n",
       "<line clip-path=\"url(#clip662)\" x1=\"1709.92\" y1=\"1201.15\" x2=\"1677.92\" y2=\"1201.15\" style=\"stroke:#000000; stroke-width:3.2; stroke-opacity:1\"/>\n",
       "<line clip-path=\"url(#clip662)\" x1=\"2007.63\" y1=\"1158.27\" x2=\"1975.63\" y2=\"1158.27\" style=\"stroke:#000000; stroke-width:3.2; stroke-opacity:1\"/>\n",
       "<line clip-path=\"url(#clip662)\" x1=\"2007.63\" y1=\"1126.61\" x2=\"1975.63\" y2=\"1126.61\" style=\"stroke:#000000; stroke-width:3.2; stroke-opacity:1\"/>\n",
       "<line clip-path=\"url(#clip662)\" x1=\"2305.34\" y1=\"1045.04\" x2=\"2273.34\" y2=\"1045.04\" style=\"stroke:#000000; stroke-width:3.2; stroke-opacity:1\"/>\n",
       "<line clip-path=\"url(#clip662)\" x1=\"2305.34\" y1=\"966.026\" x2=\"2273.34\" y2=\"966.026\" style=\"stroke:#000000; stroke-width:3.2; stroke-opacity:1\"/>\n",
       "<circle clip-path=\"url(#clip662)\" cx=\"205.361\" cy=\"529.939\" r=\"14\" fill=\"#009af9\" fill-rule=\"evenodd\" fill-opacity=\"1\" stroke=\"#000000\" stroke-opacity=\"1\" stroke-width=\"3.2\"/>\n",
       "<circle clip-path=\"url(#clip662)\" cx=\"503.073\" cy=\"1223.43\" r=\"14\" fill=\"#009af9\" fill-rule=\"evenodd\" fill-opacity=\"1\" stroke=\"#000000\" stroke-opacity=\"1\" stroke-width=\"3.2\"/>\n",
       "<circle clip-path=\"url(#clip662)\" cx=\"800.784\" cy=\"792.778\" r=\"14\" fill=\"#009af9\" fill-rule=\"evenodd\" fill-opacity=\"1\" stroke=\"#000000\" stroke-opacity=\"1\" stroke-width=\"3.2\"/>\n",
       "<circle clip-path=\"url(#clip662)\" cx=\"1098.5\" cy=\"1164.92\" r=\"14\" fill=\"#009af9\" fill-rule=\"evenodd\" fill-opacity=\"1\" stroke=\"#000000\" stroke-opacity=\"1\" stroke-width=\"3.2\"/>\n",
       "<circle clip-path=\"url(#clip662)\" cx=\"1396.21\" cy=\"1115.68\" r=\"14\" fill=\"#009af9\" fill-rule=\"evenodd\" fill-opacity=\"1\" stroke=\"#000000\" stroke-opacity=\"1\" stroke-width=\"3.2\"/>\n",
       "<circle clip-path=\"url(#clip662)\" cx=\"1693.92\" cy=\"1230.9\" r=\"14\" fill=\"#009af9\" fill-rule=\"evenodd\" fill-opacity=\"1\" stroke=\"#000000\" stroke-opacity=\"1\" stroke-width=\"3.2\"/>\n",
       "<circle clip-path=\"url(#clip662)\" cx=\"1991.63\" cy=\"1141.78\" r=\"14\" fill=\"#009af9\" fill-rule=\"evenodd\" fill-opacity=\"1\" stroke=\"#000000\" stroke-opacity=\"1\" stroke-width=\"3.2\"/>\n",
       "<circle clip-path=\"url(#clip662)\" cx=\"2289.34\" cy=\"1006.51\" r=\"14\" fill=\"#009af9\" fill-rule=\"evenodd\" fill-opacity=\"1\" stroke=\"#000000\" stroke-opacity=\"1\" stroke-width=\"3.2\"/>\n",
       "<polyline clip-path=\"url(#clip662)\" style=\"stroke:#000000; stroke-linecap:butt; stroke-linejoin:round; stroke-width:4; stroke-opacity:1; fill:none\" points=\"\n",
       "  175.59,962.906 175.59,96.9718 \n",
       "  \"/>\n",
       "<polyline clip-path=\"url(#clip662)\" style=\"stroke:#000000; stroke-linecap:butt; stroke-linejoin:round; stroke-width:4; stroke-opacity:1; fill:none\" points=\"\n",
       "  473.302,1264.04 473.302,1182.83 \n",
       "  \"/>\n",
       "<polyline clip-path=\"url(#clip662)\" style=\"stroke:#000000; stroke-linecap:butt; stroke-linejoin:round; stroke-width:4; stroke-opacity:1; fill:none\" points=\"\n",
       "  771.013,917.563 771.013,667.992 \n",
       "  \"/>\n",
       "<polyline clip-path=\"url(#clip662)\" style=\"stroke:#000000; stroke-linecap:butt; stroke-linejoin:round; stroke-width:4; stroke-opacity:1; fill:none\" points=\"\n",
       "  1068.73,1180.29 1068.73,1149.55 \n",
       "  \"/>\n",
       "<polyline clip-path=\"url(#clip662)\" style=\"stroke:#000000; stroke-linecap:butt; stroke-linejoin:round; stroke-width:4; stroke-opacity:1; fill:none\" points=\"\n",
       "  1366.44,1121.2 1366.44,1110.16 \n",
       "  \"/>\n",
       "<polyline clip-path=\"url(#clip662)\" style=\"stroke:#000000; stroke-linecap:butt; stroke-linejoin:round; stroke-width:4; stroke-opacity:1; fill:none\" points=\"\n",
       "  1664.15,1261.8 1664.15,1200 \n",
       "  \"/>\n",
       "<polyline clip-path=\"url(#clip662)\" style=\"stroke:#000000; stroke-linecap:butt; stroke-linejoin:round; stroke-width:4; stroke-opacity:1; fill:none\" points=\"\n",
       "  1961.86,1157.44 1961.86,1126.12 \n",
       "  \"/>\n",
       "<polyline clip-path=\"url(#clip662)\" style=\"stroke:#000000; stroke-linecap:butt; stroke-linejoin:round; stroke-width:4; stroke-opacity:1; fill:none\" points=\"\n",
       "  2259.57,1043.85 2259.57,969.162 \n",
       "  \"/>\n",
       "<line clip-path=\"url(#clip662)\" x1=\"191.59\" y1=\"962.906\" x2=\"159.59\" y2=\"962.906\" style=\"stroke:#000000; stroke-width:3.2; stroke-opacity:1\"/>\n",
       "<line clip-path=\"url(#clip662)\" x1=\"191.59\" y1=\"96.9718\" x2=\"159.59\" y2=\"96.9718\" style=\"stroke:#000000; stroke-width:3.2; stroke-opacity:1\"/>\n",
       "<line clip-path=\"url(#clip662)\" x1=\"489.302\" y1=\"1264.04\" x2=\"457.302\" y2=\"1264.04\" style=\"stroke:#000000; stroke-width:3.2; stroke-opacity:1\"/>\n",
       "<line clip-path=\"url(#clip662)\" x1=\"489.302\" y1=\"1182.83\" x2=\"457.302\" y2=\"1182.83\" style=\"stroke:#000000; stroke-width:3.2; stroke-opacity:1\"/>\n",
       "<line clip-path=\"url(#clip662)\" x1=\"787.013\" y1=\"917.563\" x2=\"755.013\" y2=\"917.563\" style=\"stroke:#000000; stroke-width:3.2; stroke-opacity:1\"/>\n",
       "<line clip-path=\"url(#clip662)\" x1=\"787.013\" y1=\"667.992\" x2=\"755.013\" y2=\"667.992\" style=\"stroke:#000000; stroke-width:3.2; stroke-opacity:1\"/>\n",
       "<line clip-path=\"url(#clip662)\" x1=\"1084.73\" y1=\"1180.29\" x2=\"1052.73\" y2=\"1180.29\" style=\"stroke:#000000; stroke-width:3.2; stroke-opacity:1\"/>\n",
       "<line clip-path=\"url(#clip662)\" x1=\"1084.73\" y1=\"1149.55\" x2=\"1052.73\" y2=\"1149.55\" style=\"stroke:#000000; stroke-width:3.2; stroke-opacity:1\"/>\n",
       "<line clip-path=\"url(#clip662)\" x1=\"1382.44\" y1=\"1121.2\" x2=\"1350.44\" y2=\"1121.2\" style=\"stroke:#000000; stroke-width:3.2; stroke-opacity:1\"/>\n",
       "<line clip-path=\"url(#clip662)\" x1=\"1382.44\" y1=\"1110.16\" x2=\"1350.44\" y2=\"1110.16\" style=\"stroke:#000000; stroke-width:3.2; stroke-opacity:1\"/>\n",
       "<line clip-path=\"url(#clip662)\" x1=\"1680.15\" y1=\"1261.8\" x2=\"1648.15\" y2=\"1261.8\" style=\"stroke:#000000; stroke-width:3.2; stroke-opacity:1\"/>\n",
       "<line clip-path=\"url(#clip662)\" x1=\"1680.15\" y1=\"1200\" x2=\"1648.15\" y2=\"1200\" style=\"stroke:#000000; stroke-width:3.2; stroke-opacity:1\"/>\n",
       "<line clip-path=\"url(#clip662)\" x1=\"1977.86\" y1=\"1157.44\" x2=\"1945.86\" y2=\"1157.44\" style=\"stroke:#000000; stroke-width:3.2; stroke-opacity:1\"/>\n",
       "<line clip-path=\"url(#clip662)\" x1=\"1977.86\" y1=\"1126.12\" x2=\"1945.86\" y2=\"1126.12\" style=\"stroke:#000000; stroke-width:3.2; stroke-opacity:1\"/>\n",
       "<line clip-path=\"url(#clip662)\" x1=\"2275.57\" y1=\"1043.85\" x2=\"2243.57\" y2=\"1043.85\" style=\"stroke:#000000; stroke-width:3.2; stroke-opacity:1\"/>\n",
       "<line clip-path=\"url(#clip662)\" x1=\"2275.57\" y1=\"969.162\" x2=\"2243.57\" y2=\"969.162\" style=\"stroke:#000000; stroke-width:3.2; stroke-opacity:1\"/>\n",
       "<circle clip-path=\"url(#clip662)\" cx=\"175.59\" cy=\"529.939\" r=\"14\" fill=\"#e26f46\" fill-rule=\"evenodd\" fill-opacity=\"1\" stroke=\"#000000\" stroke-opacity=\"1\" stroke-width=\"3.2\"/>\n",
       "<circle clip-path=\"url(#clip662)\" cx=\"473.302\" cy=\"1223.43\" r=\"14\" fill=\"#e26f46\" fill-rule=\"evenodd\" fill-opacity=\"1\" stroke=\"#000000\" stroke-opacity=\"1\" stroke-width=\"3.2\"/>\n",
       "<circle clip-path=\"url(#clip662)\" cx=\"771.013\" cy=\"792.778\" r=\"14\" fill=\"#e26f46\" fill-rule=\"evenodd\" fill-opacity=\"1\" stroke=\"#000000\" stroke-opacity=\"1\" stroke-width=\"3.2\"/>\n",
       "<circle clip-path=\"url(#clip662)\" cx=\"1068.73\" cy=\"1164.92\" r=\"14\" fill=\"#e26f46\" fill-rule=\"evenodd\" fill-opacity=\"1\" stroke=\"#000000\" stroke-opacity=\"1\" stroke-width=\"3.2\"/>\n",
       "<circle clip-path=\"url(#clip662)\" cx=\"1366.44\" cy=\"1115.68\" r=\"14\" fill=\"#e26f46\" fill-rule=\"evenodd\" fill-opacity=\"1\" stroke=\"#000000\" stroke-opacity=\"1\" stroke-width=\"3.2\"/>\n",
       "<circle clip-path=\"url(#clip662)\" cx=\"1664.15\" cy=\"1230.9\" r=\"14\" fill=\"#e26f46\" fill-rule=\"evenodd\" fill-opacity=\"1\" stroke=\"#000000\" stroke-opacity=\"1\" stroke-width=\"3.2\"/>\n",
       "<circle clip-path=\"url(#clip662)\" cx=\"1961.86\" cy=\"1141.78\" r=\"14\" fill=\"#e26f46\" fill-rule=\"evenodd\" fill-opacity=\"1\" stroke=\"#000000\" stroke-opacity=\"1\" stroke-width=\"3.2\"/>\n",
       "<circle clip-path=\"url(#clip662)\" cx=\"2259.57\" cy=\"1006.51\" r=\"14\" fill=\"#e26f46\" fill-rule=\"evenodd\" fill-opacity=\"1\" stroke=\"#000000\" stroke-opacity=\"1\" stroke-width=\"3.2\"/>\n",
       "<path clip-path=\"url(#clip660)\" d=\"\n",
       "M1776.02 244.6 L2278.07 244.6 L2278.07 89.0802 L1776.02 89.0802  Z\n",
       "  \" fill=\"#ffffff\" fill-rule=\"evenodd\" fill-opacity=\"1\"/>\n",
       "<polyline clip-path=\"url(#clip660)\" style=\"stroke:#000000; stroke-linecap:butt; stroke-linejoin:round; stroke-width:4; stroke-opacity:1; fill:none\" points=\"\n",
       "  1776.02,244.6 2278.07,244.6 2278.07,89.0802 1776.02,89.0802 1776.02,244.6 \n",
       "  \"/>\n",
       "<circle clip-path=\"url(#clip660)\" cx=\"1875.6\" cy=\"140.92\" r=\"23\" fill=\"#009af9\" fill-rule=\"evenodd\" fill-opacity=\"1\" stroke=\"#000000\" stroke-opacity=\"1\" stroke-width=\"5.12\"/>\n",
       "<path clip-path=\"url(#clip660)\" d=\"M1993.95 145.26 Q1993.95 140.561 1992.01 137.899 Q1990.09 135.214 1986.71 135.214 Q1983.33 135.214 1981.38 137.899 Q1979.46 140.561 1979.46 145.26 Q1979.46 149.96 1981.38 152.645 Q1983.33 155.307 1986.71 155.307 Q1990.09 155.307 1992.01 152.645 Q1993.95 149.96 1993.95 145.26 M1979.46 136.21 Q1980.8 133.895 1982.84 132.784 Q1984.9 131.649 1987.75 131.649 Q1992.47 131.649 1995.41 135.399 Q1998.37 139.149 1998.37 145.26 Q1998.37 151.372 1995.41 155.122 Q1992.47 158.872 1987.75 158.872 Q1984.9 158.872 1982.84 157.76 Q1980.8 156.626 1979.46 154.311 L1979.46 158.2 L1975.18 158.2 L1975.18 122.182 L1979.46 122.182 L1979.46 136.21 Z\" fill=\"#000000\" fill-rule=\"evenodd\" fill-opacity=\"1\" /><path clip-path=\"url(#clip660)\" d=\"M2015.48 135.261 Q2012.05 135.261 2010.06 137.946 Q2008.07 140.608 2008.07 145.26 Q2008.07 149.913 2010.04 152.598 Q2012.03 155.26 2015.48 155.26 Q2018.88 155.26 2020.87 152.575 Q2022.86 149.89 2022.86 145.26 Q2022.86 140.654 2020.87 137.969 Q2018.88 135.261 2015.48 135.261 M2015.48 131.649 Q2021.04 131.649 2024.21 135.261 Q2027.38 138.872 2027.38 145.26 Q2027.38 151.626 2024.21 155.26 Q2021.04 158.872 2015.48 158.872 Q2009.9 158.872 2006.73 155.26 Q2003.58 151.626 2003.58 145.26 Q2003.58 138.872 2006.73 135.261 Q2009.9 131.649 2015.48 131.649 Z\" fill=\"#000000\" fill-rule=\"evenodd\" fill-opacity=\"1\" /><path clip-path=\"url(#clip660)\" d=\"M2044.48 135.261 Q2041.06 135.261 2039.07 137.946 Q2037.08 140.608 2037.08 145.26 Q2037.08 149.913 2039.04 152.598 Q2041.03 155.26 2044.48 155.26 Q2047.89 155.26 2049.88 152.575 Q2051.87 149.89 2051.87 145.26 Q2051.87 140.654 2049.88 137.969 Q2047.89 135.261 2044.48 135.261 M2044.48 131.649 Q2050.04 131.649 2053.21 135.261 Q2056.38 138.872 2056.38 145.26 Q2056.38 151.626 2053.21 155.26 Q2050.04 158.872 2044.48 158.872 Q2038.91 158.872 2035.73 155.26 Q2032.59 151.626 2032.59 145.26 Q2032.59 138.872 2035.73 135.261 Q2038.91 131.649 2044.48 131.649 Z\" fill=\"#000000\" fill-rule=\"evenodd\" fill-opacity=\"1\" /><path clip-path=\"url(#clip660)\" d=\"M2067.66 124.913 L2067.66 132.274 L2076.43 132.274 L2076.43 135.585 L2067.66 135.585 L2067.66 149.659 Q2067.66 152.83 2068.51 153.733 Q2069.39 154.635 2072.05 154.635 L2076.43 154.635 L2076.43 158.2 L2072.05 158.2 Q2067.12 158.2 2065.25 156.372 Q2063.37 154.52 2063.37 149.659 L2063.37 135.585 L2060.25 135.585 L2060.25 132.274 L2063.37 132.274 L2063.37 124.913 L2067.66 124.913 Z\" fill=\"#000000\" fill-rule=\"evenodd\" fill-opacity=\"1\" /><path clip-path=\"url(#clip660)\" d=\"M2098.56 133.038 L2098.56 137.066 Q2096.75 136.14 2094.81 135.677 Q2092.86 135.214 2090.78 135.214 Q2087.61 135.214 2086.01 136.186 Q2084.44 137.159 2084.44 139.103 Q2084.44 140.585 2085.57 141.441 Q2086.71 142.274 2090.13 143.038 L2091.59 143.362 Q2096.13 144.335 2098.03 146.117 Q2099.95 147.876 2099.95 151.048 Q2099.95 154.659 2097.08 156.765 Q2094.23 158.872 2089.23 158.872 Q2087.15 158.872 2084.88 158.455 Q2082.63 158.061 2080.13 157.251 L2080.13 152.853 Q2082.49 154.08 2084.78 154.705 Q2087.08 155.307 2089.32 155.307 Q2092.33 155.307 2093.95 154.288 Q2095.57 153.247 2095.57 151.372 Q2095.57 149.635 2094.39 148.71 Q2093.23 147.784 2089.28 146.927 L2087.79 146.58 Q2083.84 145.747 2082.08 144.034 Q2080.32 142.298 2080.32 139.288 Q2080.32 135.631 2082.91 133.64 Q2085.5 131.649 2090.27 131.649 Q2092.63 131.649 2094.72 131.997 Q2096.8 132.344 2098.56 133.038 Z\" fill=\"#000000\" fill-rule=\"evenodd\" fill-opacity=\"1\" /><path clip-path=\"url(#clip660)\" d=\"M2110.94 124.913 L2110.94 132.274 L2119.72 132.274 L2119.72 135.585 L2110.94 135.585 L2110.94 149.659 Q2110.94 152.83 2111.8 153.733 Q2112.68 154.635 2115.34 154.635 L2119.72 154.635 L2119.72 158.2 L2115.34 158.2 Q2110.41 158.2 2108.53 156.372 Q2106.66 154.52 2106.66 149.659 L2106.66 135.585 L2103.53 135.585 L2103.53 132.274 L2106.66 132.274 L2106.66 124.913 L2110.94 124.913 Z\" fill=\"#000000\" fill-rule=\"evenodd\" fill-opacity=\"1\" /><path clip-path=\"url(#clip660)\" d=\"M2140.34 136.256 Q2139.62 135.839 2138.77 135.654 Q2137.93 135.446 2136.91 135.446 Q2133.3 135.446 2131.36 137.807 Q2129.44 140.145 2129.44 144.543 L2129.44 158.2 L2125.15 158.2 L2125.15 132.274 L2129.44 132.274 L2129.44 136.302 Q2130.78 133.941 2132.93 132.807 Q2135.09 131.649 2138.16 131.649 Q2138.6 131.649 2139.14 131.719 Q2139.67 131.765 2140.32 131.881 L2140.34 136.256 Z\" fill=\"#000000\" fill-rule=\"evenodd\" fill-opacity=\"1\" /><path clip-path=\"url(#clip660)\" d=\"M2156.59 145.168 Q2151.43 145.168 2149.44 146.348 Q2147.45 147.529 2147.45 150.376 Q2147.45 152.645 2148.93 153.987 Q2150.43 155.307 2153 155.307 Q2156.54 155.307 2158.67 152.807 Q2160.83 150.284 2160.83 146.117 L2160.83 145.168 L2156.59 145.168 M2165.09 143.409 L2165.09 158.2 L2160.83 158.2 L2160.83 154.265 Q2159.37 156.626 2157.19 157.76 Q2155.02 158.872 2151.87 158.872 Q2147.89 158.872 2145.53 156.649 Q2143.19 154.404 2143.19 150.654 Q2143.19 146.279 2146.1 144.057 Q2149.04 141.835 2154.85 141.835 L2160.83 141.835 L2160.83 141.418 Q2160.83 138.478 2158.88 136.881 Q2156.96 135.261 2153.46 135.261 Q2151.24 135.261 2149.14 135.793 Q2147.03 136.325 2145.09 137.39 L2145.09 133.455 Q2147.42 132.552 2149.62 132.112 Q2151.82 131.649 2153.9 131.649 Q2159.53 131.649 2162.31 134.566 Q2165.09 137.483 2165.09 143.409 Z\" fill=\"#000000\" fill-rule=\"evenodd\" fill-opacity=\"1\" /><path clip-path=\"url(#clip660)\" d=\"M2177.98 154.311 L2177.98 168.061 L2173.7 168.061 L2173.7 132.274 L2177.98 132.274 L2177.98 136.21 Q2179.32 133.895 2181.36 132.784 Q2183.42 131.649 2186.27 131.649 Q2190.99 131.649 2193.93 135.399 Q2196.89 139.149 2196.89 145.26 Q2196.89 151.372 2193.93 155.122 Q2190.99 158.872 2186.27 158.872 Q2183.42 158.872 2181.36 157.76 Q2179.32 156.626 2177.98 154.311 M2192.47 145.26 Q2192.47 140.561 2190.52 137.899 Q2188.6 135.214 2185.22 135.214 Q2181.84 135.214 2179.9 137.899 Q2177.98 140.561 2177.98 145.26 Q2177.98 149.96 2179.9 152.645 Q2181.84 155.307 2185.22 155.307 Q2188.6 155.307 2190.52 152.645 Q2192.47 149.96 2192.47 145.26 Z\" fill=\"#000000\" fill-rule=\"evenodd\" fill-opacity=\"1\" /><circle clip-path=\"url(#clip660)\" cx=\"1875.6\" cy=\"192.76\" r=\"23\" fill=\"#e26f46\" fill-rule=\"evenodd\" fill-opacity=\"1\" stroke=\"#000000\" stroke-opacity=\"1\" stroke-width=\"5.12\"/>\n",
       "<path clip-path=\"url(#clip660)\" d=\"M1979.46 206.151 L1979.46 219.901 L1975.18 219.901 L1975.18 184.114 L1979.46 184.114 L1979.46 188.05 Q1980.8 185.735 1982.84 184.624 Q1984.9 183.489 1987.75 183.489 Q1992.47 183.489 1995.41 187.239 Q1998.37 190.989 1998.37 197.1 Q1998.37 203.212 1995.41 206.962 Q1992.47 210.712 1987.75 210.712 Q1984.9 210.712 1982.84 209.6 Q1980.8 208.466 1979.46 206.151 M1993.95 197.1 Q1993.95 192.401 1992.01 189.739 Q1990.09 187.054 1986.71 187.054 Q1983.33 187.054 1981.38 189.739 Q1979.46 192.401 1979.46 197.1 Q1979.46 201.8 1981.38 204.485 Q1983.33 207.147 1986.71 207.147 Q1990.09 207.147 1992.01 204.485 Q1993.95 201.8 1993.95 197.1 Z\" fill=\"#000000\" fill-rule=\"evenodd\" fill-opacity=\"1\" /><path clip-path=\"url(#clip660)\" d=\"M2017.22 197.008 Q2012.05 197.008 2010.06 198.188 Q2008.07 199.369 2008.07 202.216 Q2008.07 204.485 2009.55 205.827 Q2011.06 207.147 2013.63 207.147 Q2017.17 207.147 2019.3 204.647 Q2021.45 202.124 2021.45 197.957 L2021.45 197.008 L2017.22 197.008 M2025.71 195.249 L2025.71 210.04 L2021.45 210.04 L2021.45 206.105 Q2019.99 208.466 2017.82 209.6 Q2015.64 210.712 2012.49 210.712 Q2008.51 210.712 2006.15 208.489 Q2003.81 206.244 2003.81 202.494 Q2003.81 198.119 2006.73 195.897 Q2009.67 193.675 2015.48 193.675 L2021.45 193.675 L2021.45 193.258 Q2021.45 190.318 2019.51 188.721 Q2017.59 187.101 2014.09 187.101 Q2011.87 187.101 2009.76 187.633 Q2007.66 188.165 2005.71 189.23 L2005.71 185.295 Q2008.05 184.392 2010.25 183.952 Q2012.45 183.489 2014.53 183.489 Q2020.16 183.489 2022.93 186.406 Q2025.71 189.323 2025.71 195.249 Z\" fill=\"#000000\" fill-rule=\"evenodd\" fill-opacity=\"1\" /><path clip-path=\"url(#clip660)\" d=\"M2049.51 188.096 Q2048.79 187.679 2047.93 187.494 Q2047.1 187.286 2046.08 187.286 Q2042.47 187.286 2040.53 189.647 Q2038.6 191.985 2038.6 196.383 L2038.6 210.04 L2034.32 210.04 L2034.32 184.114 L2038.6 184.114 L2038.6 188.142 Q2039.95 185.781 2042.1 184.647 Q2044.25 183.489 2047.33 183.489 Q2047.77 183.489 2048.3 183.559 Q2048.84 183.605 2049.48 183.721 L2049.51 188.096 Z\" fill=\"#000000\" fill-rule=\"evenodd\" fill-opacity=\"1\" /><path clip-path=\"url(#clip660)\" d=\"M2065.76 197.008 Q2060.6 197.008 2058.6 198.188 Q2056.61 199.369 2056.61 202.216 Q2056.61 204.485 2058.1 205.827 Q2059.6 207.147 2062.17 207.147 Q2065.71 207.147 2067.84 204.647 Q2069.99 202.124 2069.99 197.957 L2069.99 197.008 L2065.76 197.008 M2074.25 195.249 L2074.25 210.04 L2069.99 210.04 L2069.99 206.105 Q2068.53 208.466 2066.36 209.6 Q2064.18 210.712 2061.03 210.712 Q2057.05 210.712 2054.69 208.489 Q2052.35 206.244 2052.35 202.494 Q2052.35 198.119 2055.27 195.897 Q2058.21 193.675 2064.02 193.675 L2069.99 193.675 L2069.99 193.258 Q2069.99 190.318 2068.05 188.721 Q2066.13 187.101 2062.63 187.101 Q2060.41 187.101 2058.3 187.633 Q2056.2 188.165 2054.25 189.23 L2054.25 185.295 Q2056.59 184.392 2058.79 183.952 Q2060.99 183.489 2063.07 183.489 Q2068.7 183.489 2071.47 186.406 Q2074.25 189.323 2074.25 195.249 Z\" fill=\"#000000\" fill-rule=\"evenodd\" fill-opacity=\"1\" /><path clip-path=\"url(#clip660)\" d=\"M2103.21 189.091 Q2104.81 186.221 2107.03 184.855 Q2109.25 183.489 2112.26 183.489 Q2116.31 183.489 2118.51 186.337 Q2120.71 189.161 2120.71 194.392 L2120.71 210.04 L2116.43 210.04 L2116.43 194.531 Q2116.43 190.804 2115.11 188.999 Q2113.79 187.193 2111.08 187.193 Q2107.77 187.193 2105.85 189.392 Q2103.93 191.591 2103.93 195.388 L2103.93 210.04 L2099.65 210.04 L2099.65 194.531 Q2099.65 190.781 2098.33 188.999 Q2097.01 187.193 2094.25 187.193 Q2090.99 187.193 2089.07 189.415 Q2087.15 191.614 2087.15 195.388 L2087.15 210.04 L2082.86 210.04 L2082.86 184.114 L2087.15 184.114 L2087.15 188.142 Q2088.6 185.758 2090.64 184.624 Q2092.68 183.489 2095.48 183.489 Q2098.3 183.489 2100.27 184.925 Q2102.26 186.36 2103.21 189.091 Z\" fill=\"#000000\" fill-rule=\"evenodd\" fill-opacity=\"1\" /><path clip-path=\"url(#clip660)\" d=\"M2151.38 196.013 L2151.38 198.096 L2131.8 198.096 Q2132.08 202.494 2134.44 204.809 Q2136.82 207.1 2141.06 207.1 Q2143.51 207.1 2145.8 206.499 Q2148.12 205.897 2150.39 204.693 L2150.39 208.721 Q2148.09 209.693 2145.69 210.202 Q2143.28 210.712 2140.8 210.712 Q2134.6 210.712 2130.97 207.1 Q2127.35 203.489 2127.35 197.332 Q2127.35 190.966 2130.78 187.239 Q2134.23 183.489 2140.06 183.489 Q2145.29 183.489 2148.33 186.869 Q2151.38 190.226 2151.38 196.013 M2147.12 194.763 Q2147.08 191.267 2145.15 189.184 Q2143.26 187.101 2140.11 187.101 Q2136.54 187.101 2134.39 189.114 Q2132.26 191.128 2131.94 194.786 L2147.12 194.763 Z\" fill=\"#000000\" fill-rule=\"evenodd\" fill-opacity=\"1\" /><path clip-path=\"url(#clip660)\" d=\"M2162.59 176.753 L2162.59 184.114 L2171.36 184.114 L2171.36 187.425 L2162.59 187.425 L2162.59 201.499 Q2162.59 204.67 2163.44 205.573 Q2164.32 206.475 2166.98 206.475 L2171.36 206.475 L2171.36 210.04 L2166.98 210.04 Q2162.05 210.04 2160.18 208.212 Q2158.3 206.36 2158.3 201.499 L2158.3 187.425 L2155.18 187.425 L2155.18 184.114 L2158.3 184.114 L2158.3 176.753 L2162.59 176.753 Z\" fill=\"#000000\" fill-rule=\"evenodd\" fill-opacity=\"1\" /><path clip-path=\"url(#clip660)\" d=\"M2191.98 188.096 Q2191.27 187.679 2190.41 187.494 Q2189.58 187.286 2188.56 187.286 Q2184.95 187.286 2183 189.647 Q2181.08 191.985 2181.08 196.383 L2181.08 210.04 L2176.8 210.04 L2176.8 184.114 L2181.08 184.114 L2181.08 188.142 Q2182.42 185.781 2184.58 184.647 Q2186.73 183.489 2189.81 183.489 Q2190.25 183.489 2190.78 183.559 Q2191.31 183.605 2191.96 183.721 L2191.98 188.096 Z\" fill=\"#000000\" fill-rule=\"evenodd\" fill-opacity=\"1\" /><path clip-path=\"url(#clip660)\" d=\"M2196.45 184.114 L2200.71 184.114 L2200.71 210.04 L2196.45 210.04 L2196.45 184.114 M2196.45 174.022 L2200.71 174.022 L2200.71 179.415 L2196.45 179.415 L2196.45 174.022 Z\" fill=\"#000000\" fill-rule=\"evenodd\" fill-opacity=\"1\" /><path clip-path=\"url(#clip660)\" d=\"M2228.28 185.11 L2228.28 189.091 Q2226.47 188.096 2224.65 187.61 Q2222.84 187.101 2220.99 187.101 Q2216.84 187.101 2214.55 189.739 Q2212.26 192.355 2212.26 197.1 Q2212.26 201.846 2214.55 204.485 Q2216.84 207.1 2220.99 207.1 Q2222.84 207.1 2224.65 206.614 Q2226.47 206.105 2228.28 205.11 L2228.28 209.045 Q2226.5 209.878 2224.58 210.295 Q2222.68 210.712 2220.52 210.712 Q2214.67 210.712 2211.22 207.031 Q2207.77 203.35 2207.77 197.1 Q2207.77 190.758 2211.24 187.124 Q2214.74 183.489 2220.8 183.489 Q2222.77 183.489 2224.65 183.906 Q2226.52 184.3 2228.28 185.11 Z\" fill=\"#000000\" fill-rule=\"evenodd\" fill-opacity=\"1\" /></svg>\n"
      ]
     },
     "execution_count": 31,
     "metadata": {},
     "output_type": "execute_result"
    }
   ],
   "source": [
    "scatter(0.05 .+ (1:8), conf_boot_t.estimate,\n",
    "        yerror=(conf_boot_t.\"boot lo\", conf_boot_t.\"boot hi\"),\n",
    "        label=\"bootstrap\",\n",
    "        xticks=(1:8, conf_boot_t.statistic), xrotation=45)\n",
    "scatter!(-0.05 .+ (1:8), conf_boot_t.estimate,\n",
    "         yerror=(conf_boot_t.\"parametric lo\", conf_boot_t.\"parametric hi\"),\n",
    "         label=\"parametric\")"
   ]
  },
  {
   "cell_type": "code",
   "execution_count": 32,
   "metadata": {},
   "outputs": [
    {
     "data": {
      "text/plain": [
       "boot_probit (generic function with 1 method)"
      ]
     },
     "execution_count": 32,
     "metadata": {},
     "output_type": "execute_result"
    }
   ],
   "source": [
    "function boot_probit(df_boot)\n",
    "    probit_boot = glm(@formula(lfp ~ lnnlinc + age + age^2 + educ + nyc + noc + foreign),\n",
    "                      df_boot, Binomial(), ProbitLink())\n",
    "    return (; (Symbol.(coefnames(probit_boot)) .=> coef(probit_boot))...)\n",
    "end"
   ]
  },
  {
   "cell_type": "code",
   "execution_count": 33,
   "metadata": {},
   "outputs": [
    {
     "name": "stdout",
     "output_type": "stream",
     "text": [
      "  3.168446 seconds (3.85 M allocations: 785.173 MiB, 4.40% gc time, 67.74% compilation time)\n"
     ]
    },
    {
     "data": {
      "text/plain": [
       "Bootstrap Sampling\n",
       "  Estimates:\n",
       "     Var │ Estimate    Bias          StdError\n",
       "         │ Float64     Float64       Float64\n",
       "    ─────┼─────────────────────────────────────\n",
       "       1 │  3.74896     0.0479617    1.36775\n",
       "       2 │ -0.666932   -0.0106807    0.130741\n",
       "       3 │  2.07531     0.0370709    0.422754\n",
       "       4 │ -0.294345   -0.00502473   0.0521531\n",
       "       5 │  0.0191963   0.000703102  0.0181475\n",
       "       6 │ -0.714465   -0.0106769    0.108667\n",
       "       7 │ -0.146985   -0.00404358   0.051472\n",
       "       8 │  0.71438     0.0094247    0.123851\n",
       "  Sampling: BasicSampling\n",
       "  Samples:  1000\n",
       "  Data:     DataFrame: { 872 × 8 }\n"
      ]
     },
     "execution_count": 33,
     "metadata": {},
     "output_type": "execute_result"
    }
   ],
   "source": [
    "Random.seed!(1234)\n",
    "@time bs = bootstrap(boot_probit, df, BasicSampling(1000))"
   ]
  },
  {
   "cell_type": "code",
   "execution_count": 34,
   "metadata": {},
   "outputs": [
    {
     "data": {
      "text/plain": [
       "((3.7489556492271108, 1.066245983435171, 6.596366029686565), (-0.6669318467301562, -0.9431096226752889, -0.42460580882388094), (2.075310025309943, 1.2443435825374765, 2.9124734945385455), (-0.2943452031363773, -0.3971318919150751, -0.19145657341949654), (0.01919626008510499, -0.01542631836583384, 0.05430837906449797), (-0.7144647481686731, -0.9370411722162185, -0.5250276743069752), (-0.1469845045078344, -0.25198378115277537, -0.05038976115323891), (0.7143798526957524, 0.4690178809315581, 0.972134322270289))"
      ]
     },
     "execution_count": 34,
     "metadata": {},
     "output_type": "execute_result"
    }
   ],
   "source": [
    "bs_ci = confint(bs, PercentileConfInt(0.95))"
   ]
  },
  {
   "cell_type": "code",
   "execution_count": 35,
   "metadata": {},
   "outputs": [
    {
     "data": {
      "text/plain": [
       "8-element Vector{Tuple{Float64, Float64, Float64}}:\n",
       " (3.7489556492271108, 2.68270966579194, 2.847410380459454)\n",
       " (-0.6669318467301562, 0.2761777759451327, 0.24232603790627522)\n",
       " (2.075310025309943, 0.8309664427724666, 0.8371634692286025)\n",
       " (-0.2943452031363773, 0.10278668877869779, 0.10288862971688076)\n",
       " (0.01919626008510499, 0.03462257845093883, 0.03511211897939298)\n",
       " (-0.7144647481686731, 0.2225764240475454, 0.18943707386169795)\n",
       " (-0.1469845045078344, 0.10499927664494096, 0.09659474335459549)\n",
       " (0.7143798526957524, 0.24536197176419433, 0.2577544695745365)"
      ]
     },
     "execution_count": 35,
     "metadata": {},
     "output_type": "execute_result"
    }
   ],
   "source": [
    "conf_boot_t.bootstrap = [(ci[1], ci[1] - ci[2], ci[3] - ci[1]) for ci in bs_ci]"
   ]
  },
  {
   "cell_type": "code",
   "execution_count": 36,
   "metadata": {},
   "outputs": [
    {
     "data": {
      "text/html": [
       "<div class=\"data-frame\"><p>8 rows × 7 columns</p><table class=\"data-frame\"><thead><tr><th></th><th>statistic</th><th>estimate</th><th>boot lo</th><th>boot hi</th><th>parametric lo</th><th>parametric hi</th><th>bootstrap</th></tr><tr><th></th><th title=\"String\">String</th><th title=\"Float64\">Float64</th><th title=\"Float64\">Float64</th><th title=\"Float64\">Float64</th><th title=\"Float64\">Float64</th><th title=\"Float64\">Float64</th><th title=\"Tuple{Float64, Float64, Float64}\">Tuple…</th></tr></thead><tbody><tr><th>1</th><td>(Intercept)</td><td>3.74896</td><td>2.68271</td><td>2.84741</td><td>2.75695</td><td>2.75695</td><td>(3.74896, 2.68271, 2.84741)</td></tr><tr><th>2</th><td>lnnlinc</td><td>-0.666932</td><td>0.276178</td><td>0.242326</td><td>0.258558</td><td>0.258558</td><td>(-0.666932, 0.276178, 0.242326)</td></tr><tr><th>3</th><td>age</td><td>2.07531</td><td>0.830966</td><td>0.837163</td><td>0.794584</td><td>0.794584</td><td>(2.07531, 0.830966, 0.837163)</td></tr><tr><th>4</th><td>age ^ 2</td><td>-0.294345</td><td>0.102787</td><td>0.102889</td><td>0.0978895</td><td>0.0978895</td><td>(-0.294345, 0.102787, 0.102889)</td></tr><tr><th>5</th><td>educ</td><td>0.0191963</td><td>0.0346226</td><td>0.0351121</td><td>0.0351333</td><td>0.0351333</td><td>(0.0191963, 0.0346226, 0.0351121)</td></tr><tr><th>6</th><td>nyc</td><td>-0.714465</td><td>0.222576</td><td>0.189437</td><td>0.196774</td><td>0.196774</td><td>(-0.714465, 0.222576, 0.189437)</td></tr><tr><th>7</th><td>noc</td><td>-0.146985</td><td>0.104999</td><td>0.0965947</td><td>0.0997336</td><td>0.0997336</td><td>(-0.146985, 0.104999, 0.0965947)</td></tr><tr><th>8</th><td>foreign: yes</td><td>0.71438</td><td>0.245362</td><td>0.257754</td><td>0.23779</td><td>0.23779</td><td>(0.71438, 0.245362, 0.257754)</td></tr></tbody></table></div>"
      ],
      "text/latex": [
       "\\begin{tabular}{r|ccccccc}\n",
       "\t& statistic & estimate & boot lo & boot hi & parametric lo & parametric hi & bootstrap\\\\\n",
       "\t\\hline\n",
       "\t& String & Float64 & Float64 & Float64 & Float64 & Float64 & Tuple…\\\\\n",
       "\t\\hline\n",
       "\t1 & (Intercept) & 3.74896 & 2.68271 & 2.84741 & 2.75695 & 2.75695 & (3.74896, 2.68271, 2.84741) \\\\\n",
       "\t2 & lnnlinc & -0.666932 & 0.276178 & 0.242326 & 0.258558 & 0.258558 & (-0.666932, 0.276178, 0.242326) \\\\\n",
       "\t3 & age & 2.07531 & 0.830966 & 0.837163 & 0.794584 & 0.794584 & (2.07531, 0.830966, 0.837163) \\\\\n",
       "\t4 & age \\^ 2 & -0.294345 & 0.102787 & 0.102889 & 0.0978895 & 0.0978895 & (-0.294345, 0.102787, 0.102889) \\\\\n",
       "\t5 & educ & 0.0191963 & 0.0346226 & 0.0351121 & 0.0351333 & 0.0351333 & (0.0191963, 0.0346226, 0.0351121) \\\\\n",
       "\t6 & nyc & -0.714465 & 0.222576 & 0.189437 & 0.196774 & 0.196774 & (-0.714465, 0.222576, 0.189437) \\\\\n",
       "\t7 & noc & -0.146985 & 0.104999 & 0.0965947 & 0.0997336 & 0.0997336 & (-0.146985, 0.104999, 0.0965947) \\\\\n",
       "\t8 & foreign: yes & 0.71438 & 0.245362 & 0.257754 & 0.23779 & 0.23779 & (0.71438, 0.245362, 0.257754) \\\\\n",
       "\\end{tabular}\n"
      ],
      "text/plain": [
       "\u001b[1m8×7 DataFrame\u001b[0m\n",
       "\u001b[1m Row \u001b[0m│\u001b[1m statistic    \u001b[0m\u001b[1m estimate   \u001b[0m\u001b[1m boot lo   \u001b[0m\u001b[1m boot hi   \u001b[0m\u001b[1m parametric lo \u001b[0m\u001b[1m parametric hi \u001b[0m\u001b[1m bootstrap                         \u001b[0m\n",
       "\u001b[1m     \u001b[0m│\u001b[90m String       \u001b[0m\u001b[90m Float64    \u001b[0m\u001b[90m Float64   \u001b[0m\u001b[90m Float64   \u001b[0m\u001b[90m Float64       \u001b[0m\u001b[90m Float64       \u001b[0m\u001b[90m Tuple…                            \u001b[0m\n",
       "─────┼─────────────────────────────────────────────────────────────────────────────────────────────────────────────────\n",
       "   1 │ (Intercept)    3.74896    2.68271    2.84741        2.75695        2.75695    (3.74896, 2.68271, 2.84741)\n",
       "   2 │ lnnlinc       -0.666932   0.276178   0.242326       0.258558       0.258558   (-0.666932, 0.276178, 0.242326)\n",
       "   3 │ age            2.07531    0.830966   0.837163       0.794584       0.794584   (2.07531, 0.830966, 0.837163)\n",
       "   4 │ age ^ 2       -0.294345   0.102787   0.102889       0.0978895      0.0978895  (-0.294345, 0.102787, 0.102889)\n",
       "   5 │ educ           0.0191963  0.0346226  0.0351121      0.0351333      0.0351333  (0.0191963, 0.0346226, 0.0351121)\n",
       "   6 │ nyc           -0.714465   0.222576   0.189437       0.196774       0.196774   (-0.714465, 0.222576, 0.189437)\n",
       "   7 │ noc           -0.146985   0.104999   0.0965947      0.0997336      0.0997336  (-0.146985, 0.104999, 0.0965947)\n",
       "   8 │ foreign: yes   0.71438    0.245362   0.257754       0.23779        0.23779    (0.71438, 0.245362, 0.257754)"
      ]
     },
     "execution_count": 36,
     "metadata": {},
     "output_type": "execute_result"
    }
   ],
   "source": [
    "conf_boot_t"
   ]
  },
  {
   "cell_type": "code",
   "execution_count": 37,
   "metadata": {},
   "outputs": [
    {
     "data": {
      "text/html": [
       "<div class=\"data-frame\"><p>8 rows × 9 columns</p><table class=\"data-frame\"><thead><tr><th></th><th>statistic</th><th>estimate</th><th>boot lo</th><th>boot hi</th><th>parametric lo</th><th>parametric hi</th><th>estimate 2</th><th>boot lo 2</th><th>boot hi 2</th></tr><tr><th></th><th title=\"String\">String</th><th title=\"Float64\">Float64</th><th title=\"Float64\">Float64</th><th title=\"Float64\">Float64</th><th title=\"Float64\">Float64</th><th title=\"Float64\">Float64</th><th title=\"Float64\">Float64</th><th title=\"Float64\">Float64</th><th title=\"Float64\">Float64</th></tr></thead><tbody><tr><th>1</th><td>(Intercept)</td><td>3.74896</td><td>2.68271</td><td>2.84741</td><td>2.75695</td><td>2.75695</td><td>3.74896</td><td>2.68271</td><td>2.84741</td></tr><tr><th>2</th><td>lnnlinc</td><td>-0.666932</td><td>0.276178</td><td>0.242326</td><td>0.258558</td><td>0.258558</td><td>-0.666932</td><td>0.276178</td><td>0.242326</td></tr><tr><th>3</th><td>age</td><td>2.07531</td><td>0.830966</td><td>0.837163</td><td>0.794584</td><td>0.794584</td><td>2.07531</td><td>0.830966</td><td>0.837163</td></tr><tr><th>4</th><td>age ^ 2</td><td>-0.294345</td><td>0.102787</td><td>0.102889</td><td>0.0978895</td><td>0.0978895</td><td>-0.294345</td><td>0.102787</td><td>0.102889</td></tr><tr><th>5</th><td>educ</td><td>0.0191963</td><td>0.0346226</td><td>0.0351121</td><td>0.0351333</td><td>0.0351333</td><td>0.0191963</td><td>0.0346226</td><td>0.0351121</td></tr><tr><th>6</th><td>nyc</td><td>-0.714465</td><td>0.222576</td><td>0.189437</td><td>0.196774</td><td>0.196774</td><td>-0.714465</td><td>0.222576</td><td>0.189437</td></tr><tr><th>7</th><td>noc</td><td>-0.146985</td><td>0.104999</td><td>0.0965947</td><td>0.0997336</td><td>0.0997336</td><td>-0.146985</td><td>0.104999</td><td>0.0965947</td></tr><tr><th>8</th><td>foreign: yes</td><td>0.71438</td><td>0.245362</td><td>0.257754</td><td>0.23779</td><td>0.23779</td><td>0.71438</td><td>0.245362</td><td>0.257754</td></tr></tbody></table></div>"
      ],
      "text/latex": [
       "\\begin{tabular}{r|ccccccccc}\n",
       "\t& statistic & estimate & boot lo & boot hi & parametric lo & parametric hi & estimate 2 & boot lo 2 & boot hi 2\\\\\n",
       "\t\\hline\n",
       "\t& String & Float64 & Float64 & Float64 & Float64 & Float64 & Float64 & Float64 & Float64\\\\\n",
       "\t\\hline\n",
       "\t1 & (Intercept) & 3.74896 & 2.68271 & 2.84741 & 2.75695 & 2.75695 & 3.74896 & 2.68271 & 2.84741 \\\\\n",
       "\t2 & lnnlinc & -0.666932 & 0.276178 & 0.242326 & 0.258558 & 0.258558 & -0.666932 & 0.276178 & 0.242326 \\\\\n",
       "\t3 & age & 2.07531 & 0.830966 & 0.837163 & 0.794584 & 0.794584 & 2.07531 & 0.830966 & 0.837163 \\\\\n",
       "\t4 & age \\^ 2 & -0.294345 & 0.102787 & 0.102889 & 0.0978895 & 0.0978895 & -0.294345 & 0.102787 & 0.102889 \\\\\n",
       "\t5 & educ & 0.0191963 & 0.0346226 & 0.0351121 & 0.0351333 & 0.0351333 & 0.0191963 & 0.0346226 & 0.0351121 \\\\\n",
       "\t6 & nyc & -0.714465 & 0.222576 & 0.189437 & 0.196774 & 0.196774 & -0.714465 & 0.222576 & 0.189437 \\\\\n",
       "\t7 & noc & -0.146985 & 0.104999 & 0.0965947 & 0.0997336 & 0.0997336 & -0.146985 & 0.104999 & 0.0965947 \\\\\n",
       "\t8 & foreign: yes & 0.71438 & 0.245362 & 0.257754 & 0.23779 & 0.23779 & 0.71438 & 0.245362 & 0.257754 \\\\\n",
       "\\end{tabular}\n"
      ],
      "text/plain": [
       "\u001b[1m8×9 DataFrame\u001b[0m\n",
       "\u001b[1m Row \u001b[0m│\u001b[1m statistic    \u001b[0m\u001b[1m estimate   \u001b[0m\u001b[1m boot lo   \u001b[0m\u001b[1m boot hi   \u001b[0m\u001b[1m parametric lo \u001b[0m\u001b[1m parametric hi \u001b[0m\u001b[1m estimate 2 \u001b[0m\u001b[1m boot lo 2 \u001b[0m\u001b[1m boot hi 2 \u001b[0m\n",
       "\u001b[1m     \u001b[0m│\u001b[90m String       \u001b[0m\u001b[90m Float64    \u001b[0m\u001b[90m Float64   \u001b[0m\u001b[90m Float64   \u001b[0m\u001b[90m Float64       \u001b[0m\u001b[90m Float64       \u001b[0m\u001b[90m Float64    \u001b[0m\u001b[90m Float64   \u001b[0m\u001b[90m Float64   \u001b[0m\n",
       "─────┼────────────────────────────────────────────────────────────────────────────────────────────────────────────────\n",
       "   1 │ (Intercept)    3.74896    2.68271    2.84741        2.75695        2.75695     3.74896    2.68271    2.84741\n",
       "   2 │ lnnlinc       -0.666932   0.276178   0.242326       0.258558       0.258558   -0.666932   0.276178   0.242326\n",
       "   3 │ age            2.07531    0.830966   0.837163       0.794584       0.794584    2.07531    0.830966   0.837163\n",
       "   4 │ age ^ 2       -0.294345   0.102787   0.102889       0.0978895      0.0978895  -0.294345   0.102787   0.102889\n",
       "   5 │ educ           0.0191963  0.0346226  0.0351121      0.0351333      0.0351333   0.0191963  0.0346226  0.0351121\n",
       "   6 │ nyc           -0.714465   0.222576   0.189437       0.196774       0.196774   -0.714465   0.222576   0.189437\n",
       "   7 │ noc           -0.146985   0.104999   0.0965947      0.0997336      0.0997336  -0.146985   0.104999   0.0965947\n",
       "   8 │ foreign: yes   0.71438    0.245362   0.257754       0.23779        0.23779     0.71438    0.245362   0.257754"
      ]
     },
     "execution_count": 37,
     "metadata": {},
     "output_type": "execute_result"
    }
   ],
   "source": [
    "select!(conf_boot_t, Not(:bootstrap), :bootstrap => [\"estimate 2\", \"boot lo 2\", \"boot hi 2\"])"
   ]
  },
  {
   "cell_type": "code",
   "execution_count": 38,
   "metadata": {},
   "outputs": [
    {
     "data": {
      "text/html": [
       "<div class=\"data-frame\"><p>8 rows × 9 columns</p><table class=\"data-frame\"><thead><tr><th></th><th>statistic</th><th>estimate</th><th>estimate 2</th><th>boot lo</th><th>parametric lo</th><th>boot lo 2</th><th>boot hi</th><th>parametric hi</th><th>boot hi 2</th></tr><tr><th></th><th title=\"String\">String</th><th title=\"Float64\">Float64</th><th title=\"Float64\">Float64</th><th title=\"Float64\">Float64</th><th title=\"Float64\">Float64</th><th title=\"Float64\">Float64</th><th title=\"Float64\">Float64</th><th title=\"Float64\">Float64</th><th title=\"Float64\">Float64</th></tr></thead><tbody><tr><th>1</th><td>(Intercept)</td><td>3.74896</td><td>3.74896</td><td>2.68271</td><td>2.75695</td><td>2.68271</td><td>2.84741</td><td>2.75695</td><td>2.84741</td></tr><tr><th>2</th><td>lnnlinc</td><td>-0.666932</td><td>-0.666932</td><td>0.276178</td><td>0.258558</td><td>0.276178</td><td>0.242326</td><td>0.258558</td><td>0.242326</td></tr><tr><th>3</th><td>age</td><td>2.07531</td><td>2.07531</td><td>0.830966</td><td>0.794584</td><td>0.830966</td><td>0.837163</td><td>0.794584</td><td>0.837163</td></tr><tr><th>4</th><td>age ^ 2</td><td>-0.294345</td><td>-0.294345</td><td>0.102787</td><td>0.0978895</td><td>0.102787</td><td>0.102889</td><td>0.0978895</td><td>0.102889</td></tr><tr><th>5</th><td>educ</td><td>0.0191963</td><td>0.0191963</td><td>0.0346226</td><td>0.0351333</td><td>0.0346226</td><td>0.0351121</td><td>0.0351333</td><td>0.0351121</td></tr><tr><th>6</th><td>nyc</td><td>-0.714465</td><td>-0.714465</td><td>0.222576</td><td>0.196774</td><td>0.222576</td><td>0.189437</td><td>0.196774</td><td>0.189437</td></tr><tr><th>7</th><td>noc</td><td>-0.146985</td><td>-0.146985</td><td>0.104999</td><td>0.0997336</td><td>0.104999</td><td>0.0965947</td><td>0.0997336</td><td>0.0965947</td></tr><tr><th>8</th><td>foreign: yes</td><td>0.71438</td><td>0.71438</td><td>0.245362</td><td>0.23779</td><td>0.245362</td><td>0.257754</td><td>0.23779</td><td>0.257754</td></tr></tbody></table></div>"
      ],
      "text/latex": [
       "\\begin{tabular}{r|ccccccccc}\n",
       "\t& statistic & estimate & estimate 2 & boot lo & parametric lo & boot lo 2 & boot hi & parametric hi & boot hi 2\\\\\n",
       "\t\\hline\n",
       "\t& String & Float64 & Float64 & Float64 & Float64 & Float64 & Float64 & Float64 & Float64\\\\\n",
       "\t\\hline\n",
       "\t1 & (Intercept) & 3.74896 & 3.74896 & 2.68271 & 2.75695 & 2.68271 & 2.84741 & 2.75695 & 2.84741 \\\\\n",
       "\t2 & lnnlinc & -0.666932 & -0.666932 & 0.276178 & 0.258558 & 0.276178 & 0.242326 & 0.258558 & 0.242326 \\\\\n",
       "\t3 & age & 2.07531 & 2.07531 & 0.830966 & 0.794584 & 0.830966 & 0.837163 & 0.794584 & 0.837163 \\\\\n",
       "\t4 & age \\^ 2 & -0.294345 & -0.294345 & 0.102787 & 0.0978895 & 0.102787 & 0.102889 & 0.0978895 & 0.102889 \\\\\n",
       "\t5 & educ & 0.0191963 & 0.0191963 & 0.0346226 & 0.0351333 & 0.0346226 & 0.0351121 & 0.0351333 & 0.0351121 \\\\\n",
       "\t6 & nyc & -0.714465 & -0.714465 & 0.222576 & 0.196774 & 0.222576 & 0.189437 & 0.196774 & 0.189437 \\\\\n",
       "\t7 & noc & -0.146985 & -0.146985 & 0.104999 & 0.0997336 & 0.104999 & 0.0965947 & 0.0997336 & 0.0965947 \\\\\n",
       "\t8 & foreign: yes & 0.71438 & 0.71438 & 0.245362 & 0.23779 & 0.245362 & 0.257754 & 0.23779 & 0.257754 \\\\\n",
       "\\end{tabular}\n"
      ],
      "text/plain": [
       "\u001b[1m8×9 DataFrame\u001b[0m\n",
       "\u001b[1m Row \u001b[0m│\u001b[1m statistic    \u001b[0m\u001b[1m estimate   \u001b[0m\u001b[1m estimate 2 \u001b[0m\u001b[1m boot lo   \u001b[0m\u001b[1m parametric lo \u001b[0m\u001b[1m boot lo 2 \u001b[0m\u001b[1m boot hi   \u001b[0m\u001b[1m parametric hi \u001b[0m\u001b[1m boot hi 2 \u001b[0m\n",
       "\u001b[1m     \u001b[0m│\u001b[90m String       \u001b[0m\u001b[90m Float64    \u001b[0m\u001b[90m Float64    \u001b[0m\u001b[90m Float64   \u001b[0m\u001b[90m Float64       \u001b[0m\u001b[90m Float64   \u001b[0m\u001b[90m Float64   \u001b[0m\u001b[90m Float64       \u001b[0m\u001b[90m Float64   \u001b[0m\n",
       "─────┼────────────────────────────────────────────────────────────────────────────────────────────────────────────────\n",
       "   1 │ (Intercept)    3.74896     3.74896    2.68271        2.75695    2.68271    2.84741        2.75695    2.84741\n",
       "   2 │ lnnlinc       -0.666932   -0.666932   0.276178       0.258558   0.276178   0.242326       0.258558   0.242326\n",
       "   3 │ age            2.07531     2.07531    0.830966       0.794584   0.830966   0.837163       0.794584   0.837163\n",
       "   4 │ age ^ 2       -0.294345   -0.294345   0.102787       0.0978895  0.102787   0.102889       0.0978895  0.102889\n",
       "   5 │ educ           0.0191963   0.0191963  0.0346226      0.0351333  0.0346226  0.0351121      0.0351333  0.0351121\n",
       "   6 │ nyc           -0.714465   -0.714465   0.222576       0.196774   0.222576   0.189437       0.196774   0.189437\n",
       "   7 │ noc           -0.146985   -0.146985   0.104999       0.0997336  0.104999   0.0965947      0.0997336  0.0965947\n",
       "   8 │ foreign: yes   0.71438     0.71438    0.245362       0.23779    0.245362   0.257754       0.23779    0.257754"
      ]
     },
     "execution_count": 38,
     "metadata": {},
     "output_type": "execute_result"
    }
   ],
   "source": [
    "select(conf_boot_t, :statistic, r\"estimate\", r\"lo\", r\"hi\")"
   ]
  },
  {
   "cell_type": "code",
   "execution_count": 39,
   "metadata": {},
   "outputs": [
    {
     "data": {
      "text/html": [
       "<div class=\"data-frame\"><p>8 rows × 9 columns</p><table class=\"data-frame\"><thead><tr><th></th><th>statistic</th><th>estimate</th><th>boot lo</th><th>boot hi</th><th>parametric lo</th><th>parametric hi</th><th>estimate 2</th><th>boot lo 2</th><th>boot hi 2</th></tr><tr><th></th><th title=\"String\">String</th><th title=\"Float64\">Float64</th><th title=\"Float64\">Float64</th><th title=\"Float64\">Float64</th><th title=\"Float64\">Float64</th><th title=\"Float64\">Float64</th><th title=\"Float64\">Float64</th><th title=\"Float64\">Float64</th><th title=\"Float64\">Float64</th></tr></thead><tbody><tr><th>1</th><td>nyc</td><td>-0.714465</td><td>0.222576</td><td>0.189437</td><td>0.196774</td><td>0.196774</td><td>-0.714465</td><td>0.222576</td><td>0.189437</td></tr><tr><th>2</th><td>lnnlinc</td><td>-0.666932</td><td>0.276178</td><td>0.242326</td><td>0.258558</td><td>0.258558</td><td>-0.666932</td><td>0.276178</td><td>0.242326</td></tr><tr><th>3</th><td>age ^ 2</td><td>-0.294345</td><td>0.102787</td><td>0.102889</td><td>0.0978895</td><td>0.0978895</td><td>-0.294345</td><td>0.102787</td><td>0.102889</td></tr><tr><th>4</th><td>noc</td><td>-0.146985</td><td>0.104999</td><td>0.0965947</td><td>0.0997336</td><td>0.0997336</td><td>-0.146985</td><td>0.104999</td><td>0.0965947</td></tr><tr><th>5</th><td>educ</td><td>0.0191963</td><td>0.0346226</td><td>0.0351121</td><td>0.0351333</td><td>0.0351333</td><td>0.0191963</td><td>0.0346226</td><td>0.0351121</td></tr><tr><th>6</th><td>foreign: yes</td><td>0.71438</td><td>0.245362</td><td>0.257754</td><td>0.23779</td><td>0.23779</td><td>0.71438</td><td>0.245362</td><td>0.257754</td></tr><tr><th>7</th><td>age</td><td>2.07531</td><td>0.830966</td><td>0.837163</td><td>0.794584</td><td>0.794584</td><td>2.07531</td><td>0.830966</td><td>0.837163</td></tr><tr><th>8</th><td>(Intercept)</td><td>3.74896</td><td>2.68271</td><td>2.84741</td><td>2.75695</td><td>2.75695</td><td>3.74896</td><td>2.68271</td><td>2.84741</td></tr></tbody></table></div>"
      ],
      "text/latex": [
       "\\begin{tabular}{r|ccccccccc}\n",
       "\t& statistic & estimate & boot lo & boot hi & parametric lo & parametric hi & estimate 2 & boot lo 2 & boot hi 2\\\\\n",
       "\t\\hline\n",
       "\t& String & Float64 & Float64 & Float64 & Float64 & Float64 & Float64 & Float64 & Float64\\\\\n",
       "\t\\hline\n",
       "\t1 & nyc & -0.714465 & 0.222576 & 0.189437 & 0.196774 & 0.196774 & -0.714465 & 0.222576 & 0.189437 \\\\\n",
       "\t2 & lnnlinc & -0.666932 & 0.276178 & 0.242326 & 0.258558 & 0.258558 & -0.666932 & 0.276178 & 0.242326 \\\\\n",
       "\t3 & age \\^ 2 & -0.294345 & 0.102787 & 0.102889 & 0.0978895 & 0.0978895 & -0.294345 & 0.102787 & 0.102889 \\\\\n",
       "\t4 & noc & -0.146985 & 0.104999 & 0.0965947 & 0.0997336 & 0.0997336 & -0.146985 & 0.104999 & 0.0965947 \\\\\n",
       "\t5 & educ & 0.0191963 & 0.0346226 & 0.0351121 & 0.0351333 & 0.0351333 & 0.0191963 & 0.0346226 & 0.0351121 \\\\\n",
       "\t6 & foreign: yes & 0.71438 & 0.245362 & 0.257754 & 0.23779 & 0.23779 & 0.71438 & 0.245362 & 0.257754 \\\\\n",
       "\t7 & age & 2.07531 & 0.830966 & 0.837163 & 0.794584 & 0.794584 & 2.07531 & 0.830966 & 0.837163 \\\\\n",
       "\t8 & (Intercept) & 3.74896 & 2.68271 & 2.84741 & 2.75695 & 2.75695 & 3.74896 & 2.68271 & 2.84741 \\\\\n",
       "\\end{tabular}\n"
      ],
      "text/plain": [
       "\u001b[1m8×9 DataFrame\u001b[0m\n",
       "\u001b[1m Row \u001b[0m│\u001b[1m statistic    \u001b[0m\u001b[1m estimate   \u001b[0m\u001b[1m boot lo   \u001b[0m\u001b[1m boot hi   \u001b[0m\u001b[1m parametric lo \u001b[0m\u001b[1m parametric hi \u001b[0m\u001b[1m estimate 2 \u001b[0m\u001b[1m boot lo 2 \u001b[0m\u001b[1m boot hi 2 \u001b[0m\n",
       "\u001b[1m     \u001b[0m│\u001b[90m String       \u001b[0m\u001b[90m Float64    \u001b[0m\u001b[90m Float64   \u001b[0m\u001b[90m Float64   \u001b[0m\u001b[90m Float64       \u001b[0m\u001b[90m Float64       \u001b[0m\u001b[90m Float64    \u001b[0m\u001b[90m Float64   \u001b[0m\u001b[90m Float64   \u001b[0m\n",
       "─────┼────────────────────────────────────────────────────────────────────────────────────────────────────────────────\n",
       "   1 │ nyc           -0.714465   0.222576   0.189437       0.196774       0.196774   -0.714465   0.222576   0.189437\n",
       "   2 │ lnnlinc       -0.666932   0.276178   0.242326       0.258558       0.258558   -0.666932   0.276178   0.242326\n",
       "   3 │ age ^ 2       -0.294345   0.102787   0.102889       0.0978895      0.0978895  -0.294345   0.102787   0.102889\n",
       "   4 │ noc           -0.146985   0.104999   0.0965947      0.0997336      0.0997336  -0.146985   0.104999   0.0965947\n",
       "   5 │ educ           0.0191963  0.0346226  0.0351121      0.0351333      0.0351333   0.0191963  0.0346226  0.0351121\n",
       "   6 │ foreign: yes   0.71438    0.245362   0.257754       0.23779        0.23779     0.71438    0.245362   0.257754\n",
       "   7 │ age            2.07531    0.830966   0.837163       0.794584       0.794584    2.07531    0.830966   0.837163\n",
       "   8 │ (Intercept)    3.74896    2.68271    2.84741        2.75695        2.75695     3.74896    2.68271    2.84741"
      ]
     },
     "execution_count": 39,
     "metadata": {},
     "output_type": "execute_result"
    }
   ],
   "source": [
    "sort(conf_boot_t, :estimate)"
   ]
  },
  {
   "cell_type": "code",
   "execution_count": 40,
   "metadata": {},
   "outputs": [
    {
     "data": {
      "text/html": [
       "<div class=\"data-frame\"><p>8 rows × 9 columns</p><table class=\"data-frame\"><thead><tr><th></th><th>statistic</th><th>estimate</th><th>boot lo</th><th>boot hi</th><th>parametric lo</th><th>parametric hi</th><th>estimate 2</th><th>boot lo 2</th><th>boot hi 2</th></tr><tr><th></th><th title=\"String\">String</th><th title=\"Float64\">Float64</th><th title=\"Float64\">Float64</th><th title=\"Float64\">Float64</th><th title=\"Float64\">Float64</th><th title=\"Float64\">Float64</th><th title=\"Float64\">Float64</th><th title=\"Float64\">Float64</th><th title=\"Float64\">Float64</th></tr></thead><tbody><tr><th>1</th><td>educ</td><td>0.0191963</td><td>0.0346226</td><td>0.0351121</td><td>0.0351333</td><td>0.0351333</td><td>0.0191963</td><td>0.0346226</td><td>0.0351121</td></tr><tr><th>2</th><td>noc</td><td>-0.146985</td><td>0.104999</td><td>0.0965947</td><td>0.0997336</td><td>0.0997336</td><td>-0.146985</td><td>0.104999</td><td>0.0965947</td></tr><tr><th>3</th><td>age ^ 2</td><td>-0.294345</td><td>0.102787</td><td>0.102889</td><td>0.0978895</td><td>0.0978895</td><td>-0.294345</td><td>0.102787</td><td>0.102889</td></tr><tr><th>4</th><td>nyc</td><td>-0.714465</td><td>0.222576</td><td>0.189437</td><td>0.196774</td><td>0.196774</td><td>-0.714465</td><td>0.222576</td><td>0.189437</td></tr><tr><th>5</th><td>foreign: yes</td><td>0.71438</td><td>0.245362</td><td>0.257754</td><td>0.23779</td><td>0.23779</td><td>0.71438</td><td>0.245362</td><td>0.257754</td></tr><tr><th>6</th><td>lnnlinc</td><td>-0.666932</td><td>0.276178</td><td>0.242326</td><td>0.258558</td><td>0.258558</td><td>-0.666932</td><td>0.276178</td><td>0.242326</td></tr><tr><th>7</th><td>age</td><td>2.07531</td><td>0.830966</td><td>0.837163</td><td>0.794584</td><td>0.794584</td><td>2.07531</td><td>0.830966</td><td>0.837163</td></tr><tr><th>8</th><td>(Intercept)</td><td>3.74896</td><td>2.68271</td><td>2.84741</td><td>2.75695</td><td>2.75695</td><td>3.74896</td><td>2.68271</td><td>2.84741</td></tr></tbody></table></div>"
      ],
      "text/latex": [
       "\\begin{tabular}{r|ccccccccc}\n",
       "\t& statistic & estimate & boot lo & boot hi & parametric lo & parametric hi & estimate 2 & boot lo 2 & boot hi 2\\\\\n",
       "\t\\hline\n",
       "\t& String & Float64 & Float64 & Float64 & Float64 & Float64 & Float64 & Float64 & Float64\\\\\n",
       "\t\\hline\n",
       "\t1 & educ & 0.0191963 & 0.0346226 & 0.0351121 & 0.0351333 & 0.0351333 & 0.0191963 & 0.0346226 & 0.0351121 \\\\\n",
       "\t2 & noc & -0.146985 & 0.104999 & 0.0965947 & 0.0997336 & 0.0997336 & -0.146985 & 0.104999 & 0.0965947 \\\\\n",
       "\t3 & age \\^ 2 & -0.294345 & 0.102787 & 0.102889 & 0.0978895 & 0.0978895 & -0.294345 & 0.102787 & 0.102889 \\\\\n",
       "\t4 & nyc & -0.714465 & 0.222576 & 0.189437 & 0.196774 & 0.196774 & -0.714465 & 0.222576 & 0.189437 \\\\\n",
       "\t5 & foreign: yes & 0.71438 & 0.245362 & 0.257754 & 0.23779 & 0.23779 & 0.71438 & 0.245362 & 0.257754 \\\\\n",
       "\t6 & lnnlinc & -0.666932 & 0.276178 & 0.242326 & 0.258558 & 0.258558 & -0.666932 & 0.276178 & 0.242326 \\\\\n",
       "\t7 & age & 2.07531 & 0.830966 & 0.837163 & 0.794584 & 0.794584 & 2.07531 & 0.830966 & 0.837163 \\\\\n",
       "\t8 & (Intercept) & 3.74896 & 2.68271 & 2.84741 & 2.75695 & 2.75695 & 3.74896 & 2.68271 & 2.84741 \\\\\n",
       "\\end{tabular}\n"
      ],
      "text/plain": [
       "\u001b[1m8×9 DataFrame\u001b[0m\n",
       "\u001b[1m Row \u001b[0m│\u001b[1m statistic    \u001b[0m\u001b[1m estimate   \u001b[0m\u001b[1m boot lo   \u001b[0m\u001b[1m boot hi   \u001b[0m\u001b[1m parametric lo \u001b[0m\u001b[1m parametric hi \u001b[0m\u001b[1m estimate 2 \u001b[0m\u001b[1m boot lo 2 \u001b[0m\u001b[1m boot hi 2 \u001b[0m\n",
       "\u001b[1m     \u001b[0m│\u001b[90m String       \u001b[0m\u001b[90m Float64    \u001b[0m\u001b[90m Float64   \u001b[0m\u001b[90m Float64   \u001b[0m\u001b[90m Float64       \u001b[0m\u001b[90m Float64       \u001b[0m\u001b[90m Float64    \u001b[0m\u001b[90m Float64   \u001b[0m\u001b[90m Float64   \u001b[0m\n",
       "─────┼────────────────────────────────────────────────────────────────────────────────────────────────────────────────\n",
       "   1 │ educ           0.0191963  0.0346226  0.0351121      0.0351333      0.0351333   0.0191963  0.0346226  0.0351121\n",
       "   2 │ noc           -0.146985   0.104999   0.0965947      0.0997336      0.0997336  -0.146985   0.104999   0.0965947\n",
       "   3 │ age ^ 2       -0.294345   0.102787   0.102889       0.0978895      0.0978895  -0.294345   0.102787   0.102889\n",
       "   4 │ nyc           -0.714465   0.222576   0.189437       0.196774       0.196774   -0.714465   0.222576   0.189437\n",
       "   5 │ foreign: yes   0.71438    0.245362   0.257754       0.23779        0.23779     0.71438    0.245362   0.257754\n",
       "   6 │ lnnlinc       -0.666932   0.276178   0.242326       0.258558       0.258558   -0.666932   0.276178   0.242326\n",
       "   7 │ age            2.07531    0.830966   0.837163       0.794584       0.794584    2.07531    0.830966   0.837163\n",
       "   8 │ (Intercept)    3.74896    2.68271    2.84741        2.75695        2.75695     3.74896    2.68271    2.84741"
      ]
     },
     "execution_count": 40,
     "metadata": {},
     "output_type": "execute_result"
    }
   ],
   "source": [
    "conf_boot_t[sortperm(conf_boot_t.\"boot hi\" + conf_boot_t.\"boot lo\"), :]"
   ]
  }
 ],
 "metadata": {
  "kernelspec": {
   "display_name": "Julia 1.6.2",
   "language": "julia",
   "name": "julia-1.6"
  },
  "language_info": {
   "file_extension": ".jl",
   "mimetype": "application/julia",
   "name": "julia",
   "version": "1.6.2"
  }
 },
 "nbformat": 4,
 "nbformat_minor": 2
}
